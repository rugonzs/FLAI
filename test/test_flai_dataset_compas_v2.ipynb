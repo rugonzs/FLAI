{
 "cells": [
  {
   "cell_type": "code",
   "execution_count": 1,
   "metadata": {},
   "outputs": [
    {
     "name": "stderr",
     "output_type": "stream",
     "text": [
      "2023-06-04 12:42:01.472500: I tensorflow/core/platform/cpu_feature_guard.cc:193] This TensorFlow binary is optimized with oneAPI Deep Neural Network Library (oneDNN) to use the following CPU instructions in performance-critical operations:  AVX2 FMA\n",
      "To enable them in other operations, rebuild TensorFlow with the appropriate compiler flags.\n",
      "2023-06-04 12:42:02.112895: W tensorflow/compiler/xla/stream_executor/platform/default/dso_loader.cc:64] Could not load dynamic library 'libnvinfer.so.7'; dlerror: libnvinfer.so.7: cannot open shared object file: No such file or directory\n",
      "2023-06-04 12:42:02.112988: W tensorflow/compiler/xla/stream_executor/platform/default/dso_loader.cc:64] Could not load dynamic library 'libnvinfer_plugin.so.7'; dlerror: libnvinfer_plugin.so.7: cannot open shared object file: No such file or directory\n",
      "2023-06-04 12:42:02.112994: W tensorflow/compiler/tf2tensorrt/utils/py_utils.cc:38] TF-TRT Warning: Cannot dlopen some TensorRT libraries. If you would like to use Nvidia GPU with TensorRT, please make sure the missing libraries mentioned above are installed properly.\n"
     ]
    }
   ],
   "source": [
    "from FLAI import data\n",
    "from FLAI import causal_graph\n",
    "import pandas as pd\n",
    "import numpy as np\n",
    "import matplotlib.pyplot as plt\n",
    "import seaborn as sns\n",
    "from aif360.algorithms.preprocessing.optim_preproc_helpers.data_preproc_functions import load_preproc_data_adult, load_preproc_data_german, load_preproc_data_compas\n"
   ]
  },
  {
   "cell_type": "code",
   "execution_count": null,
   "metadata": {},
   "outputs": [],
   "source": []
  },
  {
   "cell_type": "code",
   "execution_count": 2,
   "metadata": {},
   "outputs": [],
   "source": [
    "dataset_orig = load_preproc_data_compas()\n",
    "df = pd.DataFrame(dataset_orig.features,columns = dataset_orig.feature_names)\n",
    "df['label'] = dataset_orig.labels\n",
    "df.to_pickle('../Data/compas.pickle')"
   ]
  },
  {
   "cell_type": "code",
   "execution_count": 3,
   "metadata": {},
   "outputs": [
    {
     "data": {
      "text/plain": [
       "0.0"
      ]
     },
     "execution_count": 3,
     "metadata": {},
     "output_type": "execute_result"
    }
   ],
   "source": [
    "dataset_orig.favorable_label"
   ]
  },
  {
   "attachments": {},
   "cell_type": "markdown",
   "metadata": {},
   "source": [
    "## Prepare Data"
   ]
  },
  {
   "cell_type": "code",
   "execution_count": 4,
   "metadata": {},
   "outputs": [
    {
     "data": {
      "text/html": [
       "<div>\n",
       "<style scoped>\n",
       "    .dataframe tbody tr th:only-of-type {\n",
       "        vertical-align: middle;\n",
       "    }\n",
       "\n",
       "    .dataframe tbody tr th {\n",
       "        vertical-align: top;\n",
       "    }\n",
       "\n",
       "    .dataframe thead th {\n",
       "        text-align: right;\n",
       "    }\n",
       "</style>\n",
       "<table border=\"1\" class=\"dataframe\">\n",
       "  <thead>\n",
       "    <tr style=\"text-align: right;\">\n",
       "      <th></th>\n",
       "      <th>sex</th>\n",
       "      <th>race</th>\n",
       "      <th>age_cat=25 to 45</th>\n",
       "      <th>age_cat=Greater than 45</th>\n",
       "      <th>age_cat=Less than 25</th>\n",
       "      <th>priors_count=0</th>\n",
       "      <th>priors_count=1 to 3</th>\n",
       "      <th>priors_count=More than 3</th>\n",
       "      <th>c_charge_degree=F</th>\n",
       "      <th>c_charge_degree=M</th>\n",
       "      <th>label</th>\n",
       "    </tr>\n",
       "  </thead>\n",
       "  <tbody>\n",
       "    <tr>\n",
       "      <th>0</th>\n",
       "      <td>0.0</td>\n",
       "      <td>0.0</td>\n",
       "      <td>1.0</td>\n",
       "      <td>0.0</td>\n",
       "      <td>0.0</td>\n",
       "      <td>1.0</td>\n",
       "      <td>0.0</td>\n",
       "      <td>0.0</td>\n",
       "      <td>1.0</td>\n",
       "      <td>0.0</td>\n",
       "      <td>1.0</td>\n",
       "    </tr>\n",
       "    <tr>\n",
       "      <th>1</th>\n",
       "      <td>0.0</td>\n",
       "      <td>0.0</td>\n",
       "      <td>0.0</td>\n",
       "      <td>0.0</td>\n",
       "      <td>1.0</td>\n",
       "      <td>0.0</td>\n",
       "      <td>0.0</td>\n",
       "      <td>1.0</td>\n",
       "      <td>1.0</td>\n",
       "      <td>0.0</td>\n",
       "      <td>1.0</td>\n",
       "    </tr>\n",
       "    <tr>\n",
       "      <th>2</th>\n",
       "      <td>0.0</td>\n",
       "      <td>1.0</td>\n",
       "      <td>1.0</td>\n",
       "      <td>0.0</td>\n",
       "      <td>0.0</td>\n",
       "      <td>0.0</td>\n",
       "      <td>0.0</td>\n",
       "      <td>1.0</td>\n",
       "      <td>1.0</td>\n",
       "      <td>0.0</td>\n",
       "      <td>1.0</td>\n",
       "    </tr>\n",
       "    <tr>\n",
       "      <th>3</th>\n",
       "      <td>1.0</td>\n",
       "      <td>1.0</td>\n",
       "      <td>1.0</td>\n",
       "      <td>0.0</td>\n",
       "      <td>0.0</td>\n",
       "      <td>1.0</td>\n",
       "      <td>0.0</td>\n",
       "      <td>0.0</td>\n",
       "      <td>0.0</td>\n",
       "      <td>1.0</td>\n",
       "      <td>0.0</td>\n",
       "    </tr>\n",
       "    <tr>\n",
       "      <th>4</th>\n",
       "      <td>0.0</td>\n",
       "      <td>1.0</td>\n",
       "      <td>1.0</td>\n",
       "      <td>0.0</td>\n",
       "      <td>0.0</td>\n",
       "      <td>1.0</td>\n",
       "      <td>0.0</td>\n",
       "      <td>0.0</td>\n",
       "      <td>1.0</td>\n",
       "      <td>0.0</td>\n",
       "      <td>0.0</td>\n",
       "    </tr>\n",
       "  </tbody>\n",
       "</table>\n",
       "</div>"
      ],
      "text/plain": [
       "   sex  race  age_cat=25 to 45  age_cat=Greater than 45  age_cat=Less than 25  \\\n",
       "0  0.0   0.0               1.0                      0.0                   0.0   \n",
       "1  0.0   0.0               0.0                      0.0                   1.0   \n",
       "2  0.0   1.0               1.0                      0.0                   0.0   \n",
       "3  1.0   1.0               1.0                      0.0                   0.0   \n",
       "4  0.0   1.0               1.0                      0.0                   0.0   \n",
       "\n",
       "   priors_count=0  priors_count=1 to 3  priors_count=More than 3  \\\n",
       "0             1.0                  0.0                       0.0   \n",
       "1             0.0                  0.0                       1.0   \n",
       "2             0.0                  0.0                       1.0   \n",
       "3             1.0                  0.0                       0.0   \n",
       "4             1.0                  0.0                       0.0   \n",
       "\n",
       "   c_charge_degree=F  c_charge_degree=M  label  \n",
       "0                1.0                0.0    1.0  \n",
       "1                1.0                0.0    1.0  \n",
       "2                1.0                0.0    1.0  \n",
       "3                0.0                1.0    0.0  \n",
       "4                1.0                0.0    0.0  "
      ]
     },
     "execution_count": 4,
     "metadata": {},
     "output_type": "execute_result"
    }
   ],
   "source": [
    "df = pd.read_pickle('../Data/compas.pickle')\n",
    "df.head(5)"
   ]
  },
  {
   "cell_type": "code",
   "execution_count": 5,
   "metadata": {},
   "outputs": [
    {
     "data": {
      "text/plain": [
       "(5278, 11)"
      ]
     },
     "execution_count": 5,
     "metadata": {},
     "output_type": "execute_result"
    }
   ],
   "source": [
    "df.shape"
   ]
  },
  {
   "cell_type": "code",
   "execution_count": 6,
   "metadata": {},
   "outputs": [
    {
     "data": {
      "text/plain": [
       "Index(['sex', 'race', 'age_cat=25 to 45', 'age_cat=Greater than 45',\n",
       "       'age_cat=Less than 25', 'priors_count=0', 'priors_count=1 to 3',\n",
       "       'priors_count=More than 3', 'c_charge_degree=F', 'c_charge_degree=M',\n",
       "       'label'],\n",
       "      dtype='object')"
      ]
     },
     "execution_count": 6,
     "metadata": {},
     "output_type": "execute_result"
    }
   ],
   "source": [
    "df.columns"
   ]
  },
  {
   "cell_type": "code",
   "execution_count": 7,
   "metadata": {},
   "outputs": [
    {
     "data": {
      "text/plain": [
       "count    5278.000000\n",
       "mean        0.470443\n",
       "std         0.499173\n",
       "min         0.000000\n",
       "25%         0.000000\n",
       "50%         0.000000\n",
       "75%         1.000000\n",
       "max         1.000000\n",
       "Name: label, dtype: float64"
      ]
     },
     "execution_count": 7,
     "metadata": {},
     "output_type": "execute_result"
    }
   ],
   "source": [
    "df.label.describe()"
   ]
  },
  {
   "cell_type": "code",
   "execution_count": 8,
   "metadata": {},
   "outputs": [],
   "source": [
    "df['age'] = df.apply(lambda row: 0 if row['age_cat=Less than 25'] == 1 \n",
    "                            else 1 if row['age_cat=25 to 45'] == 1 \n",
    "                            else 2 if row['age_cat=Greater than 45'] == 1\n",
    "                            else None,axis = 1)\n",
    "df['priors'] = df.apply(lambda row: 0 if row['priors_count=0'] == 1 \n",
    "                                  else 1 if row['priors_count=1 to 3'] == 1 \n",
    "                                  else 2 if row['priors_count=More than 3'] == 1 \n",
    "                                  else None,axis = 1)\n",
    "df['charge_degree'] = df.apply(lambda row: 0 if row['c_charge_degree=F'] == 1 \n",
    "                                  else 1 if row['c_charge_degree=M'] == 1 \n",
    "                                  else None,axis = 1)\n",
    "#### 1 is good 2 is bad in risk.\n",
    "df['label'] = df.apply(lambda row: 0 if row['label'] == 1 \n",
    "                            else 1 if row['label'] == 0 \n",
    "                            else None,axis = 1)"
   ]
  },
  {
   "cell_type": "code",
   "execution_count": 9,
   "metadata": {},
   "outputs": [
    {
     "name": "stdout",
     "output_type": "stream",
     "text": [
      "<class 'pandas.core.frame.DataFrame'>\n",
      "RangeIndex: 5278 entries, 0 to 5277\n",
      "Data columns (total 14 columns):\n",
      " #   Column                    Non-Null Count  Dtype  \n",
      "---  ------                    --------------  -----  \n",
      " 0   sex                       5278 non-null   float64\n",
      " 1   race                      5278 non-null   float64\n",
      " 2   age_cat=25 to 45          5278 non-null   float64\n",
      " 3   age_cat=Greater than 45   5278 non-null   float64\n",
      " 4   age_cat=Less than 25      5278 non-null   float64\n",
      " 5   priors_count=0            5278 non-null   float64\n",
      " 6   priors_count=1 to 3       5278 non-null   float64\n",
      " 7   priors_count=More than 3  5278 non-null   float64\n",
      " 8   c_charge_degree=F         5278 non-null   float64\n",
      " 9   c_charge_degree=M         5278 non-null   float64\n",
      " 10  label                     5278 non-null   int64  \n",
      " 11  age                       5278 non-null   int64  \n",
      " 12  priors                    5278 non-null   int64  \n",
      " 13  charge_degree             5278 non-null   int64  \n",
      "dtypes: float64(10), int64(4)\n",
      "memory usage: 577.4 KB\n"
     ]
    }
   ],
   "source": [
    "df.info()"
   ]
  },
  {
   "cell_type": "code",
   "execution_count": null,
   "metadata": {},
   "outputs": [],
   "source": []
  },
  {
   "cell_type": "code",
   "execution_count": 10,
   "metadata": {},
   "outputs": [
    {
     "name": "stdout",
     "output_type": "stream",
     "text": [
      "<class 'pandas.core.frame.DataFrame'>\n",
      "RangeIndex: 5278 entries, 0 to 5277\n",
      "Data columns (total 6 columns):\n",
      " #   Column         Non-Null Count  Dtype  \n",
      "---  ------         --------------  -----  \n",
      " 0   sex            5278 non-null   float64\n",
      " 1   race           5278 non-null   float64\n",
      " 2   age            5278 non-null   int64  \n",
      " 3   priors         5278 non-null   int64  \n",
      " 4   charge_degree  5278 non-null   int64  \n",
      " 5   label          5278 non-null   int64  \n",
      "dtypes: float64(2), int64(4)\n",
      "memory usage: 247.5 KB\n"
     ]
    }
   ],
   "source": [
    "df[['sex', 'race', 'age','priors','charge_degree' ,'label']].info()"
   ]
  },
  {
   "cell_type": "code",
   "execution_count": 11,
   "metadata": {},
   "outputs": [],
   "source": [
    "flai_dataset = data.Data(df[['sex', 'race', 'age','priors' ,'label']], transform=True)\n"
   ]
  },
  {
   "cell_type": "code",
   "execution_count": 12,
   "metadata": {},
   "outputs": [
    {
     "data": {
      "text/html": [
       "<div>\n",
       "<style scoped>\n",
       "    .dataframe tbody tr th:only-of-type {\n",
       "        vertical-align: middle;\n",
       "    }\n",
       "\n",
       "    .dataframe tbody tr th {\n",
       "        vertical-align: top;\n",
       "    }\n",
       "\n",
       "    .dataframe thead th {\n",
       "        text-align: right;\n",
       "    }\n",
       "</style>\n",
       "<table border=\"1\" class=\"dataframe\">\n",
       "  <thead>\n",
       "    <tr style=\"text-align: right;\">\n",
       "      <th></th>\n",
       "      <th>sex</th>\n",
       "      <th>race</th>\n",
       "      <th>age</th>\n",
       "      <th>priors</th>\n",
       "      <th>label</th>\n",
       "    </tr>\n",
       "  </thead>\n",
       "  <tbody>\n",
       "    <tr>\n",
       "      <th>0</th>\n",
       "      <td>0.0</td>\n",
       "      <td>0.0</td>\n",
       "      <td>1.0</td>\n",
       "      <td>0.0</td>\n",
       "      <td>0.0</td>\n",
       "    </tr>\n",
       "    <tr>\n",
       "      <th>1</th>\n",
       "      <td>0.0</td>\n",
       "      <td>0.0</td>\n",
       "      <td>0.0</td>\n",
       "      <td>2.0</td>\n",
       "      <td>0.0</td>\n",
       "    </tr>\n",
       "    <tr>\n",
       "      <th>2</th>\n",
       "      <td>0.0</td>\n",
       "      <td>1.0</td>\n",
       "      <td>1.0</td>\n",
       "      <td>2.0</td>\n",
       "      <td>0.0</td>\n",
       "    </tr>\n",
       "    <tr>\n",
       "      <th>3</th>\n",
       "      <td>1.0</td>\n",
       "      <td>1.0</td>\n",
       "      <td>1.0</td>\n",
       "      <td>0.0</td>\n",
       "      <td>1.0</td>\n",
       "    </tr>\n",
       "    <tr>\n",
       "      <th>4</th>\n",
       "      <td>0.0</td>\n",
       "      <td>1.0</td>\n",
       "      <td>1.0</td>\n",
       "      <td>0.0</td>\n",
       "      <td>1.0</td>\n",
       "    </tr>\n",
       "  </tbody>\n",
       "</table>\n",
       "</div>"
      ],
      "text/plain": [
       "   sex  race  age  priors  label\n",
       "0  0.0   0.0  1.0     0.0    0.0\n",
       "1  0.0   0.0  0.0     2.0    0.0\n",
       "2  0.0   1.0  1.0     2.0    0.0\n",
       "3  1.0   1.0  1.0     0.0    1.0\n",
       "4  0.0   1.0  1.0     0.0    1.0"
      ]
     },
     "execution_count": 12,
     "metadata": {},
     "output_type": "execute_result"
    }
   ],
   "source": [
    "flai_dataset.data.head()"
   ]
  },
  {
   "cell_type": "markdown",
   "metadata": {},
   "source": [
    "## Create Causal Graph"
   ]
  },
  {
   "cell_type": "code",
   "execution_count": 13,
   "metadata": {},
   "outputs": [
    {
     "name": "stdout",
     "output_type": "stream",
     "text": [
      "[bnlearn] >Compute structure scores ['k2', 'bds', 'bic', 'bdeu'] for model comparison (higher is better).\n"
     ]
    }
   ],
   "source": [
    "flai_graph = causal_graph.CausalGraph(flai_dataset, target = 'label')"
   ]
  },
  {
   "cell_type": "code",
   "execution_count": 14,
   "metadata": {},
   "outputs": [
    {
     "data": {
      "image/png": "[encoded data removed]",
      "text/plain": [
       "<Figure size 500x500 with 1 Axes>"
      ]
     },
     "metadata": {},
     "output_type": "display_data"
    }
   ],
   "source": [
    "flai_graph.plot(directed = True)"
   ]
  },
  {
   "cell_type": "code",
   "execution_count": 15,
   "metadata": {},
   "outputs": [],
   "source": [
    "flai_graph.calculate_cpd()"
   ]
  },
  {
   "cell_type": "code",
   "execution_count": 16,
   "metadata": {},
   "outputs": [
    {
     "data": {
      "text/plain": [
       "{'race': [60.16, 39.84],\n",
       " 'priors': [31.58, 37.0, 31.41],\n",
       " 'age': [21.9, 57.33, 20.77],\n",
       " 'label': [46.94, 53.06],\n",
       " 'sex': [80.47, 19.53]}"
      ]
     },
     "execution_count": 16,
     "metadata": {},
     "output_type": "execute_result"
    }
   ],
   "source": [
    "{n : list(np.round(flai_graph.inference(variables=[n], evidence={})['p']*100,2)) for n in flai_graph.graph['model'].nodes()}"
   ]
  },
  {
   "cell_type": "code",
   "execution_count": 17,
   "metadata": {},
   "outputs": [
    {
     "data": {
      "text/html": [
       "<div>\n",
       "<style scoped>\n",
       "    .dataframe tbody tr th:only-of-type {\n",
       "        vertical-align: middle;\n",
       "    }\n",
       "\n",
       "    .dataframe tbody tr th {\n",
       "        vertical-align: top;\n",
       "    }\n",
       "\n",
       "    .dataframe thead th {\n",
       "        text-align: right;\n",
       "    }\n",
       "</style>\n",
       "<table border=\"1\" class=\"dataframe\">\n",
       "  <thead>\n",
       "    <tr style=\"text-align: right;\">\n",
       "      <th></th>\n",
       "      <th>sex</th>\n",
       "      <th>label</th>\n",
       "      <th>p</th>\n",
       "    </tr>\n",
       "  </thead>\n",
       "  <tbody>\n",
       "    <tr>\n",
       "      <th>0</th>\n",
       "      <td>0</td>\n",
       "      <td>0</td>\n",
       "      <td>0.398273</td>\n",
       "    </tr>\n",
       "    <tr>\n",
       "      <th>1</th>\n",
       "      <td>0</td>\n",
       "      <td>1</td>\n",
       "      <td>0.406388</td>\n",
       "    </tr>\n",
       "    <tr>\n",
       "      <th>2</th>\n",
       "      <td>1</td>\n",
       "      <td>0</td>\n",
       "      <td>0.071097</td>\n",
       "    </tr>\n",
       "    <tr>\n",
       "      <th>3</th>\n",
       "      <td>1</td>\n",
       "      <td>1</td>\n",
       "      <td>0.124242</td>\n",
       "    </tr>\n",
       "  </tbody>\n",
       "</table>\n",
       "</div>"
      ],
      "text/plain": [
       "   sex  label         p\n",
       "0    0      0  0.398273\n",
       "1    0      1  0.406388\n",
       "2    1      0  0.071097\n",
       "3    1      1  0.124242"
      ]
     },
     "execution_count": 17,
     "metadata": {},
     "output_type": "execute_result"
    }
   ],
   "source": [
    "flai_graph.inference(variables=['sex','label'], evidence={})"
   ]
  },
  {
   "cell_type": "code",
   "execution_count": 18,
   "metadata": {},
   "outputs": [
    {
     "data": {
      "text/html": [
       "<div>\n",
       "<style scoped>\n",
       "    .dataframe tbody tr th:only-of-type {\n",
       "        vertical-align: middle;\n",
       "    }\n",
       "\n",
       "    .dataframe tbody tr th {\n",
       "        vertical-align: top;\n",
       "    }\n",
       "\n",
       "    .dataframe thead th {\n",
       "        text-align: right;\n",
       "    }\n",
       "</style>\n",
       "<table border=\"1\" class=\"dataframe\">\n",
       "  <thead>\n",
       "    <tr style=\"text-align: right;\">\n",
       "      <th></th>\n",
       "      <th>race</th>\n",
       "      <th>label</th>\n",
       "      <th>p</th>\n",
       "    </tr>\n",
       "  </thead>\n",
       "  <tbody>\n",
       "    <tr>\n",
       "      <th>0</th>\n",
       "      <td>0</td>\n",
       "      <td>0</td>\n",
       "      <td>0.306272</td>\n",
       "    </tr>\n",
       "    <tr>\n",
       "      <th>1</th>\n",
       "      <td>0</td>\n",
       "      <td>1</td>\n",
       "      <td>0.295281</td>\n",
       "    </tr>\n",
       "    <tr>\n",
       "      <th>2</th>\n",
       "      <td>1</td>\n",
       "      <td>0</td>\n",
       "      <td>0.163098</td>\n",
       "    </tr>\n",
       "    <tr>\n",
       "      <th>3</th>\n",
       "      <td>1</td>\n",
       "      <td>1</td>\n",
       "      <td>0.235348</td>\n",
       "    </tr>\n",
       "  </tbody>\n",
       "</table>\n",
       "</div>"
      ],
      "text/plain": [
       "   race  label         p\n",
       "0     0      0  0.306272\n",
       "1     0      1  0.295281\n",
       "2     1      0  0.163098\n",
       "3     1      1  0.235348"
      ]
     },
     "execution_count": 18,
     "metadata": {},
     "output_type": "execute_result"
    }
   ],
   "source": [
    "flai_graph.inference(variables=['race','label'], evidence={})"
   ]
  },
  {
   "cell_type": "code",
   "execution_count": 19,
   "metadata": {},
   "outputs": [
    {
     "data": {
      "text/html": [
       "<div>\n",
       "<style scoped>\n",
       "    .dataframe tbody tr th:only-of-type {\n",
       "        vertical-align: middle;\n",
       "    }\n",
       "\n",
       "    .dataframe tbody tr th {\n",
       "        vertical-align: top;\n",
       "    }\n",
       "\n",
       "    .dataframe thead th {\n",
       "        text-align: right;\n",
       "    }\n",
       "</style>\n",
       "<table border=\"1\" class=\"dataframe\">\n",
       "  <thead>\n",
       "    <tr style=\"text-align: right;\">\n",
       "      <th></th>\n",
       "      <th>age</th>\n",
       "      <th>label</th>\n",
       "      <th>p</th>\n",
       "    </tr>\n",
       "  </thead>\n",
       "  <tbody>\n",
       "    <tr>\n",
       "      <th>0</th>\n",
       "      <td>0</td>\n",
       "      <td>0</td>\n",
       "      <td>0.123802</td>\n",
       "    </tr>\n",
       "    <tr>\n",
       "      <th>1</th>\n",
       "      <td>0</td>\n",
       "      <td>1</td>\n",
       "      <td>0.095220</td>\n",
       "    </tr>\n",
       "    <tr>\n",
       "      <th>2</th>\n",
       "      <td>1</td>\n",
       "      <td>0</td>\n",
       "      <td>0.277017</td>\n",
       "    </tr>\n",
       "    <tr>\n",
       "      <th>3</th>\n",
       "      <td>1</td>\n",
       "      <td>1</td>\n",
       "      <td>0.296306</td>\n",
       "    </tr>\n",
       "    <tr>\n",
       "      <th>4</th>\n",
       "      <td>2</td>\n",
       "      <td>0</td>\n",
       "      <td>0.068551</td>\n",
       "    </tr>\n",
       "    <tr>\n",
       "      <th>5</th>\n",
       "      <td>2</td>\n",
       "      <td>1</td>\n",
       "      <td>0.139104</td>\n",
       "    </tr>\n",
       "  </tbody>\n",
       "</table>\n",
       "</div>"
      ],
      "text/plain": [
       "   age  label         p\n",
       "0    0      0  0.123802\n",
       "1    0      1  0.095220\n",
       "2    1      0  0.277017\n",
       "3    1      1  0.296306\n",
       "4    2      0  0.068551\n",
       "5    2      1  0.139104"
      ]
     },
     "execution_count": 19,
     "metadata": {},
     "output_type": "execute_result"
    }
   ],
   "source": [
    "flai_graph.inference(variables=['age','label'], evidence={})"
   ]
  },
  {
   "cell_type": "code",
   "execution_count": 20,
   "metadata": {},
   "outputs": [
    {
     "name": "stderr",
     "output_type": "stream",
     "text": [
      "100%|██████████| 36/36 [00:00<00:00, 812.65it/s]\n"
     ]
    }
   ],
   "source": [
    "data_pred = flai_dataset.data[list(flai_graph.graph['model'].nodes())]\n",
    "out = flai_graph.predict(data_pred, variables = ['label'])\n",
    "flai_dataset.data['Predicted'] = out.label"
   ]
  },
  {
   "cell_type": "code",
   "execution_count": 22,
   "metadata": {},
   "outputs": [
    {
     "name": "stdout",
     "output_type": "stream",
     "text": [
      "Calculating metrics for : sex  the value :  1\n",
      "Calculating metrics for : sex  the value :  0\n",
      "Calculating metrics for : race  the value :  1\n",
      "Calculating metrics for : race  the value :  0\n",
      "Calculating metrics for : age  the value :  1\n",
      "Calculating metrics for : age  the value :  0\n"
     ]
    },
    {
     "data": {
      "text/plain": [
       "{'model': {'ACC': 0.6667298219022357,\n",
       "  'TN': 1395,\n",
       "  'FP': 1088,\n",
       "  'FN': 671,\n",
       "  'TP': 2124,\n",
       "  'TPR': 0.7599284436493738,\n",
       "  'FPR': 0.4381796214256947,\n",
       "  'FNR': 0.24007155635062613,\n",
       "  'PPP': 0.6085638499431603},\n",
       " 'sex': {'privileged': {'ACC': 0.6847720659553831,\n",
       "   'TN': 107,\n",
       "   'FP': 266,\n",
       "   'FN': 59,\n",
       "   'TP': 599,\n",
       "   'TPR': 0.9103343465045592,\n",
       "   'FPR': 0.7131367292225201,\n",
       "   'FNR': 0.08966565349544073,\n",
       "   'PPP': 0.8389912706110573},\n",
       "  'unprivileged': {'ACC': 0.6623498940428538,\n",
       "   'TN': 1288,\n",
       "   'FP': 822,\n",
       "   'FN': 612,\n",
       "   'TP': 1525,\n",
       "   'TPR': 0.7136172204024334,\n",
       "   'FPR': 0.38957345971563984,\n",
       "   'FNR': 0.2863827795975667,\n",
       "   'PPP': 0.5526253826230281},\n",
       "  'fair_metrics': {'EOD': -0.19671712610212588,\n",
       "   'DI': 0.6586783462246727,\n",
       "   'SPD': -0.2863658879880292,\n",
       "   'OD': -0.5202803956090062}},\n",
       " 'race': {'privileged': {'ACC': 0.6699952448882549,\n",
       "   'TN': 336,\n",
       "   'FP': 486,\n",
       "   'FN': 208,\n",
       "   'TP': 1073,\n",
       "   'TPR': 0.8376268540202967,\n",
       "   'FPR': 0.5912408759124088,\n",
       "   'FNR': 0.16237314597970337,\n",
       "   'PPP': 0.741321921065145},\n",
       "  'unprivileged': {'ACC': 0.6645669291338583,\n",
       "   'TN': 1059,\n",
       "   'FP': 602,\n",
       "   'FN': 463,\n",
       "   'TP': 1051,\n",
       "   'TPR': 0.6941875825627477,\n",
       "   'FPR': 0.3624322697170379,\n",
       "   'FNR': 0.3058124174372523,\n",
       "   'PPP': 0.5206299212598425},\n",
       "  'fair_metrics': {'EOD': -0.14343927145754898,\n",
       "   'DI': 0.7022993742203008,\n",
       "   'SPD': -0.22069199980530252,\n",
       "   'OD': -0.3722478776529199}},\n",
       " 'age': {'privileged': {'ACC': 0.6668869795109055,\n",
       "   'TN': 816,\n",
       "   'FP': 645,\n",
       "   'FN': 363,\n",
       "   'TP': 1202,\n",
       "   'TPR': 0.7680511182108626,\n",
       "   'FPR': 0.4414784394250513,\n",
       "   'FNR': 0.2319488817891374,\n",
       "   'PPP': 0.6103767349636484},\n",
       "  'unprivileged': {'ACC': 0.6349480968858131,\n",
       "   'TN': 404,\n",
       "   'FP': 256,\n",
       "   'FN': 166,\n",
       "   'TP': 330,\n",
       "   'TPR': 0.6653225806451613,\n",
       "   'FPR': 0.3878787878787879,\n",
       "   'FNR': 0.3346774193548387,\n",
       "   'PPP': 0.5069204152249135},\n",
       "  'fair_metrics': {'EOD': -0.10272853756570133,\n",
       "   'DI': 0.8305041561833179,\n",
       "   'SPD': -0.10345631973873493,\n",
       "   'OD': -0.15632818911196478}}}"
      ]
     },
     "execution_count": 22,
     "metadata": {},
     "output_type": "execute_result"
    }
   ],
   "source": [
    "result_metrics = flai_dataset.fairness_metrics(target_column='label', predicted_column = 'Predicted',\n",
    "                            columns_fair = {'sex' : {'privileged' : 1, 'unprivileged' : 0},\n",
    "                                            'race' : {'privileged' : 1, 'unprivileged' : 0},\n",
    "                                            'age' : {'privileged' : 1, 'unprivileged' : 0}})\n",
    "result_metrics"
   ]
  },
  {
   "cell_type": "code",
   "execution_count": 23,
   "metadata": {},
   "outputs": [],
   "source": [
    "df_performance,df_fairness = flai_dataset.get_df_metrics(metrics_json=result_metrics)"
   ]
  },
  {
   "cell_type": "code",
   "execution_count": 24,
   "metadata": {},
   "outputs": [
    {
     "data": {
      "text/html": [
       "<div>\n",
       "<style scoped>\n",
       "    .dataframe tbody tr th:only-of-type {\n",
       "        vertical-align: middle;\n",
       "    }\n",
       "\n",
       "    .dataframe tbody tr th {\n",
       "        vertical-align: top;\n",
       "    }\n",
       "\n",
       "    .dataframe thead th {\n",
       "        text-align: right;\n",
       "    }\n",
       "</style>\n",
       "<table border=\"1\" class=\"dataframe\">\n",
       "  <thead>\n",
       "    <tr style=\"text-align: right;\">\n",
       "      <th></th>\n",
       "      <th>ACC</th>\n",
       "      <th>TN</th>\n",
       "      <th>FP</th>\n",
       "      <th>FN</th>\n",
       "      <th>TP</th>\n",
       "      <th>TPR</th>\n",
       "      <th>FPR</th>\n",
       "      <th>FNR</th>\n",
       "      <th>PPP</th>\n",
       "    </tr>\n",
       "  </thead>\n",
       "  <tbody>\n",
       "    <tr>\n",
       "      <th>model</th>\n",
       "      <td>0.666730</td>\n",
       "      <td>1395.0</td>\n",
       "      <td>1088.0</td>\n",
       "      <td>671.0</td>\n",
       "      <td>2124.0</td>\n",
       "      <td>0.759928</td>\n",
       "      <td>0.438180</td>\n",
       "      <td>0.240072</td>\n",
       "      <td>0.608564</td>\n",
       "    </tr>\n",
       "    <tr>\n",
       "      <th>sex_privileged</th>\n",
       "      <td>0.684772</td>\n",
       "      <td>107.0</td>\n",
       "      <td>266.0</td>\n",
       "      <td>59.0</td>\n",
       "      <td>599.0</td>\n",
       "      <td>0.910334</td>\n",
       "      <td>0.713137</td>\n",
       "      <td>0.089666</td>\n",
       "      <td>0.838991</td>\n",
       "    </tr>\n",
       "    <tr>\n",
       "      <th>sex_unprivileged</th>\n",
       "      <td>0.662350</td>\n",
       "      <td>1288.0</td>\n",
       "      <td>822.0</td>\n",
       "      <td>612.0</td>\n",
       "      <td>1525.0</td>\n",
       "      <td>0.713617</td>\n",
       "      <td>0.389573</td>\n",
       "      <td>0.286383</td>\n",
       "      <td>0.552625</td>\n",
       "    </tr>\n",
       "    <tr>\n",
       "      <th>race_privileged</th>\n",
       "      <td>0.669995</td>\n",
       "      <td>336.0</td>\n",
       "      <td>486.0</td>\n",
       "      <td>208.0</td>\n",
       "      <td>1073.0</td>\n",
       "      <td>0.837627</td>\n",
       "      <td>0.591241</td>\n",
       "      <td>0.162373</td>\n",
       "      <td>0.741322</td>\n",
       "    </tr>\n",
       "    <tr>\n",
       "      <th>race_unprivileged</th>\n",
       "      <td>0.664567</td>\n",
       "      <td>1059.0</td>\n",
       "      <td>602.0</td>\n",
       "      <td>463.0</td>\n",
       "      <td>1051.0</td>\n",
       "      <td>0.694188</td>\n",
       "      <td>0.362432</td>\n",
       "      <td>0.305812</td>\n",
       "      <td>0.520630</td>\n",
       "    </tr>\n",
       "    <tr>\n",
       "      <th>age_privileged</th>\n",
       "      <td>0.666887</td>\n",
       "      <td>816.0</td>\n",
       "      <td>645.0</td>\n",
       "      <td>363.0</td>\n",
       "      <td>1202.0</td>\n",
       "      <td>0.768051</td>\n",
       "      <td>0.441478</td>\n",
       "      <td>0.231949</td>\n",
       "      <td>0.610377</td>\n",
       "    </tr>\n",
       "    <tr>\n",
       "      <th>age_unprivileged</th>\n",
       "      <td>0.634948</td>\n",
       "      <td>404.0</td>\n",
       "      <td>256.0</td>\n",
       "      <td>166.0</td>\n",
       "      <td>330.0</td>\n",
       "      <td>0.665323</td>\n",
       "      <td>0.387879</td>\n",
       "      <td>0.334677</td>\n",
       "      <td>0.506920</td>\n",
       "    </tr>\n",
       "  </tbody>\n",
       "</table>\n",
       "</div>"
      ],
      "text/plain": [
       "                        ACC      TN      FP     FN      TP       TPR  \\\n",
       "model              0.666730  1395.0  1088.0  671.0  2124.0  0.759928   \n",
       "sex_privileged     0.684772   107.0   266.0   59.0   599.0  0.910334   \n",
       "sex_unprivileged   0.662350  1288.0   822.0  612.0  1525.0  0.713617   \n",
       "race_privileged    0.669995   336.0   486.0  208.0  1073.0  0.837627   \n",
       "race_unprivileged  0.664567  1059.0   602.0  463.0  1051.0  0.694188   \n",
       "age_privileged     0.666887   816.0   645.0  363.0  1202.0  0.768051   \n",
       "age_unprivileged   0.634948   404.0   256.0  166.0   330.0  0.665323   \n",
       "\n",
       "                        FPR       FNR       PPP  \n",
       "model              0.438180  0.240072  0.608564  \n",
       "sex_privileged     0.713137  0.089666  0.838991  \n",
       "sex_unprivileged   0.389573  0.286383  0.552625  \n",
       "race_privileged    0.591241  0.162373  0.741322  \n",
       "race_unprivileged  0.362432  0.305812  0.520630  \n",
       "age_privileged     0.441478  0.231949  0.610377  \n",
       "age_unprivileged   0.387879  0.334677  0.506920  "
      ]
     },
     "execution_count": 24,
     "metadata": {},
     "output_type": "execute_result"
    }
   ],
   "source": [
    "df_performance"
   ]
  },
  {
   "cell_type": "code",
   "execution_count": 25,
   "metadata": {},
   "outputs": [
    {
     "data": {
      "text/html": [
       "<div>\n",
       "<style scoped>\n",
       "    .dataframe tbody tr th:only-of-type {\n",
       "        vertical-align: middle;\n",
       "    }\n",
       "\n",
       "    .dataframe tbody tr th {\n",
       "        vertical-align: top;\n",
       "    }\n",
       "\n",
       "    .dataframe thead th {\n",
       "        text-align: right;\n",
       "    }\n",
       "</style>\n",
       "<table border=\"1\" class=\"dataframe\">\n",
       "  <thead>\n",
       "    <tr style=\"text-align: right;\">\n",
       "      <th></th>\n",
       "      <th>EOD</th>\n",
       "      <th>DI</th>\n",
       "      <th>SPD</th>\n",
       "      <th>OD</th>\n",
       "    </tr>\n",
       "  </thead>\n",
       "  <tbody>\n",
       "    <tr>\n",
       "      <th>sex_fair_metrics</th>\n",
       "      <td>-0.196717</td>\n",
       "      <td>0.658678</td>\n",
       "      <td>-0.286366</td>\n",
       "      <td>-0.520280</td>\n",
       "    </tr>\n",
       "    <tr>\n",
       "      <th>race_fair_metrics</th>\n",
       "      <td>-0.143439</td>\n",
       "      <td>0.702299</td>\n",
       "      <td>-0.220692</td>\n",
       "      <td>-0.372248</td>\n",
       "    </tr>\n",
       "    <tr>\n",
       "      <th>age_fair_metrics</th>\n",
       "      <td>-0.102729</td>\n",
       "      <td>0.830504</td>\n",
       "      <td>-0.103456</td>\n",
       "      <td>-0.156328</td>\n",
       "    </tr>\n",
       "  </tbody>\n",
       "</table>\n",
       "</div>"
      ],
      "text/plain": [
       "                        EOD        DI       SPD        OD\n",
       "sex_fair_metrics  -0.196717  0.658678 -0.286366 -0.520280\n",
       "race_fair_metrics -0.143439  0.702299 -0.220692 -0.372248\n",
       "age_fair_metrics  -0.102729  0.830504 -0.103456 -0.156328"
      ]
     },
     "execution_count": 25,
     "metadata": {},
     "output_type": "execute_result"
    }
   ],
   "source": [
    "df_fairness"
   ]
  },
  {
   "attachments": {},
   "cell_type": "markdown",
   "metadata": {},
   "source": [
    "## Mitigate Causal Graph"
   ]
  },
  {
   "cell_type": "code",
   "execution_count": 26,
   "metadata": {},
   "outputs": [
    {
     "data": {
      "text/plain": [
       "[('race', 'priors'),\n",
       " ('priors', 'label'),\n",
       " ('age', 'priors'),\n",
       " ('age', 'label'),\n",
       " ('sex', 'label'),\n",
       " ('sex', 'priors'),\n",
       " ('race', 'label')]"
      ]
     },
     "execution_count": 26,
     "metadata": {},
     "output_type": "execute_result"
    }
   ],
   "source": [
    "flai_graph.mitigate_edge_relation(sensible_feature=['sex','race','age'])"
   ]
  },
  {
   "cell_type": "code",
   "execution_count": 27,
   "metadata": {},
   "outputs": [
    {
     "data": {
      "image/png": "[encoded data removed]",
      "text/plain": [
       "<Figure size 500x500 with 1 Axes>"
      ]
     },
     "metadata": {},
     "output_type": "display_data"
    }
   ],
   "source": [
    "flai_graph.plot(directed = True)"
   ]
  },
  {
   "cell_type": "code",
   "execution_count": 28,
   "metadata": {},
   "outputs": [],
   "source": [
    "flai_graph.mitigate_calculation_cpd(sensible_feature = ['sex','race','age'])\n"
   ]
  },
  {
   "cell_type": "code",
   "execution_count": null,
   "metadata": {},
   "outputs": [],
   "source": []
  },
  {
   "cell_type": "code",
   "execution_count": 31,
   "metadata": {},
   "outputs": [
    {
     "data": {
      "text/plain": [
       "{'race': [50.0, 50.0],\n",
       " 'priors': [31.58, 37.0, 31.41],\n",
       " 'label': [47.04, 52.96],\n",
       " 'age': [33.33, 33.33, 33.33],\n",
       " 'sex': [50.0, 50.0]}"
      ]
     },
     "execution_count": 31,
     "metadata": {},
     "output_type": "execute_result"
    }
   ],
   "source": [
    "{n : list(np.round(flai_graph.inference(variables=[n], evidence={})['p']*100,2)) for n in flai_graph.graph['model'].nodes()}"
   ]
  },
  {
   "cell_type": "code",
   "execution_count": 32,
   "metadata": {},
   "outputs": [
    {
     "data": {
      "text/html": [
       "<div>\n",
       "<style scoped>\n",
       "    .dataframe tbody tr th:only-of-type {\n",
       "        vertical-align: middle;\n",
       "    }\n",
       "\n",
       "    .dataframe tbody tr th {\n",
       "        vertical-align: top;\n",
       "    }\n",
       "\n",
       "    .dataframe thead th {\n",
       "        text-align: right;\n",
       "    }\n",
       "</style>\n",
       "<table border=\"1\" class=\"dataframe\">\n",
       "  <thead>\n",
       "    <tr style=\"text-align: right;\">\n",
       "      <th></th>\n",
       "      <th>sex</th>\n",
       "      <th>label</th>\n",
       "      <th>p</th>\n",
       "    </tr>\n",
       "  </thead>\n",
       "  <tbody>\n",
       "    <tr>\n",
       "      <th>0</th>\n",
       "      <td>0</td>\n",
       "      <td>0</td>\n",
       "      <td>0.235222</td>\n",
       "    </tr>\n",
       "    <tr>\n",
       "      <th>1</th>\n",
       "      <td>0</td>\n",
       "      <td>1</td>\n",
       "      <td>0.264778</td>\n",
       "    </tr>\n",
       "    <tr>\n",
       "      <th>2</th>\n",
       "      <td>1</td>\n",
       "      <td>0</td>\n",
       "      <td>0.235222</td>\n",
       "    </tr>\n",
       "    <tr>\n",
       "      <th>3</th>\n",
       "      <td>1</td>\n",
       "      <td>1</td>\n",
       "      <td>0.264778</td>\n",
       "    </tr>\n",
       "  </tbody>\n",
       "</table>\n",
       "</div>"
      ],
      "text/plain": [
       "   sex  label         p\n",
       "0    0      0  0.235222\n",
       "1    0      1  0.264778\n",
       "2    1      0  0.235222\n",
       "3    1      1  0.264778"
      ]
     },
     "execution_count": 32,
     "metadata": {},
     "output_type": "execute_result"
    }
   ],
   "source": [
    "flai_graph.inference(variables=['sex','label'], evidence={})"
   ]
  },
  {
   "cell_type": "code",
   "execution_count": 33,
   "metadata": {},
   "outputs": [
    {
     "data": {
      "text/html": [
       "<div>\n",
       "<style scoped>\n",
       "    .dataframe tbody tr th:only-of-type {\n",
       "        vertical-align: middle;\n",
       "    }\n",
       "\n",
       "    .dataframe tbody tr th {\n",
       "        vertical-align: top;\n",
       "    }\n",
       "\n",
       "    .dataframe thead th {\n",
       "        text-align: right;\n",
       "    }\n",
       "</style>\n",
       "<table border=\"1\" class=\"dataframe\">\n",
       "  <thead>\n",
       "    <tr style=\"text-align: right;\">\n",
       "      <th></th>\n",
       "      <th>race</th>\n",
       "      <th>label</th>\n",
       "      <th>p</th>\n",
       "    </tr>\n",
       "  </thead>\n",
       "  <tbody>\n",
       "    <tr>\n",
       "      <th>0</th>\n",
       "      <td>0</td>\n",
       "      <td>0</td>\n",
       "      <td>0.235222</td>\n",
       "    </tr>\n",
       "    <tr>\n",
       "      <th>1</th>\n",
       "      <td>0</td>\n",
       "      <td>1</td>\n",
       "      <td>0.264778</td>\n",
       "    </tr>\n",
       "    <tr>\n",
       "      <th>2</th>\n",
       "      <td>1</td>\n",
       "      <td>0</td>\n",
       "      <td>0.235222</td>\n",
       "    </tr>\n",
       "    <tr>\n",
       "      <th>3</th>\n",
       "      <td>1</td>\n",
       "      <td>1</td>\n",
       "      <td>0.264778</td>\n",
       "    </tr>\n",
       "  </tbody>\n",
       "</table>\n",
       "</div>"
      ],
      "text/plain": [
       "   race  label         p\n",
       "0     0      0  0.235222\n",
       "1     0      1  0.264778\n",
       "2     1      0  0.235222\n",
       "3     1      1  0.264778"
      ]
     },
     "execution_count": 33,
     "metadata": {},
     "output_type": "execute_result"
    }
   ],
   "source": [
    "flai_graph.inference(variables=['race','label'], evidence={})"
   ]
  },
  {
   "cell_type": "code",
   "execution_count": 34,
   "metadata": {},
   "outputs": [
    {
     "data": {
      "text/html": [
       "<div>\n",
       "<style scoped>\n",
       "    .dataframe tbody tr th:only-of-type {\n",
       "        vertical-align: middle;\n",
       "    }\n",
       "\n",
       "    .dataframe tbody tr th {\n",
       "        vertical-align: top;\n",
       "    }\n",
       "\n",
       "    .dataframe thead th {\n",
       "        text-align: right;\n",
       "    }\n",
       "</style>\n",
       "<table border=\"1\" class=\"dataframe\">\n",
       "  <thead>\n",
       "    <tr style=\"text-align: right;\">\n",
       "      <th></th>\n",
       "      <th>age</th>\n",
       "      <th>label</th>\n",
       "      <th>p</th>\n",
       "    </tr>\n",
       "  </thead>\n",
       "  <tbody>\n",
       "    <tr>\n",
       "      <th>0</th>\n",
       "      <td>0</td>\n",
       "      <td>0</td>\n",
       "      <td>0.156814</td>\n",
       "    </tr>\n",
       "    <tr>\n",
       "      <th>1</th>\n",
       "      <td>0</td>\n",
       "      <td>1</td>\n",
       "      <td>0.176519</td>\n",
       "    </tr>\n",
       "    <tr>\n",
       "      <th>2</th>\n",
       "      <td>1</td>\n",
       "      <td>0</td>\n",
       "      <td>0.156814</td>\n",
       "    </tr>\n",
       "    <tr>\n",
       "      <th>3</th>\n",
       "      <td>1</td>\n",
       "      <td>1</td>\n",
       "      <td>0.176519</td>\n",
       "    </tr>\n",
       "    <tr>\n",
       "      <th>4</th>\n",
       "      <td>2</td>\n",
       "      <td>0</td>\n",
       "      <td>0.156814</td>\n",
       "    </tr>\n",
       "    <tr>\n",
       "      <th>5</th>\n",
       "      <td>2</td>\n",
       "      <td>1</td>\n",
       "      <td>0.176519</td>\n",
       "    </tr>\n",
       "  </tbody>\n",
       "</table>\n",
       "</div>"
      ],
      "text/plain": [
       "   age  label         p\n",
       "0    0      0  0.156814\n",
       "1    0      1  0.176519\n",
       "2    1      0  0.156814\n",
       "3    1      1  0.176519\n",
       "4    2      0  0.156814\n",
       "5    2      1  0.176519"
      ]
     },
     "execution_count": 34,
     "metadata": {},
     "output_type": "execute_result"
    }
   ],
   "source": [
    "flai_graph.inference(variables=['age','label'], evidence={})"
   ]
  },
  {
   "cell_type": "code",
   "execution_count": 35,
   "metadata": {},
   "outputs": [
    {
     "name": "stderr",
     "output_type": "stream",
     "text": [
      "100%|██████████| 36/36 [00:00<00:00, 942.90it/s]\n"
     ]
    }
   ],
   "source": [
    "data_pred = flai_dataset.data[list(flai_graph.graph['model'].nodes())]\n",
    "out = flai_graph.predict(data_pred, variables = ['label'])\n",
    "flai_dataset.data['Predicted'] = out.label"
   ]
  },
  {
   "cell_type": "code",
   "execution_count": 36,
   "metadata": {},
   "outputs": [
    {
     "name": "stdout",
     "output_type": "stream",
     "text": [
      "Calculating metrics for : sex  the value :  1\n",
      "Calculating metrics for : sex  the value :  0\n",
      "Calculating metrics for : race  the value :  1\n",
      "Calculating metrics for : race  the value :  0\n",
      "Calculating metrics for : age  the value :  1\n",
      "Calculating metrics for : age  the value :  0\n"
     ]
    },
    {
     "data": {
      "text/plain": [
       "{'model': {'ACC': 0.6352785145888594,\n",
       "  'TN': 1108,\n",
       "  'FP': 1375,\n",
       "  'FN': 550,\n",
       "  'TP': 2245,\n",
       "  'TPR': 0.8032200357781754,\n",
       "  'FPR': 0.5537656061216271,\n",
       "  'FNR': 0.1967799642218247,\n",
       "  'PPP': 0.6858658582796514},\n",
       " 'sex': {'privileged': {'ACC': 0.6799224054316197,\n",
       "   'TN': 127,\n",
       "   'FP': 246,\n",
       "   'FN': 84,\n",
       "   'TP': 574,\n",
       "   'TPR': 0.8723404255319149,\n",
       "   'FPR': 0.6595174262734584,\n",
       "   'FNR': 0.1276595744680851,\n",
       "   'PPP': 0.7953443258971872},\n",
       "  'unprivileged': {'ACC': 0.6244407817282788,\n",
       "   'TN': 981,\n",
       "   'FP': 1129,\n",
       "   'FN': 466,\n",
       "   'TP': 1671,\n",
       "   'TPR': 0.7819372952737482,\n",
       "   'FPR': 0.5350710900473934,\n",
       "   'FNR': 0.21806270472625175,\n",
       "   'PPP': 0.6592889098186956},\n",
       "  'fair_metrics': {'EOD': -0.09040313025816671,\n",
       "   'DI': 0.8289352024671648,\n",
       "   'SPD': -0.1360554160784916,\n",
       "   'OD': -0.21484946648423175}},\n",
       " 'race': {'privileged': {'ACC': 0.661436043747028,\n",
       "   'TN': 277,\n",
       "   'FP': 545,\n",
       "   'FN': 167,\n",
       "   'TP': 1114,\n",
       "   'TPR': 0.8696330991412958,\n",
       "   'FPR': 0.6630170316301703,\n",
       "   'FNR': 0.13036690085870414,\n",
       "   'PPP': 0.7888730385164051},\n",
       "  'unprivileged': {'ACC': 0.6179527559055118,\n",
       "   'TN': 831,\n",
       "   'FP': 830,\n",
       "   'FN': 383,\n",
       "   'TP': 1131,\n",
       "   'TPR': 0.7470277410832232,\n",
       "   'FPR': 0.4996989765201686,\n",
       "   'FNR': 0.25297225891677677,\n",
       "   'PPP': 0.6176377952755906},\n",
       "  'fair_metrics': {'EOD': -0.1226053580580726,\n",
       "   'DI': 0.7829368797254774,\n",
       "   'SPD': -0.17123524324081452,\n",
       "   'OD': -0.28592341316807435}},\n",
       " 'age': {'privileged': {'ACC': 0.6668869795109055,\n",
       "   'TN': 816,\n",
       "   'FP': 645,\n",
       "   'FN': 363,\n",
       "   'TP': 1202,\n",
       "   'TPR': 0.7680511182108626,\n",
       "   'FPR': 0.4414784394250513,\n",
       "   'FNR': 0.2319488817891374,\n",
       "   'PPP': 0.6103767349636484},\n",
       "  'unprivileged': {'ACC': 0.49567474048442905,\n",
       "   'TN': 97,\n",
       "   'FP': 563,\n",
       "   'FN': 20,\n",
       "   'TP': 476,\n",
       "   'TPR': 0.9596774193548387,\n",
       "   'FPR': 0.853030303030303,\n",
       "   'FNR': 0.04032258064516129,\n",
       "   'PPP': 0.8987889273356401},\n",
       "  'fair_metrics': {'EOD': 0.19162630114397616,\n",
       "   'DI': 1.472515048249944,\n",
       "   'SPD': 0.28841219237199167,\n",
       "   'OD': 0.6031781647492278}}}"
      ]
     },
     "execution_count": 36,
     "metadata": {},
     "output_type": "execute_result"
    }
   ],
   "source": [
    "result_metrics_mitigated = flai_dataset.fairness_metrics(target_column='label', predicted_column = 'Predicted',\n",
    "                            columns_fair = {'sex' : {'privileged' : 1, 'unprivileged' : 0},\n",
    "                                            'race' : {'privileged' : 1, 'unprivileged' : 0},\n",
    "                                            'age' : {'privileged' : 1, 'unprivileged' : 0}})\n",
    "result_metrics_mitigated"
   ]
  },
  {
   "cell_type": "code",
   "execution_count": 37,
   "metadata": {},
   "outputs": [],
   "source": [
    "df_performance_mitigated,df_fairness_mitigated = flai_dataset.get_df_metrics(metrics_json=result_metrics_mitigated)"
   ]
  },
  {
   "cell_type": "code",
   "execution_count": 38,
   "metadata": {},
   "outputs": [
    {
     "data": {
      "text/html": [
       "<div>\n",
       "<style scoped>\n",
       "    .dataframe tbody tr th:only-of-type {\n",
       "        vertical-align: middle;\n",
       "    }\n",
       "\n",
       "    .dataframe tbody tr th {\n",
       "        vertical-align: top;\n",
       "    }\n",
       "\n",
       "    .dataframe thead th {\n",
       "        text-align: right;\n",
       "    }\n",
       "</style>\n",
       "<table border=\"1\" class=\"dataframe\">\n",
       "  <thead>\n",
       "    <tr style=\"text-align: right;\">\n",
       "      <th></th>\n",
       "      <th>ACC</th>\n",
       "      <th>TN</th>\n",
       "      <th>FP</th>\n",
       "      <th>FN</th>\n",
       "      <th>TP</th>\n",
       "      <th>TPR</th>\n",
       "      <th>FPR</th>\n",
       "      <th>FNR</th>\n",
       "      <th>PPP</th>\n",
       "    </tr>\n",
       "  </thead>\n",
       "  <tbody>\n",
       "    <tr>\n",
       "      <th>model</th>\n",
       "      <td>0.635279</td>\n",
       "      <td>1108.0</td>\n",
       "      <td>1375.0</td>\n",
       "      <td>550.0</td>\n",
       "      <td>2245.0</td>\n",
       "      <td>0.803220</td>\n",
       "      <td>0.553766</td>\n",
       "      <td>0.196780</td>\n",
       "      <td>0.685866</td>\n",
       "    </tr>\n",
       "    <tr>\n",
       "      <th>sex_privileged</th>\n",
       "      <td>0.679922</td>\n",
       "      <td>127.0</td>\n",
       "      <td>246.0</td>\n",
       "      <td>84.0</td>\n",
       "      <td>574.0</td>\n",
       "      <td>0.872340</td>\n",
       "      <td>0.659517</td>\n",
       "      <td>0.127660</td>\n",
       "      <td>0.795344</td>\n",
       "    </tr>\n",
       "    <tr>\n",
       "      <th>sex_unprivileged</th>\n",
       "      <td>0.624441</td>\n",
       "      <td>981.0</td>\n",
       "      <td>1129.0</td>\n",
       "      <td>466.0</td>\n",
       "      <td>1671.0</td>\n",
       "      <td>0.781937</td>\n",
       "      <td>0.535071</td>\n",
       "      <td>0.218063</td>\n",
       "      <td>0.659289</td>\n",
       "    </tr>\n",
       "    <tr>\n",
       "      <th>race_privileged</th>\n",
       "      <td>0.661436</td>\n",
       "      <td>277.0</td>\n",
       "      <td>545.0</td>\n",
       "      <td>167.0</td>\n",
       "      <td>1114.0</td>\n",
       "      <td>0.869633</td>\n",
       "      <td>0.663017</td>\n",
       "      <td>0.130367</td>\n",
       "      <td>0.788873</td>\n",
       "    </tr>\n",
       "    <tr>\n",
       "      <th>race_unprivileged</th>\n",
       "      <td>0.617953</td>\n",
       "      <td>831.0</td>\n",
       "      <td>830.0</td>\n",
       "      <td>383.0</td>\n",
       "      <td>1131.0</td>\n",
       "      <td>0.747028</td>\n",
       "      <td>0.499699</td>\n",
       "      <td>0.252972</td>\n",
       "      <td>0.617638</td>\n",
       "    </tr>\n",
       "    <tr>\n",
       "      <th>age_privileged</th>\n",
       "      <td>0.666887</td>\n",
       "      <td>816.0</td>\n",
       "      <td>645.0</td>\n",
       "      <td>363.0</td>\n",
       "      <td>1202.0</td>\n",
       "      <td>0.768051</td>\n",
       "      <td>0.441478</td>\n",
       "      <td>0.231949</td>\n",
       "      <td>0.610377</td>\n",
       "    </tr>\n",
       "    <tr>\n",
       "      <th>age_unprivileged</th>\n",
       "      <td>0.495675</td>\n",
       "      <td>97.0</td>\n",
       "      <td>563.0</td>\n",
       "      <td>20.0</td>\n",
       "      <td>476.0</td>\n",
       "      <td>0.959677</td>\n",
       "      <td>0.853030</td>\n",
       "      <td>0.040323</td>\n",
       "      <td>0.898789</td>\n",
       "    </tr>\n",
       "  </tbody>\n",
       "</table>\n",
       "</div>"
      ],
      "text/plain": [
       "                        ACC      TN      FP     FN      TP       TPR  \\\n",
       "model              0.635279  1108.0  1375.0  550.0  2245.0  0.803220   \n",
       "sex_privileged     0.679922   127.0   246.0   84.0   574.0  0.872340   \n",
       "sex_unprivileged   0.624441   981.0  1129.0  466.0  1671.0  0.781937   \n",
       "race_privileged    0.661436   277.0   545.0  167.0  1114.0  0.869633   \n",
       "race_unprivileged  0.617953   831.0   830.0  383.0  1131.0  0.747028   \n",
       "age_privileged     0.666887   816.0   645.0  363.0  1202.0  0.768051   \n",
       "age_unprivileged   0.495675    97.0   563.0   20.0   476.0  0.959677   \n",
       "\n",
       "                        FPR       FNR       PPP  \n",
       "model              0.553766  0.196780  0.685866  \n",
       "sex_privileged     0.659517  0.127660  0.795344  \n",
       "sex_unprivileged   0.535071  0.218063  0.659289  \n",
       "race_privileged    0.663017  0.130367  0.788873  \n",
       "race_unprivileged  0.499699  0.252972  0.617638  \n",
       "age_privileged     0.441478  0.231949  0.610377  \n",
       "age_unprivileged   0.853030  0.040323  0.898789  "
      ]
     },
     "execution_count": 38,
     "metadata": {},
     "output_type": "execute_result"
    }
   ],
   "source": [
    "df_performance_mitigated"
   ]
  },
  {
   "cell_type": "code",
   "execution_count": 39,
   "metadata": {},
   "outputs": [
    {
     "data": {
      "text/html": [
       "<div>\n",
       "<style scoped>\n",
       "    .dataframe tbody tr th:only-of-type {\n",
       "        vertical-align: middle;\n",
       "    }\n",
       "\n",
       "    .dataframe tbody tr th {\n",
       "        vertical-align: top;\n",
       "    }\n",
       "\n",
       "    .dataframe thead th {\n",
       "        text-align: right;\n",
       "    }\n",
       "</style>\n",
       "<table border=\"1\" class=\"dataframe\">\n",
       "  <thead>\n",
       "    <tr style=\"text-align: right;\">\n",
       "      <th></th>\n",
       "      <th>EOD</th>\n",
       "      <th>DI</th>\n",
       "      <th>SPD</th>\n",
       "      <th>OD</th>\n",
       "    </tr>\n",
       "  </thead>\n",
       "  <tbody>\n",
       "    <tr>\n",
       "      <th>sex_fair_metrics</th>\n",
       "      <td>-0.090403</td>\n",
       "      <td>0.828935</td>\n",
       "      <td>-0.136055</td>\n",
       "      <td>-0.214849</td>\n",
       "    </tr>\n",
       "    <tr>\n",
       "      <th>race_fair_metrics</th>\n",
       "      <td>-0.122605</td>\n",
       "      <td>0.782937</td>\n",
       "      <td>-0.171235</td>\n",
       "      <td>-0.285923</td>\n",
       "    </tr>\n",
       "    <tr>\n",
       "      <th>age_fair_metrics</th>\n",
       "      <td>0.191626</td>\n",
       "      <td>1.472515</td>\n",
       "      <td>0.288412</td>\n",
       "      <td>0.603178</td>\n",
       "    </tr>\n",
       "  </tbody>\n",
       "</table>\n",
       "</div>"
      ],
      "text/plain": [
       "                        EOD        DI       SPD        OD\n",
       "sex_fair_metrics  -0.090403  0.828935 -0.136055 -0.214849\n",
       "race_fair_metrics -0.122605  0.782937 -0.171235 -0.285923\n",
       "age_fair_metrics   0.191626  1.472515  0.288412  0.603178"
      ]
     },
     "execution_count": 39,
     "metadata": {},
     "output_type": "execute_result"
    }
   ],
   "source": [
    "df_fairness_mitigated"
   ]
  },
  {
   "cell_type": "code",
   "execution_count": 40,
   "metadata": {},
   "outputs": [],
   "source": [
    "fair_data = flai_graph.generate_dataset(n_samples = 600*len(flai_dataset.data), methodtype = 'bayes')"
   ]
  },
  {
   "cell_type": "code",
   "execution_count": 41,
   "metadata": {},
   "outputs": [
    {
     "name": "stdout",
     "output_type": "stream",
     "text": [
      "            race    priors     label       age       sex\n",
      "race    1.000000 -0.000935 -0.000294 -0.000398 -0.000025\n",
      "priors -0.000935  1.000000 -0.293286  0.000195 -0.000402\n",
      "label  -0.000294 -0.293286  1.000000 -0.000200  0.000664\n",
      "age    -0.000398  0.000195 -0.000200  1.000000 -0.000888\n",
      "sex    -0.000025 -0.000402  0.000664 -0.000888  1.000000\n"
     ]
    },
    {
     "data": {
      "text/plain": [
       "<AxesSubplot: >"
      ]
     },
     "execution_count": 41,
     "metadata": {},
     "output_type": "execute_result"
    },
    {
     "data": {
      "image/png": "[encoded data removed]",
      "text/plain": [
       "<Figure size 500x500 with 2 Axes>"
      ]
     },
     "metadata": {},
     "output_type": "display_data"
    }
   ],
   "source": [
    "import matplotlib.pyplot as plt\n",
    "# Compute the correlation matrix\n",
    "corr = fair_data.data.corr()\n",
    "print(corr)\n",
    "# Generate a mask for the upper triangle\n",
    "mask = np.triu(np.ones_like(corr, dtype=bool))\n",
    "\n",
    "# Set up the matplotlib figure\n",
    "f, ax = plt.subplots(figsize=(5, 5))\n",
    "\n",
    "# Generate a custom diverging colormap\n",
    "cmap = sns.diverging_palette(230, 20, as_cmap=True)\n",
    "\n",
    "# Draw the heatmap with the mask and correct aspect ratio\n",
    "sns.heatmap(corr, mask=mask, cmap=cmap, center=0,\n",
    "            square=True, linewidths=.5, cbar_kws={\"shrink\": .5})"
   ]
  },
  {
   "cell_type": "code",
   "execution_count": 42,
   "metadata": {},
   "outputs": [
    {
     "name": "stderr",
     "output_type": "stream",
     "text": [
      "100%|██████████| 36/36 [00:01<00:00, 28.88it/s]\n"
     ]
    }
   ],
   "source": [
    "data_pred = fair_data.data[list(flai_graph.graph['model'].nodes())]\n",
    "out = flai_graph.predict(data_pred, variables = ['label'])\n",
    "fair_data.data['Predicted'] = out.label"
   ]
  },
  {
   "cell_type": "code",
   "execution_count": 43,
   "metadata": {},
   "outputs": [
    {
     "name": "stdout",
     "output_type": "stream",
     "text": [
      "Calculating metrics for : sex  the value :  1\n",
      "Calculating metrics for : sex  the value :  0\n",
      "Calculating metrics for : race  the value :  1\n",
      "Calculating metrics for : race  the value :  0\n",
      "Calculating metrics for : age  the value :  1\n",
      "Calculating metrics for : age  the value :  0\n"
     ]
    },
    {
     "data": {
      "text/plain": [
       "{'model': {'ACC': 0.6353596690665656,\n",
       "  'TN': 664491,\n",
       "  'FP': 824318,\n",
       "  'FN': 330425,\n",
       "  'TP': 1347566,\n",
       "  'TPR': 0.8030829724354899,\n",
       "  'FPR': 0.5536761263533468,\n",
       "  'FNR': 0.19691702756451018,\n",
       "  'PPP': 0.6858292282430214},\n",
       " 'sex': {'privileged': {'ACC': 0.6355803060281702,\n",
       "   'TN': 332152,\n",
       "   'FP': 411751,\n",
       "   'FN': 165289,\n",
       "   'TP': 674257,\n",
       "   'TPR': 0.803120972525627,\n",
       "   'FPR': 0.5535009268681536,\n",
       "   'FNR': 0.19687902747437305,\n",
       "   'PPP': 0.6858496863492288},\n",
       "  'unprivileged': {'ACC': 0.6351390184488468,\n",
       "   'TN': 332339,\n",
       "   'FP': 412567,\n",
       "   'FN': 165136,\n",
       "   'TP': 673309,\n",
       "   'TPR': 0.803044922445718,\n",
       "   'FPR': 0.5538510899361798,\n",
       "   'FNR': 0.19695507755428204,\n",
       "   'PPP': 0.685808768870579},\n",
       "  'fair_metrics': {'EOD': -7.605007990896251e-05,\n",
       "   'DI': 0.9999403404572981,\n",
       "   'SPD': -4.0917478649871164e-05,\n",
       "   'OD': 0.0002741129881173032}},\n",
       " 'race': {'privileged': {'ACC': 0.6349718162898621,\n",
       "   'TN': 331665,\n",
       "   'FP': 412453,\n",
       "   'FN': 165130,\n",
       "   'TP': 673049,\n",
       "   'TPR': 0.8029895762122411,\n",
       "   'FPR': 0.5542844011299283,\n",
       "   'FNR': 0.19701042378775893,\n",
       "   'PPP': 0.6860292347138369},\n",
       "  'unprivileged': {'ACC': 0.6357469818611893,\n",
       "   'TN': 332826,\n",
       "   'FP': 411865,\n",
       "   'FN': 165295,\n",
       "   'TP': 674517,\n",
       "   'TPR': 0.8031761870513877,\n",
       "   'FPR': 0.5530683196117584,\n",
       "   'FNR': 0.19682381294861231,\n",
       "   'PPP': 0.6856295002281473},\n",
       "  'fair_metrics': {'EOD': 0.00018661083914661702,\n",
       "   'DI': 0.9994173214996349,\n",
       "   'SPD': -0.0003997344856896401,\n",
       "   'OD': -0.0010294706790232588}},\n",
       " 'age': {'privileged': {'ACC': 0.6353520443546706,\n",
       "   'TN': 221550,\n",
       "   'FP': 274721,\n",
       "   'FN': 110162,\n",
       "   'TP': 449059,\n",
       "   'TPR': 0.8030081130715764,\n",
       "   'FPR': 0.5535705290053217,\n",
       "   'FNR': 0.19699188692842365,\n",
       "   'PPP': 0.6857276038094083},\n",
       "  'unprivileged': {'ACC': 0.635436149992179,\n",
       "   'TN': 221403,\n",
       "   'FP': 274361,\n",
       "   'FN': 110201,\n",
       "   'TP': 448890,\n",
       "   'TPR': 0.8028925523751947,\n",
       "   'FPR': 0.5534104937026488,\n",
       "   'FNR': 0.19710744762480525,\n",
       "   'PPP': 0.6856402064738756},\n",
       "  'fair_metrics': {'EOD': -0.00011556069638163358,\n",
       "   'DI': 0.9998725480277486,\n",
       "   'SPD': -8.73973355327573e-05,\n",
       "   'OD': -0.00027559599905446763}}}"
      ]
     },
     "execution_count": 43,
     "metadata": {},
     "output_type": "execute_result"
    }
   ],
   "source": [
    "result_metrics_mitigated_fair_data = fair_data.fairness_metrics(target_column='label', predicted_column = 'Predicted',\n",
    "                            columns_fair = {'sex' : {'privileged' : 1, 'unprivileged' : 0},\n",
    "                                            'race' : {'privileged' : 1, 'unprivileged' : 0},\n",
    "                                            'age' : {'privileged' : 1, 'unprivileged' : 0}})\n",
    "result_metrics_mitigated_fair_data"
   ]
  },
  {
   "cell_type": "code",
   "execution_count": 44,
   "metadata": {},
   "outputs": [],
   "source": [
    "df_performance_mitigated_fair_data, df_fairness_mitigated_fair_data = fair_data.get_df_metrics(result_metrics_mitigated_fair_data)"
   ]
  },
  {
   "cell_type": "code",
   "execution_count": 45,
   "metadata": {},
   "outputs": [
    {
     "data": {
      "text/html": [
       "<div>\n",
       "<style scoped>\n",
       "    .dataframe tbody tr th:only-of-type {\n",
       "        vertical-align: middle;\n",
       "    }\n",
       "\n",
       "    .dataframe tbody tr th {\n",
       "        vertical-align: top;\n",
       "    }\n",
       "\n",
       "    .dataframe thead th {\n",
       "        text-align: right;\n",
       "    }\n",
       "</style>\n",
       "<table border=\"1\" class=\"dataframe\">\n",
       "  <thead>\n",
       "    <tr style=\"text-align: right;\">\n",
       "      <th></th>\n",
       "      <th>ACC</th>\n",
       "      <th>TN</th>\n",
       "      <th>FP</th>\n",
       "      <th>FN</th>\n",
       "      <th>TP</th>\n",
       "      <th>TPR</th>\n",
       "      <th>FPR</th>\n",
       "      <th>FNR</th>\n",
       "      <th>PPP</th>\n",
       "    </tr>\n",
       "  </thead>\n",
       "  <tbody>\n",
       "    <tr>\n",
       "      <th>model</th>\n",
       "      <td>0.635360</td>\n",
       "      <td>664491.0</td>\n",
       "      <td>824318.0</td>\n",
       "      <td>330425.0</td>\n",
       "      <td>1347566.0</td>\n",
       "      <td>0.803083</td>\n",
       "      <td>0.553676</td>\n",
       "      <td>0.196917</td>\n",
       "      <td>0.685829</td>\n",
       "    </tr>\n",
       "    <tr>\n",
       "      <th>sex_privileged</th>\n",
       "      <td>0.635580</td>\n",
       "      <td>332152.0</td>\n",
       "      <td>411751.0</td>\n",
       "      <td>165289.0</td>\n",
       "      <td>674257.0</td>\n",
       "      <td>0.803121</td>\n",
       "      <td>0.553501</td>\n",
       "      <td>0.196879</td>\n",
       "      <td>0.685850</td>\n",
       "    </tr>\n",
       "    <tr>\n",
       "      <th>sex_unprivileged</th>\n",
       "      <td>0.635139</td>\n",
       "      <td>332339.0</td>\n",
       "      <td>412567.0</td>\n",
       "      <td>165136.0</td>\n",
       "      <td>673309.0</td>\n",
       "      <td>0.803045</td>\n",
       "      <td>0.553851</td>\n",
       "      <td>0.196955</td>\n",
       "      <td>0.685809</td>\n",
       "    </tr>\n",
       "    <tr>\n",
       "      <th>race_privileged</th>\n",
       "      <td>0.634972</td>\n",
       "      <td>331665.0</td>\n",
       "      <td>412453.0</td>\n",
       "      <td>165130.0</td>\n",
       "      <td>673049.0</td>\n",
       "      <td>0.802990</td>\n",
       "      <td>0.554284</td>\n",
       "      <td>0.197010</td>\n",
       "      <td>0.686029</td>\n",
       "    </tr>\n",
       "    <tr>\n",
       "      <th>race_unprivileged</th>\n",
       "      <td>0.635747</td>\n",
       "      <td>332826.0</td>\n",
       "      <td>411865.0</td>\n",
       "      <td>165295.0</td>\n",
       "      <td>674517.0</td>\n",
       "      <td>0.803176</td>\n",
       "      <td>0.553068</td>\n",
       "      <td>0.196824</td>\n",
       "      <td>0.685630</td>\n",
       "    </tr>\n",
       "    <tr>\n",
       "      <th>age_privileged</th>\n",
       "      <td>0.635352</td>\n",
       "      <td>221550.0</td>\n",
       "      <td>274721.0</td>\n",
       "      <td>110162.0</td>\n",
       "      <td>449059.0</td>\n",
       "      <td>0.803008</td>\n",
       "      <td>0.553571</td>\n",
       "      <td>0.196992</td>\n",
       "      <td>0.685728</td>\n",
       "    </tr>\n",
       "    <tr>\n",
       "      <th>age_unprivileged</th>\n",
       "      <td>0.635436</td>\n",
       "      <td>221403.0</td>\n",
       "      <td>274361.0</td>\n",
       "      <td>110201.0</td>\n",
       "      <td>448890.0</td>\n",
       "      <td>0.802893</td>\n",
       "      <td>0.553410</td>\n",
       "      <td>0.197107</td>\n",
       "      <td>0.685640</td>\n",
       "    </tr>\n",
       "  </tbody>\n",
       "</table>\n",
       "</div>"
      ],
      "text/plain": [
       "                        ACC        TN        FP        FN         TP  \\\n",
       "model              0.635360  664491.0  824318.0  330425.0  1347566.0   \n",
       "sex_privileged     0.635580  332152.0  411751.0  165289.0   674257.0   \n",
       "sex_unprivileged   0.635139  332339.0  412567.0  165136.0   673309.0   \n",
       "race_privileged    0.634972  331665.0  412453.0  165130.0   673049.0   \n",
       "race_unprivileged  0.635747  332826.0  411865.0  165295.0   674517.0   \n",
       "age_privileged     0.635352  221550.0  274721.0  110162.0   449059.0   \n",
       "age_unprivileged   0.635436  221403.0  274361.0  110201.0   448890.0   \n",
       "\n",
       "                        TPR       FPR       FNR       PPP  \n",
       "model              0.803083  0.553676  0.196917  0.685829  \n",
       "sex_privileged     0.803121  0.553501  0.196879  0.685850  \n",
       "sex_unprivileged   0.803045  0.553851  0.196955  0.685809  \n",
       "race_privileged    0.802990  0.554284  0.197010  0.686029  \n",
       "race_unprivileged  0.803176  0.553068  0.196824  0.685630  \n",
       "age_privileged     0.803008  0.553571  0.196992  0.685728  \n",
       "age_unprivileged   0.802893  0.553410  0.197107  0.685640  "
      ]
     },
     "execution_count": 45,
     "metadata": {},
     "output_type": "execute_result"
    }
   ],
   "source": [
    "df_performance_mitigated_fair_data"
   ]
  },
  {
   "cell_type": "code",
   "execution_count": 46,
   "metadata": {},
   "outputs": [
    {
     "data": {
      "text/html": [
       "<div>\n",
       "<style scoped>\n",
       "    .dataframe tbody tr th:only-of-type {\n",
       "        vertical-align: middle;\n",
       "    }\n",
       "\n",
       "    .dataframe tbody tr th {\n",
       "        vertical-align: top;\n",
       "    }\n",
       "\n",
       "    .dataframe thead th {\n",
       "        text-align: right;\n",
       "    }\n",
       "</style>\n",
       "<table border=\"1\" class=\"dataframe\">\n",
       "  <thead>\n",
       "    <tr style=\"text-align: right;\">\n",
       "      <th></th>\n",
       "      <th>EOD</th>\n",
       "      <th>DI</th>\n",
       "      <th>SPD</th>\n",
       "      <th>OD</th>\n",
       "    </tr>\n",
       "  </thead>\n",
       "  <tbody>\n",
       "    <tr>\n",
       "      <th>sex_fair_metrics</th>\n",
       "      <td>-0.000076</td>\n",
       "      <td>0.999940</td>\n",
       "      <td>-0.000041</td>\n",
       "      <td>0.000274</td>\n",
       "    </tr>\n",
       "    <tr>\n",
       "      <th>race_fair_metrics</th>\n",
       "      <td>0.000187</td>\n",
       "      <td>0.999417</td>\n",
       "      <td>-0.000400</td>\n",
       "      <td>-0.001029</td>\n",
       "    </tr>\n",
       "    <tr>\n",
       "      <th>age_fair_metrics</th>\n",
       "      <td>-0.000116</td>\n",
       "      <td>0.999873</td>\n",
       "      <td>-0.000087</td>\n",
       "      <td>-0.000276</td>\n",
       "    </tr>\n",
       "  </tbody>\n",
       "</table>\n",
       "</div>"
      ],
      "text/plain": [
       "                        EOD        DI       SPD        OD\n",
       "sex_fair_metrics  -0.000076  0.999940 -0.000041  0.000274\n",
       "race_fair_metrics  0.000187  0.999417 -0.000400 -0.001029\n",
       "age_fair_metrics  -0.000116  0.999873 -0.000087 -0.000276"
      ]
     },
     "execution_count": 46,
     "metadata": {},
     "output_type": "execute_result"
    }
   ],
   "source": [
    "df_fairness_mitigated_fair_data"
   ]
  },
  {
   "attachments": {},
   "cell_type": "markdown",
   "metadata": {},
   "source": [
    "## Train Algorithm"
   ]
  },
  {
   "cell_type": "code",
   "execution_count": 43,
   "metadata": {},
   "outputs": [],
   "source": [
    "from numpy import loadtxt\n",
    "from xgboost import XGBClassifier\n",
    "from sklearn.model_selection import train_test_split\n",
    "from sklearn.metrics import accuracy_score"
   ]
  },
  {
   "cell_type": "code",
   "execution_count": 44,
   "metadata": {},
   "outputs": [],
   "source": [
    "original_X = flai_dataset.data[['sex', 'race', 'age','priors','charge_degree' ]]\n",
    "original_y = flai_dataset.data[['label']]\n",
    "mitigated_X = fair_data.data[['sex', 'race', 'age','priors','charge_degree' ]]\n",
    "mitigated_y = fair_data.data[['label']]\n"
   ]
  },
  {
   "cell_type": "code",
   "execution_count": 45,
   "metadata": {},
   "outputs": [],
   "source": [
    "original_X_train, original_X_test, original_y_train, original_y_test = train_test_split(original_X, original_y, test_size=0.5, random_state=54)\n",
    "mitigated_X_train, mitigated_X_test, mitigated_y_train, mitigated_y_test = train_test_split(mitigated_X, mitigated_y, test_size=0.5, random_state=54)\n"
   ]
  },
  {
   "cell_type": "code",
   "execution_count": 46,
   "metadata": {},
   "outputs": [
    {
     "data": {
      "text/plain": [
       "XGBClassifier(base_score=0.5, booster='gbtree', callbacks=None,\n",
       "              colsample_bylevel=1, colsample_bynode=1, colsample_bytree=1,\n",
       "              early_stopping_rounds=None, enable_categorical=False,\n",
       "              eval_metric=None, feature_types=None, gamma=0, gpu_id=-1,\n",
       "              grow_policy='depthwise', importance_type=None,\n",
       "              interaction_constraints='', learning_rate=0.300000012,\n",
       "              max_bin=256, max_cat_threshold=64, max_cat_to_onehot=4,\n",
       "              max_delta_step=0, max_depth=6, max_leaves=0, min_child_weight=1,\n",
       "              missing=nan, monotone_constraints='()', n_estimators=100,\n",
       "              n_jobs=0, num_parallel_tree=1, predictor='auto', random_state=0, ...)"
      ]
     },
     "execution_count": 46,
     "metadata": {},
     "output_type": "execute_result"
    }
   ],
   "source": [
    "model_original = XGBClassifier()\n",
    "model_original.fit(original_X_train, original_y_train)"
   ]
  },
  {
   "cell_type": "code",
   "execution_count": 47,
   "metadata": {},
   "outputs": [
    {
     "data": {
      "text/plain": [
       "XGBClassifier(base_score=0.5, booster='gbtree', callbacks=None,\n",
       "              colsample_bylevel=1, colsample_bynode=1, colsample_bytree=1,\n",
       "              early_stopping_rounds=None, enable_categorical=False,\n",
       "              eval_metric=None, feature_types=None, gamma=0, gpu_id=-1,\n",
       "              grow_policy='depthwise', importance_type=None,\n",
       "              interaction_constraints='', learning_rate=0.300000012,\n",
       "              max_bin=256, max_cat_threshold=64, max_cat_to_onehot=4,\n",
       "              max_delta_step=0, max_depth=6, max_leaves=0, min_child_weight=1,\n",
       "              missing=nan, monotone_constraints='()', n_estimators=100,\n",
       "              n_jobs=0, num_parallel_tree=1, predictor='auto', random_state=0, ...)"
      ]
     },
     "execution_count": 47,
     "metadata": {},
     "output_type": "execute_result"
    }
   ],
   "source": [
    "model_mitigated = XGBClassifier()\n",
    "model_mitigated.fit(mitigated_X_train, mitigated_y_train)"
   ]
  },
  {
   "cell_type": "code",
   "execution_count": 48,
   "metadata": {},
   "outputs": [],
   "source": [
    "original_y_test['Predicted'] = model_original.predict(original_X_test)\n",
    "mitigated_y_test['Predicted'] = model_mitigated.predict(mitigated_X_test)"
   ]
  },
  {
   "cell_type": "code",
   "execution_count": 49,
   "metadata": {},
   "outputs": [],
   "source": [
    "original_X_test[['label', 'Predicted']] = original_y_test[['label', 'Predicted']]\n",
    "mitigated_X_test[['label', 'Predicted']] = mitigated_y_test[['label', 'Predicted']]\n"
   ]
  },
  {
   "cell_type": "code",
   "execution_count": 50,
   "metadata": {},
   "outputs": [],
   "source": [
    "original_dataset = data.Data(original_X_test, transform=False)\n",
    "mitigated_dataset = data.Data(mitigated_X_test, transform=False)"
   ]
  },
  {
   "cell_type": "code",
   "execution_count": 51,
   "metadata": {},
   "outputs": [
    {
     "name": "stdout",
     "output_type": "stream",
     "text": [
      "Calculating metrics for : sex  the value :  1\n",
      "Calculating metrics for : sex  the value :  0\n",
      "Calculating metrics for : race  the value :  1\n",
      "Calculating metrics for : race  the value :  0\n",
      "Calculating metrics for : age  the value :  1\n",
      "Calculating metrics for : age  the value :  0\n"
     ]
    }
   ],
   "source": [
    "metrics_xgboost_original = original_dataset.fairness_metrics(target_column='label', predicted_column = 'Predicted',\n",
    "                            columns_fair = {'sex' : {'privileged' : 1, 'unprivileged' : 0},\n",
    "                                           'race' : {'privileged' : 1, 'unprivileged' : 0},\n",
    "                                            'age' : {'privileged' : 1, 'unprivileged' : 0}})\n",
    "df_performance_xgboost,df_fairness_xgboost = original_dataset.get_df_metrics(metrics_xgboost_original)"
   ]
  },
  {
   "cell_type": "code",
   "execution_count": 52,
   "metadata": {},
   "outputs": [
    {
     "data": {
      "text/html": [
       "<div>\n",
       "<style scoped>\n",
       "    .dataframe tbody tr th:only-of-type {\n",
       "        vertical-align: middle;\n",
       "    }\n",
       "\n",
       "    .dataframe tbody tr th {\n",
       "        vertical-align: top;\n",
       "    }\n",
       "\n",
       "    .dataframe thead th {\n",
       "        text-align: right;\n",
       "    }\n",
       "</style>\n",
       "<table border=\"1\" class=\"dataframe\">\n",
       "  <thead>\n",
       "    <tr style=\"text-align: right;\">\n",
       "      <th></th>\n",
       "      <th>ACC</th>\n",
       "      <th>TN</th>\n",
       "      <th>FP</th>\n",
       "      <th>FN</th>\n",
       "      <th>TP</th>\n",
       "      <th>TPR</th>\n",
       "      <th>FPR</th>\n",
       "      <th>FNR</th>\n",
       "      <th>PPP</th>\n",
       "    </tr>\n",
       "  </thead>\n",
       "  <tbody>\n",
       "    <tr>\n",
       "      <th>model</th>\n",
       "      <td>0.666161</td>\n",
       "      <td>717.0</td>\n",
       "      <td>502.0</td>\n",
       "      <td>379.0</td>\n",
       "      <td>1041.0</td>\n",
       "      <td>0.733099</td>\n",
       "      <td>0.411813</td>\n",
       "      <td>0.266901</td>\n",
       "      <td>0.584691</td>\n",
       "    </tr>\n",
       "    <tr>\n",
       "      <th>sex_privileged</th>\n",
       "      <td>0.665399</td>\n",
       "      <td>76.0</td>\n",
       "      <td>113.0</td>\n",
       "      <td>63.0</td>\n",
       "      <td>274.0</td>\n",
       "      <td>0.813056</td>\n",
       "      <td>0.597884</td>\n",
       "      <td>0.186944</td>\n",
       "      <td>0.735741</td>\n",
       "    </tr>\n",
       "    <tr>\n",
       "      <th>sex_unprivileged</th>\n",
       "      <td>0.666351</td>\n",
       "      <td>641.0</td>\n",
       "      <td>389.0</td>\n",
       "      <td>316.0</td>\n",
       "      <td>767.0</td>\n",
       "      <td>0.708218</td>\n",
       "      <td>0.377670</td>\n",
       "      <td>0.291782</td>\n",
       "      <td>0.547089</td>\n",
       "    </tr>\n",
       "    <tr>\n",
       "      <th>race_privileged</th>\n",
       "      <td>0.676110</td>\n",
       "      <td>180.0</td>\n",
       "      <td>237.0</td>\n",
       "      <td>106.0</td>\n",
       "      <td>536.0</td>\n",
       "      <td>0.834891</td>\n",
       "      <td>0.568345</td>\n",
       "      <td>0.165109</td>\n",
       "      <td>0.729934</td>\n",
       "    </tr>\n",
       "    <tr>\n",
       "      <th>race_unprivileged</th>\n",
       "      <td>0.659494</td>\n",
       "      <td>537.0</td>\n",
       "      <td>265.0</td>\n",
       "      <td>273.0</td>\n",
       "      <td>505.0</td>\n",
       "      <td>0.649100</td>\n",
       "      <td>0.330424</td>\n",
       "      <td>0.350900</td>\n",
       "      <td>0.487342</td>\n",
       "    </tr>\n",
       "    <tr>\n",
       "      <th>age_privileged</th>\n",
       "      <td>0.673469</td>\n",
       "      <td>417.0</td>\n",
       "      <td>291.0</td>\n",
       "      <td>205.0</td>\n",
       "      <td>606.0</td>\n",
       "      <td>0.747226</td>\n",
       "      <td>0.411017</td>\n",
       "      <td>0.252774</td>\n",
       "      <td>0.590520</td>\n",
       "    </tr>\n",
       "    <tr>\n",
       "      <th>age_unprivileged</th>\n",
       "      <td>0.618887</td>\n",
       "      <td>222.0</td>\n",
       "      <td>114.0</td>\n",
       "      <td>112.0</td>\n",
       "      <td>145.0</td>\n",
       "      <td>0.564202</td>\n",
       "      <td>0.339286</td>\n",
       "      <td>0.435798</td>\n",
       "      <td>0.436762</td>\n",
       "    </tr>\n",
       "  </tbody>\n",
       "</table>\n",
       "</div>"
      ],
      "text/plain": [
       "                        ACC     TN     FP     FN      TP       TPR       FPR  \\\n",
       "model              0.666161  717.0  502.0  379.0  1041.0  0.733099  0.411813   \n",
       "sex_privileged     0.665399   76.0  113.0   63.0   274.0  0.813056  0.597884   \n",
       "sex_unprivileged   0.666351  641.0  389.0  316.0   767.0  0.708218  0.377670   \n",
       "race_privileged    0.676110  180.0  237.0  106.0   536.0  0.834891  0.568345   \n",
       "race_unprivileged  0.659494  537.0  265.0  273.0   505.0  0.649100  0.330424   \n",
       "age_privileged     0.673469  417.0  291.0  205.0   606.0  0.747226  0.411017   \n",
       "age_unprivileged   0.618887  222.0  114.0  112.0   145.0  0.564202  0.339286   \n",
       "\n",
       "                        FNR       PPP  \n",
       "model              0.266901  0.584691  \n",
       "sex_privileged     0.186944  0.735741  \n",
       "sex_unprivileged   0.291782  0.547089  \n",
       "race_privileged    0.165109  0.729934  \n",
       "race_unprivileged  0.350900  0.487342  \n",
       "age_privileged     0.252774  0.590520  \n",
       "age_unprivileged   0.435798  0.436762  "
      ]
     },
     "execution_count": 52,
     "metadata": {},
     "output_type": "execute_result"
    }
   ],
   "source": [
    "df_performance_xgboost"
   ]
  },
  {
   "cell_type": "code",
   "execution_count": 53,
   "metadata": {},
   "outputs": [
    {
     "data": {
      "text/html": [
       "<div>\n",
       "<style scoped>\n",
       "    .dataframe tbody tr th:only-of-type {\n",
       "        vertical-align: middle;\n",
       "    }\n",
       "\n",
       "    .dataframe tbody tr th {\n",
       "        vertical-align: top;\n",
       "    }\n",
       "\n",
       "    .dataframe thead th {\n",
       "        text-align: right;\n",
       "    }\n",
       "</style>\n",
       "<table border=\"1\" class=\"dataframe\">\n",
       "  <thead>\n",
       "    <tr style=\"text-align: right;\">\n",
       "      <th></th>\n",
       "      <th>EOD</th>\n",
       "      <th>DI</th>\n",
       "      <th>SPD</th>\n",
       "      <th>OD</th>\n",
       "    </tr>\n",
       "  </thead>\n",
       "  <tbody>\n",
       "    <tr>\n",
       "      <th>sex_fair_metrics</th>\n",
       "      <td>-0.104838</td>\n",
       "      <td>0.743589</td>\n",
       "      <td>-0.188652</td>\n",
       "      <td>-0.325052</td>\n",
       "    </tr>\n",
       "    <tr>\n",
       "      <th>race_fair_metrics</th>\n",
       "      <td>-0.185791</td>\n",
       "      <td>0.667652</td>\n",
       "      <td>-0.242592</td>\n",
       "      <td>-0.423712</td>\n",
       "    </tr>\n",
       "    <tr>\n",
       "      <th>age_fair_metrics</th>\n",
       "      <td>-0.183023</td>\n",
       "      <td>0.739623</td>\n",
       "      <td>-0.153758</td>\n",
       "      <td>-0.254755</td>\n",
       "    </tr>\n",
       "  </tbody>\n",
       "</table>\n",
       "</div>"
      ],
      "text/plain": [
       "                        EOD        DI       SPD        OD\n",
       "sex_fair_metrics  -0.104838  0.743589 -0.188652 -0.325052\n",
       "race_fair_metrics -0.185791  0.667652 -0.242592 -0.423712\n",
       "age_fair_metrics  -0.183023  0.739623 -0.153758 -0.254755"
      ]
     },
     "execution_count": 53,
     "metadata": {},
     "output_type": "execute_result"
    }
   ],
   "source": [
    "df_fairness_xgboost"
   ]
  },
  {
   "cell_type": "code",
   "execution_count": 54,
   "metadata": {},
   "outputs": [
    {
     "name": "stdout",
     "output_type": "stream",
     "text": [
      "Calculating metrics for : sex  the value :  1\n",
      "Calculating metrics for : sex  the value :  0\n",
      "Calculating metrics for : race  the value :  1\n",
      "Calculating metrics for : race  the value :  0\n",
      "Calculating metrics for : age  the value :  1\n",
      "Calculating metrics for : age  the value :  0\n"
     ]
    }
   ],
   "source": [
    "metrics_xgboost_mitigated_fair_data = mitigated_dataset.fairness_metrics(target_column='label', predicted_column = 'Predicted',\n",
    "                            columns_fair = {'sex' : {'privileged' : 1, 'unprivileged' : 0},\n",
    "                                            'race' : {'privileged' : 1, 'unprivileged' : 0},\n",
    "                                            'age' : {'privileged' : 1, 'unprivileged' : 0}})\n",
    "df_performance_xgboost_mitigated_fair_data,df_fairness_xgboost_mitigated_fair_data = original_dataset.get_df_metrics(metrics_xgboost_mitigated_fair_data)"
   ]
  },
  {
   "cell_type": "code",
   "execution_count": 55,
   "metadata": {},
   "outputs": [
    {
     "data": {
      "text/html": [
       "<div>\n",
       "<style scoped>\n",
       "    .dataframe tbody tr th:only-of-type {\n",
       "        vertical-align: middle;\n",
       "    }\n",
       "\n",
       "    .dataframe tbody tr th {\n",
       "        vertical-align: top;\n",
       "    }\n",
       "\n",
       "    .dataframe thead th {\n",
       "        text-align: right;\n",
       "    }\n",
       "</style>\n",
       "<table border=\"1\" class=\"dataframe\">\n",
       "  <thead>\n",
       "    <tr style=\"text-align: right;\">\n",
       "      <th></th>\n",
       "      <th>ACC</th>\n",
       "      <th>TN</th>\n",
       "      <th>FP</th>\n",
       "      <th>FN</th>\n",
       "      <th>TP</th>\n",
       "      <th>TPR</th>\n",
       "      <th>FPR</th>\n",
       "      <th>FNR</th>\n",
       "      <th>PPP</th>\n",
       "    </tr>\n",
       "  </thead>\n",
       "  <tbody>\n",
       "    <tr>\n",
       "      <th>model</th>\n",
       "      <td>0.635846</td>\n",
       "      <td>332837.0</td>\n",
       "      <td>412012.0</td>\n",
       "      <td>164589.0</td>\n",
       "      <td>673962.0</td>\n",
       "      <td>0.803722</td>\n",
       "      <td>0.553148</td>\n",
       "      <td>0.196278</td>\n",
       "      <td>0.685849</td>\n",
       "    </tr>\n",
       "    <tr>\n",
       "      <th>sex_privileged</th>\n",
       "      <td>0.636322</td>\n",
       "      <td>166179.0</td>\n",
       "      <td>205439.0</td>\n",
       "      <td>82161.0</td>\n",
       "      <td>337031.0</td>\n",
       "      <td>0.804002</td>\n",
       "      <td>0.552823</td>\n",
       "      <td>0.195998</td>\n",
       "      <td>0.685968</td>\n",
       "    </tr>\n",
       "    <tr>\n",
       "      <th>sex_unprivileged</th>\n",
       "      <td>0.635371</td>\n",
       "      <td>166658.0</td>\n",
       "      <td>206573.0</td>\n",
       "      <td>82428.0</td>\n",
       "      <td>336931.0</td>\n",
       "      <td>0.803443</td>\n",
       "      <td>0.553472</td>\n",
       "      <td>0.196557</td>\n",
       "      <td>0.685732</td>\n",
       "    </tr>\n",
       "    <tr>\n",
       "      <th>race_privileged</th>\n",
       "      <td>0.635339</td>\n",
       "      <td>166572.0</td>\n",
       "      <td>206506.0</td>\n",
       "      <td>82384.0</td>\n",
       "      <td>336754.0</td>\n",
       "      <td>0.803444</td>\n",
       "      <td>0.553520</td>\n",
       "      <td>0.196556</td>\n",
       "      <td>0.685747</td>\n",
       "    </tr>\n",
       "    <tr>\n",
       "      <th>race_unprivileged</th>\n",
       "      <td>0.636354</td>\n",
       "      <td>166265.0</td>\n",
       "      <td>205506.0</td>\n",
       "      <td>82205.0</td>\n",
       "      <td>337208.0</td>\n",
       "      <td>0.804000</td>\n",
       "      <td>0.552776</td>\n",
       "      <td>0.196000</td>\n",
       "      <td>0.685952</td>\n",
       "    </tr>\n",
       "    <tr>\n",
       "      <th>age_privileged</th>\n",
       "      <td>0.636027</td>\n",
       "      <td>110501.0</td>\n",
       "      <td>137166.0</td>\n",
       "      <td>54778.0</td>\n",
       "      <td>224913.0</td>\n",
       "      <td>0.804148</td>\n",
       "      <td>0.553832</td>\n",
       "      <td>0.195852</td>\n",
       "      <td>0.686591</td>\n",
       "    </tr>\n",
       "    <tr>\n",
       "      <th>age_unprivileged</th>\n",
       "      <td>0.636457</td>\n",
       "      <td>111480.0</td>\n",
       "      <td>137439.0</td>\n",
       "      <td>54768.0</td>\n",
       "      <td>225018.0</td>\n",
       "      <td>0.804250</td>\n",
       "      <td>0.552143</td>\n",
       "      <td>0.195750</td>\n",
       "      <td>0.685556</td>\n",
       "    </tr>\n",
       "  </tbody>\n",
       "</table>\n",
       "</div>"
      ],
      "text/plain": [
       "                        ACC        TN        FP        FN        TP       TPR  \\\n",
       "model              0.635846  332837.0  412012.0  164589.0  673962.0  0.803722   \n",
       "sex_privileged     0.636322  166179.0  205439.0   82161.0  337031.0  0.804002   \n",
       "sex_unprivileged   0.635371  166658.0  206573.0   82428.0  336931.0  0.803443   \n",
       "race_privileged    0.635339  166572.0  206506.0   82384.0  336754.0  0.803444   \n",
       "race_unprivileged  0.636354  166265.0  205506.0   82205.0  337208.0  0.804000   \n",
       "age_privileged     0.636027  110501.0  137166.0   54778.0  224913.0  0.804148   \n",
       "age_unprivileged   0.636457  111480.0  137439.0   54768.0  225018.0  0.804250   \n",
       "\n",
       "                        FPR       FNR       PPP  \n",
       "model              0.553148  0.196278  0.685849  \n",
       "sex_privileged     0.552823  0.195998  0.685968  \n",
       "sex_unprivileged   0.553472  0.196557  0.685732  \n",
       "race_privileged    0.553520  0.196556  0.685747  \n",
       "race_unprivileged  0.552776  0.196000  0.685952  \n",
       "age_privileged     0.553832  0.195852  0.686591  \n",
       "age_unprivileged   0.552143  0.195750  0.685556  "
      ]
     },
     "execution_count": 55,
     "metadata": {},
     "output_type": "execute_result"
    }
   ],
   "source": [
    "df_performance_xgboost_mitigated_fair_data"
   ]
  },
  {
   "cell_type": "code",
   "execution_count": 56,
   "metadata": {},
   "outputs": [
    {
     "data": {
      "text/html": [
       "<div>\n",
       "<style scoped>\n",
       "    .dataframe tbody tr th:only-of-type {\n",
       "        vertical-align: middle;\n",
       "    }\n",
       "\n",
       "    .dataframe tbody tr th {\n",
       "        vertical-align: top;\n",
       "    }\n",
       "\n",
       "    .dataframe thead th {\n",
       "        text-align: right;\n",
       "    }\n",
       "</style>\n",
       "<table border=\"1\" class=\"dataframe\">\n",
       "  <thead>\n",
       "    <tr style=\"text-align: right;\">\n",
       "      <th></th>\n",
       "      <th>EOD</th>\n",
       "      <th>DI</th>\n",
       "      <th>SPD</th>\n",
       "      <th>OD</th>\n",
       "    </tr>\n",
       "  </thead>\n",
       "  <tbody>\n",
       "    <tr>\n",
       "      <th>sex_fair_metrics</th>\n",
       "      <td>-0.000559</td>\n",
       "      <td>0.999656</td>\n",
       "      <td>-0.000236</td>\n",
       "      <td>0.000091</td>\n",
       "    </tr>\n",
       "    <tr>\n",
       "      <th>race_fair_metrics</th>\n",
       "      <td>0.000556</td>\n",
       "      <td>1.000298</td>\n",
       "      <td>0.000204</td>\n",
       "      <td>-0.000188</td>\n",
       "    </tr>\n",
       "    <tr>\n",
       "      <th>age_fair_metrics</th>\n",
       "      <td>0.000102</td>\n",
       "      <td>0.998494</td>\n",
       "      <td>-0.001034</td>\n",
       "      <td>-0.001587</td>\n",
       "    </tr>\n",
       "  </tbody>\n",
       "</table>\n",
       "</div>"
      ],
      "text/plain": [
       "                        EOD        DI       SPD        OD\n",
       "sex_fair_metrics  -0.000559  0.999656 -0.000236  0.000091\n",
       "race_fair_metrics  0.000556  1.000298  0.000204 -0.000188\n",
       "age_fair_metrics   0.000102  0.998494 -0.001034 -0.001587"
      ]
     },
     "execution_count": 56,
     "metadata": {},
     "output_type": "execute_result"
    }
   ],
   "source": [
    "df_fairness_xgboost_mitigated_fair_data"
   ]
  },
  {
   "cell_type": "code",
   "execution_count": 57,
   "metadata": {},
   "outputs": [
    {
     "name": "stdout",
     "output_type": "stream",
     "text": [
      "Calculating metrics for : sex  the value :  1\n",
      "Calculating metrics for : sex  the value :  0\n",
      "Calculating metrics for : race  the value :  1\n",
      "Calculating metrics for : race  the value :  0\n",
      "Calculating metrics for : age  the value :  1\n",
      "Calculating metrics for : age  the value :  0\n"
     ]
    }
   ],
   "source": [
    "original_y_test['Predicted'] = model_mitigated.predict(original_X_test[['sex', 'race', 'age','priors','charge_degree']])\n",
    "original_X_test[['label', 'Predicted']] = original_y_test[['label', 'Predicted']]\n",
    "original_dataset = data.Data(original_X_test, transform=False)\n",
    "metrics_xgboost_original = original_dataset.fairness_metrics(target_column='label', predicted_column = 'Predicted',\n",
    "                            columns_fair = {'sex' : {'privileged' : 1, 'unprivileged' : 0},\n",
    "                                           'race' : {'privileged' : 1, 'unprivileged' : 0},\n",
    "                                            'age' : {'privileged' : 1, 'unprivileged' : 0}})\n",
    "df_performance_xgboost,df_fairness_xgboost = original_dataset.get_df_metrics(metrics_xgboost_original)"
   ]
  },
  {
   "cell_type": "code",
   "execution_count": 58,
   "metadata": {},
   "outputs": [
    {
     "data": {
      "text/html": [
       "<div>\n",
       "<style scoped>\n",
       "    .dataframe tbody tr th:only-of-type {\n",
       "        vertical-align: middle;\n",
       "    }\n",
       "\n",
       "    .dataframe tbody tr th {\n",
       "        vertical-align: top;\n",
       "    }\n",
       "\n",
       "    .dataframe thead th {\n",
       "        text-align: right;\n",
       "    }\n",
       "</style>\n",
       "<table border=\"1\" class=\"dataframe\">\n",
       "  <thead>\n",
       "    <tr style=\"text-align: right;\">\n",
       "      <th></th>\n",
       "      <th>ACC</th>\n",
       "      <th>TN</th>\n",
       "      <th>FP</th>\n",
       "      <th>FN</th>\n",
       "      <th>TP</th>\n",
       "      <th>TPR</th>\n",
       "      <th>FPR</th>\n",
       "      <th>FNR</th>\n",
       "      <th>PPP</th>\n",
       "    </tr>\n",
       "  </thead>\n",
       "  <tbody>\n",
       "    <tr>\n",
       "      <th>model</th>\n",
       "      <td>0.640394</td>\n",
       "      <td>550.0</td>\n",
       "      <td>669.0</td>\n",
       "      <td>280.0</td>\n",
       "      <td>1140.0</td>\n",
       "      <td>0.802817</td>\n",
       "      <td>0.548811</td>\n",
       "      <td>0.197183</td>\n",
       "      <td>0.685487</td>\n",
       "    </tr>\n",
       "    <tr>\n",
       "      <th>sex_privileged</th>\n",
       "      <td>0.686312</td>\n",
       "      <td>65.0</td>\n",
       "      <td>124.0</td>\n",
       "      <td>41.0</td>\n",
       "      <td>296.0</td>\n",
       "      <td>0.878338</td>\n",
       "      <td>0.656085</td>\n",
       "      <td>0.121662</td>\n",
       "      <td>0.798479</td>\n",
       "    </tr>\n",
       "    <tr>\n",
       "      <th>sex_unprivileged</th>\n",
       "      <td>0.628964</td>\n",
       "      <td>485.0</td>\n",
       "      <td>545.0</td>\n",
       "      <td>239.0</td>\n",
       "      <td>844.0</td>\n",
       "      <td>0.779317</td>\n",
       "      <td>0.529126</td>\n",
       "      <td>0.220683</td>\n",
       "      <td>0.657359</td>\n",
       "    </tr>\n",
       "    <tr>\n",
       "      <th>race_privileged</th>\n",
       "      <td>0.671388</td>\n",
       "      <td>147.0</td>\n",
       "      <td>270.0</td>\n",
       "      <td>78.0</td>\n",
       "      <td>564.0</td>\n",
       "      <td>0.878505</td>\n",
       "      <td>0.647482</td>\n",
       "      <td>0.121495</td>\n",
       "      <td>0.787535</td>\n",
       "    </tr>\n",
       "    <tr>\n",
       "      <th>race_unprivileged</th>\n",
       "      <td>0.619620</td>\n",
       "      <td>403.0</td>\n",
       "      <td>399.0</td>\n",
       "      <td>202.0</td>\n",
       "      <td>576.0</td>\n",
       "      <td>0.740360</td>\n",
       "      <td>0.497506</td>\n",
       "      <td>0.259640</td>\n",
       "      <td>0.617089</td>\n",
       "    </tr>\n",
       "    <tr>\n",
       "      <th>age_privileged</th>\n",
       "      <td>0.676103</td>\n",
       "      <td>403.0</td>\n",
       "      <td>305.0</td>\n",
       "      <td>187.0</td>\n",
       "      <td>624.0</td>\n",
       "      <td>0.769420</td>\n",
       "      <td>0.430791</td>\n",
       "      <td>0.230580</td>\n",
       "      <td>0.611587</td>\n",
       "    </tr>\n",
       "    <tr>\n",
       "      <th>age_unprivileged</th>\n",
       "      <td>0.499157</td>\n",
       "      <td>53.0</td>\n",
       "      <td>283.0</td>\n",
       "      <td>14.0</td>\n",
       "      <td>243.0</td>\n",
       "      <td>0.945525</td>\n",
       "      <td>0.842262</td>\n",
       "      <td>0.054475</td>\n",
       "      <td>0.887015</td>\n",
       "    </tr>\n",
       "  </tbody>\n",
       "</table>\n",
       "</div>"
      ],
      "text/plain": [
       "                        ACC     TN     FP     FN      TP       TPR       FPR  \\\n",
       "model              0.640394  550.0  669.0  280.0  1140.0  0.802817  0.548811   \n",
       "sex_privileged     0.686312   65.0  124.0   41.0   296.0  0.878338  0.656085   \n",
       "sex_unprivileged   0.628964  485.0  545.0  239.0   844.0  0.779317  0.529126   \n",
       "race_privileged    0.671388  147.0  270.0   78.0   564.0  0.878505  0.647482   \n",
       "race_unprivileged  0.619620  403.0  399.0  202.0   576.0  0.740360  0.497506   \n",
       "age_privileged     0.676103  403.0  305.0  187.0   624.0  0.769420  0.430791   \n",
       "age_unprivileged   0.499157   53.0  283.0   14.0   243.0  0.945525  0.842262   \n",
       "\n",
       "                        FNR       PPP  \n",
       "model              0.197183  0.685487  \n",
       "sex_privileged     0.121662  0.798479  \n",
       "sex_unprivileged   0.220683  0.657359  \n",
       "race_privileged    0.121495  0.787535  \n",
       "race_unprivileged  0.259640  0.617089  \n",
       "age_privileged     0.230580  0.611587  \n",
       "age_unprivileged   0.054475  0.887015  "
      ]
     },
     "execution_count": 58,
     "metadata": {},
     "output_type": "execute_result"
    }
   ],
   "source": [
    "df_performance_xgboost"
   ]
  },
  {
   "cell_type": "code",
   "execution_count": 59,
   "metadata": {},
   "outputs": [
    {
     "data": {
      "text/html": [
       "<div>\n",
       "<style scoped>\n",
       "    .dataframe tbody tr th:only-of-type {\n",
       "        vertical-align: middle;\n",
       "    }\n",
       "\n",
       "    .dataframe tbody tr th {\n",
       "        vertical-align: top;\n",
       "    }\n",
       "\n",
       "    .dataframe thead th {\n",
       "        text-align: right;\n",
       "    }\n",
       "</style>\n",
       "<table border=\"1\" class=\"dataframe\">\n",
       "  <thead>\n",
       "    <tr style=\"text-align: right;\">\n",
       "      <th></th>\n",
       "      <th>EOD</th>\n",
       "      <th>DI</th>\n",
       "      <th>SPD</th>\n",
       "      <th>OD</th>\n",
       "    </tr>\n",
       "  </thead>\n",
       "  <tbody>\n",
       "    <tr>\n",
       "      <th>sex_fair_metrics</th>\n",
       "      <td>-0.099022</td>\n",
       "      <td>0.823264</td>\n",
       "      <td>-0.141120</td>\n",
       "      <td>-0.225980</td>\n",
       "    </tr>\n",
       "    <tr>\n",
       "      <th>race_fair_metrics</th>\n",
       "      <td>-0.138145</td>\n",
       "      <td>0.783569</td>\n",
       "      <td>-0.170447</td>\n",
       "      <td>-0.288121</td>\n",
       "    </tr>\n",
       "    <tr>\n",
       "      <th>age_fair_metrics</th>\n",
       "      <td>0.176105</td>\n",
       "      <td>1.450351</td>\n",
       "      <td>0.275429</td>\n",
       "      <td>0.587576</td>\n",
       "    </tr>\n",
       "  </tbody>\n",
       "</table>\n",
       "</div>"
      ],
      "text/plain": [
       "                        EOD        DI       SPD        OD\n",
       "sex_fair_metrics  -0.099022  0.823264 -0.141120 -0.225980\n",
       "race_fair_metrics -0.138145  0.783569 -0.170447 -0.288121\n",
       "age_fair_metrics   0.176105  1.450351  0.275429  0.587576"
      ]
     },
     "execution_count": 59,
     "metadata": {},
     "output_type": "execute_result"
    }
   ],
   "source": [
    "df_fairness_xgboost"
   ]
  },
  {
   "attachments": {},
   "cell_type": "markdown",
   "metadata": {},
   "source": [
    "### Explain Results"
   ]
  },
  {
   "cell_type": "code",
   "execution_count": 63,
   "metadata": {},
   "outputs": [],
   "source": [
    "import shap"
   ]
  },
  {
   "cell_type": "code",
   "execution_count": 64,
   "metadata": {},
   "outputs": [],
   "source": [
    "explainer_original = shap.Explainer(model_original)\n",
    "explainer_mitigated = shap.Explainer(model_mitigated)"
   ]
  },
  {
   "cell_type": "code",
   "execution_count": 65,
   "metadata": {},
   "outputs": [],
   "source": [
    "shap_values_orignal = explainer_original(original_dataset.data[['sex', 'race', 'age','priors','charge_degree']])\n",
    "shap_values_mitigated = explainer_mitigated(original_dataset.data[['sex', 'race', 'age','priors','charge_degree']])"
   ]
  },
  {
   "cell_type": "code",
   "execution_count": 66,
   "metadata": {},
   "outputs": [
    {
     "data": {
      "image/png": "[encoded data removed]",
      "text/plain": [
       "<Figure size 800x350 with 2 Axes>"
      ]
     },
     "metadata": {},
     "output_type": "display_data"
    },
    {
     "data": {
      "image/png": "[encoded data removed]",
      "text/plain": [
       "<Figure size 800x400 with 1 Axes>"
      ]
     },
     "metadata": {},
     "output_type": "display_data"
    }
   ],
   "source": [
    "shap.plots.beeswarm(shap_values_orignal)\n",
    "shap.plots.bar(shap_values_orignal)"
   ]
  },
  {
   "cell_type": "code",
   "execution_count": 67,
   "metadata": {},
   "outputs": [
    {
     "data": {
      "image/png": "[encoded data removed]",
      "text/plain": [
       "<Figure size 800x350 with 2 Axes>"
      ]
     },
     "metadata": {},
     "output_type": "display_data"
    },
    {
     "data": {
      "image/png": "[encoded data removed]",
      "text/plain": [
       "<Figure size 800x400 with 1 Axes>"
      ]
     },
     "metadata": {},
     "output_type": "display_data"
    }
   ],
   "source": [
    "shap.plots.beeswarm(shap_values_mitigated)\n",
    "shap.plots.bar(shap_values_mitigated)"
   ]
  },
  {
   "cell_type": "code",
   "execution_count": 68,
   "metadata": {},
   "outputs": [],
   "source": [
    "shap_values_model_mitigated_dataset = explainer_original(mitigated_dataset.data[['sex', 'race', 'age','priors','charge_degree']])\n",
    "shap_values_mitigated_dataset = explainer_mitigated(mitigated_dataset.data[['sex', 'race', 'age','priors','charge_degree']])"
   ]
  },
  {
   "cell_type": "code",
   "execution_count": 69,
   "metadata": {},
   "outputs": [
    {
     "data": {
      "image/png": "[encoded data removed]",
      "text/plain": [
       "<Figure size 800x350 with 2 Axes>"
      ]
     },
     "metadata": {},
     "output_type": "display_data"
    },
    {
     "data": {
      "image/png": "[encoded data removed]",
      "text/plain": [
       "<Figure size 800x400 with 1 Axes>"
      ]
     },
     "metadata": {},
     "output_type": "display_data"
    }
   ],
   "source": [
    "shap.plots.beeswarm(shap_values_model_mitigated_dataset)\n",
    "shap.plots.bar(shap_values_model_mitigated_dataset)"
   ]
  },
  {
   "cell_type": "code",
   "execution_count": 70,
   "metadata": {},
   "outputs": [
    {
     "data": {
      "image/png": "[encoded data removed]",
      "text/plain": [
       "<Figure size 800x350 with 2 Axes>"
      ]
     },
     "metadata": {},
     "output_type": "display_data"
    },
    {
     "data": {
      "image/png": "[encoded data removed]",
      "text/plain": [
       "<Figure size 800x400 with 1 Axes>"
      ]
     },
     "metadata": {},
     "output_type": "display_data"
    }
   ],
   "source": [
    "shap.plots.beeswarm(shap_values_mitigated_dataset)\n",
    "shap.plots.bar(shap_values_mitigated_dataset)"
   ]
  },
  {
   "cell_type": "code",
   "execution_count": null,
   "metadata": {},
   "outputs": [],
   "source": []
  },
  {
   "attachments": {},
   "cell_type": "markdown",
   "metadata": {},
   "source": [
    "### Test other algorithm"
   ]
  },
  {
   "cell_type": "code",
   "execution_count": 75,
   "metadata": {},
   "outputs": [],
   "source": [
    "import numpy as np\n",
    "from tqdm import tqdm\n",
    "\n",
    "from aif360.datasets import BinaryLabelDataset\n",
    "from aif360.datasets import AdultDataset, GermanDataset, CompasDataset\n",
    "from aif360.metrics import BinaryLabelDatasetMetric\n",
    "from aif360.metrics import ClassificationMetric\n",
    "from aif360.algorithms.preprocessing.reweighing import Reweighing\n",
    "from aif360.algorithms.preprocessing.optim_preproc_helpers.data_preproc_functions\\\n",
    "        import load_preproc_data_adult, load_preproc_data_german, load_preproc_data_compas\n",
    "from sklearn.linear_model import LogisticRegression\n",
    "from sklearn.preprocessing import StandardScaler\n",
    "from sklearn.metrics import accuracy_score\n",
    "from aif360.algorithms.preprocessing.optim_preproc_helpers.distortion_functions import get_distortion_compas\n",
    "from IPython.display import Markdown, display\n",
    "import matplotlib.pyplot as plt\n",
    "from aif360.algorithms.preprocessing.optim_preproc import OptimPreproc\n"
   ]
  },
  {
   "cell_type": "code",
   "execution_count": 76,
   "metadata": {},
   "outputs": [],
   "source": [
    "## import dataset\n",
    "dataset_used = \"compas\" # \"adult\", \"german\", \"compas\"\n",
    "protected_attribute_used = 1 # 1, 2\n",
    "\n",
    "\n",
    "if dataset_used == \"adult\":\n",
    "#     dataset_orig = AdultDataset()\n",
    "    if protected_attribute_used == 1:\n",
    "        privileged_groups = [{'sex': 1}]\n",
    "        unprivileged_groups = [{'sex': 0}]\n",
    "        dataset_orig = load_preproc_data_adult(['sex'])\n",
    "    else:\n",
    "        privileged_groups = [{'race': 1}]\n",
    "        unprivileged_groups = [{'race': 0}]\n",
    "        dataset_orig = load_preproc_data_adult(['race'])\n",
    "    \n",
    "elif dataset_used == \"german\":\n",
    "#     dataset_orig = GermanDataset()\n",
    "    if protected_attribute_used == 1:\n",
    "        privileged_groups = [{'sex': 1}]\n",
    "        unprivileged_groups = [{'sex': 0}]\n",
    "        dataset_orig = load_preproc_data_german(['sex'])\n",
    "    else:\n",
    "        privileged_groups = [{'age': 1}]\n",
    "        unprivileged_groups = [{'age': 0}]\n",
    "        dataset_orig = load_preproc_data_german(['age'])\n",
    "    \n",
    "elif dataset_used == \"compas\":\n",
    "#     dataset_orig = CompasDataset()\n",
    "    if protected_attribute_used == 1:\n",
    "        privileged_groups = [{'sex': 1}]\n",
    "        unprivileged_groups = [{'sex': 0}]\n",
    "        dataset_orig = load_preproc_data_compas(['sex'])\n",
    "    else:\n",
    "        privileged_groups = [{'race': 1}]\n",
    "        unprivileged_groups = [{'race': 0}]\n",
    "        dataset_orig = load_preproc_data_compas(['race'])\n",
    "\n",
    "all_metrics =  [\"Statistical parity difference\",\n",
    "                   \"Average odds difference\",\n",
    "                   \"Equal opportunity difference\"]\n",
    "\n",
    "#random seed for calibrated equal odds prediction\n",
    "np.random.seed(1)"
   ]
  },
  {
   "cell_type": "code",
   "execution_count": 77,
   "metadata": {},
   "outputs": [],
   "source": [
    "dataset_orig_train, dataset_orig_test = dataset_orig.split([0.7], shuffle=True)"
   ]
  },
  {
   "cell_type": "code",
   "execution_count": 78,
   "metadata": {},
   "outputs": [],
   "source": [
    "from aif360.algorithms.preprocessing.optim_preproc_helpers.opt_tools import OptTools"
   ]
  },
  {
   "cell_type": "code",
   "execution_count": 79,
   "metadata": {},
   "outputs": [
    {
     "name": "stdout",
     "output_type": "stream",
     "text": [
      "Optimized Preprocessing: Objective converged to 0.000000\n"
     ]
    }
   ],
   "source": [
    "optim_options = {\n",
    "    \"distortion_fun\": get_distortion_compas,\n",
    "    \"epsilon\": 0.05,\n",
    "    \"clist\": [0.99, 1.99, 2.99],\n",
    "    \"dlist\": [.1, 0.05, 0]\n",
    "}\n",
    "    \n",
    "OP = OptimPreproc(OptTools, optim_options)\n",
    "\n",
    "OP = OP.fit(dataset_orig_train)\n",
    "dataset_transf_train = OP.transform(dataset_orig_train, transform_Y=True)\n",
    "\n",
    "dataset_transf_train = dataset_orig_train.align_datasets(dataset_transf_train)\n",
    "dataset_transf_train = OP.transform(dataset_orig_train, transform_Y=True)\n",
    "\n",
    "dataset_transf_train = dataset_orig_train.align_datasets(dataset_transf_train)"
   ]
  },
  {
   "cell_type": "code",
   "execution_count": 81,
   "metadata": {},
   "outputs": [
    {
     "name": "stdout",
     "output_type": "stream",
     "text": [
      "                    sex      race       age    priors  charge_degree     label\n",
      "sex            1.000000  0.069866 -0.010552 -0.130535       0.063881  0.042685\n",
      "race           0.069866  1.000000  0.193305 -0.188126       0.108924  0.131079\n",
      "age           -0.010552  0.193305  1.000000  0.151533       0.118670  0.170013\n",
      "priors        -0.130535 -0.188126  0.151533  1.000000      -0.152194 -0.298223\n",
      "charge_degree  0.063881  0.108924  0.118670 -0.152194       1.000000  0.127179\n",
      "label          0.042685  0.131079  0.170013 -0.298223       0.127179  1.000000\n"
     ]
    },
    {
     "data": {
      "text/plain": [
       "<AxesSubplot: >"
      ]
     },
     "execution_count": 81,
     "metadata": {},
     "output_type": "execute_result"
    },
    {
     "data": {
      "image/png": "[encoded data removed]",
      "text/plain": [
       "<Figure size 500x500 with 2 Axes>"
      ]
     },
     "metadata": {},
     "output_type": "display_data"
    }
   ],
   "source": [
    "import seaborn as sns\n",
    "sns.set_theme(style=\"white\")\n",
    "\n",
    "# Generate a large random dataset\n",
    "df_train_transf = pd.DataFrame(dataset_transf_train.features,columns = dataset_transf_train.feature_names)\n",
    "\n",
    "df_train_transf['label'] = dataset_transf_train.labels\n",
    "df_train_transf['age'] = df_train_transf.apply(lambda row: 0 if row['age_cat=Less than 25'] == 1 \n",
    "                            else 1 if row['age_cat=25 to 45'] == 1 \n",
    "                            else 2 if row['age_cat=Greater than 45'] == 1\n",
    "                            else None,axis = 1)\n",
    "df_train_transf['priors'] = df_train_transf.apply(lambda row: 0 if row['priors_count=0'] == 1 \n",
    "                                  else 1 if row['priors_count=1 to 3'] == 1 \n",
    "                                  else 2 if row['priors_count=More than 3'] == 1 \n",
    "                                  else None,axis = 1)\n",
    "df_train_transf['charge_degree'] = df_train_transf.apply(lambda row: 0 if row['c_charge_degree=F'] == 1 \n",
    "                                  else 1 if row['c_charge_degree=M'] == 1 \n",
    "                                  else None,axis = 1)\n",
    "#### 1 is good 2 is bad in risk.\n",
    "df_train_transf['label'] = df_train_transf.apply(lambda row: 0 if row['label'] == 1 \n",
    "                            else 1 if row['label'] == 0 \n",
    "                            else None,axis = 1)\n",
    "df_train_transf = df_train_transf[['sex', 'race', 'age','priors','charge_degree','label']]\n",
    "# Compute the correlation matrix\n",
    "corr = df_train_transf.corr()\n",
    "print(corr)\n",
    "# Generate a mask for the upper triangle\n",
    "mask = np.triu(np.ones_like(corr, dtype=bool))\n",
    "\n",
    "# Set up the matplotlib figure\n",
    "f, ax = plt.subplots(figsize=(5, 5))\n",
    "\n",
    "# Generate a custom diverging colormap\n",
    "cmap = sns.diverging_palette(230, 20, as_cmap=True)\n",
    "\n",
    "# Draw the heatmap with the mask and correct aspect ratio\n",
    "sns.heatmap(corr, mask=mask, cmap=cmap, center=0,\n",
    "            square=True, linewidths=.5, cbar_kws={\"shrink\": .5})"
   ]
  },
  {
   "cell_type": "code",
   "execution_count": null,
   "metadata": {},
   "outputs": [],
   "source": []
  },
  {
   "cell_type": "code",
   "execution_count": 82,
   "metadata": {},
   "outputs": [
    {
     "data": {
      "text/plain": [
       "XGBClassifier(base_score=0.5, booster='gbtree', callbacks=None,\n",
       "              colsample_bylevel=1, colsample_bynode=1, colsample_bytree=1,\n",
       "              early_stopping_rounds=None, enable_categorical=False,\n",
       "              eval_metric=None, feature_types=None, gamma=0, gpu_id=-1,\n",
       "              grow_policy='depthwise', importance_type=None,\n",
       "              interaction_constraints='', learning_rate=0.300000012,\n",
       "              max_bin=256, max_cat_threshold=64, max_cat_to_onehot=4,\n",
       "              max_delta_step=0, max_depth=6, max_leaves=0, min_child_weight=1,\n",
       "              missing=nan, monotone_constraints='()', n_estimators=100,\n",
       "              n_jobs=0, num_parallel_tree=1, predictor='auto', random_state=0, ...)"
      ]
     },
     "execution_count": 82,
     "metadata": {},
     "output_type": "execute_result"
    }
   ],
   "source": [
    "model_op = XGBClassifier()\n",
    "model_op.fit( df_train_transf[['sex', 'race', 'age','priors','charge_degree']], df_train_transf['label'])"
   ]
  },
  {
   "cell_type": "code",
   "execution_count": 84,
   "metadata": {},
   "outputs": [],
   "source": [
    "df_test = pd.DataFrame(dataset_orig_test.features,columns = dataset_orig_test.feature_names)\n",
    "\n",
    "df_test['label'] = dataset_orig_test.labels\n",
    "df_test['age'] = df_test.apply(lambda row: 0 if row['age_cat=Less than 25'] == 1 \n",
    "                            else 1 if row['age_cat=25 to 45'] == 1 \n",
    "                            else 2 if row['age_cat=Greater than 45'] == 1\n",
    "                            else None,axis = 1)\n",
    "df_test['priors'] = df_test.apply(lambda row: 0 if row['priors_count=0'] == 1 \n",
    "                                  else 1 if row['priors_count=1 to 3'] == 1 \n",
    "                                  else 2 if row['priors_count=More than 3'] == 1 \n",
    "                                  else None,axis = 1)\n",
    "df_test['charge_degree'] = df_test.apply(lambda row: 0 if row['c_charge_degree=F'] == 1 \n",
    "                                  else 1 if row['c_charge_degree=M'] == 1 \n",
    "                                  else None,axis = 1)\n",
    "#### 1 is good 2 is bad in risk.\n",
    "df_test['label'] = df_test.apply(lambda row: 0 if row['label'] == 1 \n",
    "                            else 1 if row['label'] == 0 \n",
    "                            else None,axis = 1)\n",
    "df_test = df_test[['sex', 'race', 'age','priors','charge_degree','label']]"
   ]
  },
  {
   "cell_type": "code",
   "execution_count": 86,
   "metadata": {},
   "outputs": [],
   "source": [
    "df_test['Predicted'] = model_op.predict(df_test[['sex', 'race', 'age','priors','charge_degree']])\n"
   ]
  },
  {
   "cell_type": "code",
   "execution_count": 87,
   "metadata": {},
   "outputs": [
    {
     "name": "stdout",
     "output_type": "stream",
     "text": [
      "Calculating metrics for : sex  the value :  1\n",
      "Calculating metrics for : sex  the value :  0\n",
      "Calculating metrics for : race  the value :  1\n",
      "Calculating metrics for : race  the value :  0\n"
     ]
    }
   ],
   "source": [
    "op_dataset = data.Data(df_test, transform=False)\n",
    "\n",
    "metrics_xgboost_mitigated_fair_data = op_dataset.fairness_metrics(target_column='label', predicted_column = 'Predicted',\n",
    "                            columns_fair = {'sex' : {'privileged' : 1, 'unprivileged' : 0},\n",
    "                                            'race' : {'privileged' : 1, 'unprivileged' : 0}})\n",
    "df_performance_op,df_fairness_op = op_dataset.get_df_metrics(metrics_xgboost_mitigated_fair_data)"
   ]
  },
  {
   "cell_type": "code",
   "execution_count": 88,
   "metadata": {},
   "outputs": [
    {
     "data": {
      "text/html": [
       "<div>\n",
       "<style scoped>\n",
       "    .dataframe tbody tr th:only-of-type {\n",
       "        vertical-align: middle;\n",
       "    }\n",
       "\n",
       "    .dataframe tbody tr th {\n",
       "        vertical-align: top;\n",
       "    }\n",
       "\n",
       "    .dataframe thead th {\n",
       "        text-align: right;\n",
       "    }\n",
       "</style>\n",
       "<table border=\"1\" class=\"dataframe\">\n",
       "  <thead>\n",
       "    <tr style=\"text-align: right;\">\n",
       "      <th></th>\n",
       "      <th>ACC</th>\n",
       "      <th>TPR</th>\n",
       "      <th>FPR</th>\n",
       "      <th>FNR</th>\n",
       "      <th>PPP</th>\n",
       "    </tr>\n",
       "  </thead>\n",
       "  <tbody>\n",
       "    <tr>\n",
       "      <th>model</th>\n",
       "      <td>0.648359</td>\n",
       "      <td>0.734355</td>\n",
       "      <td>0.435705</td>\n",
       "      <td>0.265645</td>\n",
       "      <td>0.583333</td>\n",
       "    </tr>\n",
       "    <tr>\n",
       "      <th>sex_privileged</th>\n",
       "      <td>0.647249</td>\n",
       "      <td>0.750000</td>\n",
       "      <td>0.530973</td>\n",
       "      <td>0.250000</td>\n",
       "      <td>0.669903</td>\n",
       "    </tr>\n",
       "    <tr>\n",
       "      <th>sex_unprivileged</th>\n",
       "      <td>0.648627</td>\n",
       "      <td>0.729131</td>\n",
       "      <td>0.420058</td>\n",
       "      <td>0.270869</td>\n",
       "      <td>0.562353</td>\n",
       "    </tr>\n",
       "    <tr>\n",
       "      <th>race_privileged</th>\n",
       "      <td>0.675591</td>\n",
       "      <td>0.834688</td>\n",
       "      <td>0.545113</td>\n",
       "      <td>0.165312</td>\n",
       "      <td>0.713386</td>\n",
       "    </tr>\n",
       "    <tr>\n",
       "      <th>race_unprivileged</th>\n",
       "      <td>0.630137</td>\n",
       "      <td>0.644928</td>\n",
       "      <td>0.381308</td>\n",
       "      <td>0.355072</td>\n",
       "      <td>0.496312</td>\n",
       "    </tr>\n",
       "  </tbody>\n",
       "</table>\n",
       "</div>"
      ],
      "text/plain": [
       "                        ACC       TPR       FPR       FNR       PPP\n",
       "model              0.648359  0.734355  0.435705  0.265645  0.583333\n",
       "sex_privileged     0.647249  0.750000  0.530973  0.250000  0.669903\n",
       "sex_unprivileged   0.648627  0.729131  0.420058  0.270869  0.562353\n",
       "race_privileged    0.675591  0.834688  0.545113  0.165312  0.713386\n",
       "race_unprivileged  0.630137  0.644928  0.381308  0.355072  0.496312"
      ]
     },
     "execution_count": 88,
     "metadata": {},
     "output_type": "execute_result"
    }
   ],
   "source": [
    "df_performance_op"
   ]
  },
  {
   "cell_type": "code",
   "execution_count": 89,
   "metadata": {},
   "outputs": [
    {
     "data": {
      "text/html": [
       "<div>\n",
       "<style scoped>\n",
       "    .dataframe tbody tr th:only-of-type {\n",
       "        vertical-align: middle;\n",
       "    }\n",
       "\n",
       "    .dataframe tbody tr th {\n",
       "        vertical-align: top;\n",
       "    }\n",
       "\n",
       "    .dataframe thead th {\n",
       "        text-align: right;\n",
       "    }\n",
       "</style>\n",
       "<table border=\"1\" class=\"dataframe\">\n",
       "  <thead>\n",
       "    <tr style=\"text-align: right;\">\n",
       "      <th></th>\n",
       "      <th>EOD</th>\n",
       "      <th>DI</th>\n",
       "      <th>SPD</th>\n",
       "      <th>OD</th>\n",
       "    </tr>\n",
       "  </thead>\n",
       "  <tbody>\n",
       "    <tr>\n",
       "      <th>sex_fair_metrics</th>\n",
       "      <td>-0.020869</td>\n",
       "      <td>0.839454</td>\n",
       "      <td>-0.107550</td>\n",
       "      <td>-0.131784</td>\n",
       "    </tr>\n",
       "    <tr>\n",
       "      <th>race_fair_metrics</th>\n",
       "      <td>-0.189761</td>\n",
       "      <td>0.695713</td>\n",
       "      <td>-0.217074</td>\n",
       "      <td>-0.353565</td>\n",
       "    </tr>\n",
       "  </tbody>\n",
       "</table>\n",
       "</div>"
      ],
      "text/plain": [
       "                        EOD        DI       SPD        OD\n",
       "sex_fair_metrics  -0.020869  0.839454 -0.107550 -0.131784\n",
       "race_fair_metrics -0.189761  0.695713 -0.217074 -0.353565"
      ]
     },
     "execution_count": 89,
     "metadata": {},
     "output_type": "execute_result"
    }
   ],
   "source": [
    "df_fairness_op"
   ]
  },
  {
   "cell_type": "code",
   "execution_count": 90,
   "metadata": {},
   "outputs": [],
   "source": [
    "explainer_op = shap.Explainer(model_op)\n"
   ]
  },
  {
   "cell_type": "code",
   "execution_count": 92,
   "metadata": {},
   "outputs": [],
   "source": [
    "shap_values_op = explainer_op(df_test[['sex', 'race', 'age','priors','charge_degree']])\n"
   ]
  },
  {
   "cell_type": "code",
   "execution_count": 93,
   "metadata": {},
   "outputs": [
    {
     "data": {
      "image/png": "[encoded data removed]",
      "text/plain": [
       "<Figure size 800x350 with 2 Axes>"
      ]
     },
     "metadata": {},
     "output_type": "display_data"
    },
    {
     "data": {
      "image/png": "[encoded data removed]",
      "text/plain": [
       "<Figure size 800x400 with 1 Axes>"
      ]
     },
     "metadata": {},
     "output_type": "display_data"
    }
   ],
   "source": [
    "shap.plots.beeswarm(shap_values_op)\n",
    "shap.plots.bar(shap_values_op)"
   ]
  },
  {
   "cell_type": "code",
   "execution_count": null,
   "metadata": {},
   "outputs": [],
   "source": []
  }
 ],
 "metadata": {
  "kernelspec": {
   "display_name": "py38",
   "language": "python",
   "name": "python3"
  },
  "language_info": {
   "codemirror_mode": {
    "name": "ipython",
    "version": 3
   },
   "file_extension": ".py",
   "mimetype": "text/x-python",
   "name": "python",
   "nbconvert_exporter": "python",
   "pygments_lexer": "ipython3",
   "version": "3.8.15"
  },
  "orig_nbformat": 4
 },
 "nbformat": 4,
 "nbformat_minor": 2
}
