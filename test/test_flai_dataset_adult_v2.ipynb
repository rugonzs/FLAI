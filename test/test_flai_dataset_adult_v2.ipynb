{
 "cells": [
  {
   "cell_type": "code",
   "execution_count": 1,
   "metadata": {},
   "outputs": [],
   "source": [
    "from FLAI import data\n",
    "from FLAI import causal_graph\n",
    "import pandas as pd\n",
    "\n",
    "import matplotlib.pyplot as plt\n",
    "import seaborn as sns\n"
   ]
  },
  {
   "attachments": {},
   "cell_type": "markdown",
   "metadata": {},
   "source": [
    "## Prepare Data"
   ]
  },
  {
   "cell_type": "code",
   "execution_count": 5,
   "metadata": {},
   "outputs": [
    {
     "data": {
      "text/html": [
       "<div>\n",
       "<style scoped>\n",
       "    .dataframe tbody tr th:only-of-type {\n",
       "        vertical-align: middle;\n",
       "    }\n",
       "\n",
       "    .dataframe tbody tr th {\n",
       "        vertical-align: top;\n",
       "    }\n",
       "\n",
       "    .dataframe thead th {\n",
       "        text-align: right;\n",
       "    }\n",
       "</style>\n",
       "<table border=\"1\" class=\"dataframe\">\n",
       "  <thead>\n",
       "    <tr style=\"text-align: right;\">\n",
       "      <th></th>\n",
       "      <th>race</th>\n",
       "      <th>sex</th>\n",
       "      <th>Age (decade)=10</th>\n",
       "      <th>Age (decade)=20</th>\n",
       "      <th>Age (decade)=30</th>\n",
       "      <th>Age (decade)=40</th>\n",
       "      <th>Age (decade)=50</th>\n",
       "      <th>Age (decade)=60</th>\n",
       "      <th>Age (decade)=&gt;=70</th>\n",
       "      <th>Education Years=6</th>\n",
       "      <th>Education Years=7</th>\n",
       "      <th>Education Years=8</th>\n",
       "      <th>Education Years=9</th>\n",
       "      <th>Education Years=10</th>\n",
       "      <th>Education Years=11</th>\n",
       "      <th>Education Years=12</th>\n",
       "      <th>Education Years=&lt;6</th>\n",
       "      <th>Education Years=&gt;12</th>\n",
       "      <th>label</th>\n",
       "    </tr>\n",
       "  </thead>\n",
       "  <tbody>\n",
       "    <tr>\n",
       "      <th>0</th>\n",
       "      <td>0.0</td>\n",
       "      <td>1.0</td>\n",
       "      <td>0.0</td>\n",
       "      <td>1.0</td>\n",
       "      <td>0.0</td>\n",
       "      <td>0.0</td>\n",
       "      <td>0.0</td>\n",
       "      <td>0.0</td>\n",
       "      <td>0.0</td>\n",
       "      <td>0.0</td>\n",
       "      <td>1.0</td>\n",
       "      <td>0.0</td>\n",
       "      <td>0.0</td>\n",
       "      <td>0.0</td>\n",
       "      <td>0.0</td>\n",
       "      <td>0.0</td>\n",
       "      <td>0.0</td>\n",
       "      <td>0.0</td>\n",
       "      <td>0.0</td>\n",
       "    </tr>\n",
       "    <tr>\n",
       "      <th>1</th>\n",
       "      <td>1.0</td>\n",
       "      <td>1.0</td>\n",
       "      <td>0.0</td>\n",
       "      <td>0.0</td>\n",
       "      <td>1.0</td>\n",
       "      <td>0.0</td>\n",
       "      <td>0.0</td>\n",
       "      <td>0.0</td>\n",
       "      <td>0.0</td>\n",
       "      <td>0.0</td>\n",
       "      <td>0.0</td>\n",
       "      <td>0.0</td>\n",
       "      <td>1.0</td>\n",
       "      <td>0.0</td>\n",
       "      <td>0.0</td>\n",
       "      <td>0.0</td>\n",
       "      <td>0.0</td>\n",
       "      <td>0.0</td>\n",
       "      <td>0.0</td>\n",
       "    </tr>\n",
       "    <tr>\n",
       "      <th>2</th>\n",
       "      <td>1.0</td>\n",
       "      <td>1.0</td>\n",
       "      <td>0.0</td>\n",
       "      <td>1.0</td>\n",
       "      <td>0.0</td>\n",
       "      <td>0.0</td>\n",
       "      <td>0.0</td>\n",
       "      <td>0.0</td>\n",
       "      <td>0.0</td>\n",
       "      <td>0.0</td>\n",
       "      <td>0.0</td>\n",
       "      <td>0.0</td>\n",
       "      <td>0.0</td>\n",
       "      <td>0.0</td>\n",
       "      <td>0.0</td>\n",
       "      <td>1.0</td>\n",
       "      <td>0.0</td>\n",
       "      <td>0.0</td>\n",
       "      <td>1.0</td>\n",
       "    </tr>\n",
       "    <tr>\n",
       "      <th>3</th>\n",
       "      <td>0.0</td>\n",
       "      <td>1.0</td>\n",
       "      <td>0.0</td>\n",
       "      <td>0.0</td>\n",
       "      <td>0.0</td>\n",
       "      <td>1.0</td>\n",
       "      <td>0.0</td>\n",
       "      <td>0.0</td>\n",
       "      <td>0.0</td>\n",
       "      <td>0.0</td>\n",
       "      <td>0.0</td>\n",
       "      <td>0.0</td>\n",
       "      <td>0.0</td>\n",
       "      <td>1.0</td>\n",
       "      <td>0.0</td>\n",
       "      <td>0.0</td>\n",
       "      <td>0.0</td>\n",
       "      <td>0.0</td>\n",
       "      <td>1.0</td>\n",
       "    </tr>\n",
       "    <tr>\n",
       "      <th>4</th>\n",
       "      <td>1.0</td>\n",
       "      <td>0.0</td>\n",
       "      <td>1.0</td>\n",
       "      <td>0.0</td>\n",
       "      <td>0.0</td>\n",
       "      <td>0.0</td>\n",
       "      <td>0.0</td>\n",
       "      <td>0.0</td>\n",
       "      <td>0.0</td>\n",
       "      <td>0.0</td>\n",
       "      <td>0.0</td>\n",
       "      <td>0.0</td>\n",
       "      <td>0.0</td>\n",
       "      <td>1.0</td>\n",
       "      <td>0.0</td>\n",
       "      <td>0.0</td>\n",
       "      <td>0.0</td>\n",
       "      <td>0.0</td>\n",
       "      <td>0.0</td>\n",
       "    </tr>\n",
       "  </tbody>\n",
       "</table>\n",
       "</div>"
      ],
      "text/plain": [
       "   race  sex  Age (decade)=10  Age (decade)=20  Age (decade)=30  \\\n",
       "0   0.0  1.0              0.0              1.0              0.0   \n",
       "1   1.0  1.0              0.0              0.0              1.0   \n",
       "2   1.0  1.0              0.0              1.0              0.0   \n",
       "3   0.0  1.0              0.0              0.0              0.0   \n",
       "4   1.0  0.0              1.0              0.0              0.0   \n",
       "\n",
       "   Age (decade)=40  Age (decade)=50  Age (decade)=60  Age (decade)=>=70  \\\n",
       "0              0.0              0.0              0.0                0.0   \n",
       "1              0.0              0.0              0.0                0.0   \n",
       "2              0.0              0.0              0.0                0.0   \n",
       "3              1.0              0.0              0.0                0.0   \n",
       "4              0.0              0.0              0.0                0.0   \n",
       "\n",
       "   Education Years=6  Education Years=7  Education Years=8  Education Years=9  \\\n",
       "0                0.0                1.0                0.0                0.0   \n",
       "1                0.0                0.0                0.0                1.0   \n",
       "2                0.0                0.0                0.0                0.0   \n",
       "3                0.0                0.0                0.0                0.0   \n",
       "4                0.0                0.0                0.0                0.0   \n",
       "\n",
       "   Education Years=10  Education Years=11  Education Years=12  \\\n",
       "0                 0.0                 0.0                 0.0   \n",
       "1                 0.0                 0.0                 0.0   \n",
       "2                 0.0                 0.0                 1.0   \n",
       "3                 1.0                 0.0                 0.0   \n",
       "4                 1.0                 0.0                 0.0   \n",
       "\n",
       "   Education Years=<6  Education Years=>12  label  \n",
       "0                 0.0                  0.0    0.0  \n",
       "1                 0.0                  0.0    0.0  \n",
       "2                 0.0                  0.0    1.0  \n",
       "3                 0.0                  0.0    1.0  \n",
       "4                 0.0                  0.0    0.0  "
      ]
     },
     "execution_count": 5,
     "metadata": {},
     "output_type": "execute_result"
    }
   ],
   "source": [
    "df = pd.read_pickle('../Data/adult.pickle')\n",
    "df.head(5)"
   ]
  },
  {
   "cell_type": "code",
   "execution_count": 6,
   "metadata": {},
   "outputs": [
    {
     "data": {
      "text/plain": [
       "(48842, 19)"
      ]
     },
     "execution_count": 6,
     "metadata": {},
     "output_type": "execute_result"
    }
   ],
   "source": [
    "df.shape"
   ]
  },
  {
   "cell_type": "code",
   "execution_count": 7,
   "metadata": {},
   "outputs": [
    {
     "data": {
      "text/plain": [
       "Index(['race', 'sex', 'Age (decade)=10', 'Age (decade)=20', 'Age (decade)=30',\n",
       "       'Age (decade)=40', 'Age (decade)=50', 'Age (decade)=60',\n",
       "       'Age (decade)=>=70', 'Education Years=6', 'Education Years=7',\n",
       "       'Education Years=8', 'Education Years=9', 'Education Years=10',\n",
       "       'Education Years=11', 'Education Years=12', 'Education Years=<6',\n",
       "       'Education Years=>12', 'label'],\n",
       "      dtype='object')"
      ]
     },
     "execution_count": 7,
     "metadata": {},
     "output_type": "execute_result"
    }
   ],
   "source": [
    "df.columns"
   ]
  },
  {
   "cell_type": "code",
   "execution_count": 8,
   "metadata": {},
   "outputs": [],
   "source": [
    "df['age'] = df.apply(lambda row: 0 if row['Age (decade)=10'] == 1 \n",
    "                            else 1 if row['Age (decade)=20'] == 1 \n",
    "                            else 2 if row['Age (decade)=30'] == 1\n",
    "                            else 3 if row['Age (decade)=40'] == 1\n",
    "                            else 4 if row['Age (decade)=50'] == 1\n",
    "                            else 5 if row['Age (decade)=60'] == 1\n",
    "                            else 6 if row['Age (decade)=>=70'] == 1\n",
    "                            else None,axis = 1)\n",
    "df['education'] = df.apply(lambda row: 0 if row['Education Years=<6'] == 1 \n",
    "                                  else 1 if row['Education Years=6'] == 1 \n",
    "                                  else 2 if row['Education Years=7'] == 1 \n",
    "                                  else 3 if row['Education Years=8'] == 1 \n",
    "                                  else 4 if row['Education Years=9'] == 1 \n",
    "                                  else 5 if row['Education Years=10'] == 1 \n",
    "                                  else 6 if row['Education Years=11'] == 1 \n",
    "                                  else 7 if row['Education Years=12'] == 1\n",
    "                                  else 8 if row['Education Years=>12'] == 1  \n",
    "                                  else None,axis = 1)"
   ]
  },
  {
   "cell_type": "code",
   "execution_count": 9,
   "metadata": {},
   "outputs": [
    {
     "data": {
      "text/plain": [
       "array([0., 1.])"
      ]
     },
     "execution_count": 9,
     "metadata": {},
     "output_type": "execute_result"
    }
   ],
   "source": [
    "df.label.unique()"
   ]
  },
  {
   "cell_type": "code",
   "execution_count": 10,
   "metadata": {},
   "outputs": [],
   "source": [
    "flai_dataset = data.Data(df[['sex', 'race', 'age','education' ,'label']], transform=True)\n"
   ]
  },
  {
   "cell_type": "code",
   "execution_count": 11,
   "metadata": {},
   "outputs": [
    {
     "data": {
      "text/html": [
       "<div>\n",
       "<style scoped>\n",
       "    .dataframe tbody tr th:only-of-type {\n",
       "        vertical-align: middle;\n",
       "    }\n",
       "\n",
       "    .dataframe tbody tr th {\n",
       "        vertical-align: top;\n",
       "    }\n",
       "\n",
       "    .dataframe thead th {\n",
       "        text-align: right;\n",
       "    }\n",
       "</style>\n",
       "<table border=\"1\" class=\"dataframe\">\n",
       "  <thead>\n",
       "    <tr style=\"text-align: right;\">\n",
       "      <th></th>\n",
       "      <th>sex</th>\n",
       "      <th>race</th>\n",
       "      <th>age</th>\n",
       "      <th>education</th>\n",
       "      <th>label</th>\n",
       "    </tr>\n",
       "  </thead>\n",
       "  <tbody>\n",
       "    <tr>\n",
       "      <th>0</th>\n",
       "      <td>1.0</td>\n",
       "      <td>0.0</td>\n",
       "      <td>1.0</td>\n",
       "      <td>2.0</td>\n",
       "      <td>0.0</td>\n",
       "    </tr>\n",
       "    <tr>\n",
       "      <th>1</th>\n",
       "      <td>1.0</td>\n",
       "      <td>1.0</td>\n",
       "      <td>2.0</td>\n",
       "      <td>4.0</td>\n",
       "      <td>0.0</td>\n",
       "    </tr>\n",
       "    <tr>\n",
       "      <th>2</th>\n",
       "      <td>1.0</td>\n",
       "      <td>1.0</td>\n",
       "      <td>1.0</td>\n",
       "      <td>7.0</td>\n",
       "      <td>1.0</td>\n",
       "    </tr>\n",
       "    <tr>\n",
       "      <th>3</th>\n",
       "      <td>1.0</td>\n",
       "      <td>0.0</td>\n",
       "      <td>3.0</td>\n",
       "      <td>5.0</td>\n",
       "      <td>1.0</td>\n",
       "    </tr>\n",
       "    <tr>\n",
       "      <th>4</th>\n",
       "      <td>0.0</td>\n",
       "      <td>1.0</td>\n",
       "      <td>0.0</td>\n",
       "      <td>5.0</td>\n",
       "      <td>0.0</td>\n",
       "    </tr>\n",
       "  </tbody>\n",
       "</table>\n",
       "</div>"
      ],
      "text/plain": [
       "   sex  race  age  education  label\n",
       "0  1.0   0.0  1.0        2.0    0.0\n",
       "1  1.0   1.0  2.0        4.0    0.0\n",
       "2  1.0   1.0  1.0        7.0    1.0\n",
       "3  1.0   0.0  3.0        5.0    1.0\n",
       "4  0.0   1.0  0.0        5.0    0.0"
      ]
     },
     "execution_count": 11,
     "metadata": {},
     "output_type": "execute_result"
    }
   ],
   "source": [
    "flai_dataset.data.head()"
   ]
  },
  {
   "cell_type": "markdown",
   "metadata": {},
   "source": [
    "## Create Causal Graph"
   ]
  },
  {
   "cell_type": "code",
   "execution_count": 9,
   "metadata": {},
   "outputs": [
    {
     "name": "stdout",
     "output_type": "stream",
     "text": [
      "[bnlearn] >Compute structure scores ['k2', 'bds', 'bic', 'bdeu'] for model comparison (higher is better).\n"
     ]
    }
   ],
   "source": [
    "flai_graph = causal_graph.CausalGraph(flai_dataset, target = 'label')"
   ]
  },
  {
   "cell_type": "code",
   "execution_count": 10,
   "metadata": {},
   "outputs": [
    {
     "data": {
      "image/png": "[encoded data removed]",
      "text/plain": [
       "<Figure size 500x500 with 1 Axes>"
      ]
     },
     "metadata": {},
     "output_type": "display_data"
    }
   ],
   "source": [
    "flai_graph.plot(directed = True)"
   ]
  },
  {
   "cell_type": "code",
   "execution_count": 11,
   "metadata": {},
   "outputs": [],
   "source": [
    "flai_graph.calculate_cpd()"
   ]
  },
  {
   "cell_type": "code",
   "execution_count": 12,
   "metadata": {},
   "outputs": [
    {
     "data": {
      "text/plain": [
       "{'sex': [33.15, 66.85],\n",
       " 'race': [14.5, 85.5],\n",
       " 'age': [5.14, 24.58, 26.47, 21.96, 13.55, 6.25, 2.05],\n",
       " 'label': [76.57, 23.43],\n",
       " 'education': [5.22, 2.84, 3.71, 1.35, 32.32, 22.27, 4.22, 3.28, 24.79]}"
      ]
     },
     "execution_count": 12,
     "metadata": {},
     "output_type": "execute_result"
    }
   ],
   "source": [
    "import numpy as np\n",
    "from pgmpy.inference import VariableElimination\n",
    "infer = VariableElimination(flai_graph.graph['model'])\n",
    "{n : list(np.round(infer.query(variables=[n], evidence={}).values*100,2)) for n in flai_graph.graph['model'].nodes()}"
   ]
  },
  {
   "cell_type": "code",
   "execution_count": 26,
   "metadata": {},
   "outputs": [
    {
     "ename": "NameError",
     "evalue": "name 'flai_graph' is not defined",
     "output_type": "error",
     "traceback": [
      "\u001b[0;31m---------------------------------------------------------------------------\u001b[0m",
      "\u001b[0;31mNameError\u001b[0m                                 Traceback (most recent call last)",
      "\u001b[1;32m/home/rugonzs/phd/FLAI/test/test_flai_dataset_adult_v2.ipynb Cell 15\u001b[0m in \u001b[0;36m2\n\u001b[1;32m      <a href='vscode-notebook-cell://wsl%2Bubuntu-18.04/home/rugonzs/phd/FLAI/test/test_flai_dataset_adult_v2.ipynb#X20sdnNjb2RlLXJlbW90ZQ%3D%3D?line=0'>1</a>\u001b[0m \u001b[39mfrom\u001b[39;00m \u001b[39mpgmpy\u001b[39;00m\u001b[39m.\u001b[39;00m\u001b[39minference\u001b[39;00m \u001b[39mimport\u001b[39;00m VariableElimination\n\u001b[0;32m----> <a href='vscode-notebook-cell://wsl%2Bubuntu-18.04/home/rugonzs/phd/FLAI/test/test_flai_dataset_adult_v2.ipynb#X20sdnNjb2RlLXJlbW90ZQ%3D%3D?line=1'>2</a>\u001b[0m infer \u001b[39m=\u001b[39m VariableElimination(flai_graph\u001b[39m.\u001b[39mgraph[\u001b[39m'\u001b[39m\u001b[39mmodel\u001b[39m\u001b[39m'\u001b[39m])\n\u001b[1;32m      <a href='vscode-notebook-cell://wsl%2Bubuntu-18.04/home/rugonzs/phd/FLAI/test/test_flai_dataset_adult_v2.ipynb#X20sdnNjb2RlLXJlbW90ZQ%3D%3D?line=2'>3</a>\u001b[0m q \u001b[39m=\u001b[39m infer\u001b[39m.\u001b[39mquery(variables\u001b[39m=\u001b[39m[\u001b[39m'\u001b[39m\u001b[39mlabel\u001b[39m\u001b[39m'\u001b[39m], evidence\u001b[39m=\u001b[39m{\n\u001b[1;32m      <a href='vscode-notebook-cell://wsl%2Bubuntu-18.04/home/rugonzs/phd/FLAI/test/test_flai_dataset_adult_v2.ipynb#X20sdnNjb2RlLXJlbW90ZQ%3D%3D?line=3'>4</a>\u001b[0m                                 \u001b[39m'\u001b[39m\u001b[39msex\u001b[39m\u001b[39m'\u001b[39m:\u001b[39m1\u001b[39m})\n\u001b[1;32m      <a href='vscode-notebook-cell://wsl%2Bubuntu-18.04/home/rugonzs/phd/FLAI/test/test_flai_dataset_adult_v2.ipynb#X20sdnNjb2RlLXJlbW90ZQ%3D%3D?line=4'>5</a>\u001b[0m \u001b[39mprint\u001b[39m(q\u001b[39m.\u001b[39mscope())\n",
      "\u001b[0;31mNameError\u001b[0m: name 'flai_graph' is not defined"
     ]
    }
   ],
   "source": [
    "from pgmpy.inference import VariableElimination\n",
    "infer = VariableElimination(flai_graph.graph['model'])\n",
    "q = infer.query(variables=['label'], evidence={\n",
    "                                'sex':1})\n",
    "print(q.scope())\n",
    "print(q.values)\n",
    "from pgmpy.inference import VariableElimination\n",
    "infer = VariableElimination(flai_graph.graph['model'])\n",
    "q = infer.query(variables=['label'], evidence={\n",
    "                                'sex':0})\n",
    "print(q.scope())\n",
    "print(q.values)"
   ]
  },
  {
   "cell_type": "code",
   "execution_count": 14,
   "metadata": {},
   "outputs": [
    {
     "name": "stdout",
     "output_type": "stream",
     "text": [
      "['label']\n",
      "[0.75426588 0.24573412]\n",
      "['label']\n",
      "[0.83289591 0.16710409]\n"
     ]
    }
   ],
   "source": [
    "from pgmpy.inference import VariableElimination\n",
    "infer = VariableElimination(flai_graph.graph['model'])\n",
    "q = infer.query(variables=['label'], evidence={\n",
    "                                'race':1})\n",
    "print(q.scope())\n",
    "print(q.values)\n",
    "from pgmpy.inference import VariableElimination\n",
    "infer = VariableElimination(flai_graph.graph['model'])\n",
    "q = infer.query(variables=['label'], evidence={\n",
    "                                'race':0})\n",
    "print(q.scope())\n",
    "print(q.values)"
   ]
  },
  {
   "cell_type": "code",
   "execution_count": 15,
   "metadata": {},
   "outputs": [
    {
     "name": "stdout",
     "output_type": "stream",
     "text": [
      "[bnlearn]> Remaining columns for inference: 4\n"
     ]
    },
    {
     "name": "stderr",
     "output_type": "stream",
     "text": [
      "100%|██████████| 242/242 [00:00<00:00, 483.95it/s]\n"
     ]
    }
   ],
   "source": [
    "import bnlearn as bn\n",
    "data_pred = flai_dataset.data[list(flai_graph.graph['model'].nodes())]\n",
    "out = bn.predict(flai_graph.graph, data_pred, variables = ['label'])\n",
    "flai_dataset.data['Predicted'] = out.label"
   ]
  },
  {
   "cell_type": "code",
   "execution_count": 16,
   "metadata": {},
   "outputs": [
    {
     "name": "stdout",
     "output_type": "stream",
     "text": [
      "Calculating metrics for : sex  the value :  1\n",
      "Calculating metrics for : sex  the value :  0\n",
      "Calculating metrics for : race  the value :  1\n",
      "Calculating metrics for : race  the value :  0\n"
     ]
    },
    {
     "data": {
      "text/plain": [
       "{'model': {'ACC': 0.8044306129970108,\n",
       "  'TN': 34716,\n",
       "  'FP': 2439,\n",
       "  'FN': 7113,\n",
       "  'TP': 4574,\n",
       "  'TPR': 0.3913750320869342,\n",
       "  'FPR': 0.06564392410173597,\n",
       "  'FNR': 0.6086249679130658,\n",
       "  'PPP': 0.14358543876172147},\n",
       " 'sex': {'privileged': {'ACC': 0.7616232771822359,\n",
       "   'TN': 20293,\n",
       "   'FP': 2439,\n",
       "   'FN': 5344,\n",
       "   'TP': 4574,\n",
       "   'TPR': 0.46118168985682595,\n",
       "   'FPR': 0.1072936829139539,\n",
       "   'FNR': 0.538818310143174,\n",
       "   'PPP': 0.21479326186830014},\n",
       "  'unprivileged': {'ACC': 0.8907485177865613,\n",
       "   'TN': 14423,\n",
       "   'FP': 0,\n",
       "   'FN': 1769,\n",
       "   'TP': 0,\n",
       "   'TPR': 0.0,\n",
       "   'FPR': 0.0,\n",
       "   'FNR': 1.0,\n",
       "   'PPP': 0.0},\n",
       "  'fair_metrics': {'EOD': -0.46118168985682595,\n",
       "   'DI': 0.0,\n",
       "   'SPD': -0.21479326186830014,\n",
       "   'OD': -0.5684753727707799}},\n",
       " 'race': {'privileged': {'ACC': 0.794502179014415,\n",
       "   'TN': 28875,\n",
       "   'FP': 2280,\n",
       "   'FN': 6302,\n",
       "   'TP': 4305,\n",
       "   'TPR': 0.40586405204110493,\n",
       "   'FPR': 0.0731824747231584,\n",
       "   'FNR': 0.594135947958895,\n",
       "   'PPP': 0.1576792299219386},\n",
       "  'unprivileged': {'ACC': 0.8629943502824858,\n",
       "   'TN': 5841,\n",
       "   'FP': 159,\n",
       "   'FN': 811,\n",
       "   'TP': 269,\n",
       "   'TPR': 0.2490740740740741,\n",
       "   'FPR': 0.0265,\n",
       "   'FNR': 0.7509259259259259,\n",
       "   'PPP': 0.060451977401129946},\n",
       "  'fair_metrics': {'EOD': -0.15678997796703084,\n",
       "   'DI': 0.38338579806013495,\n",
       "   'SPD': -0.09722725252080866,\n",
       "   'OD': -0.20347245269018926}}}"
      ]
     },
     "execution_count": 16,
     "metadata": {},
     "output_type": "execute_result"
    }
   ],
   "source": [
    "result_metrics = flai_dataset.fairness_metrics(target_column='label', predicted_column = 'Predicted',\n",
    "                            columns_fair = {'sex' : {'privileged' : 1, 'unprivileged' : 0},\n",
    "                                            'race' : {'privileged' : 1, 'unprivileged' : 0}})\n",
    "result_metrics"
   ]
  },
  {
   "cell_type": "code",
   "execution_count": 17,
   "metadata": {},
   "outputs": [],
   "source": [
    "df_performance,df_fairness = flai_dataset.get_df_metrics(metrics_json=result_metrics)"
   ]
  },
  {
   "cell_type": "code",
   "execution_count": 18,
   "metadata": {},
   "outputs": [
    {
     "data": {
      "text/html": [
       "<div>\n",
       "<style scoped>\n",
       "    .dataframe tbody tr th:only-of-type {\n",
       "        vertical-align: middle;\n",
       "    }\n",
       "\n",
       "    .dataframe tbody tr th {\n",
       "        vertical-align: top;\n",
       "    }\n",
       "\n",
       "    .dataframe thead th {\n",
       "        text-align: right;\n",
       "    }\n",
       "</style>\n",
       "<table border=\"1\" class=\"dataframe\">\n",
       "  <thead>\n",
       "    <tr style=\"text-align: right;\">\n",
       "      <th></th>\n",
       "      <th>ACC</th>\n",
       "      <th>TN</th>\n",
       "      <th>FP</th>\n",
       "      <th>FN</th>\n",
       "      <th>TP</th>\n",
       "      <th>TPR</th>\n",
       "      <th>FPR</th>\n",
       "      <th>FNR</th>\n",
       "      <th>PPP</th>\n",
       "    </tr>\n",
       "  </thead>\n",
       "  <tbody>\n",
       "    <tr>\n",
       "      <th>model</th>\n",
       "      <td>0.804431</td>\n",
       "      <td>34716.0</td>\n",
       "      <td>2439.0</td>\n",
       "      <td>7113.0</td>\n",
       "      <td>4574.0</td>\n",
       "      <td>0.391375</td>\n",
       "      <td>0.065644</td>\n",
       "      <td>0.608625</td>\n",
       "      <td>0.143585</td>\n",
       "    </tr>\n",
       "    <tr>\n",
       "      <th>sex_privileged</th>\n",
       "      <td>0.761623</td>\n",
       "      <td>20293.0</td>\n",
       "      <td>2439.0</td>\n",
       "      <td>5344.0</td>\n",
       "      <td>4574.0</td>\n",
       "      <td>0.461182</td>\n",
       "      <td>0.107294</td>\n",
       "      <td>0.538818</td>\n",
       "      <td>0.214793</td>\n",
       "    </tr>\n",
       "    <tr>\n",
       "      <th>sex_unprivileged</th>\n",
       "      <td>0.890749</td>\n",
       "      <td>14423.0</td>\n",
       "      <td>0.0</td>\n",
       "      <td>1769.0</td>\n",
       "      <td>0.0</td>\n",
       "      <td>0.000000</td>\n",
       "      <td>0.000000</td>\n",
       "      <td>1.000000</td>\n",
       "      <td>0.000000</td>\n",
       "    </tr>\n",
       "    <tr>\n",
       "      <th>race_privileged</th>\n",
       "      <td>0.794502</td>\n",
       "      <td>28875.0</td>\n",
       "      <td>2280.0</td>\n",
       "      <td>6302.0</td>\n",
       "      <td>4305.0</td>\n",
       "      <td>0.405864</td>\n",
       "      <td>0.073182</td>\n",
       "      <td>0.594136</td>\n",
       "      <td>0.157679</td>\n",
       "    </tr>\n",
       "    <tr>\n",
       "      <th>race_unprivileged</th>\n",
       "      <td>0.862994</td>\n",
       "      <td>5841.0</td>\n",
       "      <td>159.0</td>\n",
       "      <td>811.0</td>\n",
       "      <td>269.0</td>\n",
       "      <td>0.249074</td>\n",
       "      <td>0.026500</td>\n",
       "      <td>0.750926</td>\n",
       "      <td>0.060452</td>\n",
       "    </tr>\n",
       "  </tbody>\n",
       "</table>\n",
       "</div>"
      ],
      "text/plain": [
       "                        ACC       TN      FP      FN      TP       TPR  \\\n",
       "model              0.804431  34716.0  2439.0  7113.0  4574.0  0.391375   \n",
       "sex_privileged     0.761623  20293.0  2439.0  5344.0  4574.0  0.461182   \n",
       "sex_unprivileged   0.890749  14423.0     0.0  1769.0     0.0  0.000000   \n",
       "race_privileged    0.794502  28875.0  2280.0  6302.0  4305.0  0.405864   \n",
       "race_unprivileged  0.862994   5841.0   159.0   811.0   269.0  0.249074   \n",
       "\n",
       "                        FPR       FNR       PPP  \n",
       "model              0.065644  0.608625  0.143585  \n",
       "sex_privileged     0.107294  0.538818  0.214793  \n",
       "sex_unprivileged   0.000000  1.000000  0.000000  \n",
       "race_privileged    0.073182  0.594136  0.157679  \n",
       "race_unprivileged  0.026500  0.750926  0.060452  "
      ]
     },
     "execution_count": 18,
     "metadata": {},
     "output_type": "execute_result"
    }
   ],
   "source": [
    "df_performance"
   ]
  },
  {
   "cell_type": "code",
   "execution_count": 19,
   "metadata": {},
   "outputs": [
    {
     "data": {
      "text/html": [
       "<div>\n",
       "<style scoped>\n",
       "    .dataframe tbody tr th:only-of-type {\n",
       "        vertical-align: middle;\n",
       "    }\n",
       "\n",
       "    .dataframe tbody tr th {\n",
       "        vertical-align: top;\n",
       "    }\n",
       "\n",
       "    .dataframe thead th {\n",
       "        text-align: right;\n",
       "    }\n",
       "</style>\n",
       "<table border=\"1\" class=\"dataframe\">\n",
       "  <thead>\n",
       "    <tr style=\"text-align: right;\">\n",
       "      <th></th>\n",
       "      <th>EOD</th>\n",
       "      <th>DI</th>\n",
       "      <th>SPD</th>\n",
       "      <th>OD</th>\n",
       "    </tr>\n",
       "  </thead>\n",
       "  <tbody>\n",
       "    <tr>\n",
       "      <th>sex_fair_metrics</th>\n",
       "      <td>-0.461182</td>\n",
       "      <td>0.000000</td>\n",
       "      <td>-0.214793</td>\n",
       "      <td>-0.568475</td>\n",
       "    </tr>\n",
       "    <tr>\n",
       "      <th>race_fair_metrics</th>\n",
       "      <td>-0.156790</td>\n",
       "      <td>0.383386</td>\n",
       "      <td>-0.097227</td>\n",
       "      <td>-0.203472</td>\n",
       "    </tr>\n",
       "  </tbody>\n",
       "</table>\n",
       "</div>"
      ],
      "text/plain": [
       "                        EOD        DI       SPD        OD\n",
       "sex_fair_metrics  -0.461182  0.000000 -0.214793 -0.568475\n",
       "race_fair_metrics -0.156790  0.383386 -0.097227 -0.203472"
      ]
     },
     "execution_count": 19,
     "metadata": {},
     "output_type": "execute_result"
    }
   ],
   "source": [
    "df_fairness"
   ]
  },
  {
   "attachments": {},
   "cell_type": "markdown",
   "metadata": {},
   "source": [
    "## Mitigate Causal Graph"
   ]
  },
  {
   "cell_type": "code",
   "execution_count": 20,
   "metadata": {},
   "outputs": [
    {
     "data": {
      "text/plain": [
       "[('sex', 'label'),\n",
       " ('race', 'label'),\n",
       " ('age', 'label'),\n",
       " ('age', 'education'),\n",
       " ('education', 'label'),\n",
       " ('sex', 'education'),\n",
       " ('race', 'education')]"
      ]
     },
     "execution_count": 20,
     "metadata": {},
     "output_type": "execute_result"
    }
   ],
   "source": [
    "flai_graph.mitigate_edge_relation(sensible_feature=['sex','race'])"
   ]
  },
  {
   "cell_type": "code",
   "execution_count": 21,
   "metadata": {},
   "outputs": [
    {
     "data": {
      "image/png": "[encoded data removed]",
      "text/plain": [
       "<Figure size 500x500 with 1 Axes>"
      ]
     },
     "metadata": {},
     "output_type": "display_data"
    }
   ],
   "source": [
    "flai_graph.plot(directed = True)"
   ]
  },
  {
   "cell_type": "code",
   "execution_count": 22,
   "metadata": {},
   "outputs": [],
   "source": [
    "flai_graph.mitigate_calculation_cpd(sensible_feature = ['sex','race'])\n"
   ]
  },
  {
   "cell_type": "code",
   "execution_count": 23,
   "metadata": {},
   "outputs": [
    {
     "data": {
      "text/plain": [
       "{'sex': [50.0, 50.0],\n",
       " 'label': [76.07, 23.93],\n",
       " 'race': [50.0, 50.0],\n",
       " 'age': [5.14, 24.58, 26.47, 21.96, 13.55, 6.25, 2.05],\n",
       " 'education': [5.22, 2.84, 3.71, 1.35, 32.32, 22.27, 4.22, 3.28, 24.79]}"
      ]
     },
     "execution_count": 23,
     "metadata": {},
     "output_type": "execute_result"
    }
   ],
   "source": [
    "import numpy as np\n",
    "from pgmpy.inference import VariableElimination\n",
    "infer = VariableElimination(flai_graph.graph['model'])\n",
    "{n : list(np.round(infer.query(variables=[n], evidence={}).values*100,2)) for n in flai_graph.graph['model'].nodes()}"
   ]
  },
  {
   "cell_type": "code",
   "execution_count": 24,
   "metadata": {},
   "outputs": [
    {
     "name": "stdout",
     "output_type": "stream",
     "text": [
      "['label']\n",
      "[0.76071823 0.23928177]\n",
      "['label']\n",
      "[0.76071823 0.23928177]\n"
     ]
    }
   ],
   "source": [
    "from pgmpy.inference import VariableElimination\n",
    "infer = VariableElimination(flai_graph.graph['model'])\n",
    "q = infer.query(variables=['label'], evidence={\n",
    "                                'sex':1})\n",
    "print(q.scope())\n",
    "print(q.values)\n",
    "from pgmpy.inference import VariableElimination\n",
    "infer = VariableElimination(flai_graph.graph['model'])\n",
    "q = infer.query(variables=['label'], evidence={\n",
    "                                'sex':0})\n",
    "print(q.scope())\n",
    "print(q.values)"
   ]
  },
  {
   "cell_type": "code",
   "execution_count": 25,
   "metadata": {},
   "outputs": [
    {
     "name": "stdout",
     "output_type": "stream",
     "text": [
      "['label']\n",
      "[0.76071823 0.23928177]\n",
      "['label']\n",
      "[0.76071823 0.23928177]\n"
     ]
    }
   ],
   "source": [
    "from pgmpy.inference import VariableElimination\n",
    "infer = VariableElimination(flai_graph.graph['model'])\n",
    "q = infer.query(variables=['label'], evidence={\n",
    "                                'race':1})\n",
    "print(q.scope())\n",
    "print(q.values)\n",
    "from pgmpy.inference import VariableElimination\n",
    "infer = VariableElimination(flai_graph.graph['model'])\n",
    "q = infer.query(variables=['label'], evidence={\n",
    "                                'race':0})\n",
    "print(q.scope())\n",
    "print(q.values)"
   ]
  },
  {
   "cell_type": "code",
   "execution_count": 26,
   "metadata": {},
   "outputs": [
    {
     "name": "stdout",
     "output_type": "stream",
     "text": [
      "[bnlearn]> Remaining columns for inference: 4\n"
     ]
    },
    {
     "name": "stderr",
     "output_type": "stream",
     "text": [
      "100%|██████████| 242/242 [00:00<00:00, 499.09it/s]\n"
     ]
    }
   ],
   "source": [
    "import bnlearn as bn\n",
    "data_pred = flai_dataset.data[list(flai_graph.graph['model'].nodes())]\n",
    "out = bn.predict(flai_graph.graph, data_pred, variables = ['label'])\n",
    "flai_dataset.data['Predicted'] = out.label"
   ]
  },
  {
   "cell_type": "code",
   "execution_count": 27,
   "metadata": {},
   "outputs": [
    {
     "name": "stdout",
     "output_type": "stream",
     "text": [
      "Calculating metrics for : sex  the value :  1\n",
      "Calculating metrics for : sex  the value :  0\n",
      "Calculating metrics for : race  the value :  1\n",
      "Calculating metrics for : race  the value :  0\n"
     ]
    },
    {
     "data": {
      "text/plain": [
       "{'model': {'ACC': 0.78770320625691,\n",
       "  'TN': 34832,\n",
       "  'FP': 2323,\n",
       "  'FN': 8046,\n",
       "  'TP': 3641,\n",
       "  'TPR': 0.31154273979635494,\n",
       "  'FPR': 0.0625218678508949,\n",
       "  'FNR': 0.6884572602036451,\n",
       "  'PPP': 0.1221080217845297},\n",
       " 'sex': {'privileged': {'ACC': 0.7495558958652374,\n",
       "   'TN': 21332,\n",
       "   'FP': 1400,\n",
       "   'FN': 6777,\n",
       "   'TP': 3141,\n",
       "   'TPR': 0.31669691470054445,\n",
       "   'FPR': 0.06158718986450818,\n",
       "   'FNR': 0.6833030852994555,\n",
       "   'PPP': 0.1390811638591118},\n",
       "  'unprivileged': {'ACC': 0.8646245059288538,\n",
       "   'TN': 13500,\n",
       "   'FP': 923,\n",
       "   'FN': 1269,\n",
       "   'TP': 500,\n",
       "   'TPR': 0.2826455624646693,\n",
       "   'FPR': 0.06399500797337586,\n",
       "   'FNR': 0.7173544375353307,\n",
       "   'PPP': 0.08788290513833992},\n",
       "  'fair_metrics': {'EOD': -0.03405135223587513,\n",
       "   'DI': 0.6318821521177711,\n",
       "   'SPD': -0.05119825872077187,\n",
       "   'OD': -0.031643534127007454}},\n",
       " 'race': {'privileged': {'ACC': 0.7770461184809156,\n",
       "   'TN': 29138,\n",
       "   'FP': 2017,\n",
       "   'FN': 7294,\n",
       "   'TP': 3313,\n",
       "   'TPR': 0.31234090694824174,\n",
       "   'FPR': 0.06474081206868881,\n",
       "   'FNR': 0.6876590930517583,\n",
       "   'PPP': 0.12762798716536564},\n",
       "  'unprivileged': {'ACC': 0.8505649717514124,\n",
       "   'TN': 5694,\n",
       "   'FP': 306,\n",
       "   'FN': 752,\n",
       "   'TP': 328,\n",
       "   'TPR': 0.3037037037037037,\n",
       "   'FPR': 0.051,\n",
       "   'FNR': 0.6962962962962963,\n",
       "   'PPP': 0.08954802259887006},\n",
       "  'fair_metrics': {'EOD': -0.008637203244538039,\n",
       "   'DI': 0.701633118156475,\n",
       "   'SPD': -0.03807996456649558,\n",
       "   'OD': -0.022378015313226855}}}"
      ]
     },
     "execution_count": 27,
     "metadata": {},
     "output_type": "execute_result"
    }
   ],
   "source": [
    "result_metrics_mitigated = flai_dataset.fairness_metrics(target_column='label', predicted_column = 'Predicted',\n",
    "                            columns_fair = {'sex' : {'privileged' : 1, 'unprivileged' : 0},\n",
    "                                            'race' : {'privileged' : 1, 'unprivileged' : 0}})\n",
    "result_metrics_mitigated"
   ]
  },
  {
   "cell_type": "code",
   "execution_count": 28,
   "metadata": {},
   "outputs": [],
   "source": [
    "df_performance_mitigated,df_fairness_mitigated = flai_dataset.get_df_metrics(metrics_json=result_metrics_mitigated)"
   ]
  },
  {
   "cell_type": "code",
   "execution_count": 29,
   "metadata": {},
   "outputs": [
    {
     "data": {
      "text/html": [
       "<div>\n",
       "<style scoped>\n",
       "    .dataframe tbody tr th:only-of-type {\n",
       "        vertical-align: middle;\n",
       "    }\n",
       "\n",
       "    .dataframe tbody tr th {\n",
       "        vertical-align: top;\n",
       "    }\n",
       "\n",
       "    .dataframe thead th {\n",
       "        text-align: right;\n",
       "    }\n",
       "</style>\n",
       "<table border=\"1\" class=\"dataframe\">\n",
       "  <thead>\n",
       "    <tr style=\"text-align: right;\">\n",
       "      <th></th>\n",
       "      <th>ACC</th>\n",
       "      <th>TN</th>\n",
       "      <th>FP</th>\n",
       "      <th>FN</th>\n",
       "      <th>TP</th>\n",
       "      <th>TPR</th>\n",
       "      <th>FPR</th>\n",
       "      <th>FNR</th>\n",
       "      <th>PPP</th>\n",
       "    </tr>\n",
       "  </thead>\n",
       "  <tbody>\n",
       "    <tr>\n",
       "      <th>model</th>\n",
       "      <td>0.787703</td>\n",
       "      <td>34832.0</td>\n",
       "      <td>2323.0</td>\n",
       "      <td>8046.0</td>\n",
       "      <td>3641.0</td>\n",
       "      <td>0.311543</td>\n",
       "      <td>0.062522</td>\n",
       "      <td>0.688457</td>\n",
       "      <td>0.122108</td>\n",
       "    </tr>\n",
       "    <tr>\n",
       "      <th>sex_privileged</th>\n",
       "      <td>0.749556</td>\n",
       "      <td>21332.0</td>\n",
       "      <td>1400.0</td>\n",
       "      <td>6777.0</td>\n",
       "      <td>3141.0</td>\n",
       "      <td>0.316697</td>\n",
       "      <td>0.061587</td>\n",
       "      <td>0.683303</td>\n",
       "      <td>0.139081</td>\n",
       "    </tr>\n",
       "    <tr>\n",
       "      <th>sex_unprivileged</th>\n",
       "      <td>0.864625</td>\n",
       "      <td>13500.0</td>\n",
       "      <td>923.0</td>\n",
       "      <td>1269.0</td>\n",
       "      <td>500.0</td>\n",
       "      <td>0.282646</td>\n",
       "      <td>0.063995</td>\n",
       "      <td>0.717354</td>\n",
       "      <td>0.087883</td>\n",
       "    </tr>\n",
       "    <tr>\n",
       "      <th>race_privileged</th>\n",
       "      <td>0.777046</td>\n",
       "      <td>29138.0</td>\n",
       "      <td>2017.0</td>\n",
       "      <td>7294.0</td>\n",
       "      <td>3313.0</td>\n",
       "      <td>0.312341</td>\n",
       "      <td>0.064741</td>\n",
       "      <td>0.687659</td>\n",
       "      <td>0.127628</td>\n",
       "    </tr>\n",
       "    <tr>\n",
       "      <th>race_unprivileged</th>\n",
       "      <td>0.850565</td>\n",
       "      <td>5694.0</td>\n",
       "      <td>306.0</td>\n",
       "      <td>752.0</td>\n",
       "      <td>328.0</td>\n",
       "      <td>0.303704</td>\n",
       "      <td>0.051000</td>\n",
       "      <td>0.696296</td>\n",
       "      <td>0.089548</td>\n",
       "    </tr>\n",
       "  </tbody>\n",
       "</table>\n",
       "</div>"
      ],
      "text/plain": [
       "                        ACC       TN      FP      FN      TP       TPR  \\\n",
       "model              0.787703  34832.0  2323.0  8046.0  3641.0  0.311543   \n",
       "sex_privileged     0.749556  21332.0  1400.0  6777.0  3141.0  0.316697   \n",
       "sex_unprivileged   0.864625  13500.0   923.0  1269.0   500.0  0.282646   \n",
       "race_privileged    0.777046  29138.0  2017.0  7294.0  3313.0  0.312341   \n",
       "race_unprivileged  0.850565   5694.0   306.0   752.0   328.0  0.303704   \n",
       "\n",
       "                        FPR       FNR       PPP  \n",
       "model              0.062522  0.688457  0.122108  \n",
       "sex_privileged     0.061587  0.683303  0.139081  \n",
       "sex_unprivileged   0.063995  0.717354  0.087883  \n",
       "race_privileged    0.064741  0.687659  0.127628  \n",
       "race_unprivileged  0.051000  0.696296  0.089548  "
      ]
     },
     "execution_count": 29,
     "metadata": {},
     "output_type": "execute_result"
    }
   ],
   "source": [
    "df_performance_mitigated"
   ]
  },
  {
   "cell_type": "code",
   "execution_count": 30,
   "metadata": {},
   "outputs": [
    {
     "data": {
      "text/html": [
       "<div>\n",
       "<style scoped>\n",
       "    .dataframe tbody tr th:only-of-type {\n",
       "        vertical-align: middle;\n",
       "    }\n",
       "\n",
       "    .dataframe tbody tr th {\n",
       "        vertical-align: top;\n",
       "    }\n",
       "\n",
       "    .dataframe thead th {\n",
       "        text-align: right;\n",
       "    }\n",
       "</style>\n",
       "<table border=\"1\" class=\"dataframe\">\n",
       "  <thead>\n",
       "    <tr style=\"text-align: right;\">\n",
       "      <th></th>\n",
       "      <th>EOD</th>\n",
       "      <th>DI</th>\n",
       "      <th>SPD</th>\n",
       "      <th>OD</th>\n",
       "    </tr>\n",
       "  </thead>\n",
       "  <tbody>\n",
       "    <tr>\n",
       "      <th>sex_fair_metrics</th>\n",
       "      <td>-0.034051</td>\n",
       "      <td>0.631882</td>\n",
       "      <td>-0.051198</td>\n",
       "      <td>-0.031644</td>\n",
       "    </tr>\n",
       "    <tr>\n",
       "      <th>race_fair_metrics</th>\n",
       "      <td>-0.008637</td>\n",
       "      <td>0.701633</td>\n",
       "      <td>-0.038080</td>\n",
       "      <td>-0.022378</td>\n",
       "    </tr>\n",
       "  </tbody>\n",
       "</table>\n",
       "</div>"
      ],
      "text/plain": [
       "                        EOD        DI       SPD        OD\n",
       "sex_fair_metrics  -0.034051  0.631882 -0.051198 -0.031644\n",
       "race_fair_metrics -0.008637  0.701633 -0.038080 -0.022378"
      ]
     },
     "execution_count": 30,
     "metadata": {},
     "output_type": "execute_result"
    }
   ],
   "source": [
    "df_fairness_mitigated"
   ]
  },
  {
   "cell_type": "code",
   "execution_count": 31,
   "metadata": {},
   "outputs": [],
   "source": [
    "fair_data = flai_graph.generate_dataset(n_samples = 100*len(flai_dataset.data), methodtype = 'bayes')"
   ]
  },
  {
   "cell_type": "code",
   "execution_count": 83,
   "metadata": {},
   "outputs": [
    {
     "name": "stdout",
     "output_type": "stream",
     "text": [
      "                sex      race       age  education     label  Predicted\n",
      "sex        1.000000  0.101034  0.087670   0.004188  0.214628   0.073614\n",
      "race       0.101034  1.000000  0.030696   0.048834  0.083710   0.040947\n",
      "age        0.087670  0.030696  1.000000   0.029309  0.226896   0.301805\n",
      "education  0.004188  0.048834  0.029309   1.000000  0.319691   0.504102\n",
      "label      0.214628  0.083710  0.226896   0.319691  1.000000   0.324496\n",
      "Predicted  0.073614  0.040947  0.301805   0.504102  0.324496   1.000000\n"
     ]
    },
    {
     "data": {
      "text/plain": [
       "<AxesSubplot: >"
      ]
     },
     "execution_count": 83,
     "metadata": {},
     "output_type": "execute_result"
    },
    {
     "data": {
      "image/png": "[encoded data removed]",
      "text/plain": [
       "<Figure size 500x500 with 2 Axes>"
      ]
     },
     "metadata": {},
     "output_type": "display_data"
    }
   ],
   "source": [
    "# Compute the correlation matrix\n",
    "corr = flai_dataset.data.corr()\n",
    "print(corr)\n",
    "# Generate a mask for the upper triangle\n",
    "mask = np.triu(np.ones_like(corr, dtype=bool))\n",
    "\n",
    "# Set up the matplotlib figure\n",
    "f, ax = plt.subplots(figsize=(5, 5))\n",
    "\n",
    "# Generate a custom diverging colormap\n",
    "cmap = sns.diverging_palette(230, 20, as_cmap=True)\n",
    "\n",
    "# Draw the heatmap with the mask and correct aspect ratio\n",
    "sns.heatmap(corr, mask=mask, cmap=cmap, center=0,\n",
    "            square=True, linewidths=.5, cbar_kws={\"shrink\": .5})"
   ]
  },
  {
   "cell_type": "code",
   "execution_count": 32,
   "metadata": {},
   "outputs": [
    {
     "name": "stdout",
     "output_type": "stream",
     "text": [
      "                sex     label      race       age  education\n",
      "sex        1.000000 -0.000095  0.000504 -0.000531   0.000220\n",
      "label     -0.000095  1.000000 -0.000327  0.226693   0.319303\n",
      "race       0.000504 -0.000327  1.000000  0.000382  -0.000788\n",
      "age       -0.000531  0.226693  0.000382  1.000000   0.029076\n",
      "education  0.000220  0.319303 -0.000788  0.029076   1.000000\n"
     ]
    },
    {
     "data": {
      "text/plain": [
       "<AxesSubplot: >"
      ]
     },
     "execution_count": 32,
     "metadata": {},
     "output_type": "execute_result"
    },
    {
     "data": {
      "image/png": "[encoded data removed]",
      "text/plain": [
       "<Figure size 500x500 with 2 Axes>"
      ]
     },
     "metadata": {},
     "output_type": "display_data"
    }
   ],
   "source": [
    "# Compute the correlation matrix\n",
    "corr = fair_data.data.corr()\n",
    "print(corr)\n",
    "# Generate a mask for the upper triangle\n",
    "mask = np.triu(np.ones_like(corr, dtype=bool))\n",
    "\n",
    "# Set up the matplotlib figure\n",
    "f, ax = plt.subplots(figsize=(5, 5))\n",
    "\n",
    "# Generate a custom diverging colormap\n",
    "cmap = sns.diverging_palette(230, 20, as_cmap=True)\n",
    "\n",
    "# Draw the heatmap with the mask and correct aspect ratio\n",
    "sns.heatmap(corr, mask=mask, cmap=cmap, center=0,\n",
    "            square=True, linewidths=.5, cbar_kws={\"shrink\": .5})"
   ]
  },
  {
   "cell_type": "code",
   "execution_count": 33,
   "metadata": {},
   "outputs": [
    {
     "name": "stdout",
     "output_type": "stream",
     "text": [
      "[bnlearn]> Remaining columns for inference: 4\n"
     ]
    },
    {
     "name": "stderr",
     "output_type": "stream",
     "text": [
      "100%|██████████| 252/252 [00:10<00:00, 22.94it/s]\n"
     ]
    }
   ],
   "source": [
    "import bnlearn as bn\n",
    "data_pred = fair_data.data[list(flai_graph.graph['model'].nodes())]\n",
    "out = bn.predict(flai_graph.graph, data_pred, variables = ['label'])\n",
    "fair_data.data['Predicted'] = out.label"
   ]
  },
  {
   "cell_type": "code",
   "execution_count": 34,
   "metadata": {},
   "outputs": [
    {
     "name": "stdout",
     "output_type": "stream",
     "text": [
      "Calculating metrics for : sex  the value :  1\n",
      "Calculating metrics for : sex  the value :  0\n",
      "Calculating metrics for : race  the value :  1\n",
      "Calculating metrics for : race  the value :  0\n"
     ]
    },
    {
     "data": {
      "text/plain": [
       "{'model': {'ACC': 0.7877144670570411,\n",
       "  'TN': 3483734,\n",
       "  'FP': 232169,\n",
       "  'FN': 804676,\n",
       "  'TP': 363621,\n",
       "  'TPR': 0.31124020689944426,\n",
       "  'FPR': 0.06247983330027721,\n",
       "  'FNR': 0.6887597931005558,\n",
       "  'PPP': 0.12198312927398551},\n",
       " 'sex': {'privileged': {'ACC': 0.787769900565267,\n",
       "   'TN': 1741560,\n",
       "   'FP': 116035,\n",
       "   'FN': 402125,\n",
       "   'TP': 181781,\n",
       "   'TPR': 0.3113189451726819,\n",
       "   'FPR': 0.06246517674735343,\n",
       "   'FNR': 0.6886810548273181,\n",
       "   'PPP': 0.12198069957784166},\n",
       "  'unprivileged': {'ACC': 0.7876590607356863,\n",
       "   'TN': 1742174,\n",
       "   'FP': 116134,\n",
       "   'FN': 402551,\n",
       "   'TP': 181840,\n",
       "   'TPR': 0.3111615339729736,\n",
       "   'FPR': 0.062494484229740174,\n",
       "   'FNR': 0.6888384660270265,\n",
       "   'PPP': 0.12198555777850648},\n",
       "  'fair_metrics': {'EOD': -0.00015741119970830164,\n",
       "   'DI': 1.000039827617661,\n",
       "   'SPD': 4.8582006648145715e-06,\n",
       "   'OD': -0.00012810371732156073}},\n",
       " 'race': {'privileged': {'ACC': 0.7879736666845409,\n",
       "   'TN': 1742875,\n",
       "   'FP': 116093,\n",
       "   'FN': 401885,\n",
       "   'TP': 182136,\n",
       "   'TPR': 0.3118654979872299,\n",
       "   'FPR': 0.06245024120910096,\n",
       "   'FNR': 0.68813450201277,\n",
       "   'PPP': 0.12207545756448351},\n",
       "  'unprivileged': {'ACC': 0.7874550786474418,\n",
       "   'TN': 1740859,\n",
       "   'FP': 116076,\n",
       "   'FN': 402791,\n",
       "   'TP': 181485,\n",
       "   'TPR': 0.31061518871218396,\n",
       "   'FPR': 0.06250945778931412,\n",
       "   'FNR': 0.689384811287816,\n",
       "   'PPP': 0.12189073373829629},\n",
       "  'fair_metrics': {'EOD': -0.0012503092750459355,\n",
       "   'DI': 0.998486806194524,\n",
       "   'SPD': -0.0001847238261872275,\n",
       "   'OD': -0.0011910926948327794}}}"
      ]
     },
     "execution_count": 34,
     "metadata": {},
     "output_type": "execute_result"
    }
   ],
   "source": [
    "result_metrics_mitigated_fair_data = fair_data.fairness_metrics(target_column='label', predicted_column = 'Predicted',\n",
    "                            columns_fair = {'sex' : {'privileged' : 1, 'unprivileged' : 0},\n",
    "                                            'race' : {'privileged' : 1, 'unprivileged' : 0}})\n",
    "result_metrics_mitigated_fair_data"
   ]
  },
  {
   "cell_type": "code",
   "execution_count": 35,
   "metadata": {},
   "outputs": [],
   "source": [
    "df_performance_mitigated_fair_data, df_fairness_mitigated_fair_data = fair_data.get_df_metrics(result_metrics_mitigated_fair_data)"
   ]
  },
  {
   "cell_type": "code",
   "execution_count": 36,
   "metadata": {},
   "outputs": [
    {
     "data": {
      "text/html": [
       "<div>\n",
       "<style scoped>\n",
       "    .dataframe tbody tr th:only-of-type {\n",
       "        vertical-align: middle;\n",
       "    }\n",
       "\n",
       "    .dataframe tbody tr th {\n",
       "        vertical-align: top;\n",
       "    }\n",
       "\n",
       "    .dataframe thead th {\n",
       "        text-align: right;\n",
       "    }\n",
       "</style>\n",
       "<table border=\"1\" class=\"dataframe\">\n",
       "  <thead>\n",
       "    <tr style=\"text-align: right;\">\n",
       "      <th></th>\n",
       "      <th>ACC</th>\n",
       "      <th>TN</th>\n",
       "      <th>FP</th>\n",
       "      <th>FN</th>\n",
       "      <th>TP</th>\n",
       "      <th>TPR</th>\n",
       "      <th>FPR</th>\n",
       "      <th>FNR</th>\n",
       "      <th>PPP</th>\n",
       "    </tr>\n",
       "  </thead>\n",
       "  <tbody>\n",
       "    <tr>\n",
       "      <th>model</th>\n",
       "      <td>0.787714</td>\n",
       "      <td>3483734.0</td>\n",
       "      <td>232169.0</td>\n",
       "      <td>804676.0</td>\n",
       "      <td>363621.0</td>\n",
       "      <td>0.311240</td>\n",
       "      <td>0.062480</td>\n",
       "      <td>0.688760</td>\n",
       "      <td>0.121983</td>\n",
       "    </tr>\n",
       "    <tr>\n",
       "      <th>sex_privileged</th>\n",
       "      <td>0.787770</td>\n",
       "      <td>1741560.0</td>\n",
       "      <td>116035.0</td>\n",
       "      <td>402125.0</td>\n",
       "      <td>181781.0</td>\n",
       "      <td>0.311319</td>\n",
       "      <td>0.062465</td>\n",
       "      <td>0.688681</td>\n",
       "      <td>0.121981</td>\n",
       "    </tr>\n",
       "    <tr>\n",
       "      <th>sex_unprivileged</th>\n",
       "      <td>0.787659</td>\n",
       "      <td>1742174.0</td>\n",
       "      <td>116134.0</td>\n",
       "      <td>402551.0</td>\n",
       "      <td>181840.0</td>\n",
       "      <td>0.311162</td>\n",
       "      <td>0.062494</td>\n",
       "      <td>0.688838</td>\n",
       "      <td>0.121986</td>\n",
       "    </tr>\n",
       "    <tr>\n",
       "      <th>race_privileged</th>\n",
       "      <td>0.787974</td>\n",
       "      <td>1742875.0</td>\n",
       "      <td>116093.0</td>\n",
       "      <td>401885.0</td>\n",
       "      <td>182136.0</td>\n",
       "      <td>0.311865</td>\n",
       "      <td>0.062450</td>\n",
       "      <td>0.688135</td>\n",
       "      <td>0.122075</td>\n",
       "    </tr>\n",
       "    <tr>\n",
       "      <th>race_unprivileged</th>\n",
       "      <td>0.787455</td>\n",
       "      <td>1740859.0</td>\n",
       "      <td>116076.0</td>\n",
       "      <td>402791.0</td>\n",
       "      <td>181485.0</td>\n",
       "      <td>0.310615</td>\n",
       "      <td>0.062509</td>\n",
       "      <td>0.689385</td>\n",
       "      <td>0.121891</td>\n",
       "    </tr>\n",
       "  </tbody>\n",
       "</table>\n",
       "</div>"
      ],
      "text/plain": [
       "                        ACC         TN        FP        FN        TP  \\\n",
       "model              0.787714  3483734.0  232169.0  804676.0  363621.0   \n",
       "sex_privileged     0.787770  1741560.0  116035.0  402125.0  181781.0   \n",
       "sex_unprivileged   0.787659  1742174.0  116134.0  402551.0  181840.0   \n",
       "race_privileged    0.787974  1742875.0  116093.0  401885.0  182136.0   \n",
       "race_unprivileged  0.787455  1740859.0  116076.0  402791.0  181485.0   \n",
       "\n",
       "                        TPR       FPR       FNR       PPP  \n",
       "model              0.311240  0.062480  0.688760  0.121983  \n",
       "sex_privileged     0.311319  0.062465  0.688681  0.121981  \n",
       "sex_unprivileged   0.311162  0.062494  0.688838  0.121986  \n",
       "race_privileged    0.311865  0.062450  0.688135  0.122075  \n",
       "race_unprivileged  0.310615  0.062509  0.689385  0.121891  "
      ]
     },
     "execution_count": 36,
     "metadata": {},
     "output_type": "execute_result"
    }
   ],
   "source": [
    "df_performance_mitigated_fair_data"
   ]
  },
  {
   "cell_type": "code",
   "execution_count": 37,
   "metadata": {},
   "outputs": [
    {
     "data": {
      "text/html": [
       "<div>\n",
       "<style scoped>\n",
       "    .dataframe tbody tr th:only-of-type {\n",
       "        vertical-align: middle;\n",
       "    }\n",
       "\n",
       "    .dataframe tbody tr th {\n",
       "        vertical-align: top;\n",
       "    }\n",
       "\n",
       "    .dataframe thead th {\n",
       "        text-align: right;\n",
       "    }\n",
       "</style>\n",
       "<table border=\"1\" class=\"dataframe\">\n",
       "  <thead>\n",
       "    <tr style=\"text-align: right;\">\n",
       "      <th></th>\n",
       "      <th>EOD</th>\n",
       "      <th>DI</th>\n",
       "      <th>SPD</th>\n",
       "      <th>OD</th>\n",
       "    </tr>\n",
       "  </thead>\n",
       "  <tbody>\n",
       "    <tr>\n",
       "      <th>sex_fair_metrics</th>\n",
       "      <td>-0.000157</td>\n",
       "      <td>1.000040</td>\n",
       "      <td>0.000005</td>\n",
       "      <td>-0.000128</td>\n",
       "    </tr>\n",
       "    <tr>\n",
       "      <th>race_fair_metrics</th>\n",
       "      <td>-0.001250</td>\n",
       "      <td>0.998487</td>\n",
       "      <td>-0.000185</td>\n",
       "      <td>-0.001191</td>\n",
       "    </tr>\n",
       "  </tbody>\n",
       "</table>\n",
       "</div>"
      ],
      "text/plain": [
       "                        EOD        DI       SPD        OD\n",
       "sex_fair_metrics  -0.000157  1.000040  0.000005 -0.000128\n",
       "race_fair_metrics -0.001250  0.998487 -0.000185 -0.001191"
      ]
     },
     "execution_count": 37,
     "metadata": {},
     "output_type": "execute_result"
    }
   ],
   "source": [
    "df_fairness_mitigated_fair_data"
   ]
  },
  {
   "attachments": {},
   "cell_type": "markdown",
   "metadata": {},
   "source": [
    "## Train Algorithm"
   ]
  },
  {
   "cell_type": "code",
   "execution_count": 38,
   "metadata": {},
   "outputs": [],
   "source": [
    "from numpy import loadtxt\n",
    "from xgboost import XGBClassifier\n",
    "from sklearn.model_selection import train_test_split\n",
    "from sklearn.metrics import accuracy_score"
   ]
  },
  {
   "cell_type": "code",
   "execution_count": 39,
   "metadata": {},
   "outputs": [],
   "source": [
    "original_X = flai_dataset.data[['sex', 'race', 'age','education']]\n",
    "original_y = flai_dataset.data[['label']]\n",
    "mitigated_X = fair_data.data[['sex', 'race', 'age','education']]\n",
    "mitigated_y = fair_data.data[['label']]\n"
   ]
  },
  {
   "cell_type": "code",
   "execution_count": 40,
   "metadata": {},
   "outputs": [],
   "source": [
    "original_X_train, original_X_test, original_y_train, original_y_test = train_test_split(original_X, original_y, test_size=0.5, random_state=54)\n",
    "mitigated_X_train, mitigated_X_test, mitigated_y_train, mitigated_y_test = train_test_split(mitigated_X, mitigated_y, test_size=0.5, random_state=54)\n"
   ]
  },
  {
   "cell_type": "code",
   "execution_count": 41,
   "metadata": {},
   "outputs": [
    {
     "data": {
      "text/plain": [
       "XGBClassifier(base_score=0.5, booster='gbtree', callbacks=None,\n",
       "              colsample_bylevel=1, colsample_bynode=1, colsample_bytree=1,\n",
       "              early_stopping_rounds=None, enable_categorical=False,\n",
       "              eval_metric=None, feature_types=None, gamma=0, gpu_id=-1,\n",
       "              grow_policy='depthwise', importance_type=None,\n",
       "              interaction_constraints='', learning_rate=0.300000012,\n",
       "              max_bin=256, max_cat_threshold=64, max_cat_to_onehot=4,\n",
       "              max_delta_step=0, max_depth=6, max_leaves=0, min_child_weight=1,\n",
       "              missing=nan, monotone_constraints='()', n_estimators=100,\n",
       "              n_jobs=0, num_parallel_tree=1, predictor='auto', random_state=0, ...)"
      ]
     },
     "execution_count": 41,
     "metadata": {},
     "output_type": "execute_result"
    }
   ],
   "source": [
    "model_original = XGBClassifier()\n",
    "model_original.fit(original_X_train, original_y_train)"
   ]
  },
  {
   "cell_type": "code",
   "execution_count": 42,
   "metadata": {},
   "outputs": [
    {
     "data": {
      "text/plain": [
       "XGBClassifier(base_score=0.5, booster='gbtree', callbacks=None,\n",
       "              colsample_bylevel=1, colsample_bynode=1, colsample_bytree=1,\n",
       "              early_stopping_rounds=None, enable_categorical=False,\n",
       "              eval_metric=None, feature_types=None, gamma=0, gpu_id=-1,\n",
       "              grow_policy='depthwise', importance_type=None,\n",
       "              interaction_constraints='', learning_rate=0.300000012,\n",
       "              max_bin=256, max_cat_threshold=64, max_cat_to_onehot=4,\n",
       "              max_delta_step=0, max_depth=6, max_leaves=0, min_child_weight=1,\n",
       "              missing=nan, monotone_constraints='()', n_estimators=100,\n",
       "              n_jobs=0, num_parallel_tree=1, predictor='auto', random_state=0, ...)"
      ]
     },
     "execution_count": 42,
     "metadata": {},
     "output_type": "execute_result"
    }
   ],
   "source": [
    "model_mitigated = XGBClassifier()\n",
    "model_mitigated.fit(mitigated_X_train, mitigated_y_train)"
   ]
  },
  {
   "cell_type": "code",
   "execution_count": 43,
   "metadata": {},
   "outputs": [],
   "source": [
    "original_y_test['Predicted'] = model_original.predict(original_X_test)\n",
    "mitigated_y_test['Predicted'] = model_mitigated.predict(mitigated_X_test)"
   ]
  },
  {
   "cell_type": "code",
   "execution_count": 44,
   "metadata": {},
   "outputs": [],
   "source": [
    "original_X_test[['label', 'Predicted']] = original_y_test[['label', 'Predicted']]\n",
    "mitigated_X_test[['label', 'Predicted']] = mitigated_y_test[['label', 'Predicted']]\n"
   ]
  },
  {
   "cell_type": "code",
   "execution_count": 45,
   "metadata": {},
   "outputs": [],
   "source": [
    "original_dataset = data.Data(original_X_test, transform=False)\n",
    "mitigated_dataset = data.Data(mitigated_X_test, transform=False)"
   ]
  },
  {
   "cell_type": "code",
   "execution_count": 46,
   "metadata": {},
   "outputs": [
    {
     "name": "stdout",
     "output_type": "stream",
     "text": [
      "Calculating metrics for : sex  the value :  1\n",
      "Calculating metrics for : sex  the value :  0\n",
      "Calculating metrics for : race  the value :  1\n",
      "Calculating metrics for : race  the value :  0\n"
     ]
    }
   ],
   "source": [
    "metrics_xgboost_original = original_dataset.fairness_metrics(target_column='label', predicted_column = 'Predicted',\n",
    "                            columns_fair = {'sex' : {'privileged' : 1, 'unprivileged' : 0},\n",
    "                                           'race' : {'privileged' : 1, 'unprivileged' : 0}})\n",
    "df_performance_xgboost,df_fairness_xgboost = original_dataset.get_df_metrics(metrics_xgboost_original)"
   ]
  },
  {
   "cell_type": "code",
   "execution_count": 47,
   "metadata": {},
   "outputs": [
    {
     "data": {
      "text/html": [
       "<div>\n",
       "<style scoped>\n",
       "    .dataframe tbody tr th:only-of-type {\n",
       "        vertical-align: middle;\n",
       "    }\n",
       "\n",
       "    .dataframe tbody tr th {\n",
       "        vertical-align: top;\n",
       "    }\n",
       "\n",
       "    .dataframe thead th {\n",
       "        text-align: right;\n",
       "    }\n",
       "</style>\n",
       "<table border=\"1\" class=\"dataframe\">\n",
       "  <thead>\n",
       "    <tr style=\"text-align: right;\">\n",
       "      <th></th>\n",
       "      <th>ACC</th>\n",
       "      <th>TN</th>\n",
       "      <th>FP</th>\n",
       "      <th>FN</th>\n",
       "      <th>TP</th>\n",
       "      <th>TPR</th>\n",
       "      <th>FPR</th>\n",
       "      <th>FNR</th>\n",
       "      <th>PPP</th>\n",
       "    </tr>\n",
       "  </thead>\n",
       "  <tbody>\n",
       "    <tr>\n",
       "      <th>model</th>\n",
       "      <td>0.804021</td>\n",
       "      <td>17210.0</td>\n",
       "      <td>1386.0</td>\n",
       "      <td>3400.0</td>\n",
       "      <td>2425.0</td>\n",
       "      <td>0.416309</td>\n",
       "      <td>0.074532</td>\n",
       "      <td>0.583691</td>\n",
       "      <td>0.156054</td>\n",
       "    </tr>\n",
       "    <tr>\n",
       "      <th>sex_privileged</th>\n",
       "      <td>0.760823</td>\n",
       "      <td>10035.0</td>\n",
       "      <td>1386.0</td>\n",
       "      <td>2531.0</td>\n",
       "      <td>2425.0</td>\n",
       "      <td>0.489306</td>\n",
       "      <td>0.121355</td>\n",
       "      <td>0.510694</td>\n",
       "      <td>0.232704</td>\n",
       "    </tr>\n",
       "    <tr>\n",
       "      <th>sex_unprivileged</th>\n",
       "      <td>0.891969</td>\n",
       "      <td>7175.0</td>\n",
       "      <td>0.0</td>\n",
       "      <td>869.0</td>\n",
       "      <td>0.0</td>\n",
       "      <td>0.000000</td>\n",
       "      <td>0.000000</td>\n",
       "      <td>1.000000</td>\n",
       "      <td>0.000000</td>\n",
       "    </tr>\n",
       "    <tr>\n",
       "      <th>race_privileged</th>\n",
       "      <td>0.794092</td>\n",
       "      <td>14338.0</td>\n",
       "      <td>1315.0</td>\n",
       "      <td>3000.0</td>\n",
       "      <td>2303.0</td>\n",
       "      <td>0.434282</td>\n",
       "      <td>0.084009</td>\n",
       "      <td>0.565718</td>\n",
       "      <td>0.172647</td>\n",
       "    </tr>\n",
       "    <tr>\n",
       "      <th>race_unprivileged</th>\n",
       "      <td>0.864069</td>\n",
       "      <td>2872.0</td>\n",
       "      <td>71.0</td>\n",
       "      <td>400.0</td>\n",
       "      <td>122.0</td>\n",
       "      <td>0.233716</td>\n",
       "      <td>0.024125</td>\n",
       "      <td>0.766284</td>\n",
       "      <td>0.055700</td>\n",
       "    </tr>\n",
       "  </tbody>\n",
       "</table>\n",
       "</div>"
      ],
      "text/plain": [
       "                        ACC       TN      FP      FN      TP       TPR  \\\n",
       "model              0.804021  17210.0  1386.0  3400.0  2425.0  0.416309   \n",
       "sex_privileged     0.760823  10035.0  1386.0  2531.0  2425.0  0.489306   \n",
       "sex_unprivileged   0.891969   7175.0     0.0   869.0     0.0  0.000000   \n",
       "race_privileged    0.794092  14338.0  1315.0  3000.0  2303.0  0.434282   \n",
       "race_unprivileged  0.864069   2872.0    71.0   400.0   122.0  0.233716   \n",
       "\n",
       "                        FPR       FNR       PPP  \n",
       "model              0.074532  0.583691  0.156054  \n",
       "sex_privileged     0.121355  0.510694  0.232704  \n",
       "sex_unprivileged   0.000000  1.000000  0.000000  \n",
       "race_privileged    0.084009  0.565718  0.172647  \n",
       "race_unprivileged  0.024125  0.766284  0.055700  "
      ]
     },
     "execution_count": 47,
     "metadata": {},
     "output_type": "execute_result"
    }
   ],
   "source": [
    "df_performance_xgboost"
   ]
  },
  {
   "cell_type": "code",
   "execution_count": 48,
   "metadata": {},
   "outputs": [
    {
     "data": {
      "text/html": [
       "<div>\n",
       "<style scoped>\n",
       "    .dataframe tbody tr th:only-of-type {\n",
       "        vertical-align: middle;\n",
       "    }\n",
       "\n",
       "    .dataframe tbody tr th {\n",
       "        vertical-align: top;\n",
       "    }\n",
       "\n",
       "    .dataframe thead th {\n",
       "        text-align: right;\n",
       "    }\n",
       "</style>\n",
       "<table border=\"1\" class=\"dataframe\">\n",
       "  <thead>\n",
       "    <tr style=\"text-align: right;\">\n",
       "      <th></th>\n",
       "      <th>EOD</th>\n",
       "      <th>DI</th>\n",
       "      <th>SPD</th>\n",
       "      <th>OD</th>\n",
       "    </tr>\n",
       "  </thead>\n",
       "  <tbody>\n",
       "    <tr>\n",
       "      <th>sex_fair_metrics</th>\n",
       "      <td>-0.489306</td>\n",
       "      <td>0.000000</td>\n",
       "      <td>-0.232704</td>\n",
       "      <td>-0.610661</td>\n",
       "    </tr>\n",
       "    <tr>\n",
       "      <th>race_fair_metrics</th>\n",
       "      <td>-0.200566</td>\n",
       "      <td>0.322622</td>\n",
       "      <td>-0.116948</td>\n",
       "      <td>-0.260450</td>\n",
       "    </tr>\n",
       "  </tbody>\n",
       "</table>\n",
       "</div>"
      ],
      "text/plain": [
       "                        EOD        DI       SPD        OD\n",
       "sex_fair_metrics  -0.489306  0.000000 -0.232704 -0.610661\n",
       "race_fair_metrics -0.200566  0.322622 -0.116948 -0.260450"
      ]
     },
     "execution_count": 48,
     "metadata": {},
     "output_type": "execute_result"
    }
   ],
   "source": [
    "df_fairness_xgboost"
   ]
  },
  {
   "cell_type": "code",
   "execution_count": 49,
   "metadata": {},
   "outputs": [
    {
     "name": "stdout",
     "output_type": "stream",
     "text": [
      "Calculating metrics for : sex  the value :  1\n",
      "Calculating metrics for : sex  the value :  0\n",
      "Calculating metrics for : race  the value :  1\n",
      "Calculating metrics for : race  the value :  0\n"
     ]
    }
   ],
   "source": [
    "metrics_xgboost_mitigated_fair_data = mitigated_dataset.fairness_metrics(target_column='label', predicted_column = 'Predicted',\n",
    "                            columns_fair = {'sex' : {'privileged' : 1, 'unprivileged' : 0},\n",
    "                                            'race' : {'privileged' : 1, 'unprivileged' : 0}})\n",
    "df_performance_xgboost_mitigated_fair_data,df_fairness_xgboost_mitigated_fair_data = original_dataset.get_df_metrics(metrics_xgboost_mitigated_fair_data)"
   ]
  },
  {
   "cell_type": "code",
   "execution_count": 50,
   "metadata": {},
   "outputs": [
    {
     "data": {
      "text/html": [
       "<div>\n",
       "<style scoped>\n",
       "    .dataframe tbody tr th:only-of-type {\n",
       "        vertical-align: middle;\n",
       "    }\n",
       "\n",
       "    .dataframe tbody tr th {\n",
       "        vertical-align: top;\n",
       "    }\n",
       "\n",
       "    .dataframe thead th {\n",
       "        text-align: right;\n",
       "    }\n",
       "</style>\n",
       "<table border=\"1\" class=\"dataframe\">\n",
       "  <thead>\n",
       "    <tr style=\"text-align: right;\">\n",
       "      <th></th>\n",
       "      <th>ACC</th>\n",
       "      <th>TN</th>\n",
       "      <th>FP</th>\n",
       "      <th>FN</th>\n",
       "      <th>TP</th>\n",
       "      <th>TPR</th>\n",
       "      <th>FPR</th>\n",
       "      <th>FNR</th>\n",
       "      <th>PPP</th>\n",
       "    </tr>\n",
       "  </thead>\n",
       "  <tbody>\n",
       "    <tr>\n",
       "      <th>model</th>\n",
       "      <td>0.787653</td>\n",
       "      <td>1741840.0</td>\n",
       "      <td>116319.0</td>\n",
       "      <td>402254.0</td>\n",
       "      <td>181687.0</td>\n",
       "      <td>0.311139</td>\n",
       "      <td>0.062599</td>\n",
       "      <td>0.688861</td>\n",
       "      <td>0.122029</td>\n",
       "    </tr>\n",
       "    <tr>\n",
       "      <th>sex_privileged</th>\n",
       "      <td>0.787784</td>\n",
       "      <td>871254.0</td>\n",
       "      <td>58225.0</td>\n",
       "      <td>200933.0</td>\n",
       "      <td>90785.0</td>\n",
       "      <td>0.311208</td>\n",
       "      <td>0.062643</td>\n",
       "      <td>0.688792</td>\n",
       "      <td>0.122020</td>\n",
       "    </tr>\n",
       "    <tr>\n",
       "      <th>sex_unprivileged</th>\n",
       "      <td>0.787522</td>\n",
       "      <td>870586.0</td>\n",
       "      <td>58094.0</td>\n",
       "      <td>201321.0</td>\n",
       "      <td>90902.0</td>\n",
       "      <td>0.311071</td>\n",
       "      <td>0.062555</td>\n",
       "      <td>0.688929</td>\n",
       "      <td>0.122038</td>\n",
       "    </tr>\n",
       "    <tr>\n",
       "      <th>race_privileged</th>\n",
       "      <td>0.787873</td>\n",
       "      <td>871810.0</td>\n",
       "      <td>58061.0</td>\n",
       "      <td>201162.0</td>\n",
       "      <td>90986.0</td>\n",
       "      <td>0.311438</td>\n",
       "      <td>0.062440</td>\n",
       "      <td>0.688562</td>\n",
       "      <td>0.121968</td>\n",
       "    </tr>\n",
       "    <tr>\n",
       "      <th>race_unprivileged</th>\n",
       "      <td>0.787432</td>\n",
       "      <td>870030.0</td>\n",
       "      <td>58258.0</td>\n",
       "      <td>201092.0</td>\n",
       "      <td>90701.0</td>\n",
       "      <td>0.310840</td>\n",
       "      <td>0.062759</td>\n",
       "      <td>0.689160</td>\n",
       "      <td>0.122089</td>\n",
       "    </tr>\n",
       "  </tbody>\n",
       "</table>\n",
       "</div>"
      ],
      "text/plain": [
       "                        ACC         TN        FP        FN        TP  \\\n",
       "model              0.787653  1741840.0  116319.0  402254.0  181687.0   \n",
       "sex_privileged     0.787784   871254.0   58225.0  200933.0   90785.0   \n",
       "sex_unprivileged   0.787522   870586.0   58094.0  201321.0   90902.0   \n",
       "race_privileged    0.787873   871810.0   58061.0  201162.0   90986.0   \n",
       "race_unprivileged  0.787432   870030.0   58258.0  201092.0   90701.0   \n",
       "\n",
       "                        TPR       FPR       FNR       PPP  \n",
       "model              0.311139  0.062599  0.688861  0.122029  \n",
       "sex_privileged     0.311208  0.062643  0.688792  0.122020  \n",
       "sex_unprivileged   0.311071  0.062555  0.688929  0.122038  \n",
       "race_privileged    0.311438  0.062440  0.688562  0.121968  \n",
       "race_unprivileged  0.310840  0.062759  0.689160  0.122089  "
      ]
     },
     "execution_count": 50,
     "metadata": {},
     "output_type": "execute_result"
    }
   ],
   "source": [
    "df_performance_xgboost_mitigated_fair_data"
   ]
  },
  {
   "cell_type": "code",
   "execution_count": 51,
   "metadata": {},
   "outputs": [
    {
     "data": {
      "text/html": [
       "<div>\n",
       "<style scoped>\n",
       "    .dataframe tbody tr th:only-of-type {\n",
       "        vertical-align: middle;\n",
       "    }\n",
       "\n",
       "    .dataframe tbody tr th {\n",
       "        vertical-align: top;\n",
       "    }\n",
       "\n",
       "    .dataframe thead th {\n",
       "        text-align: right;\n",
       "    }\n",
       "</style>\n",
       "<table border=\"1\" class=\"dataframe\">\n",
       "  <thead>\n",
       "    <tr style=\"text-align: right;\">\n",
       "      <th></th>\n",
       "      <th>EOD</th>\n",
       "      <th>DI</th>\n",
       "      <th>SPD</th>\n",
       "      <th>OD</th>\n",
       "    </tr>\n",
       "  </thead>\n",
       "  <tbody>\n",
       "    <tr>\n",
       "      <th>sex_fair_metrics</th>\n",
       "      <td>-0.000137</td>\n",
       "      <td>1.000147</td>\n",
       "      <td>0.000018</td>\n",
       "      <td>-0.000225</td>\n",
       "    </tr>\n",
       "    <tr>\n",
       "      <th>race_fair_metrics</th>\n",
       "      <td>-0.000598</td>\n",
       "      <td>1.000997</td>\n",
       "      <td>0.000122</td>\n",
       "      <td>-0.000279</td>\n",
       "    </tr>\n",
       "  </tbody>\n",
       "</table>\n",
       "</div>"
      ],
      "text/plain": [
       "                        EOD        DI       SPD        OD\n",
       "sex_fair_metrics  -0.000137  1.000147  0.000018 -0.000225\n",
       "race_fair_metrics -0.000598  1.000997  0.000122 -0.000279"
      ]
     },
     "execution_count": 51,
     "metadata": {},
     "output_type": "execute_result"
    }
   ],
   "source": [
    "df_fairness_xgboost_mitigated_fair_data"
   ]
  },
  {
   "cell_type": "code",
   "execution_count": 52,
   "metadata": {},
   "outputs": [
    {
     "name": "stdout",
     "output_type": "stream",
     "text": [
      "Calculating metrics for : sex  the value :  1\n",
      "Calculating metrics for : sex  the value :  0\n",
      "Calculating metrics for : race  the value :  1\n",
      "Calculating metrics for : race  the value :  0\n"
     ]
    },
    {
     "data": {
      "text/html": [
       "<div>\n",
       "<style scoped>\n",
       "    .dataframe tbody tr th:only-of-type {\n",
       "        vertical-align: middle;\n",
       "    }\n",
       "\n",
       "    .dataframe tbody tr th {\n",
       "        vertical-align: top;\n",
       "    }\n",
       "\n",
       "    .dataframe thead th {\n",
       "        text-align: right;\n",
       "    }\n",
       "</style>\n",
       "<table border=\"1\" class=\"dataframe\">\n",
       "  <thead>\n",
       "    <tr style=\"text-align: right;\">\n",
       "      <th></th>\n",
       "      <th>EOD</th>\n",
       "      <th>DI</th>\n",
       "      <th>SPD</th>\n",
       "      <th>OD</th>\n",
       "    </tr>\n",
       "  </thead>\n",
       "  <tbody>\n",
       "    <tr>\n",
       "      <th>sex_fair_metrics</th>\n",
       "      <td>-0.034051</td>\n",
       "      <td>0.631882</td>\n",
       "      <td>-0.051198</td>\n",
       "      <td>-0.031644</td>\n",
       "    </tr>\n",
       "    <tr>\n",
       "      <th>race_fair_metrics</th>\n",
       "      <td>-0.008637</td>\n",
       "      <td>0.701633</td>\n",
       "      <td>-0.038080</td>\n",
       "      <td>-0.022378</td>\n",
       "    </tr>\n",
       "  </tbody>\n",
       "</table>\n",
       "</div>"
      ],
      "text/plain": [
       "                        EOD        DI       SPD        OD\n",
       "sex_fair_metrics  -0.034051  0.631882 -0.051198 -0.031644\n",
       "race_fair_metrics -0.008637  0.701633 -0.038080 -0.022378"
      ]
     },
     "execution_count": 52,
     "metadata": {},
     "output_type": "execute_result"
    }
   ],
   "source": [
    "original_y['Predicted'] = model_mitigated.predict(original_X[['sex', 'race', 'age','education']])\n",
    "original_X[['label', 'Predicted']] = original_y[['label', 'Predicted']]\n",
    "original_dataset = data.Data(original_X, transform=False)\n",
    "metrics_xgboost_original = original_dataset.fairness_metrics(target_column='label', predicted_column = 'Predicted',\n",
    "                            columns_fair = {'sex' : {'privileged' : 1, 'unprivileged' : 0},\n",
    "                                           'race' : {'privileged' : 1, 'unprivileged' : 0}})\n",
    "df_performance_xgboost,df_fairness_xgboost = original_dataset.get_df_metrics(metrics_xgboost_original)\n",
    "df_fairness_xgboost\n"
   ]
  },
  {
   "attachments": {},
   "cell_type": "markdown",
   "metadata": {},
   "source": [
    "### Explain Results"
   ]
  },
  {
   "cell_type": "code",
   "execution_count": 53,
   "metadata": {},
   "outputs": [],
   "source": [
    "import shap"
   ]
  },
  {
   "cell_type": "code",
   "execution_count": 54,
   "metadata": {},
   "outputs": [],
   "source": [
    "explainer_original = shap.Explainer(model_original)\n",
    "explainer_mitigated = shap.Explainer(model_mitigated)"
   ]
  },
  {
   "cell_type": "code",
   "execution_count": 55,
   "metadata": {},
   "outputs": [],
   "source": [
    "shap_values_orignal = explainer_original(original_dataset.data[['sex', 'race','age','education']])\n",
    "shap_values_mitigated = explainer_mitigated(original_dataset.data[['sex', 'race', 'age','education']])"
   ]
  },
  {
   "cell_type": "code",
   "execution_count": 56,
   "metadata": {},
   "outputs": [
    {
     "data": {
      "image/png": "[encoded data removed]",
      "text/plain": [
       "<Figure size 800x310 with 2 Axes>"
      ]
     },
     "metadata": {},
     "output_type": "display_data"
    },
    {
     "data": {
      "image/png": "[encoded data removed]",
      "text/plain": [
       "<Figure size 800x350 with 1 Axes>"
      ]
     },
     "metadata": {},
     "output_type": "display_data"
    }
   ],
   "source": [
    "shap.plots.beeswarm(shap_values_orignal)\n",
    "shap.plots.bar(shap_values_orignal)"
   ]
  },
  {
   "cell_type": "code",
   "execution_count": 57,
   "metadata": {},
   "outputs": [
    {
     "data": {
      "image/png": "[encoded data removed]",
      "text/plain": [
       "<Figure size 800x310 with 2 Axes>"
      ]
     },
     "metadata": {},
     "output_type": "display_data"
    },
    {
     "data": {
      "image/png": "[encoded data removed]",
      "text/plain": [
       "<Figure size 800x350 with 1 Axes>"
      ]
     },
     "metadata": {},
     "output_type": "display_data"
    }
   ],
   "source": [
    "shap.plots.beeswarm(shap_values_mitigated)\n",
    "shap.plots.bar(shap_values_mitigated)"
   ]
  },
  {
   "cell_type": "code",
   "execution_count": 58,
   "metadata": {},
   "outputs": [],
   "source": [
    "shap_values_model_mitigated_dataset = explainer_original(mitigated_dataset.data[['sex', 'race', 'age','education']])\n",
    "shap_values_mitigated_dataset = explainer_mitigated(mitigated_dataset.data[['sex', 'race', 'age','education']])"
   ]
  },
  {
   "cell_type": "code",
   "execution_count": 59,
   "metadata": {},
   "outputs": [
    {
     "data": {
      "image/png": "[encoded data removed]",
      "text/plain": [
       "<Figure size 800x310 with 2 Axes>"
      ]
     },
     "metadata": {},
     "output_type": "display_data"
    },
    {
     "data": {
      "image/png": "[encoded data removed]",
      "text/plain": [
       "<Figure size 800x350 with 1 Axes>"
      ]
     },
     "metadata": {},
     "output_type": "display_data"
    }
   ],
   "source": [
    "shap.plots.beeswarm(shap_values_model_mitigated_dataset)\n",
    "shap.plots.bar(shap_values_model_mitigated_dataset)"
   ]
  },
  {
   "cell_type": "code",
   "execution_count": 60,
   "metadata": {},
   "outputs": [
    {
     "data": {
      "image/png": "[encoded data removed]",
      "text/plain": [
       "<Figure size 800x310 with 2 Axes>"
      ]
     },
     "metadata": {},
     "output_type": "display_data"
    },
    {
     "data": {
      "image/png": "[encoded data removed]",
      "text/plain": [
       "<Figure size 800x350 with 1 Axes>"
      ]
     },
     "metadata": {},
     "output_type": "display_data"
    }
   ],
   "source": [
    "shap.plots.beeswarm(shap_values_mitigated_dataset)\n",
    "shap.plots.bar(shap_values_mitigated_dataset)"
   ]
  },
  {
   "cell_type": "code",
   "execution_count": null,
   "metadata": {},
   "outputs": [],
   "source": []
  },
  {
   "attachments": {},
   "cell_type": "markdown",
   "metadata": {},
   "source": [
    "### Test other algorithm"
   ]
  },
  {
   "cell_type": "code",
   "execution_count": 1,
   "metadata": {},
   "outputs": [
    {
     "name": "stderr",
     "output_type": "stream",
     "text": [
      "2023-06-03 12:29:10.184751: I tensorflow/core/platform/cpu_feature_guard.cc:193] This TensorFlow binary is optimized with oneAPI Deep Neural Network Library (oneDNN) to use the following CPU instructions in performance-critical operations:  AVX2 FMA\n",
      "To enable them in other operations, rebuild TensorFlow with the appropriate compiler flags.\n",
      "2023-06-03 12:29:11.639269: W tensorflow/compiler/xla/stream_executor/platform/default/dso_loader.cc:64] Could not load dynamic library 'libnvinfer.so.7'; dlerror: libnvinfer.so.7: cannot open shared object file: No such file or directory\n",
      "2023-06-03 12:29:11.639355: W tensorflow/compiler/xla/stream_executor/platform/default/dso_loader.cc:64] Could not load dynamic library 'libnvinfer_plugin.so.7'; dlerror: libnvinfer_plugin.so.7: cannot open shared object file: No such file or directory\n",
      "2023-06-03 12:29:11.639361: W tensorflow/compiler/tf2tensorrt/utils/py_utils.cc:38] TF-TRT Warning: Cannot dlopen some TensorRT libraries. If you would like to use Nvidia GPU with TensorRT, please make sure the missing libraries mentioned above are installed properly.\n"
     ]
    }
   ],
   "source": [
    "import numpy as np\n",
    "from tqdm import tqdm\n",
    "\n",
    "from aif360.datasets import BinaryLabelDataset\n",
    "from aif360.datasets import AdultDataset, GermanDataset, CompasDataset\n",
    "from aif360.metrics import BinaryLabelDatasetMetric\n",
    "from aif360.metrics import ClassificationMetric\n",
    "from aif360.algorithms.preprocessing.reweighing import Reweighing\n",
    "from aif360.algorithms.preprocessing.optim_preproc_helpers.data_preproc_functions\\\n",
    "        import load_preproc_data_adult, load_preproc_data_german, load_preproc_data_compas\n",
    "from sklearn.linear_model import LogisticRegression\n",
    "from sklearn.preprocessing import StandardScaler\n",
    "from sklearn.metrics import accuracy_score\n",
    "from aif360.algorithms.preprocessing.optim_preproc_helpers.distortion_functions import get_distortion_adult\n",
    "from IPython.display import Markdown, display\n",
    "import matplotlib.pyplot as plt\n",
    "from aif360.algorithms.preprocessing.optim_preproc import OptimPreproc\n",
    "from aif360.algorithms.preprocessing.lfr import LFR"
   ]
  },
  {
   "cell_type": "code",
   "execution_count": 19,
   "metadata": {},
   "outputs": [],
   "source": [
    "## import dataset\n",
    "dataset_used = \"adult\" # \"adult\", \"german\", \"compas\"\n",
    "protected_attribute_used = 1 # 1, 2\n",
    "\n",
    "\n",
    "if dataset_used == \"adult\":\n",
    "#     dataset_orig = AdultDataset()\n",
    "    if protected_attribute_used == 1:\n",
    "        privileged_groups = [{'sex': 1}]\n",
    "        unprivileged_groups = [{'sex': 0}]\n",
    "        dataset_orig = load_preproc_data_adult(['sex'])\n",
    "    else:\n",
    "        privileged_groups = [{'race': 1}]\n",
    "        unprivileged_groups = [{'race': 0}]\n",
    "        dataset_orig = load_preproc_data_adult(['race'])\n",
    "    \n",
    "elif dataset_used == \"german\":\n",
    "#     dataset_orig = GermanDataset()\n",
    "    if protected_attribute_used == 1:\n",
    "        privileged_groups = [{'sex': 1}]\n",
    "        unprivileged_groups = [{'sex': 0}]\n",
    "        dataset_orig = load_preproc_data_german(['sex'])\n",
    "    else:\n",
    "        privileged_groups = [{'age': 1}]\n",
    "        unprivileged_groups = [{'age': 0}]\n",
    "        dataset_orig = load_preproc_data_german(['age'])\n",
    "    \n",
    "elif dataset_used == \"compas\":\n",
    "#     dataset_orig = CompasDataset()\n",
    "    if protected_attribute_used == 1:\n",
    "        privileged_groups = [{'sex': 1}]\n",
    "        unprivileged_groups = [{'sex': 0}]\n",
    "        dataset_orig = load_preproc_data_compas(['sex'])\n",
    "    else:\n",
    "        privileged_groups = [{'race': 1}]\n",
    "        unprivileged_groups = [{'race': 0}]\n",
    "        dataset_orig = load_preproc_data_compas(['race'])\n",
    "\n",
    "all_metrics =  [\"Statistical parity difference\",\n",
    "                   \"Average odds difference\",\n",
    "                   \"Equal opportunity difference\"]\n",
    "\n",
    "#random seed for calibrated equal odds prediction\n",
    "np.random.seed(1)"
   ]
  },
  {
   "cell_type": "code",
   "execution_count": null,
   "metadata": {},
   "outputs": [],
   "source": []
  },
  {
   "cell_type": "code",
   "execution_count": 20,
   "metadata": {},
   "outputs": [],
   "source": [
    "dataset_orig_train, dataset_orig_test = dataset_orig.split([0.7], shuffle=True)"
   ]
  },
  {
   "cell_type": "code",
   "execution_count": 4,
   "metadata": {},
   "outputs": [],
   "source": [
    "from aif360.algorithms.preprocessing.optim_preproc_helpers.opt_tools import OptTools"
   ]
  },
  {
   "cell_type": "code",
   "execution_count": 192,
   "metadata": {},
   "outputs": [
    {
     "name": "stdout",
     "output_type": "stream",
     "text": [
      "Optimized Preprocessing: Objective converged to 0.000000\n"
     ]
    }
   ],
   "source": [
    "optim_options = {\n",
    "    \"distortion_fun\": get_distortion_adult,\n",
    "    \"epsilon\": 0.05,\n",
    "    \"clist\": [0.99, 1.99, 2.99],\n",
    "    \"dlist\": [.1, 0.05, 0]\n",
    "}\n",
    "    \n",
    "OP = OptimPreproc(OptTools, optim_options)\n",
    "\n",
    "OP = OP.fit(dataset_orig_train)\n",
    "dataset_transf_train = OP.transform(dataset_orig_train, transform_Y=True)\n",
    "\n",
    "dataset_transf_train = dataset_orig_train.align_datasets(dataset_transf_train)\n",
    "\n",
    "dataset_transf_test = OP.transform(dataset_orig_test, transform_Y = True)\n",
    "dataset_transf_test = dataset_orig_test.align_datasets(dataset_transf_test)\n"
   ]
  },
  {
   "cell_type": "code",
   "execution_count": 193,
   "metadata": {},
   "outputs": [
    {
     "name": "stdout",
     "output_type": "stream",
     "text": [
      "                age  education       sex      race     label\n",
      "age        1.000000   0.026780  0.098672  0.026004  0.225285\n",
      "education  0.026780   1.000000  0.002885  0.048687  0.317804\n",
      "sex        0.098672   0.002885  1.000000  0.116147  0.212653\n",
      "race       0.026004   0.048687  0.116147  1.000000  0.042083\n",
      "label      0.225285   0.317804  0.212653  0.042083  1.000000\n"
     ]
    },
    {
     "data": {
      "text/plain": [
       "<AxesSubplot: >"
      ]
     },
     "execution_count": 193,
     "metadata": {},
     "output_type": "execute_result"
    },
    {
     "data": {
      "image/png": "[encoded data removed]",
      "text/plain": [
       "<Figure size 500x500 with 2 Axes>"
      ]
     },
     "metadata": {},
     "output_type": "display_data"
    }
   ],
   "source": [
    "import seaborn as sns\n",
    "sns.set_theme(style=\"white\")\n",
    "\n",
    "# Generate a large random dataset\n",
    "df_train_transf = pd.DataFrame(dataset_transf_train.features,columns = dataset_transf_train.feature_names)\n",
    "\n",
    "df_train_transf['label'] = dataset_transf_train.labels\n",
    "df_train_transf['age'] = df_train_transf.apply(lambda row: 0 if row['Age (decade)=10'] == 1 \n",
    "                            else 1 if row['Age (decade)=20'] == 1 \n",
    "                            else 2 if row['Age (decade)=30'] == 1\n",
    "                            else 3 if row['Age (decade)=40'] == 1\n",
    "                            else 4 if row['Age (decade)=50'] == 1\n",
    "                            else 5 if row['Age (decade)=60'] == 1\n",
    "                            else 6 if row['Age (decade)=>=70'] == 1\n",
    "                            else None,axis = 1)\n",
    "df_train_transf['education'] = df_train_transf.apply(lambda row: 0 if row['Education Years=<6'] == 1 \n",
    "                                  else 1 if row['Education Years=6'] == 1 \n",
    "                                  else 2 if row['Education Years=7'] == 1 \n",
    "                                  else 3 if row['Education Years=8'] == 1 \n",
    "                                  else 4 if row['Education Years=9'] == 1 \n",
    "                                  else 5 if row['Education Years=10'] == 1 \n",
    "                                  else 6 if row['Education Years=11'] == 1 \n",
    "                                  else 7 if row['Education Years=12'] == 1\n",
    "                                  else 8 if row['Education Years=>12'] == 1  \n",
    "                                  else None,axis = 1)\n",
    "df_train_transf = df_train_transf[['age','education','sex','race','label']]\n",
    "# Compute the correlation matrix\n",
    "corr = df_train_transf.corr()\n",
    "print(corr)\n",
    "# Generate a mask for the upper triangle\n",
    "mask = np.triu(np.ones_like(corr, dtype=bool))\n",
    "\n",
    "# Set up the matplotlib figure\n",
    "f, ax = plt.subplots(figsize=(5, 5))\n",
    "\n",
    "# Generate a custom diverging colormap\n",
    "cmap = sns.diverging_palette(230, 20, as_cmap=True)\n",
    "\n",
    "# Draw the heatmap with the mask and correct aspect ratio\n",
    "sns.heatmap(corr, mask=mask, cmap=cmap, center=0,\n",
    "            square=True, linewidths=.5, cbar_kws={\"shrink\": .5})"
   ]
  },
  {
   "cell_type": "code",
   "execution_count": null,
   "metadata": {},
   "outputs": [],
   "source": []
  },
  {
   "cell_type": "code",
   "execution_count": 194,
   "metadata": {},
   "outputs": [
    {
     "data": {
      "text/plain": [
       "XGBClassifier(base_score=0.5, booster='gbtree', callbacks=None,\n",
       "              colsample_bylevel=1, colsample_bynode=1, colsample_bytree=1,\n",
       "              early_stopping_rounds=None, enable_categorical=False,\n",
       "              eval_metric=None, feature_types=None, gamma=0, gpu_id=-1,\n",
       "              grow_policy='depthwise', importance_type=None,\n",
       "              interaction_constraints='', learning_rate=0.300000012,\n",
       "              max_bin=256, max_cat_threshold=64, max_cat_to_onehot=4,\n",
       "              max_delta_step=0, max_depth=6, max_leaves=0, min_child_weight=1,\n",
       "              missing=nan, monotone_constraints='()', n_estimators=100,\n",
       "              n_jobs=0, num_parallel_tree=1, predictor='auto', random_state=0, ...)"
      ]
     },
     "execution_count": 194,
     "metadata": {},
     "output_type": "execute_result"
    }
   ],
   "source": [
    "model_op = XGBClassifier()\n",
    "model_op.fit(df_train_transf[['sex', 'race', 'age','education']], df_train_transf['label'])"
   ]
  },
  {
   "cell_type": "code",
   "execution_count": 195,
   "metadata": {},
   "outputs": [],
   "source": [
    "df_test = pd.DataFrame(dataset_transf_test.features,columns = dataset_transf_test.feature_names)\n",
    "\n",
    "df_test['label'] = dataset_transf_test.labels\n",
    "df_test['age'] = df_test.apply(lambda row: 0 if row['Age (decade)=10'] == 1 \n",
    "                            else 1 if row['Age (decade)=20'] == 1 \n",
    "                            else 2 if row['Age (decade)=30'] == 1\n",
    "                            else 3 if row['Age (decade)=40'] == 1\n",
    "                            else 4 if row['Age (decade)=50'] == 1\n",
    "                            else 5 if row['Age (decade)=60'] == 1\n",
    "                            else 6 if row['Age (decade)=>=70'] == 1\n",
    "                            else None,axis = 1)\n",
    "df_test['education'] = df_test.apply(lambda row: 0 if row['Education Years=<6'] == 1 \n",
    "                                  else 1 if row['Education Years=6'] == 1 \n",
    "                                  else 2 if row['Education Years=7'] == 1 \n",
    "                                  else 3 if row['Education Years=8'] == 1 \n",
    "                                  else 4 if row['Education Years=9'] == 1 \n",
    "                                  else 5 if row['Education Years=10'] == 1 \n",
    "                                  else 6 if row['Education Years=11'] == 1 \n",
    "                                  else 7 if row['Education Years=12'] == 1\n",
    "                                  else 8 if row['Education Years=>12'] == 1  \n",
    "                                  else None,axis = 1)\n",
    "df_test = df_test[['age','education','sex','race','label']]"
   ]
  },
  {
   "cell_type": "code",
   "execution_count": 196,
   "metadata": {},
   "outputs": [],
   "source": [
    "df_test['Predicted'] = model_op.predict(df_test[['sex', 'race', 'age','education']])\n"
   ]
  },
  {
   "cell_type": "code",
   "execution_count": 197,
   "metadata": {},
   "outputs": [
    {
     "name": "stdout",
     "output_type": "stream",
     "text": [
      "Calculating metrics for : sex  the value :  1\n",
      "Calculating metrics for : sex  the value :  0\n",
      "Calculating metrics for : race  the value :  1\n",
      "Calculating metrics for : race  the value :  0\n"
     ]
    }
   ],
   "source": [
    "op_dataset = data.Data(df_test, transform=False)\n",
    "\n",
    "metrics_xgboost_mitigated_fair_data = op_dataset.fairness_metrics(target_column='label', predicted_column = 'Predicted',\n",
    "                            columns_fair = {'sex' : {'privileged' : 1, 'unprivileged' : 0},\n",
    "                                            'race' : {'privileged' : 1, 'unprivileged' : 0}})\n",
    "df_performance_op,df_fairness_op = op_dataset.get_df_metrics(metrics_xgboost_mitigated_fair_data)"
   ]
  },
  {
   "cell_type": "code",
   "execution_count": 198,
   "metadata": {},
   "outputs": [
    {
     "data": {
      "text/html": [
       "<div>\n",
       "<style scoped>\n",
       "    .dataframe tbody tr th:only-of-type {\n",
       "        vertical-align: middle;\n",
       "    }\n",
       "\n",
       "    .dataframe tbody tr th {\n",
       "        vertical-align: top;\n",
       "    }\n",
       "\n",
       "    .dataframe thead th {\n",
       "        text-align: right;\n",
       "    }\n",
       "</style>\n",
       "<table border=\"1\" class=\"dataframe\">\n",
       "  <thead>\n",
       "    <tr style=\"text-align: right;\">\n",
       "      <th></th>\n",
       "      <th>ACC</th>\n",
       "      <th>TN</th>\n",
       "      <th>FP</th>\n",
       "      <th>FN</th>\n",
       "      <th>TP</th>\n",
       "      <th>TPR</th>\n",
       "      <th>FPR</th>\n",
       "      <th>FNR</th>\n",
       "      <th>PPP</th>\n",
       "    </tr>\n",
       "  </thead>\n",
       "  <tbody>\n",
       "    <tr>\n",
       "      <th>model</th>\n",
       "      <td>0.805637</td>\n",
       "      <td>10231.0</td>\n",
       "      <td>853.0</td>\n",
       "      <td>1995.0</td>\n",
       "      <td>1574.0</td>\n",
       "      <td>0.441020</td>\n",
       "      <td>0.076958</td>\n",
       "      <td>0.558980</td>\n",
       "      <td>0.165632</td>\n",
       "    </tr>\n",
       "    <tr>\n",
       "      <th>sex_privileged</th>\n",
       "      <td>0.758025</td>\n",
       "      <td>5840.0</td>\n",
       "      <td>835.0</td>\n",
       "      <td>1517.0</td>\n",
       "      <td>1528.0</td>\n",
       "      <td>0.501806</td>\n",
       "      <td>0.125094</td>\n",
       "      <td>0.498194</td>\n",
       "      <td>0.243107</td>\n",
       "    </tr>\n",
       "    <tr>\n",
       "      <th>sex_unprivileged</th>\n",
       "      <td>0.899453</td>\n",
       "      <td>4391.0</td>\n",
       "      <td>18.0</td>\n",
       "      <td>478.0</td>\n",
       "      <td>46.0</td>\n",
       "      <td>0.087786</td>\n",
       "      <td>0.004083</td>\n",
       "      <td>0.912214</td>\n",
       "      <td>0.012974</td>\n",
       "    </tr>\n",
       "    <tr>\n",
       "      <th>race_privileged</th>\n",
       "      <td>0.796993</td>\n",
       "      <td>8622.0</td>\n",
       "      <td>774.0</td>\n",
       "      <td>1778.0</td>\n",
       "      <td>1397.0</td>\n",
       "      <td>0.440000</td>\n",
       "      <td>0.082375</td>\n",
       "      <td>0.560000</td>\n",
       "      <td>0.172699</td>\n",
       "    </tr>\n",
       "    <tr>\n",
       "      <th>race_unprivileged</th>\n",
       "      <td>0.857829</td>\n",
       "      <td>1609.0</td>\n",
       "      <td>79.0</td>\n",
       "      <td>217.0</td>\n",
       "      <td>177.0</td>\n",
       "      <td>0.449239</td>\n",
       "      <td>0.046801</td>\n",
       "      <td>0.550761</td>\n",
       "      <td>0.122959</td>\n",
       "    </tr>\n",
       "  </tbody>\n",
       "</table>\n",
       "</div>"
      ],
      "text/plain": [
       "                        ACC       TN     FP      FN      TP       TPR  \\\n",
       "model              0.805637  10231.0  853.0  1995.0  1574.0  0.441020   \n",
       "sex_privileged     0.758025   5840.0  835.0  1517.0  1528.0  0.501806   \n",
       "sex_unprivileged   0.899453   4391.0   18.0   478.0    46.0  0.087786   \n",
       "race_privileged    0.796993   8622.0  774.0  1778.0  1397.0  0.440000   \n",
       "race_unprivileged  0.857829   1609.0   79.0   217.0   177.0  0.449239   \n",
       "\n",
       "                        FPR       FNR       PPP  \n",
       "model              0.076958  0.558980  0.165632  \n",
       "sex_privileged     0.125094  0.498194  0.243107  \n",
       "sex_unprivileged   0.004083  0.912214  0.012974  \n",
       "race_privileged    0.082375  0.560000  0.172699  \n",
       "race_unprivileged  0.046801  0.550761  0.122959  "
      ]
     },
     "execution_count": 198,
     "metadata": {},
     "output_type": "execute_result"
    }
   ],
   "source": [
    "df_performance_op"
   ]
  },
  {
   "cell_type": "code",
   "execution_count": 199,
   "metadata": {},
   "outputs": [
    {
     "data": {
      "text/html": [
       "<div>\n",
       "<style scoped>\n",
       "    .dataframe tbody tr th:only-of-type {\n",
       "        vertical-align: middle;\n",
       "    }\n",
       "\n",
       "    .dataframe tbody tr th {\n",
       "        vertical-align: top;\n",
       "    }\n",
       "\n",
       "    .dataframe thead th {\n",
       "        text-align: right;\n",
       "    }\n",
       "</style>\n",
       "<table border=\"1\" class=\"dataframe\">\n",
       "  <thead>\n",
       "    <tr style=\"text-align: right;\">\n",
       "      <th></th>\n",
       "      <th>EOD</th>\n",
       "      <th>DI</th>\n",
       "      <th>SPD</th>\n",
       "      <th>OD</th>\n",
       "    </tr>\n",
       "  </thead>\n",
       "  <tbody>\n",
       "    <tr>\n",
       "      <th>sex_fair_metrics</th>\n",
       "      <td>-0.414020</td>\n",
       "      <td>0.053367</td>\n",
       "      <td>-0.230133</td>\n",
       "      <td>-0.535031</td>\n",
       "    </tr>\n",
       "    <tr>\n",
       "      <th>race_fair_metrics</th>\n",
       "      <td>0.009239</td>\n",
       "      <td>0.711982</td>\n",
       "      <td>-0.049740</td>\n",
       "      <td>-0.026336</td>\n",
       "    </tr>\n",
       "  </tbody>\n",
       "</table>\n",
       "</div>"
      ],
      "text/plain": [
       "                        EOD        DI       SPD        OD\n",
       "sex_fair_metrics  -0.414020  0.053367 -0.230133 -0.535031\n",
       "race_fair_metrics  0.009239  0.711982 -0.049740 -0.026336"
      ]
     },
     "execution_count": 199,
     "metadata": {},
     "output_type": "execute_result"
    }
   ],
   "source": [
    "df_fairness_op"
   ]
  },
  {
   "cell_type": "code",
   "execution_count": 200,
   "metadata": {},
   "outputs": [
    {
     "data": {
      "image/png": "[encoded data removed]",
      "text/plain": [
       "<Figure size 800x310 with 2 Axes>"
      ]
     },
     "metadata": {},
     "output_type": "display_data"
    },
    {
     "data": {
      "image/png": "[encoded data removed]",
      "text/plain": [
       "<Figure size 800x350 with 1 Axes>"
      ]
     },
     "metadata": {},
     "output_type": "display_data"
    }
   ],
   "source": [
    "explainer_op = shap.Explainer(model_op)\n",
    "shap_values_op = explainer_op(df_test[['age','education','sex','race']])\n",
    "shap.plots.beeswarm(shap_values_op)\n",
    "shap.plots.bar(shap_values_op)"
   ]
  },
  {
   "cell_type": "code",
   "execution_count": 21,
   "metadata": {},
   "outputs": [],
   "source": [
    "dataset_orig_train, dataset_orig_test = dataset_orig.split([0.7], shuffle=True)"
   ]
  },
  {
   "cell_type": "code",
   "execution_count": 22,
   "metadata": {},
   "outputs": [
    {
     "data": {
      "text/plain": [
       "[{'sex': 0}]"
      ]
     },
     "execution_count": 22,
     "metadata": {},
     "output_type": "execute_result"
    }
   ],
   "source": [
    "unprivileged_groups"
   ]
  },
  {
   "cell_type": "code",
   "execution_count": 23,
   "metadata": {},
   "outputs": [],
   "source": [
    "\n",
    "RW = Reweighing(unprivileged_groups=unprivileged_groups,\n",
    "               privileged_groups=privileged_groups)\n",
    "RW.fit(dataset_orig_train)\n",
    "dataset_transf_train = RW.transform(dataset_orig_train)"
   ]
  },
  {
   "cell_type": "code",
   "execution_count": 24,
   "metadata": {},
   "outputs": [
    {
     "data": {
      "text/plain": [
       "array([0.85338095, 1.09242733, 0.85338095, ..., 1.09242733, 0.79003868,\n",
       "       0.79003868])"
      ]
     },
     "execution_count": 24,
     "metadata": {},
     "output_type": "execute_result"
    }
   ],
   "source": [
    "dataset_transf_train.instance_weights"
   ]
  },
  {
   "cell_type": "code",
   "execution_count": 15,
   "metadata": {},
   "outputs": [
    {
     "data": {
      "text/plain": [
       "0        2.703383\n",
       "1        0.901128\n",
       "2        5.094724\n",
       "3        5.406766\n",
       "4        2.037890\n",
       "           ...   \n",
       "34184    2.037890\n",
       "34185    2.037890\n",
       "34186    4.075780\n",
       "34187    3.779284\n",
       "34188    3.779284\n",
       "Name: age, Length: 34189, dtype: float64"
      ]
     },
     "execution_count": 15,
     "metadata": {},
     "output_type": "execute_result"
    }
   ],
   "source": [
    "dataset_transf_train.instance_weights * df_train_transf['age']"
   ]
  },
  {
   "cell_type": "code",
   "execution_count": 11,
   "metadata": {},
   "outputs": [
    {
     "data": {
      "text/html": [
       "<div>\n",
       "<style scoped>\n",
       "    .dataframe tbody tr th:only-of-type {\n",
       "        vertical-align: middle;\n",
       "    }\n",
       "\n",
       "    .dataframe tbody tr th {\n",
       "        vertical-align: top;\n",
       "    }\n",
       "\n",
       "    .dataframe thead th {\n",
       "        text-align: right;\n",
       "    }\n",
       "</style>\n",
       "<table border=\"1\" class=\"dataframe\">\n",
       "  <thead>\n",
       "    <tr style=\"text-align: right;\">\n",
       "      <th></th>\n",
       "      <th>age</th>\n",
       "      <th>education</th>\n",
       "      <th>sex</th>\n",
       "      <th>race</th>\n",
       "      <th>label</th>\n",
       "    </tr>\n",
       "  </thead>\n",
       "  <tbody>\n",
       "    <tr>\n",
       "      <th>0</th>\n",
       "      <td>3</td>\n",
       "      <td>0</td>\n",
       "      <td>0.0</td>\n",
       "      <td>0.0</td>\n",
       "      <td>0.0</td>\n",
       "    </tr>\n",
       "    <tr>\n",
       "      <th>1</th>\n",
       "      <td>1</td>\n",
       "      <td>4</td>\n",
       "      <td>1.0</td>\n",
       "      <td>0.0</td>\n",
       "      <td>0.0</td>\n",
       "    </tr>\n",
       "    <tr>\n",
       "      <th>2</th>\n",
       "      <td>5</td>\n",
       "      <td>0</td>\n",
       "      <td>0.0</td>\n",
       "      <td>1.0</td>\n",
       "      <td>0.0</td>\n",
       "    </tr>\n",
       "    <tr>\n",
       "      <th>3</th>\n",
       "      <td>6</td>\n",
       "      <td>8</td>\n",
       "      <td>1.0</td>\n",
       "      <td>0.0</td>\n",
       "      <td>0.0</td>\n",
       "    </tr>\n",
       "    <tr>\n",
       "      <th>4</th>\n",
       "      <td>2</td>\n",
       "      <td>4</td>\n",
       "      <td>1.0</td>\n",
       "      <td>1.0</td>\n",
       "      <td>0.0</td>\n",
       "    </tr>\n",
       "    <tr>\n",
       "      <th>...</th>\n",
       "      <td>...</td>\n",
       "      <td>...</td>\n",
       "      <td>...</td>\n",
       "      <td>...</td>\n",
       "      <td>...</td>\n",
       "    </tr>\n",
       "    <tr>\n",
       "      <th>34184</th>\n",
       "      <td>2</td>\n",
       "      <td>4</td>\n",
       "      <td>1.0</td>\n",
       "      <td>1.0</td>\n",
       "      <td>0.0</td>\n",
       "    </tr>\n",
       "    <tr>\n",
       "      <th>34185</th>\n",
       "      <td>2</td>\n",
       "      <td>8</td>\n",
       "      <td>1.0</td>\n",
       "      <td>1.0</td>\n",
       "      <td>0.0</td>\n",
       "    </tr>\n",
       "    <tr>\n",
       "      <th>34186</th>\n",
       "      <td>4</td>\n",
       "      <td>4</td>\n",
       "      <td>1.0</td>\n",
       "      <td>1.0</td>\n",
       "      <td>0.0</td>\n",
       "    </tr>\n",
       "    <tr>\n",
       "      <th>34187</th>\n",
       "      <td>4</td>\n",
       "      <td>8</td>\n",
       "      <td>1.0</td>\n",
       "      <td>1.0</td>\n",
       "      <td>1.0</td>\n",
       "    </tr>\n",
       "    <tr>\n",
       "      <th>34188</th>\n",
       "      <td>4</td>\n",
       "      <td>4</td>\n",
       "      <td>1.0</td>\n",
       "      <td>1.0</td>\n",
       "      <td>1.0</td>\n",
       "    </tr>\n",
       "  </tbody>\n",
       "</table>\n",
       "<p>34189 rows × 5 columns</p>\n",
       "</div>"
      ],
      "text/plain": [
       "       age  education  sex  race  label\n",
       "0        3          0  0.0   0.0    0.0\n",
       "1        1          4  1.0   0.0    0.0\n",
       "2        5          0  0.0   1.0    0.0\n",
       "3        6          8  1.0   0.0    0.0\n",
       "4        2          4  1.0   1.0    0.0\n",
       "...    ...        ...  ...   ...    ...\n",
       "34184    2          4  1.0   1.0    0.0\n",
       "34185    2          8  1.0   1.0    0.0\n",
       "34186    4          4  1.0   1.0    0.0\n",
       "34187    4          8  1.0   1.0    1.0\n",
       "34188    4          4  1.0   1.0    1.0\n",
       "\n",
       "[34189 rows x 5 columns]"
      ]
     },
     "execution_count": 11,
     "metadata": {},
     "output_type": "execute_result"
    }
   ],
   "source": [
    "df_train_transf"
   ]
  },
  {
   "cell_type": "code",
   "execution_count": 25,
   "metadata": {},
   "outputs": [
    {
     "name": "stdout",
     "output_type": "stream",
     "text": [
      "                age  education           sex      race         label\n",
      "age        1.000000   0.033874  3.735695e-02  0.032389  2.314625e-01\n",
      "education  0.033874   1.000000 -7.246182e-02  0.048471  3.212536e-01\n",
      "sex        0.037357  -0.072462  1.000000e+00  0.084061 -3.819803e-17\n",
      "race       0.032389   0.048471  8.406112e-02  1.000000  8.004913e-02\n",
      "label      0.231463   0.321254 -3.819803e-17  0.080049  1.000000e+00\n"
     ]
    },
    {
     "data": {
      "text/plain": [
       "<AxesSubplot: >"
      ]
     },
     "execution_count": 25,
     "metadata": {},
     "output_type": "execute_result"
    },
    {
     "data": {
      "image/png": "[encoded data removed]",
      "text/plain": [
       "<Figure size 500x500 with 2 Axes>"
      ]
     },
     "metadata": {},
     "output_type": "display_data"
    }
   ],
   "source": [
    "import seaborn as sns\n",
    "import pandas as pd\n",
    "sns.set_theme(style=\"white\")\n",
    "\n",
    "# Generate a large random dataset\n",
    "df_train_transf = pd.DataFrame(dataset_transf_train.features,columns = dataset_transf_train.feature_names)\n",
    "\n",
    "df_train_transf['label'] = dataset_transf_train.labels\n",
    "df_train_transf['age'] = df_train_transf.apply(lambda row: 0 if row['Age (decade)=10'] == 1 \n",
    "                            else 1 if row['Age (decade)=20'] == 1 \n",
    "                            else 2 if row['Age (decade)=30'] == 1\n",
    "                            else 3 if row['Age (decade)=40'] == 1\n",
    "                            else 4 if row['Age (decade)=50'] == 1\n",
    "                            else 5 if row['Age (decade)=60'] == 1\n",
    "                            else 6 if row['Age (decade)=>=70'] == 1\n",
    "                            else None,axis = 1)\n",
    "df_train_transf['education'] = df_train_transf.apply(lambda row: 0 if row['Education Years=<6'] == 1 \n",
    "                                  else 1 if row['Education Years=6'] == 1 \n",
    "                                  else 2 if row['Education Years=7'] == 1 \n",
    "                                  else 3 if row['Education Years=8'] == 1 \n",
    "                                  else 4 if row['Education Years=9'] == 1 \n",
    "                                  else 5 if row['Education Years=10'] == 1 \n",
    "                                  else 6 if row['Education Years=11'] == 1 \n",
    "                                  else 7 if row['Education Years=12'] == 1\n",
    "                                  else 8 if row['Education Years=>12'] == 1  \n",
    "                                  else None,axis = 1)\n",
    "\n",
    "df_train_transf = df_train_transf[['age','education','sex','race','label']]\n",
    "#df_train_transf['age'] = dataset_transf_train.instance_weights * df_train_transf['age']\n",
    "#df_train_transf['education'] = dataset_transf_train.instance_weights * df_train_transf['education']\n",
    "#df_train_transf['sex'] = dataset_transf_train.instance_weights * df_train_transf['sex']\n",
    "df_train_transf['sex'] = dataset_transf_train.instance_weights * df_train_transf['sex']\n",
    "#df_train_transf['age'] = dataset_transf_train.instance_weights * df_train_transf['age']\n",
    "\n",
    "# Compute the correlation matrix\n",
    "corr = df_train_transf.corr()\n",
    "print(corr)\n",
    "# Generate a mask for the upper triangle\n",
    "mask = np.triu(np.ones_like(corr, dtype=bool))\n",
    "\n",
    "# Set up the matplotlib figure\n",
    "f, ax = plt.subplots(figsize=(5, 5))\n",
    "\n",
    "# Generate a custom diverging colormap\n",
    "cmap = sns.diverging_palette(230, 20, as_cmap=True)\n",
    "\n",
    "# Draw the heatmap with the mask and correct aspect ratio\n",
    "sns.heatmap(corr, mask=mask, cmap=cmap, center=0,\n",
    "            square=True, linewidths=.5, cbar_kws={\"shrink\": .5})"
   ]
  },
  {
   "cell_type": "code",
   "execution_count": 205,
   "metadata": {},
   "outputs": [
    {
     "data": {
      "text/plain": [
       "XGBClassifier(base_score=0.5, booster='gbtree', callbacks=None,\n",
       "              colsample_bylevel=1, colsample_bynode=1, colsample_bytree=1,\n",
       "              early_stopping_rounds=None, enable_categorical=False,\n",
       "              eval_metric=None, feature_types=None, gamma=0, gpu_id=-1,\n",
       "              grow_policy='depthwise', importance_type=None,\n",
       "              interaction_constraints='', learning_rate=0.300000012,\n",
       "              max_bin=256, max_cat_threshold=64, max_cat_to_onehot=4,\n",
       "              max_delta_step=0, max_depth=6, max_leaves=0, min_child_weight=1,\n",
       "              missing=nan, monotone_constraints='()', n_estimators=100,\n",
       "              n_jobs=0, num_parallel_tree=1, predictor='auto', random_state=0, ...)"
      ]
     },
     "execution_count": 205,
     "metadata": {},
     "output_type": "execute_result"
    }
   ],
   "source": [
    "model_rw = XGBClassifier()\n",
    "model_rw.fit(df_train_transf[['sex', 'race', 'age','education']], df_train_transf['label'],sample_weight = dataset_transf_train.instance_weights)"
   ]
  },
  {
   "cell_type": "code",
   "execution_count": 206,
   "metadata": {},
   "outputs": [],
   "source": [
    "df_test = pd.DataFrame(dataset_orig_test.features,columns = dataset_orig_test.feature_names)\n",
    "\n",
    "df_test['label'] = dataset_orig_test.labels\n",
    "df_test['age'] = df_test.apply(lambda row: 0 if row['Age (decade)=10'] == 1 \n",
    "                            else 1 if row['Age (decade)=20'] == 1 \n",
    "                            else 2 if row['Age (decade)=30'] == 1\n",
    "                            else 3 if row['Age (decade)=40'] == 1\n",
    "                            else 4 if row['Age (decade)=50'] == 1\n",
    "                            else 5 if row['Age (decade)=60'] == 1\n",
    "                            else 6 if row['Age (decade)=>=70'] == 1\n",
    "                            else None,axis = 1)\n",
    "df_test['education'] = df_test.apply(lambda row: 0 if row['Education Years=<6'] == 1 \n",
    "                                  else 1 if row['Education Years=6'] == 1 \n",
    "                                  else 2 if row['Education Years=7'] == 1 \n",
    "                                  else 3 if row['Education Years=8'] == 1 \n",
    "                                  else 4 if row['Education Years=9'] == 1 \n",
    "                                  else 5 if row['Education Years=10'] == 1 \n",
    "                                  else 6 if row['Education Years=11'] == 1 \n",
    "                                  else 7 if row['Education Years=12'] == 1\n",
    "                                  else 8 if row['Education Years=>12'] == 1  \n",
    "                                  else None,axis = 1)\n",
    "df_test = df_test[['age','education','sex','race','label']]"
   ]
  },
  {
   "cell_type": "code",
   "execution_count": 207,
   "metadata": {},
   "outputs": [],
   "source": [
    "df_test['Predicted'] = model_rw.predict(df_test[['sex', 'race', 'age','education']])\n"
   ]
  },
  {
   "cell_type": "code",
   "execution_count": 208,
   "metadata": {},
   "outputs": [
    {
     "name": "stdout",
     "output_type": "stream",
     "text": [
      "Calculating metrics for : sex  the value :  1\n",
      "Calculating metrics for : sex  the value :  0\n",
      "Calculating metrics for : race  the value :  1\n",
      "Calculating metrics for : race  the value :  0\n"
     ]
    }
   ],
   "source": [
    "rw_dataset = data.Data(df_test, transform=False)\n",
    "\n",
    "metrics_xgboost_mitigated_fair_data = rw_dataset.fairness_metrics(target_column='label', predicted_column = 'Predicted',\n",
    "                            columns_fair = {'sex' : {'privileged' : 1, 'unprivileged' : 0},\n",
    "                                            'race' : {'privileged' : 1, 'unprivileged' : 0}})\n",
    "df_performance_op,df_fairness_op = rw_dataset.get_df_metrics(metrics_xgboost_mitigated_fair_data)"
   ]
  },
  {
   "cell_type": "code",
   "execution_count": 209,
   "metadata": {},
   "outputs": [
    {
     "data": {
      "text/html": [
       "<div>\n",
       "<style scoped>\n",
       "    .dataframe tbody tr th:only-of-type {\n",
       "        vertical-align: middle;\n",
       "    }\n",
       "\n",
       "    .dataframe tbody tr th {\n",
       "        vertical-align: top;\n",
       "    }\n",
       "\n",
       "    .dataframe thead th {\n",
       "        text-align: right;\n",
       "    }\n",
       "</style>\n",
       "<table border=\"1\" class=\"dataframe\">\n",
       "  <thead>\n",
       "    <tr style=\"text-align: right;\">\n",
       "      <th></th>\n",
       "      <th>ACC</th>\n",
       "      <th>TN</th>\n",
       "      <th>FP</th>\n",
       "      <th>FN</th>\n",
       "      <th>TP</th>\n",
       "      <th>TPR</th>\n",
       "      <th>FPR</th>\n",
       "      <th>FNR</th>\n",
       "      <th>PPP</th>\n",
       "    </tr>\n",
       "  </thead>\n",
       "  <tbody>\n",
       "    <tr>\n",
       "      <th>model</th>\n",
       "      <td>0.805569</td>\n",
       "      <td>10343.0</td>\n",
       "      <td>810.0</td>\n",
       "      <td>2039.0</td>\n",
       "      <td>1461.0</td>\n",
       "      <td>0.417429</td>\n",
       "      <td>0.072626</td>\n",
       "      <td>0.582571</td>\n",
       "      <td>0.154985</td>\n",
       "    </tr>\n",
       "    <tr>\n",
       "      <th>sex_privileged</th>\n",
       "      <td>0.759670</td>\n",
       "      <td>6002.0</td>\n",
       "      <td>810.0</td>\n",
       "      <td>1551.0</td>\n",
       "      <td>1461.0</td>\n",
       "      <td>0.485060</td>\n",
       "      <td>0.118908</td>\n",
       "      <td>0.514940</td>\n",
       "      <td>0.231169</td>\n",
       "    </tr>\n",
       "    <tr>\n",
       "      <th>sex_unprivileged</th>\n",
       "      <td>0.898944</td>\n",
       "      <td>4341.0</td>\n",
       "      <td>0.0</td>\n",
       "      <td>488.0</td>\n",
       "      <td>0.0</td>\n",
       "      <td>0.000000</td>\n",
       "      <td>0.000000</td>\n",
       "      <td>1.000000</td>\n",
       "      <td>0.000000</td>\n",
       "    </tr>\n",
       "    <tr>\n",
       "      <th>race_privileged</th>\n",
       "      <td>0.797697</td>\n",
       "      <td>8659.0</td>\n",
       "      <td>662.0</td>\n",
       "      <td>1868.0</td>\n",
       "      <td>1317.0</td>\n",
       "      <td>0.413501</td>\n",
       "      <td>0.071022</td>\n",
       "      <td>0.586499</td>\n",
       "      <td>0.158244</td>\n",
       "    </tr>\n",
       "    <tr>\n",
       "      <th>race_unprivileged</th>\n",
       "      <td>0.851421</td>\n",
       "      <td>1684.0</td>\n",
       "      <td>148.0</td>\n",
       "      <td>171.0</td>\n",
       "      <td>144.0</td>\n",
       "      <td>0.457143</td>\n",
       "      <td>0.080786</td>\n",
       "      <td>0.542857</td>\n",
       "      <td>0.136004</td>\n",
       "    </tr>\n",
       "  </tbody>\n",
       "</table>\n",
       "</div>"
      ],
      "text/plain": [
       "                        ACC       TN     FP      FN      TP       TPR  \\\n",
       "model              0.805569  10343.0  810.0  2039.0  1461.0  0.417429   \n",
       "sex_privileged     0.759670   6002.0  810.0  1551.0  1461.0  0.485060   \n",
       "sex_unprivileged   0.898944   4341.0    0.0   488.0     0.0  0.000000   \n",
       "race_privileged    0.797697   8659.0  662.0  1868.0  1317.0  0.413501   \n",
       "race_unprivileged  0.851421   1684.0  148.0   171.0   144.0  0.457143   \n",
       "\n",
       "                        FPR       FNR       PPP  \n",
       "model              0.072626  0.582571  0.154985  \n",
       "sex_privileged     0.118908  0.514940  0.231169  \n",
       "sex_unprivileged   0.000000  1.000000  0.000000  \n",
       "race_privileged    0.071022  0.586499  0.158244  \n",
       "race_unprivileged  0.080786  0.542857  0.136004  "
      ]
     },
     "execution_count": 209,
     "metadata": {},
     "output_type": "execute_result"
    }
   ],
   "source": [
    "df_performance_op"
   ]
  },
  {
   "cell_type": "code",
   "execution_count": 210,
   "metadata": {},
   "outputs": [
    {
     "data": {
      "text/html": [
       "<div>\n",
       "<style scoped>\n",
       "    .dataframe tbody tr th:only-of-type {\n",
       "        vertical-align: middle;\n",
       "    }\n",
       "\n",
       "    .dataframe tbody tr th {\n",
       "        vertical-align: top;\n",
       "    }\n",
       "\n",
       "    .dataframe thead th {\n",
       "        text-align: right;\n",
       "    }\n",
       "</style>\n",
       "<table border=\"1\" class=\"dataframe\">\n",
       "  <thead>\n",
       "    <tr style=\"text-align: right;\">\n",
       "      <th></th>\n",
       "      <th>EOD</th>\n",
       "      <th>DI</th>\n",
       "      <th>SPD</th>\n",
       "      <th>OD</th>\n",
       "    </tr>\n",
       "  </thead>\n",
       "  <tbody>\n",
       "    <tr>\n",
       "      <th>sex_fair_metrics</th>\n",
       "      <td>-0.485060</td>\n",
       "      <td>0.000000</td>\n",
       "      <td>-0.231169</td>\n",
       "      <td>-0.603968</td>\n",
       "    </tr>\n",
       "    <tr>\n",
       "      <th>race_fair_metrics</th>\n",
       "      <td>0.043642</td>\n",
       "      <td>0.859456</td>\n",
       "      <td>-0.022240</td>\n",
       "      <td>0.053406</td>\n",
       "    </tr>\n",
       "  </tbody>\n",
       "</table>\n",
       "</div>"
      ],
      "text/plain": [
       "                        EOD        DI       SPD        OD\n",
       "sex_fair_metrics  -0.485060  0.000000 -0.231169 -0.603968\n",
       "race_fair_metrics  0.043642  0.859456 -0.022240  0.053406"
      ]
     },
     "execution_count": 210,
     "metadata": {},
     "output_type": "execute_result"
    }
   ],
   "source": [
    "df_fairness_op"
   ]
  },
  {
   "cell_type": "code",
   "execution_count": 211,
   "metadata": {},
   "outputs": [
    {
     "data": {
      "image/png": "[encoded data removed]",
      "text/plain": [
       "<Figure size 800x310 with 2 Axes>"
      ]
     },
     "metadata": {},
     "output_type": "display_data"
    },
    {
     "data": {
      "image/png": "[encoded data removed]",
      "text/plain": [
       "<Figure size 800x350 with 1 Axes>"
      ]
     },
     "metadata": {},
     "output_type": "display_data"
    }
   ],
   "source": [
    "explainer_rw = shap.Explainer(model_rw)\n",
    "shap_values_rw = explainer_rw(df_test[['age','education','sex','race']])\n",
    "shap.plots.beeswarm(shap_values_rw)\n",
    "shap.plots.bar(shap_values_rw)"
   ]
  },
  {
   "cell_type": "code",
   "execution_count": 212,
   "metadata": {},
   "outputs": [],
   "source": [
    "dataset_orig_train, dataset_orig_test = dataset_orig.split([0.7], shuffle=True)"
   ]
  },
  {
   "cell_type": "code",
   "execution_count": 213,
   "metadata": {},
   "outputs": [
    {
     "name": "stdout",
     "output_type": "stream",
     "text": [
      "                age  education       sex      race     label\n",
      "age        1.000000   0.030006  0.087317  0.032936  0.228385\n",
      "education  0.030006   1.000000  0.009584  0.047616  0.317851\n",
      "sex        0.087317   0.009584  1.000000  0.099938  0.218556\n",
      "race       0.032936   0.047616  0.099938  1.000000  0.081437\n",
      "label      0.228385   0.317851  0.218556  0.081437  1.000000\n"
     ]
    },
    {
     "data": {
      "text/plain": [
       "<AxesSubplot: >"
      ]
     },
     "execution_count": 213,
     "metadata": {},
     "output_type": "execute_result"
    },
    {
     "data": {
      "image/png": "[encoded data removed]",
      "text/plain": [
       "<Figure size 500x500 with 2 Axes>"
      ]
     },
     "metadata": {},
     "output_type": "display_data"
    }
   ],
   "source": [
    "import seaborn as sns\n",
    "sns.set_theme(style=\"white\")\n",
    "\n",
    "# Generate a large random dataset\n",
    "df_train_transf = pd.DataFrame(dataset_orig_train.features,columns = dataset_orig_train.feature_names)\n",
    "\n",
    "df_train_transf['label'] = dataset_orig_train.labels\n",
    "\n",
    "df_train_transf['age'] = df_train_transf.apply(lambda row: 0 if row['Age (decade)=10'] == 1 \n",
    "                            else 1 if row['Age (decade)=20'] == 1 \n",
    "                            else 2 if row['Age (decade)=30'] == 1\n",
    "                            else 3 if row['Age (decade)=40'] == 1\n",
    "                            else 4 if row['Age (decade)=50'] == 1\n",
    "                            else 5 if row['Age (decade)=60'] == 1\n",
    "                            else 6 if row['Age (decade)=>=70'] == 1\n",
    "                            else None,axis = 1)\n",
    "df_train_transf['education'] = df_train_transf.apply(lambda row: 0 if row['Education Years=<6'] == 1 \n",
    "                                  else 1 if row['Education Years=6'] == 1 \n",
    "                                  else 2 if row['Education Years=7'] == 1 \n",
    "                                  else 3 if row['Education Years=8'] == 1 \n",
    "                                  else 4 if row['Education Years=9'] == 1 \n",
    "                                  else 5 if row['Education Years=10'] == 1 \n",
    "                                  else 6 if row['Education Years=11'] == 1 \n",
    "                                  else 7 if row['Education Years=12'] == 1\n",
    "                                  else 8 if row['Education Years=>12'] == 1  \n",
    "                                  else None,axis = 1)\n",
    "df_train_transf = df_train_transf[['age','education','sex','race','label']]\n",
    "\n",
    "# Compute the correlation matrix\n",
    "corr = df_train_transf.corr()\n",
    "print(corr)\n",
    "# Generate a mask for the upper triangle\n",
    "mask = np.triu(np.ones_like(corr, dtype=bool))\n",
    "\n",
    "# Set up the matplotlib figure\n",
    "f, ax = plt.subplots(figsize=(5, 5))\n",
    "\n",
    "# Generate a custom diverging colormap\n",
    "cmap = sns.diverging_palette(230, 20, as_cmap=True)\n",
    "\n",
    "# Draw the heatmap with the mask and correct aspect ratio\n",
    "sns.heatmap(corr, mask=mask, cmap=cmap, center=0,\n",
    "            square=True, linewidths=.5, cbar_kws={\"shrink\": .5})"
   ]
  },
  {
   "cell_type": "code",
   "execution_count": 214,
   "metadata": {},
   "outputs": [
    {
     "data": {
      "text/plain": [
       "['race',\n",
       " 'sex',\n",
       " 'Age (decade)=10',\n",
       " 'Age (decade)=20',\n",
       " 'Age (decade)=30',\n",
       " 'Age (decade)=40',\n",
       " 'Age (decade)=50',\n",
       " 'Age (decade)=60',\n",
       " 'Age (decade)=>=70',\n",
       " 'Education Years=6',\n",
       " 'Education Years=7',\n",
       " 'Education Years=8',\n",
       " 'Education Years=9',\n",
       " 'Education Years=10',\n",
       " 'Education Years=11',\n",
       " 'Education Years=12',\n",
       " 'Education Years=<6',\n",
       " 'Education Years=>12']"
      ]
     },
     "execution_count": 214,
     "metadata": {},
     "output_type": "execute_result"
    }
   ],
   "source": [
    "dataset_orig_train.feature_names"
   ]
  },
  {
   "cell_type": "code",
   "execution_count": 215,
   "metadata": {},
   "outputs": [
    {
     "name": "stdout",
     "output_type": "stream",
     "text": [
      "step: 0, loss: 2.1239118796746412, L_x: 13.931138657050843,  L_y: 0.7220453372897138,  L_z: 0.004376338339921635\n",
      "RUNNING THE L-BFGS-B CODE\n",
      "\n",
      "           * * *\n",
      "\n",
      "Machine precision = 2.220D-16\n",
      " N =           50     M =           10\n",
      "\n",
      "At X0         0 variables are exactly at the bounds\n",
      "\n",
      "At iterate    0    f=  2.12391D+00    |proj g|=  1.67736D-01\n",
      "\n",
      "At iterate    1    f=  1.98371D+00    |proj g|=  9.55684D-02\n",
      "\n",
      "At iterate    2    f=  1.81574D+00    |proj g|=  1.01423D-01\n",
      "step: 250, loss: 1.686952472971299, L_x: 11.06174663409788,  L_y: 0.5740467206286314,  L_z: 0.003365544466439882\n",
      "\n",
      "At iterate    3    f=  1.68695D+00    |proj g|=  1.57708D-01\n",
      "\n",
      "At iterate    4    f=  7.09546D-01    |proj g|=  1.94260D-01\n",
      "\n",
      "At iterate    5    f=  6.54995D-01    |proj g|=  1.27642D-01\n",
      "step: 500, loss: 0.6451839591882133, L_x: 1.3631773461244499,  L_y: 0.4956013205182288,  L_z: 0.006632452028769695\n",
      "\n",
      "At iterate    6    f=  6.45184D-01    |proj g|=  7.28022D-02\n",
      "\n",
      "At iterate    7    f=  6.25945D-01    |proj g|=  6.48578D-02\n",
      "\n",
      "At iterate    8    f=  6.09658D-01    |proj g|=  1.99185D-02\n",
      "\n",
      "At iterate    9    f=  6.05705D-01    |proj g|=  1.50217D-02\n",
      "\n",
      "At iterate   10    f=  5.82746D-01    |proj g|=  3.06424D-02\n",
      "step: 750, loss: 0.766982317129618, L_x: 1.0204291180658052,  L_y: 0.6240474684546922,  L_z: 0.020445968434172616\n",
      "\n",
      "At iterate   11    f=  5.47830D-01    |proj g|=  4.71614D-02\n",
      "\n",
      "At iterate   12    f=  5.39223D-01    |proj g|=  6.98584D-02\n",
      "\n",
      "At iterate   13    f=  5.26266D-01    |proj g|=  4.97667D-02\n",
      "\n",
      "At iterate   14    f=  5.23778D-01    |proj g|=  2.93044D-02\n",
      "step: 1000, loss: 0.5146128727312199, L_x: 0.4754156162872717,  L_y: 0.44883506474982315,  L_z: 0.009118123176334793\n",
      "\n",
      "At iterate   15    f=  5.14613D-01    |proj g|=  2.39521D-02\n",
      "\n",
      "At iterate   16    f=  5.08233D-01    |proj g|=  2.48992D-02\n",
      "\n",
      "At iterate   17    f=  5.05284D-01    |proj g|=  1.67523D-02\n",
      "\n",
      "At iterate   18    f=  5.01427D-01    |proj g|=  2.03048D-02\n",
      "\n",
      "At iterate   19    f=  4.98057D-01    |proj g|=  2.08993D-02\n",
      "step: 1250, loss: 0.49387200178603763, L_x: 0.3748049936919575,  L_y: 0.4389437458795287,  L_z: 0.008723878268656593\n",
      "\n",
      "At iterate   20    f=  4.93872D-01    |proj g|=  2.10030D-02\n",
      "\n",
      "At iterate   21    f=  4.89726D-01    |proj g|=  1.68153D-02\n",
      "\n",
      "At iterate   22    f=  4.85548D-01    |proj g|=  1.14302D-02\n",
      "\n",
      "At iterate   23    f=  4.84541D-01    |proj g|=  7.28217D-03\n",
      "\n",
      "At iterate   24    f=  4.82479D-01    |proj g|=  6.84334D-03\n",
      "step: 1500, loss: 0.48750410707733466, L_x: 0.3403942803851365,  L_y: 0.4351877397591591,  L_z: 0.00913846963983096\n",
      "\n",
      "At iterate   25    f=  4.81538D-01    |proj g|=  1.30288D-02\n",
      "\n",
      "At iterate   26    f=  4.80076D-01    |proj g|=  1.43060D-02\n",
      "\n",
      "At iterate   27    f=  4.79413D-01    |proj g|=  9.70161D-03\n",
      "\n",
      "At iterate   28    f=  4.78610D-01    |proj g|=  9.90365D-03\n",
      "step: 1750, loss: 0.4855551774995959, L_x: 0.3472352080844563,  L_y: 0.43457533756010397,  L_z: 0.008128159565523147\n",
      "\n",
      "At iterate   29    f=  4.78000D-01    |proj g|=  7.18093D-03\n",
      "\n",
      "At iterate   30    f=  4.77595D-01    |proj g|=  9.78265D-03\n",
      "\n",
      "At iterate   31    f=  4.77587D-01    |proj g|=  9.54376D-03\n",
      "step: 2000, loss: 0.47747613060539884, L_x: 0.3376188323337447,  L_y: 0.4306223725106628,  L_z: 0.006545937430680779\n",
      "\n",
      "At iterate   32    f=  4.77476D-01    |proj g|=  1.50858D-02\n",
      "\n",
      "At iterate   33    f=  4.76938D-01    |proj g|=  6.77438D-03\n",
      "\n",
      "At iterate   34    f=  4.76884D-01    |proj g|=  1.02766D-02\n",
      "\n",
      "At iterate   35    f=  4.76202D-01    |proj g|=  1.04672D-02\n",
      "step: 2250, loss: 0.47531451426054394, L_x: 0.33588446452411047,  L_y: 0.4310191679635424,  L_z: 0.00535344992229525\n",
      "\n",
      "At iterate   36    f=  4.75314D-01    |proj g|=  7.01937D-03\n",
      "\n",
      "At iterate   37    f=  4.75299D-01    |proj g|=  1.44495D-02\n",
      "\n",
      "At iterate   38    f=  4.75129D-01    |proj g|=  1.03111D-02\n",
      "step: 2500, loss: 0.4749075059836547, L_x: 0.3336471922577017,  L_y: 0.4306976027134229,  L_z: 0.0054225920222308295\n",
      "\n",
      "At iterate   39    f=  4.74907D-01    |proj g|=  1.01922D-02\n",
      "\n",
      "At iterate   40    f=  4.74855D-01    |proj g|=  1.39257D-02\n",
      "\n",
      "At iterate   41    f=  4.74645D-01    |proj g|=  9.63135D-03\n",
      "step: 2750, loss: 0.47450023921418066, L_x: 0.33368310810994306,  L_y: 0.4306107789909478,  L_z: 0.005260574706119302\n",
      "\n",
      "At iterate   42    f=  4.74500D-01    |proj g|=  1.03372D-02\n",
      "\n",
      "At iterate   43    f=  4.74232D-01    |proj g|=  9.54588D-03\n",
      "\n",
      "At iterate   44    f=  4.74005D-01    |proj g|=  7.75454D-03\n",
      "\n",
      "At iterate   45    f=  4.73788D-01    |proj g|=  1.04284D-02\n",
      "step: 3000, loss: 0.474101296826525, L_x: 0.33386537609041034,  L_y: 0.43075737255791174,  L_z: 0.00497869332978612\n",
      "\n",
      "At iterate   46    f=  4.73709D-01    |proj g|=  8.79085D-03\n",
      "\n",
      "At iterate   47    f=  4.73678D-01    |proj g|=  9.42095D-03\n",
      "step: 3250, loss: 0.473640177006854, L_x: 0.3334298723894169,  L_y: 0.430624283805314,  L_z: 0.004836452981299179\n",
      "\n",
      "At iterate   48    f=  4.73640D-01    |proj g|=  2.06104D-02\n",
      "step: 3500, loss: 0.47355758453583735, L_x: 0.3333039153129776,  L_y: 0.43056305105548787,  L_z: 0.004832070974525869\n",
      "\n",
      "At iterate   49    f=  4.73558D-01    |proj g|=  9.43477D-03\n",
      "\n",
      "At iterate   50    f=  4.73541D-01    |proj g|=  1.17948D-02\n",
      "\n",
      "At iterate   51    f=  4.73464D-01    |proj g|=  9.74682D-03\n",
      "\n",
      "At iterate   52    f=  4.73351D-01    |proj g|=  1.12248D-02\n",
      "step: 3750, loss: 0.4733000862618242, L_x: 0.3326197067116589,  L_y: 0.4304295063069191,  L_z: 0.004804304641869601\n",
      "\n",
      "At iterate   53    f=  4.73300D-01    |proj g|=  1.64630D-02\n",
      "\n",
      "At iterate   54    f=  4.73230D-01    |proj g|=  7.28095D-03\n",
      "\n",
      "At iterate   55    f=  4.73164D-01    |proj g|=  8.91055D-03\n",
      "\n",
      "At iterate   56    f=  4.73139D-01    |proj g|=  1.79432D-02\n",
      "step: 4000, loss: 0.4730258123407262, L_x: 0.330325087424697,  L_y: 0.4303644947274743,  L_z: 0.004814404435391113\n",
      "\n",
      "At iterate   57    f=  4.73026D-01    |proj g|=  1.79485D-02\n",
      "\n",
      "At iterate   58    f=  4.72896D-01    |proj g|=  1.39301D-02\n",
      "\n",
      "At iterate   59    f=  4.72477D-01    |proj g|=  1.00007D-02\n",
      "\n",
      "At iterate   60    f=  4.72191D-01    |proj g|=  6.76572D-03\n",
      "\n",
      "At iterate   61    f=  4.71998D-01    |proj g|=  7.01283D-03\n",
      "step: 4250, loss: 0.47181035663906645, L_x: 0.31982481954798603,  L_y: 0.4303232669290638,  L_z: 0.004752303877602044\n",
      "\n",
      "At iterate   62    f=  4.71810D-01    |proj g|=  7.87186D-03\n",
      "\n",
      "At iterate   63    f=  4.71706D-01    |proj g|=  8.83462D-03\n",
      "\n",
      "At iterate   64    f=  4.71577D-01    |proj g|=  7.72923D-03\n",
      "\n",
      "At iterate   65    f=  4.71492D-01    |proj g|=  6.56307D-03\n",
      "step: 4500, loss: 0.47140078695907406, L_x: 0.317183508011766,  L_y: 0.43051086759878404,  L_z: 0.004585784279556726\n",
      "\n",
      "At iterate   66    f=  4.71401D-01    |proj g|=  8.48102D-03\n",
      "\n",
      "At iterate   67    f=  4.71276D-01    |proj g|=  6.70162D-03\n",
      "\n",
      "At iterate   68    f=  4.71166D-01    |proj g|=  1.47529D-02\n",
      "\n",
      "At iterate   69    f=  4.70968D-01    |proj g|=  1.08319D-02\n",
      "step: 4750, loss: 0.471360349254805, L_x: 0.31578327664764666,  L_y: 0.43065621386827047,  L_z: 0.004562903860884948\n",
      "\n",
      "At iterate   70    f=  4.70937D-01    |proj g|=  8.15127D-03\n",
      "\n",
      "At iterate   71    f=  4.70810D-01    |proj g|=  8.37118D-03\n",
      "\n",
      "At iterate   72    f=  4.70742D-01    |proj g|=  1.70398D-02\n",
      "step: 5000, loss: 0.47061092972217006, L_x: 0.31513851040744023,  L_y: 0.4308132117725301,  L_z: 0.004141933454447969\n",
      "\n",
      "At iterate   73    f=  4.70611D-01    |proj g|=  9.19212D-03\n",
      "\n",
      "           * * *\n",
      "\n",
      "Tit   = total number of iterations\n",
      "Tnf   = total number of function evaluations\n",
      "Tnint = total number of segments explored during Cauchy searches\n",
      "Skip  = number of BFGS updates skipped\n",
      "Nact  = number of active bounds at final generalized Cauchy point\n",
      "Projg = norm of the final projected gradient\n",
      "F     = final function value\n",
      "\n",
      "           * * *\n",
      "\n",
      "   N    Tit     Tnf  Tnint  Skip  Nact     Projg        F\n",
      "   50     73     99     82     0     4   9.192D-03   4.706D-01\n",
      "  F =  0.47061090663437471     \n",
      "\n",
      "STOP: TOTAL NO. of f AND g EVALUATIONS EXCEEDS LIMIT        \n"
     ]
    }
   ],
   "source": [
    "TR = LFR(unprivileged_groups=unprivileged_groups,\n",
    "         privileged_groups=privileged_groups,\n",
    "         k=10, Ax=0.1, Ay=1.0, Az=2.0,\n",
    "         verbose=1\n",
    "        )\n",
    "dataset_orig_train.features = df_train_transf[['age','education','sex','race']].values\n",
    "dataset_orig_train.feature_names = ['age','education','sex','race']\n",
    "\n",
    "TR = TR.fit(dataset_orig_train)"
   ]
  },
  {
   "cell_type": "code",
   "execution_count": 216,
   "metadata": {},
   "outputs": [],
   "source": [
    "df_test = pd.DataFrame(dataset_orig_test.features,columns = dataset_orig_test.feature_names)\n",
    "\n",
    "df_test['label'] = dataset_orig_test.labels\n",
    "df_test['age'] = df_test.apply(lambda row: 0 if row['Age (decade)=10'] == 1 \n",
    "                            else 1 if row['Age (decade)=20'] == 1 \n",
    "                            else 2 if row['Age (decade)=30'] == 1\n",
    "                            else 3 if row['Age (decade)=40'] == 1\n",
    "                            else 4 if row['Age (decade)=50'] == 1\n",
    "                            else 5 if row['Age (decade)=60'] == 1\n",
    "                            else 6 if row['Age (decade)=>=70'] == 1\n",
    "                            else None,axis = 1)\n",
    "df_test['education'] = df_test.apply(lambda row: 0 if row['Education Years=<6'] == 1 \n",
    "                                  else 1 if row['Education Years=6'] == 1 \n",
    "                                  else 2 if row['Education Years=7'] == 1 \n",
    "                                  else 3 if row['Education Years=8'] == 1 \n",
    "                                  else 4 if row['Education Years=9'] == 1 \n",
    "                                  else 5 if row['Education Years=10'] == 1 \n",
    "                                  else 6 if row['Education Years=11'] == 1 \n",
    "                                  else 7 if row['Education Years=12'] == 1\n",
    "                                  else 8 if row['Education Years=>12'] == 1  \n",
    "                                  else None,axis = 1)\n",
    "df_test = df_test[['age','education','sex','race','label']]\n",
    "dataset_orig_test.features = df_test[['age','education','sex','race']].values\n",
    "dataset_orig_test.feature_names = ['age','education','sex','race']\n"
   ]
  },
  {
   "cell_type": "code",
   "execution_count": 217,
   "metadata": {},
   "outputs": [],
   "source": [
    "# Transform training data and align features\n",
    "dataset_transf_train = TR.transform(dataset_orig_train)\n",
    "dataset_transf_test = TR.transform(dataset_orig_test)"
   ]
  },
  {
   "cell_type": "code",
   "execution_count": null,
   "metadata": {},
   "outputs": [],
   "source": []
  },
  {
   "cell_type": "code",
   "execution_count": 218,
   "metadata": {},
   "outputs": [
    {
     "name": "stdout",
     "output_type": "stream",
     "text": [
      "                age  education       sex      race     label\n",
      "age        1.000000   0.003018  0.186372 -0.584283  0.182666\n",
      "education  0.003018   1.000000  0.214389 -0.683388  0.591203\n",
      "sex        0.186372   0.214389  1.000000 -0.373957  0.536011\n",
      "race      -0.584283  -0.683388 -0.373957  1.000000 -0.606788\n",
      "label      0.182666   0.591203  0.536011 -0.606788  1.000000\n"
     ]
    },
    {
     "data": {
      "text/plain": [
       "<AxesSubplot: >"
      ]
     },
     "execution_count": 218,
     "metadata": {},
     "output_type": "execute_result"
    },
    {
     "data": {
      "image/png": "[encoded data removed]",
      "text/plain": [
       "<Figure size 500x500 with 2 Axes>"
      ]
     },
     "metadata": {},
     "output_type": "display_data"
    }
   ],
   "source": [
    "import seaborn as sns\n",
    "sns.set_theme(style=\"white\")\n",
    "\n",
    "# Generate a large random dataset\n",
    "df_train_transf = pd.DataFrame(dataset_transf_train.features,columns = dataset_transf_train.feature_names)\n",
    "\n",
    "df_train_transf['label'] = dataset_transf_train.labels\n",
    "'''\n",
    "df_train_transf['age'] = df_train_transf.apply(lambda row: 0 if row['Age (decade)=10'] == 1 \n",
    "                            else 1 if row['Age (decade)=20'] == 1 \n",
    "                            else 2 if row['Age (decade)=30'] == 1\n",
    "                            else 3 if row['Age (decade)=40'] == 1\n",
    "                            else 4 if row['Age (decade)=50'] == 1\n",
    "                            else 5 if row['Age (decade)=60'] == 1\n",
    "                            else 6 if row['Age (decade)=>=70'] == 1\n",
    "                            else None,axis = 1)\n",
    "df_train_transf['education'] = df_train_transf.apply(lambda row: 0 if row['Education Years=<6'] == 1 \n",
    "                                  else 1 if row['Education Years=6'] == 1 \n",
    "                                  else 2 if row['Education Years=7'] == 1 \n",
    "                                  else 3 if row['Education Years=8'] == 1 \n",
    "                                  else 4 if row['Education Years=9'] == 1 \n",
    "                                  else 5 if row['Education Years=10'] == 1 \n",
    "                                  else 6 if row['Education Years=11'] == 1 \n",
    "                                  else 7 if row['Education Years=12'] == 1\n",
    "                                  else 8 if row['Education Years=>12'] == 1  \n",
    "                                  else None,axis = 1)\n",
    "'''\n",
    "df_train_transf = df_train_transf[['age','education','sex','race','label']]\n",
    "\n",
    "# Compute the correlation matrix\n",
    "corr = df_train_transf.corr()\n",
    "print(corr)\n",
    "# Generate a mask for the upper triangle\n",
    "mask = np.triu(np.ones_like(corr, dtype=bool))\n",
    "\n",
    "# Set up the matplotlib figure\n",
    "f, ax = plt.subplots(figsize=(5, 5))\n",
    "\n",
    "# Generate a custom diverging colormap\n",
    "cmap = sns.diverging_palette(230, 20, as_cmap=True)\n",
    "\n",
    "# Draw the heatmap with the mask and correct aspect ratio\n",
    "sns.heatmap(corr, mask=mask, cmap=cmap, center=0,\n",
    "            square=True, linewidths=.5, cbar_kws={\"shrink\": .5})"
   ]
  },
  {
   "cell_type": "code",
   "execution_count": 219,
   "metadata": {},
   "outputs": [],
   "source": [
    "df_test = pd.DataFrame(dataset_orig_test.features,columns = dataset_orig_test.feature_names)\n",
    "\n",
    "df_test['label'] = dataset_orig_test.labels\n",
    "\n",
    "df_test = df_test[['age','education','sex','race','label']]\n",
    "dataset_orig_test.features = df_test[['age','education','sex','race']].values\n",
    "dataset_orig_test.feature_names = ['age','education','sex','race']"
   ]
  },
  {
   "cell_type": "code",
   "execution_count": 220,
   "metadata": {},
   "outputs": [
    {
     "data": {
      "text/plain": [
       "XGBClassifier(base_score=0.5, booster='gbtree', callbacks=None,\n",
       "              colsample_bylevel=1, colsample_bynode=1, colsample_bytree=1,\n",
       "              early_stopping_rounds=None, enable_categorical=False,\n",
       "              eval_metric=None, feature_types=None, gamma=0, gpu_id=-1,\n",
       "              grow_policy='depthwise', importance_type=None,\n",
       "              interaction_constraints='', learning_rate=0.300000012,\n",
       "              max_bin=256, max_cat_threshold=64, max_cat_to_onehot=4,\n",
       "              max_delta_step=0, max_depth=6, max_leaves=0, min_child_weight=1,\n",
       "              missing=nan, monotone_constraints='()', n_estimators=100,\n",
       "              n_jobs=0, num_parallel_tree=1, predictor='auto', random_state=0, ...)"
      ]
     },
     "execution_count": 220,
     "metadata": {},
     "output_type": "execute_result"
    }
   ],
   "source": [
    "model_lfr = XGBClassifier()\n",
    "model_lfr.fit(dataset_transf_train.features, dataset_transf_train.labels)"
   ]
  },
  {
   "cell_type": "code",
   "execution_count": 221,
   "metadata": {},
   "outputs": [],
   "source": [
    "df_test['Predicted'] = model_lfr.predict(dataset_transf_test.features)"
   ]
  },
  {
   "cell_type": "code",
   "execution_count": 222,
   "metadata": {},
   "outputs": [
    {
     "name": "stdout",
     "output_type": "stream",
     "text": [
      "Calculating metrics for : sex  the value :  1\n",
      "Calculating metrics for : sex  the value :  0\n",
      "Calculating metrics for : race  the value :  1\n",
      "Calculating metrics for : race  the value :  0\n"
     ]
    }
   ],
   "source": [
    "lfr_dataset = data.Data(df_test, transform=False)\n",
    "\n",
    "metrics_xgboost_mitigated_fair_data = lfr_dataset.fairness_metrics(target_column='label', predicted_column = 'Predicted',\n",
    "                            columns_fair = {'sex' : {'privileged' : 1, 'unprivileged' : 0},\n",
    "                                            'race' : {'privileged' : 1, 'unprivileged' : 0}})\n",
    "df_performance_op,df_fairness_op = lfr_dataset.get_df_metrics(metrics_xgboost_mitigated_fair_data)"
   ]
  },
  {
   "cell_type": "code",
   "execution_count": 223,
   "metadata": {},
   "outputs": [
    {
     "data": {
      "text/html": [
       "<div>\n",
       "<style scoped>\n",
       "    .dataframe tbody tr th:only-of-type {\n",
       "        vertical-align: middle;\n",
       "    }\n",
       "\n",
       "    .dataframe tbody tr th {\n",
       "        vertical-align: top;\n",
       "    }\n",
       "\n",
       "    .dataframe thead th {\n",
       "        text-align: right;\n",
       "    }\n",
       "</style>\n",
       "<table border=\"1\" class=\"dataframe\">\n",
       "  <thead>\n",
       "    <tr style=\"text-align: right;\">\n",
       "      <th></th>\n",
       "      <th>ACC</th>\n",
       "      <th>TN</th>\n",
       "      <th>FP</th>\n",
       "      <th>FN</th>\n",
       "      <th>TP</th>\n",
       "      <th>TPR</th>\n",
       "      <th>FPR</th>\n",
       "      <th>FNR</th>\n",
       "      <th>PPP</th>\n",
       "    </tr>\n",
       "  </thead>\n",
       "  <tbody>\n",
       "    <tr>\n",
       "      <th>model</th>\n",
       "      <td>0.800860</td>\n",
       "      <td>10378.0</td>\n",
       "      <td>750.0</td>\n",
       "      <td>2168.0</td>\n",
       "      <td>1357.0</td>\n",
       "      <td>0.384965</td>\n",
       "      <td>0.067398</td>\n",
       "      <td>0.615035</td>\n",
       "      <td>0.143793</td>\n",
       "    </tr>\n",
       "    <tr>\n",
       "      <th>sex_privileged</th>\n",
       "      <td>0.759610</td>\n",
       "      <td>6053.0</td>\n",
       "      <td>748.0</td>\n",
       "      <td>1597.0</td>\n",
       "      <td>1357.0</td>\n",
       "      <td>0.459377</td>\n",
       "      <td>0.109984</td>\n",
       "      <td>0.540623</td>\n",
       "      <td>0.215787</td>\n",
       "    </tr>\n",
       "    <tr>\n",
       "      <th>sex_unprivileged</th>\n",
       "      <td>0.883013</td>\n",
       "      <td>4325.0</td>\n",
       "      <td>2.0</td>\n",
       "      <td>571.0</td>\n",
       "      <td>0.0</td>\n",
       "      <td>0.000000</td>\n",
       "      <td>0.000462</td>\n",
       "      <td>1.000000</td>\n",
       "      <td>0.000408</td>\n",
       "    </tr>\n",
       "    <tr>\n",
       "      <th>race_privileged</th>\n",
       "      <td>0.792853</td>\n",
       "      <td>8668.0</td>\n",
       "      <td>634.0</td>\n",
       "      <td>1957.0</td>\n",
       "      <td>1249.0</td>\n",
       "      <td>0.389582</td>\n",
       "      <td>0.068157</td>\n",
       "      <td>0.610418</td>\n",
       "      <td>0.150544</td>\n",
       "    </tr>\n",
       "    <tr>\n",
       "      <th>race_unprivileged</th>\n",
       "      <td>0.847552</td>\n",
       "      <td>1710.0</td>\n",
       "      <td>116.0</td>\n",
       "      <td>211.0</td>\n",
       "      <td>108.0</td>\n",
       "      <td>0.338558</td>\n",
       "      <td>0.063527</td>\n",
       "      <td>0.661442</td>\n",
       "      <td>0.104429</td>\n",
       "    </tr>\n",
       "  </tbody>\n",
       "</table>\n",
       "</div>"
      ],
      "text/plain": [
       "                        ACC       TN     FP      FN      TP       TPR  \\\n",
       "model              0.800860  10378.0  750.0  2168.0  1357.0  0.384965   \n",
       "sex_privileged     0.759610   6053.0  748.0  1597.0  1357.0  0.459377   \n",
       "sex_unprivileged   0.883013   4325.0    2.0   571.0     0.0  0.000000   \n",
       "race_privileged    0.792853   8668.0  634.0  1957.0  1249.0  0.389582   \n",
       "race_unprivileged  0.847552   1710.0  116.0   211.0   108.0  0.338558   \n",
       "\n",
       "                        FPR       FNR       PPP  \n",
       "model              0.067398  0.615035  0.143793  \n",
       "sex_privileged     0.109984  0.540623  0.215787  \n",
       "sex_unprivileged   0.000462  1.000000  0.000408  \n",
       "race_privileged    0.068157  0.610418  0.150544  \n",
       "race_unprivileged  0.063527  0.661442  0.104429  "
      ]
     },
     "execution_count": 223,
     "metadata": {},
     "output_type": "execute_result"
    }
   ],
   "source": [
    "df_performance_op"
   ]
  },
  {
   "cell_type": "code",
   "execution_count": 224,
   "metadata": {},
   "outputs": [
    {
     "data": {
      "text/html": [
       "<div>\n",
       "<style scoped>\n",
       "    .dataframe tbody tr th:only-of-type {\n",
       "        vertical-align: middle;\n",
       "    }\n",
       "\n",
       "    .dataframe tbody tr th {\n",
       "        vertical-align: top;\n",
       "    }\n",
       "\n",
       "    .dataframe thead th {\n",
       "        text-align: right;\n",
       "    }\n",
       "</style>\n",
       "<table border=\"1\" class=\"dataframe\">\n",
       "  <thead>\n",
       "    <tr style=\"text-align: right;\">\n",
       "      <th></th>\n",
       "      <th>EOD</th>\n",
       "      <th>DI</th>\n",
       "      <th>SPD</th>\n",
       "      <th>OD</th>\n",
       "    </tr>\n",
       "  </thead>\n",
       "  <tbody>\n",
       "    <tr>\n",
       "      <th>sex_fair_metrics</th>\n",
       "      <td>-0.459377</td>\n",
       "      <td>0.001892</td>\n",
       "      <td>-0.215378</td>\n",
       "      <td>-0.568899</td>\n",
       "    </tr>\n",
       "    <tr>\n",
       "      <th>race_fair_metrics</th>\n",
       "      <td>-0.051024</td>\n",
       "      <td>0.693679</td>\n",
       "      <td>-0.046115</td>\n",
       "      <td>-0.055655</td>\n",
       "    </tr>\n",
       "  </tbody>\n",
       "</table>\n",
       "</div>"
      ],
      "text/plain": [
       "                        EOD        DI       SPD        OD\n",
       "sex_fair_metrics  -0.459377  0.001892 -0.215378 -0.568899\n",
       "race_fair_metrics -0.051024  0.693679 -0.046115 -0.055655"
      ]
     },
     "execution_count": 224,
     "metadata": {},
     "output_type": "execute_result"
    }
   ],
   "source": [
    "df_fairness_op"
   ]
  },
  {
   "cell_type": "code",
   "execution_count": 225,
   "metadata": {},
   "outputs": [
    {
     "data": {
      "image/png": "[encoded data removed]",
      "text/plain": [
       "<Figure size 800x310 with 2 Axes>"
      ]
     },
     "metadata": {},
     "output_type": "display_data"
    },
    {
     "data": {
      "image/png": "[encoded data removed]",
      "text/plain": [
       "<Figure size 800x350 with 1 Axes>"
      ]
     },
     "metadata": {},
     "output_type": "display_data"
    }
   ],
   "source": [
    "explainer_lfr = shap.Explainer(model_lfr)\n",
    "shap_values_lfr = explainer_lfr(df_test[['age','education','sex','race']])\n",
    "shap.plots.beeswarm(shap_values_lfr)\n",
    "shap.plots.bar(shap_values_lfr)"
   ]
  },
  {
   "cell_type": "code",
   "execution_count": 226,
   "metadata": {},
   "outputs": [],
   "source": [
    "from dalex.fairness import resample\n",
    "import dalex as dx"
   ]
  },
  {
   "cell_type": "code",
   "execution_count": 227,
   "metadata": {},
   "outputs": [],
   "source": [
    "dataset_orig_train, dataset_orig_test = dataset_orig.split([0.7], shuffle=True)"
   ]
  },
  {
   "cell_type": "code",
   "execution_count": 237,
   "metadata": {},
   "outputs": [
    {
     "name": "stdout",
     "output_type": "stream",
     "text": [
      "                age  education       sex      race     label\n",
      "age        1.000000   0.033135  0.088453  0.034872  0.231719\n",
      "education  0.033135   1.000000  0.002489  0.049114  0.322881\n",
      "sex        0.088453   0.002489  1.000000  0.104261  0.213464\n",
      "race       0.034872   0.049114  0.104261  1.000000  0.083671\n",
      "label      0.231719   0.322881  0.213464  0.083671  1.000000\n"
     ]
    },
    {
     "data": {
      "text/plain": [
       "<AxesSubplot: >"
      ]
     },
     "execution_count": 237,
     "metadata": {},
     "output_type": "execute_result"
    },
    {
     "data": {
      "image/png": "[encoded data removed]",
      "text/plain": [
       "<Figure size 500x500 with 2 Axes>"
      ]
     },
     "metadata": {},
     "output_type": "display_data"
    }
   ],
   "source": [
    "import seaborn as sns\n",
    "sns.set_theme(style=\"white\")\n",
    "\n",
    "# Generate a large random dataset\n",
    "df_train_transf = pd.DataFrame(dataset_orig_train.features,columns = dataset_orig_train.feature_names)\n",
    "\n",
    "df_train_transf['label'] = dataset_orig_train.labels\n",
    "\n",
    "df_train_transf['age'] = df_train_transf.apply(lambda row: 0 if row['Age (decade)=10'] == 1 \n",
    "                            else 1 if row['Age (decade)=20'] == 1 \n",
    "                            else 2 if row['Age (decade)=30'] == 1\n",
    "                            else 3 if row['Age (decade)=40'] == 1\n",
    "                            else 4 if row['Age (decade)=50'] == 1\n",
    "                            else 5 if row['Age (decade)=60'] == 1\n",
    "                            else 6 if row['Age (decade)=>=70'] == 1\n",
    "                            else None,axis = 1)\n",
    "df_train_transf['education'] = df_train_transf.apply(lambda row: 0 if row['Education Years=<6'] == 1 \n",
    "                                  else 1 if row['Education Years=6'] == 1 \n",
    "                                  else 2 if row['Education Years=7'] == 1 \n",
    "                                  else 3 if row['Education Years=8'] == 1 \n",
    "                                  else 4 if row['Education Years=9'] == 1 \n",
    "                                  else 5 if row['Education Years=10'] == 1 \n",
    "                                  else 6 if row['Education Years=11'] == 1 \n",
    "                                  else 7 if row['Education Years=12'] == 1\n",
    "                                  else 8 if row['Education Years=>12'] == 1  \n",
    "                                  else None,axis = 1)\n",
    "df_train_transf = df_train_transf[['age','education','sex','race','label']]\n",
    "\n",
    "# Compute the correlation matrix\n",
    "corr = df_train_transf.corr()\n",
    "print(corr)\n",
    "# Generate a mask for the upper triangle\n",
    "mask = np.triu(np.ones_like(corr, dtype=bool))\n",
    "\n",
    "# Set up the matplotlib figure\n",
    "f, ax = plt.subplots(figsize=(5, 5))\n",
    "\n",
    "# Generate a custom diverging colormap\n",
    "cmap = sns.diverging_palette(230, 20, as_cmap=True)\n",
    "\n",
    "# Draw the heatmap with the mask and correct aspect ratio\n",
    "sns.heatmap(corr, mask=mask, cmap=cmap, center=0,\n",
    "            square=True, linewidths=.5, cbar_kws={\"shrink\": .5})"
   ]
  },
  {
   "cell_type": "code",
   "execution_count": 248,
   "metadata": {},
   "outputs": [],
   "source": [
    "indices_uniform = resample(df_train_transf.sex, df_train_transf.label, verbose = False)\n"
   ]
  },
  {
   "cell_type": "code",
   "execution_count": 249,
   "metadata": {},
   "outputs": [
    {
     "data": {
      "text/plain": [
       "31255"
      ]
     },
     "execution_count": 249,
     "metadata": {},
     "output_type": "execute_result"
    }
   ],
   "source": [
    "len(np.unique(indices_uniform))"
   ]
  },
  {
   "cell_type": "code",
   "execution_count": 250,
   "metadata": {},
   "outputs": [
    {
     "data": {
      "text/plain": [
       "34189"
      ]
     },
     "execution_count": 250,
     "metadata": {},
     "output_type": "execute_result"
    }
   ],
   "source": [
    "len(df_train_transf)"
   ]
  },
  {
   "cell_type": "code",
   "execution_count": 251,
   "metadata": {},
   "outputs": [
    {
     "data": {
      "text/plain": [
       "34189"
      ]
     },
     "execution_count": 251,
     "metadata": {},
     "output_type": "execute_result"
    }
   ],
   "source": [
    "len( df_train_transf.iloc[indices_uniform])"
   ]
  },
  {
   "cell_type": "code",
   "execution_count": 252,
   "metadata": {},
   "outputs": [
    {
     "name": "stdout",
     "output_type": "stream",
     "text": [
      "                age  education       sex      race     label\n",
      "age        1.000000   0.025479  0.046388  0.035931  0.214355\n",
      "education  0.025479   1.000000 -0.068313  0.041943  0.336162\n",
      "sex        0.046388  -0.068313  1.000000  0.086779  0.000032\n",
      "race       0.035931   0.041943  0.086779  1.000000  0.070587\n",
      "label      0.214355   0.336162  0.000032  0.070587  1.000000\n"
     ]
    },
    {
     "data": {
      "text/plain": [
       "<AxesSubplot: >"
      ]
     },
     "execution_count": 252,
     "metadata": {},
     "output_type": "execute_result"
    },
    {
     "data": {
      "image/png": "[encoded data removed]",
      "text/plain": [
       "<Figure size 500x500 with 2 Axes>"
      ]
     },
     "metadata": {},
     "output_type": "display_data"
    }
   ],
   "source": [
    "# Compute the correlation matrix\n",
    "corr = df_train_transf.iloc[indices_uniform].corr()\n",
    "print(corr)\n",
    "# Generate a mask for the upper triangle\n",
    "mask = np.triu(np.ones_like(corr, dtype=bool))\n",
    "\n",
    "# Set up the matplotlib figure\n",
    "f, ax = plt.subplots(figsize=(5, 5))\n",
    "\n",
    "# Generate a custom diverging colormap\n",
    "cmap = sns.diverging_palette(230, 20, as_cmap=True)\n",
    "\n",
    "# Draw the heatmap with the mask and correct aspect ratio\n",
    "sns.heatmap(corr, mask=mask, cmap=cmap, center=0,\n",
    "            square=True, linewidths=.5, cbar_kws={\"shrink\": .5})"
   ]
  },
  {
   "cell_type": "code",
   "execution_count": null,
   "metadata": {},
   "outputs": [],
   "source": [
    "# Compute the correlation matrix\n",
    "corr = df_train_transf.corr()\n",
    "print(corr)\n",
    "# Generate a mask for the upper triangle\n",
    "mask = np.triu(np.ones_like(corr, dtype=bool))\n",
    "\n",
    "# Set up the matplotlib figure\n",
    "f, ax = plt.subplots(figsize=(5, 5))\n",
    "\n",
    "# Generate a custom diverging colormap\n",
    "cmap = sns.diverging_palette(230, 20, as_cmap=True)\n",
    "\n",
    "# Draw the heatmap with the mask and correct aspect ratio\n",
    "sns.heatmap(corr, mask=mask, cmap=cmap, center=0,\n",
    "            square=True, linewidths=.5, cbar_kws={\"shrink\": .5})"
   ]
  },
  {
   "cell_type": "code",
   "execution_count": 230,
   "metadata": {},
   "outputs": [
    {
     "data": {
      "text/plain": [
       "XGBClassifier(base_score=0.5, booster='gbtree', callbacks=None,\n",
       "              colsample_bylevel=1, colsample_bynode=1, colsample_bytree=1,\n",
       "              early_stopping_rounds=None, enable_categorical=False,\n",
       "              eval_metric=None, feature_types=None, gamma=0, gpu_id=-1,\n",
       "              grow_policy='depthwise', importance_type=None,\n",
       "              interaction_constraints='', learning_rate=0.300000012,\n",
       "              max_bin=256, max_cat_threshold=64, max_cat_to_onehot=4,\n",
       "              max_delta_step=0, max_depth=6, max_leaves=0, min_child_weight=1,\n",
       "              missing=nan, monotone_constraints='()', n_estimators=100,\n",
       "              n_jobs=0, num_parallel_tree=1, predictor='auto', random_state=0, ...)"
      ]
     },
     "execution_count": 230,
     "metadata": {},
     "output_type": "execute_result"
    }
   ],
   "source": [
    "model_resample = XGBClassifier()\n",
    "model_resample.fit(df_train_transf[['age','education','sex','race']].values[indices_uniform], df_train_transf['label'][indices_uniform])"
   ]
  },
  {
   "cell_type": "code",
   "execution_count": 231,
   "metadata": {},
   "outputs": [],
   "source": [
    "df_test = pd.DataFrame(dataset_orig_test.features,columns = dataset_orig_test.feature_names)\n",
    "\n",
    "df_test['label'] = dataset_orig_test.labels\n",
    "df_test['age'] = df_test.apply(lambda row: 0 if row['Age (decade)=10'] == 1 \n",
    "                            else 1 if row['Age (decade)=20'] == 1 \n",
    "                            else 2 if row['Age (decade)=30'] == 1\n",
    "                            else 3 if row['Age (decade)=40'] == 1\n",
    "                            else 4 if row['Age (decade)=50'] == 1\n",
    "                            else 5 if row['Age (decade)=60'] == 1\n",
    "                            else 6 if row['Age (decade)=>=70'] == 1\n",
    "                            else None,axis = 1)\n",
    "df_test['education'] = df_test.apply(lambda row: 0 if row['Education Years=<6'] == 1 \n",
    "                                  else 1 if row['Education Years=6'] == 1 \n",
    "                                  else 2 if row['Education Years=7'] == 1 \n",
    "                                  else 3 if row['Education Years=8'] == 1 \n",
    "                                  else 4 if row['Education Years=9'] == 1 \n",
    "                                  else 5 if row['Education Years=10'] == 1 \n",
    "                                  else 6 if row['Education Years=11'] == 1 \n",
    "                                  else 7 if row['Education Years=12'] == 1\n",
    "                                  else 8 if row['Education Years=>12'] == 1  \n",
    "                                  else None,axis = 1)\n",
    "df_test = df_test[['age','education','sex','race','label']]"
   ]
  },
  {
   "cell_type": "code",
   "execution_count": 232,
   "metadata": {},
   "outputs": [],
   "source": [
    "df_test['Predicted'] = model_resample.predict(df_test[['age','education','sex','race']])"
   ]
  },
  {
   "cell_type": "code",
   "execution_count": 233,
   "metadata": {},
   "outputs": [
    {
     "name": "stdout",
     "output_type": "stream",
     "text": [
      "Calculating metrics for : sex  the value :  1\n",
      "Calculating metrics for : sex  the value :  0\n",
      "Calculating metrics for : race  the value :  1\n",
      "Calculating metrics for : race  the value :  0\n"
     ]
    }
   ],
   "source": [
    "resample_dataset = data.Data(df_test, transform=False)\n",
    "\n",
    "metrics_xgboost_mitigated_fair_data = resample_dataset.fairness_metrics(target_column='label', predicted_column = 'Predicted',\n",
    "                            columns_fair = {'sex' : {'privileged' : 1, 'unprivileged' : 0},\n",
    "                                            'race' : {'privileged' : 1, 'unprivileged' : 0}})\n",
    "df_performance_op,df_fairness_op = resample_dataset.get_df_metrics(metrics_xgboost_mitigated_fair_data)"
   ]
  },
  {
   "cell_type": "code",
   "execution_count": 234,
   "metadata": {},
   "outputs": [
    {
     "data": {
      "text/html": [
       "<div>\n",
       "<style scoped>\n",
       "    .dataframe tbody tr th:only-of-type {\n",
       "        vertical-align: middle;\n",
       "    }\n",
       "\n",
       "    .dataframe tbody tr th {\n",
       "        vertical-align: top;\n",
       "    }\n",
       "\n",
       "    .dataframe thead th {\n",
       "        text-align: right;\n",
       "    }\n",
       "</style>\n",
       "<table border=\"1\" class=\"dataframe\">\n",
       "  <thead>\n",
       "    <tr style=\"text-align: right;\">\n",
       "      <th></th>\n",
       "      <th>ACC</th>\n",
       "      <th>TN</th>\n",
       "      <th>FP</th>\n",
       "      <th>FN</th>\n",
       "      <th>TP</th>\n",
       "      <th>TPR</th>\n",
       "      <th>FPR</th>\n",
       "      <th>FNR</th>\n",
       "      <th>PPP</th>\n",
       "    </tr>\n",
       "  </thead>\n",
       "  <tbody>\n",
       "    <tr>\n",
       "      <th>model</th>\n",
       "      <td>0.798335</td>\n",
       "      <td>10254.0</td>\n",
       "      <td>863.0</td>\n",
       "      <td>2092.0</td>\n",
       "      <td>1444.0</td>\n",
       "      <td>0.408371</td>\n",
       "      <td>0.077629</td>\n",
       "      <td>0.591629</td>\n",
       "      <td>0.157442</td>\n",
       "    </tr>\n",
       "    <tr>\n",
       "      <th>sex_privileged</th>\n",
       "      <td>0.752930</td>\n",
       "      <td>6007.0</td>\n",
       "      <td>863.0</td>\n",
       "      <td>1582.0</td>\n",
       "      <td>1444.0</td>\n",
       "      <td>0.477198</td>\n",
       "      <td>0.125619</td>\n",
       "      <td>0.522802</td>\n",
       "      <td>0.233124</td>\n",
       "    </tr>\n",
       "    <tr>\n",
       "      <th>sex_unprivileged</th>\n",
       "      <td>0.892790</td>\n",
       "      <td>4247.0</td>\n",
       "      <td>0.0</td>\n",
       "      <td>510.0</td>\n",
       "      <td>0.0</td>\n",
       "      <td>0.000000</td>\n",
       "      <td>0.000000</td>\n",
       "      <td>1.000000</td>\n",
       "      <td>0.000000</td>\n",
       "    </tr>\n",
       "    <tr>\n",
       "      <th>race_privileged</th>\n",
       "      <td>0.791567</td>\n",
       "      <td>8622.0</td>\n",
       "      <td>693.0</td>\n",
       "      <td>1917.0</td>\n",
       "      <td>1290.0</td>\n",
       "      <td>0.402245</td>\n",
       "      <td>0.074396</td>\n",
       "      <td>0.597755</td>\n",
       "      <td>0.158361</td>\n",
       "    </tr>\n",
       "    <tr>\n",
       "      <th>race_unprivileged</th>\n",
       "      <td>0.838104</td>\n",
       "      <td>1632.0</td>\n",
       "      <td>170.0</td>\n",
       "      <td>175.0</td>\n",
       "      <td>154.0</td>\n",
       "      <td>0.468085</td>\n",
       "      <td>0.094340</td>\n",
       "      <td>0.531915</td>\n",
       "      <td>0.152041</td>\n",
       "    </tr>\n",
       "  </tbody>\n",
       "</table>\n",
       "</div>"
      ],
      "text/plain": [
       "                        ACC       TN     FP      FN      TP       TPR  \\\n",
       "model              0.798335  10254.0  863.0  2092.0  1444.0  0.408371   \n",
       "sex_privileged     0.752930   6007.0  863.0  1582.0  1444.0  0.477198   \n",
       "sex_unprivileged   0.892790   4247.0    0.0   510.0     0.0  0.000000   \n",
       "race_privileged    0.791567   8622.0  693.0  1917.0  1290.0  0.402245   \n",
       "race_unprivileged  0.838104   1632.0  170.0   175.0   154.0  0.468085   \n",
       "\n",
       "                        FPR       FNR       PPP  \n",
       "model              0.077629  0.591629  0.157442  \n",
       "sex_privileged     0.125619  0.522802  0.233124  \n",
       "sex_unprivileged   0.000000  1.000000  0.000000  \n",
       "race_privileged    0.074396  0.597755  0.158361  \n",
       "race_unprivileged  0.094340  0.531915  0.152041  "
      ]
     },
     "execution_count": 234,
     "metadata": {},
     "output_type": "execute_result"
    }
   ],
   "source": [
    "df_performance_op"
   ]
  },
  {
   "cell_type": "code",
   "execution_count": 235,
   "metadata": {},
   "outputs": [
    {
     "data": {
      "text/html": [
       "<div>\n",
       "<style scoped>\n",
       "    .dataframe tbody tr th:only-of-type {\n",
       "        vertical-align: middle;\n",
       "    }\n",
       "\n",
       "    .dataframe tbody tr th {\n",
       "        vertical-align: top;\n",
       "    }\n",
       "\n",
       "    .dataframe thead th {\n",
       "        text-align: right;\n",
       "    }\n",
       "</style>\n",
       "<table border=\"1\" class=\"dataframe\">\n",
       "  <thead>\n",
       "    <tr style=\"text-align: right;\">\n",
       "      <th></th>\n",
       "      <th>EOD</th>\n",
       "      <th>DI</th>\n",
       "      <th>SPD</th>\n",
       "      <th>OD</th>\n",
       "    </tr>\n",
       "  </thead>\n",
       "  <tbody>\n",
       "    <tr>\n",
       "      <th>sex_fair_metrics</th>\n",
       "      <td>-0.477198</td>\n",
       "      <td>0.000000</td>\n",
       "      <td>-0.233124</td>\n",
       "      <td>-0.602816</td>\n",
       "    </tr>\n",
       "    <tr>\n",
       "      <th>race_fair_metrics</th>\n",
       "      <td>0.065840</td>\n",
       "      <td>0.960091</td>\n",
       "      <td>-0.006320</td>\n",
       "      <td>0.085784</td>\n",
       "    </tr>\n",
       "  </tbody>\n",
       "</table>\n",
       "</div>"
      ],
      "text/plain": [
       "                        EOD        DI       SPD        OD\n",
       "sex_fair_metrics  -0.477198  0.000000 -0.233124 -0.602816\n",
       "race_fair_metrics  0.065840  0.960091 -0.006320  0.085784"
      ]
     },
     "execution_count": 235,
     "metadata": {},
     "output_type": "execute_result"
    }
   ],
   "source": [
    "df_fairness_op"
   ]
  },
  {
   "cell_type": "code",
   "execution_count": 236,
   "metadata": {},
   "outputs": [
    {
     "data": {
      "image/png": "[encoded data removed]",
      "text/plain": [
       "<Figure size 800x310 with 2 Axes>"
      ]
     },
     "metadata": {},
     "output_type": "display_data"
    },
    {
     "data": {
      "image/png": "[encoded data removed]",
      "text/plain": [
       "<Figure size 800x350 with 1 Axes>"
      ]
     },
     "metadata": {},
     "output_type": "display_data"
    }
   ],
   "source": [
    "explainer_resample = shap.Explainer(model_resample)\n",
    "shap_values_resample = explainer_resample(df_test[['age','education','sex','race']])\n",
    "shap.plots.beeswarm(shap_values_resample)\n",
    "shap.plots.bar(shap_values_resample)"
   ]
  },
  {
   "cell_type": "code",
   "execution_count": null,
   "metadata": {},
   "outputs": [],
   "source": []
  }
 ],
 "metadata": {
  "kernelspec": {
   "display_name": "py38",
   "language": "python",
   "name": "python3"
  },
  "language_info": {
   "codemirror_mode": {
    "name": "ipython",
    "version": 3
   },
   "file_extension": ".py",
   "mimetype": "text/x-python",
   "name": "python",
   "nbconvert_exporter": "python",
   "pygments_lexer": "ipython3",
   "version": "3.8.15"
  },
  "orig_nbformat": 4
 },
 "nbformat": 4,
 "nbformat_minor": 2
}
