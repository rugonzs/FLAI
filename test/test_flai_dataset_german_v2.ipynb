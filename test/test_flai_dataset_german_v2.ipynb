{
 "cells": [
  {
   "cell_type": "code",
   "execution_count": 1,
   "metadata": {},
   "outputs": [
    {
     "name": "stderr",
     "output_type": "stream",
     "text": [
      "2023-06-04 12:33:00.007115: I tensorflow/core/platform/cpu_feature_guard.cc:193] This TensorFlow binary is optimized with oneAPI Deep Neural Network Library (oneDNN) to use the following CPU instructions in performance-critical operations:  AVX2 FMA\n",
      "To enable them in other operations, rebuild TensorFlow with the appropriate compiler flags.\n",
      "2023-06-04 12:33:00.626177: W tensorflow/compiler/xla/stream_executor/platform/default/dso_loader.cc:64] Could not load dynamic library 'libnvinfer.so.7'; dlerror: libnvinfer.so.7: cannot open shared object file: No such file or directory\n",
      "2023-06-04 12:33:00.626262: W tensorflow/compiler/xla/stream_executor/platform/default/dso_loader.cc:64] Could not load dynamic library 'libnvinfer_plugin.so.7'; dlerror: libnvinfer_plugin.so.7: cannot open shared object file: No such file or directory\n",
      "2023-06-04 12:33:00.626268: W tensorflow/compiler/tf2tensorrt/utils/py_utils.cc:38] TF-TRT Warning: Cannot dlopen some TensorRT libraries. If you would like to use Nvidia GPU with TensorRT, please make sure the missing libraries mentioned above are installed properly.\n"
     ]
    }
   ],
   "source": [
    "from FLAI import data\n",
    "from FLAI import causal_graph\n",
    "import pandas as pd\n",
    "import numpy as np\n",
    "import matplotlib.pyplot as plt\n",
    "import seaborn as sns\n",
    "from aif360.algorithms.preprocessing.optim_preproc_helpers.data_preproc_functions import load_preproc_data_adult, load_preproc_data_german, load_preproc_data_compas\n"
   ]
  },
  {
   "cell_type": "code",
   "execution_count": 2,
   "metadata": {},
   "outputs": [],
   "source": [
    "dataset_orig = load_preproc_data_german()\n",
    "df = pd.DataFrame(dataset_orig.features,columns = dataset_orig.feature_names)\n",
    "df['label'] = dataset_orig.labels\n",
    "df.to_pickle('../Data/german.pickle')"
   ]
  },
  {
   "cell_type": "code",
   "execution_count": 3,
   "metadata": {},
   "outputs": [
    {
     "data": {
      "text/plain": [
       "1.0"
      ]
     },
     "execution_count": 3,
     "metadata": {},
     "output_type": "execute_result"
    }
   ],
   "source": [
    "dataset_orig.favorable_label"
   ]
  },
  {
   "cell_type": "code",
   "execution_count": 4,
   "metadata": {},
   "outputs": [
    {
     "data": {
      "text/plain": [
       "(1000, 12)"
      ]
     },
     "execution_count": 4,
     "metadata": {},
     "output_type": "execute_result"
    }
   ],
   "source": [
    "df.shape"
   ]
  },
  {
   "attachments": {},
   "cell_type": "markdown",
   "metadata": {},
   "source": [
    "## Prepare Data"
   ]
  },
  {
   "cell_type": "code",
   "execution_count": 5,
   "metadata": {},
   "outputs": [
    {
     "data": {
      "text/html": [
       "<div>\n",
       "<style scoped>\n",
       "    .dataframe tbody tr th:only-of-type {\n",
       "        vertical-align: middle;\n",
       "    }\n",
       "\n",
       "    .dataframe tbody tr th {\n",
       "        vertical-align: top;\n",
       "    }\n",
       "\n",
       "    .dataframe thead th {\n",
       "        text-align: right;\n",
       "    }\n",
       "</style>\n",
       "<table border=\"1\" class=\"dataframe\">\n",
       "  <thead>\n",
       "    <tr style=\"text-align: right;\">\n",
       "      <th></th>\n",
       "      <th>age</th>\n",
       "      <th>sex</th>\n",
       "      <th>credit_history=Delay</th>\n",
       "      <th>credit_history=None/Paid</th>\n",
       "      <th>credit_history=Other</th>\n",
       "      <th>savings=500+</th>\n",
       "      <th>savings=&lt;500</th>\n",
       "      <th>savings=Unknown/None</th>\n",
       "      <th>employment=1-4 years</th>\n",
       "      <th>employment=4+ years</th>\n",
       "      <th>employment=Unemployed</th>\n",
       "      <th>label</th>\n",
       "    </tr>\n",
       "  </thead>\n",
       "  <tbody>\n",
       "    <tr>\n",
       "      <th>0</th>\n",
       "      <td>1.0</td>\n",
       "      <td>1.0</td>\n",
       "      <td>0.0</td>\n",
       "      <td>0.0</td>\n",
       "      <td>1.0</td>\n",
       "      <td>0.0</td>\n",
       "      <td>0.0</td>\n",
       "      <td>1.0</td>\n",
       "      <td>0.0</td>\n",
       "      <td>1.0</td>\n",
       "      <td>0.0</td>\n",
       "      <td>1.0</td>\n",
       "    </tr>\n",
       "    <tr>\n",
       "      <th>1</th>\n",
       "      <td>0.0</td>\n",
       "      <td>0.0</td>\n",
       "      <td>0.0</td>\n",
       "      <td>1.0</td>\n",
       "      <td>0.0</td>\n",
       "      <td>0.0</td>\n",
       "      <td>1.0</td>\n",
       "      <td>0.0</td>\n",
       "      <td>1.0</td>\n",
       "      <td>0.0</td>\n",
       "      <td>0.0</td>\n",
       "      <td>2.0</td>\n",
       "    </tr>\n",
       "    <tr>\n",
       "      <th>2</th>\n",
       "      <td>1.0</td>\n",
       "      <td>1.0</td>\n",
       "      <td>0.0</td>\n",
       "      <td>0.0</td>\n",
       "      <td>1.0</td>\n",
       "      <td>0.0</td>\n",
       "      <td>1.0</td>\n",
       "      <td>0.0</td>\n",
       "      <td>0.0</td>\n",
       "      <td>1.0</td>\n",
       "      <td>0.0</td>\n",
       "      <td>1.0</td>\n",
       "    </tr>\n",
       "    <tr>\n",
       "      <th>3</th>\n",
       "      <td>1.0</td>\n",
       "      <td>1.0</td>\n",
       "      <td>0.0</td>\n",
       "      <td>1.0</td>\n",
       "      <td>0.0</td>\n",
       "      <td>0.0</td>\n",
       "      <td>1.0</td>\n",
       "      <td>0.0</td>\n",
       "      <td>0.0</td>\n",
       "      <td>1.0</td>\n",
       "      <td>0.0</td>\n",
       "      <td>1.0</td>\n",
       "    </tr>\n",
       "    <tr>\n",
       "      <th>4</th>\n",
       "      <td>1.0</td>\n",
       "      <td>1.0</td>\n",
       "      <td>1.0</td>\n",
       "      <td>0.0</td>\n",
       "      <td>0.0</td>\n",
       "      <td>0.0</td>\n",
       "      <td>1.0</td>\n",
       "      <td>0.0</td>\n",
       "      <td>1.0</td>\n",
       "      <td>0.0</td>\n",
       "      <td>0.0</td>\n",
       "      <td>2.0</td>\n",
       "    </tr>\n",
       "  </tbody>\n",
       "</table>\n",
       "</div>"
      ],
      "text/plain": [
       "   age  sex  credit_history=Delay  credit_history=None/Paid  \\\n",
       "0  1.0  1.0                   0.0                       0.0   \n",
       "1  0.0  0.0                   0.0                       1.0   \n",
       "2  1.0  1.0                   0.0                       0.0   \n",
       "3  1.0  1.0                   0.0                       1.0   \n",
       "4  1.0  1.0                   1.0                       0.0   \n",
       "\n",
       "   credit_history=Other  savings=500+  savings=<500  savings=Unknown/None  \\\n",
       "0                   1.0           0.0           0.0                   1.0   \n",
       "1                   0.0           0.0           1.0                   0.0   \n",
       "2                   1.0           0.0           1.0                   0.0   \n",
       "3                   0.0           0.0           1.0                   0.0   \n",
       "4                   0.0           0.0           1.0                   0.0   \n",
       "\n",
       "   employment=1-4 years  employment=4+ years  employment=Unemployed  label  \n",
       "0                   0.0                  1.0                    0.0    1.0  \n",
       "1                   1.0                  0.0                    0.0    2.0  \n",
       "2                   0.0                  1.0                    0.0    1.0  \n",
       "3                   0.0                  1.0                    0.0    1.0  \n",
       "4                   1.0                  0.0                    0.0    2.0  "
      ]
     },
     "execution_count": 5,
     "metadata": {},
     "output_type": "execute_result"
    }
   ],
   "source": [
    "df = pd.read_pickle('../Data/german.pickle')\n",
    "df.head(5)"
   ]
  },
  {
   "cell_type": "code",
   "execution_count": 6,
   "metadata": {},
   "outputs": [
    {
     "data": {
      "text/plain": [
       "(1000, 12)"
      ]
     },
     "execution_count": 6,
     "metadata": {},
     "output_type": "execute_result"
    }
   ],
   "source": [
    "df.shape"
   ]
  },
  {
   "cell_type": "code",
   "execution_count": 7,
   "metadata": {},
   "outputs": [
    {
     "data": {
      "text/plain": [
       "Index(['age', 'sex', 'credit_history=Delay', 'credit_history=None/Paid',\n",
       "       'credit_history=Other', 'savings=500+', 'savings=<500',\n",
       "       'savings=Unknown/None', 'employment=1-4 years', 'employment=4+ years',\n",
       "       'employment=Unemployed', 'label'],\n",
       "      dtype='object')"
      ]
     },
     "execution_count": 7,
     "metadata": {},
     "output_type": "execute_result"
    }
   ],
   "source": [
    "df.columns"
   ]
  },
  {
   "cell_type": "code",
   "execution_count": 8,
   "metadata": {},
   "outputs": [],
   "source": [
    "df['credit_history'] = df.apply(lambda row: 0 if row['credit_history=None/Paid'] == 1 \n",
    "                            else 1 if row['credit_history=Delay'] == 1 \n",
    "                            else 2 if row['credit_history=Other'] == 1\n",
    "                            else None,axis = 1)\n",
    "df['savings'] = df.apply(lambda row: 0 if row['savings=Unknown/None'] == 1 \n",
    "                                  else 1 if row['savings=<500'] == 1 \n",
    "                                  else 2 if row['savings=500+'] == 1 \n",
    "                                  else None,axis = 1)\n",
    "df['employment'] = df.apply(lambda row: 0 if row['employment=Unemployed'] == 1 \n",
    "                                  else 1 if row['employment=1-4 years'] == 1 \n",
    "                                  else 2 if row['employment=4+ years'] == 1 \n",
    "                                  else None,axis = 1)\n",
    "\n",
    "#### 1 is good 2 is bad in risk.\n",
    "df['label'] = df.apply(lambda row: 1 if row['label'] == 1 \n",
    "                            else 0 if row['label'] == 2 \n",
    "                            else None,axis = 1)"
   ]
  },
  {
   "cell_type": "code",
   "execution_count": 9,
   "metadata": {},
   "outputs": [],
   "source": [
    "flai_dataset = data.Data(df[['age', 'sex', 'credit_history','savings','employment' ,'label']], transform=True)\n"
   ]
  },
  {
   "cell_type": "code",
   "execution_count": 10,
   "metadata": {},
   "outputs": [
    {
     "data": {
      "text/html": [
       "<div>\n",
       "<style scoped>\n",
       "    .dataframe tbody tr th:only-of-type {\n",
       "        vertical-align: middle;\n",
       "    }\n",
       "\n",
       "    .dataframe tbody tr th {\n",
       "        vertical-align: top;\n",
       "    }\n",
       "\n",
       "    .dataframe thead th {\n",
       "        text-align: right;\n",
       "    }\n",
       "</style>\n",
       "<table border=\"1\" class=\"dataframe\">\n",
       "  <thead>\n",
       "    <tr style=\"text-align: right;\">\n",
       "      <th></th>\n",
       "      <th>age</th>\n",
       "      <th>sex</th>\n",
       "      <th>credit_history</th>\n",
       "      <th>savings</th>\n",
       "      <th>employment</th>\n",
       "      <th>label</th>\n",
       "    </tr>\n",
       "  </thead>\n",
       "  <tbody>\n",
       "    <tr>\n",
       "      <th>0</th>\n",
       "      <td>1.0</td>\n",
       "      <td>1.0</td>\n",
       "      <td>2.0</td>\n",
       "      <td>0.0</td>\n",
       "      <td>2.0</td>\n",
       "      <td>1.0</td>\n",
       "    </tr>\n",
       "    <tr>\n",
       "      <th>1</th>\n",
       "      <td>0.0</td>\n",
       "      <td>0.0</td>\n",
       "      <td>0.0</td>\n",
       "      <td>1.0</td>\n",
       "      <td>1.0</td>\n",
       "      <td>0.0</td>\n",
       "    </tr>\n",
       "    <tr>\n",
       "      <th>2</th>\n",
       "      <td>1.0</td>\n",
       "      <td>1.0</td>\n",
       "      <td>2.0</td>\n",
       "      <td>1.0</td>\n",
       "      <td>2.0</td>\n",
       "      <td>1.0</td>\n",
       "    </tr>\n",
       "    <tr>\n",
       "      <th>3</th>\n",
       "      <td>1.0</td>\n",
       "      <td>1.0</td>\n",
       "      <td>0.0</td>\n",
       "      <td>1.0</td>\n",
       "      <td>2.0</td>\n",
       "      <td>1.0</td>\n",
       "    </tr>\n",
       "    <tr>\n",
       "      <th>4</th>\n",
       "      <td>1.0</td>\n",
       "      <td>1.0</td>\n",
       "      <td>1.0</td>\n",
       "      <td>1.0</td>\n",
       "      <td>1.0</td>\n",
       "      <td>0.0</td>\n",
       "    </tr>\n",
       "  </tbody>\n",
       "</table>\n",
       "</div>"
      ],
      "text/plain": [
       "   age  sex  credit_history  savings  employment  label\n",
       "0  1.0  1.0             2.0      0.0         2.0    1.0\n",
       "1  0.0  0.0             0.0      1.0         1.0    0.0\n",
       "2  1.0  1.0             2.0      1.0         2.0    1.0\n",
       "3  1.0  1.0             0.0      1.0         2.0    1.0\n",
       "4  1.0  1.0             1.0      1.0         1.0    0.0"
      ]
     },
     "execution_count": 10,
     "metadata": {},
     "output_type": "execute_result"
    }
   ],
   "source": [
    "flai_dataset.data.head()"
   ]
  },
  {
   "cell_type": "markdown",
   "metadata": {},
   "source": [
    "## Create Causal Graph"
   ]
  },
  {
   "cell_type": "code",
   "execution_count": 11,
   "metadata": {},
   "outputs": [
    {
     "name": "stdout",
     "output_type": "stream",
     "text": [
      "[bnlearn] >Compute structure scores ['k2', 'bds', 'bic', 'bdeu'] for model comparison (higher is better).\n",
      "sex\n",
      "employment\n"
     ]
    }
   ],
   "source": [
    "flai_graph = causal_graph.CausalGraph(flai_dataset, target = 'label')\n"
   ]
  },
  {
   "cell_type": "code",
   "execution_count": 12,
   "metadata": {},
   "outputs": [
    {
     "data": {
      "image/png": "[encoded data removed]",
      "text/plain": [
       "<Figure size 500x500 with 1 Axes>"
      ]
     },
     "metadata": {},
     "output_type": "display_data"
    }
   ],
   "source": [
    "flai_graph.plot(directed = True)\n"
   ]
  },
  {
   "cell_type": "code",
   "execution_count": 14,
   "metadata": {},
   "outputs": [
    {
     "data": {
      "image/png": "[encoded data removed]",
      "text/plain": [
       "<Figure size 500x500 with 1 Axes>"
      ]
     },
     "metadata": {},
     "output_type": "display_data"
    }
   ],
   "source": [
    "flai_graph.plot(directed = True)\n"
   ]
  },
  {
   "cell_type": "code",
   "execution_count": null,
   "metadata": {},
   "outputs": [],
   "source": []
  },
  {
   "cell_type": "code",
   "execution_count": 15,
   "metadata": {},
   "outputs": [],
   "source": [
    "flai_graph.calculate_cpd()"
   ]
  },
  {
   "cell_type": "code",
   "execution_count": 17,
   "metadata": {},
   "outputs": [
    {
     "data": {
      "text/plain": [
       "{'age': [19.0, 81.0],\n",
       " 'sex': [31.0, 69.0],\n",
       " 'credit_history': [61.9, 8.8, 29.3],\n",
       " 'savings': [18.3, 70.6, 11.1],\n",
       " 'label': [29.72, 70.28],\n",
       " 'employment': [6.2, 51.1, 42.7]}"
      ]
     },
     "execution_count": 17,
     "metadata": {},
     "output_type": "execute_result"
    }
   ],
   "source": [
    "{n : list(np.round(flai_graph.inference(variables=[n], evidence={})['p']*100,2)) for n in flai_graph.graph['model'].nodes()}"
   ]
  },
  {
   "cell_type": "code",
   "execution_count": 19,
   "metadata": {},
   "outputs": [
    {
     "data": {
      "text/html": [
       "<div>\n",
       "<style scoped>\n",
       "    .dataframe tbody tr th:only-of-type {\n",
       "        vertical-align: middle;\n",
       "    }\n",
       "\n",
       "    .dataframe tbody tr th {\n",
       "        vertical-align: top;\n",
       "    }\n",
       "\n",
       "    .dataframe thead th {\n",
       "        text-align: right;\n",
       "    }\n",
       "</style>\n",
       "<table border=\"1\" class=\"dataframe\">\n",
       "  <thead>\n",
       "    <tr style=\"text-align: right;\">\n",
       "      <th></th>\n",
       "      <th>sex</th>\n",
       "      <th>label</th>\n",
       "      <th>p</th>\n",
       "    </tr>\n",
       "  </thead>\n",
       "  <tbody>\n",
       "    <tr>\n",
       "      <th>0</th>\n",
       "      <td>0</td>\n",
       "      <td>0</td>\n",
       "      <td>0.104718</td>\n",
       "    </tr>\n",
       "    <tr>\n",
       "      <th>1</th>\n",
       "      <td>0</td>\n",
       "      <td>1</td>\n",
       "      <td>0.205282</td>\n",
       "    </tr>\n",
       "    <tr>\n",
       "      <th>2</th>\n",
       "      <td>1</td>\n",
       "      <td>0</td>\n",
       "      <td>0.192519</td>\n",
       "    </tr>\n",
       "    <tr>\n",
       "      <th>3</th>\n",
       "      <td>1</td>\n",
       "      <td>1</td>\n",
       "      <td>0.497481</td>\n",
       "    </tr>\n",
       "  </tbody>\n",
       "</table>\n",
       "</div>"
      ],
      "text/plain": [
       "   sex  label         p\n",
       "0    0      0  0.104718\n",
       "1    0      1  0.205282\n",
       "2    1      0  0.192519\n",
       "3    1      1  0.497481"
      ]
     },
     "execution_count": 19,
     "metadata": {},
     "output_type": "execute_result"
    }
   ],
   "source": [
    "flai_graph.inference(variables=['sex','label'], evidence={})"
   ]
  },
  {
   "cell_type": "code",
   "execution_count": 20,
   "metadata": {},
   "outputs": [
    {
     "data": {
      "text/html": [
       "<div>\n",
       "<style scoped>\n",
       "    .dataframe tbody tr th:only-of-type {\n",
       "        vertical-align: middle;\n",
       "    }\n",
       "\n",
       "    .dataframe tbody tr th {\n",
       "        vertical-align: top;\n",
       "    }\n",
       "\n",
       "    .dataframe thead th {\n",
       "        text-align: right;\n",
       "    }\n",
       "</style>\n",
       "<table border=\"1\" class=\"dataframe\">\n",
       "  <thead>\n",
       "    <tr style=\"text-align: right;\">\n",
       "      <th></th>\n",
       "      <th>age</th>\n",
       "      <th>label</th>\n",
       "      <th>p</th>\n",
       "    </tr>\n",
       "  </thead>\n",
       "  <tbody>\n",
       "    <tr>\n",
       "      <th>0</th>\n",
       "      <td>0</td>\n",
       "      <td>0</td>\n",
       "      <td>0.064119</td>\n",
       "    </tr>\n",
       "    <tr>\n",
       "      <th>1</th>\n",
       "      <td>0</td>\n",
       "      <td>1</td>\n",
       "      <td>0.125881</td>\n",
       "    </tr>\n",
       "    <tr>\n",
       "      <th>2</th>\n",
       "      <td>1</td>\n",
       "      <td>0</td>\n",
       "      <td>0.233118</td>\n",
       "    </tr>\n",
       "    <tr>\n",
       "      <th>3</th>\n",
       "      <td>1</td>\n",
       "      <td>1</td>\n",
       "      <td>0.576882</td>\n",
       "    </tr>\n",
       "  </tbody>\n",
       "</table>\n",
       "</div>"
      ],
      "text/plain": [
       "   age  label         p\n",
       "0    0      0  0.064119\n",
       "1    0      1  0.125881\n",
       "2    1      0  0.233118\n",
       "3    1      1  0.576882"
      ]
     },
     "execution_count": 20,
     "metadata": {},
     "output_type": "execute_result"
    }
   ],
   "source": [
    "flai_graph.inference(variables=['age','label'], evidence={})"
   ]
  },
  {
   "cell_type": "code",
   "execution_count": 21,
   "metadata": {},
   "outputs": [
    {
     "name": "stderr",
     "output_type": "stream",
     "text": [
      "100%|██████████| 75/75 [00:00<00:00, 1088.30it/s]\n"
     ]
    }
   ],
   "source": [
    "data_pred = flai_dataset.data[list(flai_graph.graph['model'].nodes())]\n",
    "out = flai_graph.predict(data_pred, variables = ['label'])\n",
    "flai_dataset.data['Predicted'] = out.label"
   ]
  },
  {
   "cell_type": "code",
   "execution_count": 22,
   "metadata": {},
   "outputs": [
    {
     "name": "stdout",
     "output_type": "stream",
     "text": [
      "Calculating metrics for : sex  the value :  1\n",
      "Calculating metrics for : sex  the value :  0\n",
      "Calculating metrics for : age  the value :  1\n",
      "Calculating metrics for : age  the value :  0\n"
     ]
    },
    {
     "data": {
      "text/plain": [
       "{'model': {'ACC': 0.7,\n",
       "  'TN': 3,\n",
       "  'FP': 297,\n",
       "  'FN': 3,\n",
       "  'TP': 697,\n",
       "  'TPR': 0.9957142857142857,\n",
       "  'FPR': 0.99,\n",
       "  'FNR': 0.004285714285714286,\n",
       "  'PPP': 0.994},\n",
       " 'sex': {'privileged': {'ACC': 0.7231884057971014,\n",
       "   'TN': 3,\n",
       "   'FP': 188,\n",
       "   'FN': 3,\n",
       "   'TP': 496,\n",
       "   'TPR': 0.9939879759519038,\n",
       "   'FPR': 0.9842931937172775,\n",
       "   'FNR': 0.006012024048096192,\n",
       "   'PPP': 0.991304347826087},\n",
       "  'unprivileged': {'ACC': 0.6483870967741936,\n",
       "   'TN': 0,\n",
       "   'FP': 109,\n",
       "   'FN': 0,\n",
       "   'TP': 201,\n",
       "   'TPR': 1.0,\n",
       "   'FPR': 1.0,\n",
       "   'FNR': 0.0,\n",
       "   'PPP': 1.0},\n",
       "  'fair_metrics': {'EOD': 0.006012024048096198,\n",
       "   'DI': 1.0087719298245614,\n",
       "   'SPD': 0.008695652173912993,\n",
       "   'OD': 0.021718830330818673}},\n",
       " 'age': {'privileged': {'ACC': 0.7283950617283951,\n",
       "   'TN': 3,\n",
       "   'FP': 217,\n",
       "   'FN': 3,\n",
       "   'TP': 587,\n",
       "   'TPR': 0.9949152542372881,\n",
       "   'FPR': 0.9863636363636363,\n",
       "   'FNR': 0.005084745762711864,\n",
       "   'PPP': 0.9925925925925926},\n",
       "  'unprivileged': {'ACC': 0.5789473684210527,\n",
       "   'TN': 0,\n",
       "   'FP': 80,\n",
       "   'FN': 0,\n",
       "   'TP': 110,\n",
       "   'TPR': 1.0,\n",
       "   'FPR': 1.0,\n",
       "   'FNR': 0.0,\n",
       "   'PPP': 1.0},\n",
       "  'fair_metrics': {'EOD': 0.005084745762711895,\n",
       "   'DI': 1.007462686567164,\n",
       "   'SPD': 0.007407407407407418,\n",
       "   'OD': 0.018721109399075564}}}"
      ]
     },
     "execution_count": 22,
     "metadata": {},
     "output_type": "execute_result"
    }
   ],
   "source": [
    "result_metrics = flai_dataset.fairness_metrics(target_column='label', predicted_column = 'Predicted',\n",
    "                            columns_fair = {'sex' : {'privileged' : 1, 'unprivileged' : 0},\n",
    "                                            'age' : {'privileged' : 1, 'unprivileged' : 0}})\n",
    "result_metrics"
   ]
  },
  {
   "cell_type": "code",
   "execution_count": 23,
   "metadata": {},
   "outputs": [],
   "source": [
    "df_performance,df_fairness = flai_dataset.get_df_metrics(metrics_json=result_metrics)"
   ]
  },
  {
   "cell_type": "code",
   "execution_count": 24,
   "metadata": {},
   "outputs": [
    {
     "data": {
      "text/html": [
       "<div>\n",
       "<style scoped>\n",
       "    .dataframe tbody tr th:only-of-type {\n",
       "        vertical-align: middle;\n",
       "    }\n",
       "\n",
       "    .dataframe tbody tr th {\n",
       "        vertical-align: top;\n",
       "    }\n",
       "\n",
       "    .dataframe thead th {\n",
       "        text-align: right;\n",
       "    }\n",
       "</style>\n",
       "<table border=\"1\" class=\"dataframe\">\n",
       "  <thead>\n",
       "    <tr style=\"text-align: right;\">\n",
       "      <th></th>\n",
       "      <th>ACC</th>\n",
       "      <th>TN</th>\n",
       "      <th>FP</th>\n",
       "      <th>FN</th>\n",
       "      <th>TP</th>\n",
       "      <th>TPR</th>\n",
       "      <th>FPR</th>\n",
       "      <th>FNR</th>\n",
       "      <th>PPP</th>\n",
       "    </tr>\n",
       "  </thead>\n",
       "  <tbody>\n",
       "    <tr>\n",
       "      <th>model</th>\n",
       "      <td>0.700000</td>\n",
       "      <td>3.0</td>\n",
       "      <td>297.0</td>\n",
       "      <td>3.0</td>\n",
       "      <td>697.0</td>\n",
       "      <td>0.995714</td>\n",
       "      <td>0.990000</td>\n",
       "      <td>0.004286</td>\n",
       "      <td>0.994000</td>\n",
       "    </tr>\n",
       "    <tr>\n",
       "      <th>sex_privileged</th>\n",
       "      <td>0.723188</td>\n",
       "      <td>3.0</td>\n",
       "      <td>188.0</td>\n",
       "      <td>3.0</td>\n",
       "      <td>496.0</td>\n",
       "      <td>0.993988</td>\n",
       "      <td>0.984293</td>\n",
       "      <td>0.006012</td>\n",
       "      <td>0.991304</td>\n",
       "    </tr>\n",
       "    <tr>\n",
       "      <th>sex_unprivileged</th>\n",
       "      <td>0.648387</td>\n",
       "      <td>0.0</td>\n",
       "      <td>109.0</td>\n",
       "      <td>0.0</td>\n",
       "      <td>201.0</td>\n",
       "      <td>1.000000</td>\n",
       "      <td>1.000000</td>\n",
       "      <td>0.000000</td>\n",
       "      <td>1.000000</td>\n",
       "    </tr>\n",
       "    <tr>\n",
       "      <th>age_privileged</th>\n",
       "      <td>0.728395</td>\n",
       "      <td>3.0</td>\n",
       "      <td>217.0</td>\n",
       "      <td>3.0</td>\n",
       "      <td>587.0</td>\n",
       "      <td>0.994915</td>\n",
       "      <td>0.986364</td>\n",
       "      <td>0.005085</td>\n",
       "      <td>0.992593</td>\n",
       "    </tr>\n",
       "    <tr>\n",
       "      <th>age_unprivileged</th>\n",
       "      <td>0.578947</td>\n",
       "      <td>0.0</td>\n",
       "      <td>80.0</td>\n",
       "      <td>0.0</td>\n",
       "      <td>110.0</td>\n",
       "      <td>1.000000</td>\n",
       "      <td>1.000000</td>\n",
       "      <td>0.000000</td>\n",
       "      <td>1.000000</td>\n",
       "    </tr>\n",
       "  </tbody>\n",
       "</table>\n",
       "</div>"
      ],
      "text/plain": [
       "                       ACC   TN     FP   FN     TP       TPR       FPR  \\\n",
       "model             0.700000  3.0  297.0  3.0  697.0  0.995714  0.990000   \n",
       "sex_privileged    0.723188  3.0  188.0  3.0  496.0  0.993988  0.984293   \n",
       "sex_unprivileged  0.648387  0.0  109.0  0.0  201.0  1.000000  1.000000   \n",
       "age_privileged    0.728395  3.0  217.0  3.0  587.0  0.994915  0.986364   \n",
       "age_unprivileged  0.578947  0.0   80.0  0.0  110.0  1.000000  1.000000   \n",
       "\n",
       "                       FNR       PPP  \n",
       "model             0.004286  0.994000  \n",
       "sex_privileged    0.006012  0.991304  \n",
       "sex_unprivileged  0.000000  1.000000  \n",
       "age_privileged    0.005085  0.992593  \n",
       "age_unprivileged  0.000000  1.000000  "
      ]
     },
     "execution_count": 24,
     "metadata": {},
     "output_type": "execute_result"
    }
   ],
   "source": [
    "df_performance"
   ]
  },
  {
   "cell_type": "code",
   "execution_count": 25,
   "metadata": {},
   "outputs": [
    {
     "data": {
      "text/html": [
       "<div>\n",
       "<style scoped>\n",
       "    .dataframe tbody tr th:only-of-type {\n",
       "        vertical-align: middle;\n",
       "    }\n",
       "\n",
       "    .dataframe tbody tr th {\n",
       "        vertical-align: top;\n",
       "    }\n",
       "\n",
       "    .dataframe thead th {\n",
       "        text-align: right;\n",
       "    }\n",
       "</style>\n",
       "<table border=\"1\" class=\"dataframe\">\n",
       "  <thead>\n",
       "    <tr style=\"text-align: right;\">\n",
       "      <th></th>\n",
       "      <th>EOD</th>\n",
       "      <th>DI</th>\n",
       "      <th>SPD</th>\n",
       "      <th>OD</th>\n",
       "    </tr>\n",
       "  </thead>\n",
       "  <tbody>\n",
       "    <tr>\n",
       "      <th>sex_fair_metrics</th>\n",
       "      <td>0.006012</td>\n",
       "      <td>1.008772</td>\n",
       "      <td>0.008696</td>\n",
       "      <td>0.021719</td>\n",
       "    </tr>\n",
       "    <tr>\n",
       "      <th>age_fair_metrics</th>\n",
       "      <td>0.005085</td>\n",
       "      <td>1.007463</td>\n",
       "      <td>0.007407</td>\n",
       "      <td>0.018721</td>\n",
       "    </tr>\n",
       "  </tbody>\n",
       "</table>\n",
       "</div>"
      ],
      "text/plain": [
       "                       EOD        DI       SPD        OD\n",
       "sex_fair_metrics  0.006012  1.008772  0.008696  0.021719\n",
       "age_fair_metrics  0.005085  1.007463  0.007407  0.018721"
      ]
     },
     "execution_count": 25,
     "metadata": {},
     "output_type": "execute_result"
    }
   ],
   "source": [
    "df_fairness"
   ]
  },
  {
   "attachments": {},
   "cell_type": "markdown",
   "metadata": {},
   "source": [
    "## Mitigate Causal Graph"
   ]
  },
  {
   "cell_type": "code",
   "execution_count": 26,
   "metadata": {},
   "outputs": [
    {
     "data": {
      "text/plain": [
       "[('age', 'credit_history'),\n",
       " ('sex', 'label'),\n",
       " ('credit_history', 'label'),\n",
       " ('savings', 'label'),\n",
       " ('age', 'label'),\n",
       " ('employment', 'credit_history'),\n",
       " ('employment', 'label'),\n",
       " ('sex', 'employment'),\n",
       " ('sex', 'credit_history'),\n",
       " ('age', 'employment')]"
      ]
     },
     "execution_count": 26,
     "metadata": {},
     "output_type": "execute_result"
    }
   ],
   "source": [
    "flai_graph.mitigate_edge_relation(sensible_feature=['sex','age'])"
   ]
  },
  {
   "cell_type": "code",
   "execution_count": 27,
   "metadata": {},
   "outputs": [
    {
     "data": {
      "image/png": "[encoded data removed]",
      "text/plain": [
       "<Figure size 500x500 with 1 Axes>"
      ]
     },
     "metadata": {},
     "output_type": "display_data"
    }
   ],
   "source": [
    "flai_graph.plot(directed = True)"
   ]
  },
  {
   "cell_type": "code",
   "execution_count": 28,
   "metadata": {},
   "outputs": [],
   "source": [
    "flai_graph.mitigate_calculation_cpd(sensible_feature = ['age','sex'])\n"
   ]
  },
  {
   "cell_type": "code",
   "execution_count": 29,
   "metadata": {},
   "outputs": [
    {
     "data": {
      "text/plain": [
       "{'age': [50.0, 50.0],\n",
       " 'credit_history': [61.9, 8.8, 29.3],\n",
       " 'sex': [50.0, 50.0],\n",
       " 'label': [29.96, 70.04],\n",
       " 'savings': [18.3, 70.6, 11.1],\n",
       " 'employment': [6.2, 51.1, 42.7]}"
      ]
     },
     "execution_count": 29,
     "metadata": {},
     "output_type": "execute_result"
    }
   ],
   "source": [
    "{n : list(np.round(flai_graph.inference(variables=[n], evidence={})['p']*100,2)) for n in flai_graph.graph['model'].nodes()}"
   ]
  },
  {
   "cell_type": "code",
   "execution_count": 30,
   "metadata": {},
   "outputs": [
    {
     "data": {
      "text/html": [
       "<div>\n",
       "<style scoped>\n",
       "    .dataframe tbody tr th:only-of-type {\n",
       "        vertical-align: middle;\n",
       "    }\n",
       "\n",
       "    .dataframe tbody tr th {\n",
       "        vertical-align: top;\n",
       "    }\n",
       "\n",
       "    .dataframe thead th {\n",
       "        text-align: right;\n",
       "    }\n",
       "</style>\n",
       "<table border=\"1\" class=\"dataframe\">\n",
       "  <thead>\n",
       "    <tr style=\"text-align: right;\">\n",
       "      <th></th>\n",
       "      <th>sex</th>\n",
       "      <th>label</th>\n",
       "      <th>p</th>\n",
       "    </tr>\n",
       "  </thead>\n",
       "  <tbody>\n",
       "    <tr>\n",
       "      <th>0</th>\n",
       "      <td>0</td>\n",
       "      <td>0</td>\n",
       "      <td>0.149799</td>\n",
       "    </tr>\n",
       "    <tr>\n",
       "      <th>1</th>\n",
       "      <td>0</td>\n",
       "      <td>1</td>\n",
       "      <td>0.350201</td>\n",
       "    </tr>\n",
       "    <tr>\n",
       "      <th>2</th>\n",
       "      <td>1</td>\n",
       "      <td>0</td>\n",
       "      <td>0.149799</td>\n",
       "    </tr>\n",
       "    <tr>\n",
       "      <th>3</th>\n",
       "      <td>1</td>\n",
       "      <td>1</td>\n",
       "      <td>0.350201</td>\n",
       "    </tr>\n",
       "  </tbody>\n",
       "</table>\n",
       "</div>"
      ],
      "text/plain": [
       "   sex  label         p\n",
       "0    0      0  0.149799\n",
       "1    0      1  0.350201\n",
       "2    1      0  0.149799\n",
       "3    1      1  0.350201"
      ]
     },
     "execution_count": 30,
     "metadata": {},
     "output_type": "execute_result"
    }
   ],
   "source": [
    "flai_graph.inference(variables=['sex','label'], evidence={})"
   ]
  },
  {
   "cell_type": "code",
   "execution_count": 31,
   "metadata": {},
   "outputs": [
    {
     "data": {
      "text/html": [
       "<div>\n",
       "<style scoped>\n",
       "    .dataframe tbody tr th:only-of-type {\n",
       "        vertical-align: middle;\n",
       "    }\n",
       "\n",
       "    .dataframe tbody tr th {\n",
       "        vertical-align: top;\n",
       "    }\n",
       "\n",
       "    .dataframe thead th {\n",
       "        text-align: right;\n",
       "    }\n",
       "</style>\n",
       "<table border=\"1\" class=\"dataframe\">\n",
       "  <thead>\n",
       "    <tr style=\"text-align: right;\">\n",
       "      <th></th>\n",
       "      <th>age</th>\n",
       "      <th>label</th>\n",
       "      <th>p</th>\n",
       "    </tr>\n",
       "  </thead>\n",
       "  <tbody>\n",
       "    <tr>\n",
       "      <th>0</th>\n",
       "      <td>0</td>\n",
       "      <td>0</td>\n",
       "      <td>0.149799</td>\n",
       "    </tr>\n",
       "    <tr>\n",
       "      <th>1</th>\n",
       "      <td>0</td>\n",
       "      <td>1</td>\n",
       "      <td>0.350201</td>\n",
       "    </tr>\n",
       "    <tr>\n",
       "      <th>2</th>\n",
       "      <td>1</td>\n",
       "      <td>0</td>\n",
       "      <td>0.149799</td>\n",
       "    </tr>\n",
       "    <tr>\n",
       "      <th>3</th>\n",
       "      <td>1</td>\n",
       "      <td>1</td>\n",
       "      <td>0.350201</td>\n",
       "    </tr>\n",
       "  </tbody>\n",
       "</table>\n",
       "</div>"
      ],
      "text/plain": [
       "   age  label         p\n",
       "0    0      0  0.149799\n",
       "1    0      1  0.350201\n",
       "2    1      0  0.149799\n",
       "3    1      1  0.350201"
      ]
     },
     "execution_count": 31,
     "metadata": {},
     "output_type": "execute_result"
    }
   ],
   "source": [
    "flai_graph.inference(variables=['age','label'], evidence={})"
   ]
  },
  {
   "cell_type": "code",
   "execution_count": 32,
   "metadata": {},
   "outputs": [
    {
     "name": "stderr",
     "output_type": "stream",
     "text": [
      "100%|██████████| 75/75 [00:00<00:00, 939.17it/s]\n"
     ]
    }
   ],
   "source": [
    "data_pred = flai_dataset.data[list(flai_graph.graph['model'].nodes())]\n",
    "out = flai_graph.predict(data_pred, variables = ['label'])\n",
    "flai_dataset.data['Predicted'] = out.label"
   ]
  },
  {
   "cell_type": "code",
   "execution_count": 33,
   "metadata": {},
   "outputs": [
    {
     "name": "stdout",
     "output_type": "stream",
     "text": [
      "Calculating metrics for : sex  the value :  1\n",
      "Calculating metrics for : sex  the value :  0\n",
      "Calculating metrics for : age  the value :  1\n",
      "Calculating metrics for : age  the value :  0\n"
     ]
    },
    {
     "data": {
      "text/plain": [
       "{'model': {'ACC': 0.702,\n",
       "  'TN': 18,\n",
       "  'FP': 282,\n",
       "  'FN': 16,\n",
       "  'TP': 684,\n",
       "  'TPR': 0.9771428571428571,\n",
       "  'FPR': 0.94,\n",
       "  'FNR': 0.022857142857142857,\n",
       "  'PPP': 0.966},\n",
       " 'sex': {'privileged': {'ACC': 0.7217391304347827,\n",
       "   'TN': 10,\n",
       "   'FP': 181,\n",
       "   'FN': 11,\n",
       "   'TP': 488,\n",
       "   'TPR': 0.9779559118236473,\n",
       "   'FPR': 0.9476439790575916,\n",
       "   'FNR': 0.022044088176352707,\n",
       "   'PPP': 0.9695652173913043},\n",
       "  'unprivileged': {'ACC': 0.6580645161290323,\n",
       "   'TN': 8,\n",
       "   'FP': 101,\n",
       "   'FN': 5,\n",
       "   'TP': 196,\n",
       "   'TPR': 0.9751243781094527,\n",
       "   'FPR': 0.926605504587156,\n",
       "   'FNR': 0.024875621890547265,\n",
       "   'PPP': 0.9580645161290322},\n",
       "  'fair_metrics': {'EOD': -0.002831533714194534,\n",
       "   'DI': 0.9881382901779256,\n",
       "   'SPD': -0.011500701262272095,\n",
       "   'OD': -0.023870008184630143}},\n",
       " 'age': {'privileged': {'ACC': 0.7296296296296296,\n",
       "   'TN': 15,\n",
       "   'FP': 205,\n",
       "   'FN': 14,\n",
       "   'TP': 576,\n",
       "   'TPR': 0.976271186440678,\n",
       "   'FPR': 0.9318181818181818,\n",
       "   'FNR': 0.023728813559322035,\n",
       "   'PPP': 0.9641975308641976},\n",
       "  'unprivileged': {'ACC': 0.5842105263157895,\n",
       "   'TN': 3,\n",
       "   'FP': 77,\n",
       "   'FN': 2,\n",
       "   'TP': 108,\n",
       "   'TPR': 0.9818181818181818,\n",
       "   'FPR': 0.9625,\n",
       "   'FNR': 0.01818181818181818,\n",
       "   'PPP': 0.9736842105263158},\n",
       "  'fair_metrics': {'EOD': 0.005546995377503805,\n",
       "   'DI': 1.009838937933823,\n",
       "   'SPD': 0.009486679662118247,\n",
       "   'OD': 0.03622881355932206}}}"
      ]
     },
     "execution_count": 33,
     "metadata": {},
     "output_type": "execute_result"
    }
   ],
   "source": [
    "result_metrics_mitigated = flai_dataset.fairness_metrics(target_column='label', predicted_column = 'Predicted',\n",
    "                            columns_fair = {'sex' : {'privileged' : 1, 'unprivileged' : 0},\n",
    "                                            'age' : {'privileged' : 1, 'unprivileged' : 0}})\n",
    "result_metrics_mitigated"
   ]
  },
  {
   "cell_type": "code",
   "execution_count": 34,
   "metadata": {},
   "outputs": [],
   "source": [
    "df_performance_mitigated,df_fairness_mitigated = flai_dataset.get_df_metrics(metrics_json=result_metrics_mitigated)"
   ]
  },
  {
   "cell_type": "code",
   "execution_count": 35,
   "metadata": {},
   "outputs": [
    {
     "data": {
      "text/html": [
       "<div>\n",
       "<style scoped>\n",
       "    .dataframe tbody tr th:only-of-type {\n",
       "        vertical-align: middle;\n",
       "    }\n",
       "\n",
       "    .dataframe tbody tr th {\n",
       "        vertical-align: top;\n",
       "    }\n",
       "\n",
       "    .dataframe thead th {\n",
       "        text-align: right;\n",
       "    }\n",
       "</style>\n",
       "<table border=\"1\" class=\"dataframe\">\n",
       "  <thead>\n",
       "    <tr style=\"text-align: right;\">\n",
       "      <th></th>\n",
       "      <th>ACC</th>\n",
       "      <th>TN</th>\n",
       "      <th>FP</th>\n",
       "      <th>FN</th>\n",
       "      <th>TP</th>\n",
       "      <th>TPR</th>\n",
       "      <th>FPR</th>\n",
       "      <th>FNR</th>\n",
       "      <th>PPP</th>\n",
       "    </tr>\n",
       "  </thead>\n",
       "  <tbody>\n",
       "    <tr>\n",
       "      <th>model</th>\n",
       "      <td>0.702000</td>\n",
       "      <td>18.0</td>\n",
       "      <td>282.0</td>\n",
       "      <td>16.0</td>\n",
       "      <td>684.0</td>\n",
       "      <td>0.977143</td>\n",
       "      <td>0.940000</td>\n",
       "      <td>0.022857</td>\n",
       "      <td>0.966000</td>\n",
       "    </tr>\n",
       "    <tr>\n",
       "      <th>sex_privileged</th>\n",
       "      <td>0.721739</td>\n",
       "      <td>10.0</td>\n",
       "      <td>181.0</td>\n",
       "      <td>11.0</td>\n",
       "      <td>488.0</td>\n",
       "      <td>0.977956</td>\n",
       "      <td>0.947644</td>\n",
       "      <td>0.022044</td>\n",
       "      <td>0.969565</td>\n",
       "    </tr>\n",
       "    <tr>\n",
       "      <th>sex_unprivileged</th>\n",
       "      <td>0.658065</td>\n",
       "      <td>8.0</td>\n",
       "      <td>101.0</td>\n",
       "      <td>5.0</td>\n",
       "      <td>196.0</td>\n",
       "      <td>0.975124</td>\n",
       "      <td>0.926606</td>\n",
       "      <td>0.024876</td>\n",
       "      <td>0.958065</td>\n",
       "    </tr>\n",
       "    <tr>\n",
       "      <th>age_privileged</th>\n",
       "      <td>0.729630</td>\n",
       "      <td>15.0</td>\n",
       "      <td>205.0</td>\n",
       "      <td>14.0</td>\n",
       "      <td>576.0</td>\n",
       "      <td>0.976271</td>\n",
       "      <td>0.931818</td>\n",
       "      <td>0.023729</td>\n",
       "      <td>0.964198</td>\n",
       "    </tr>\n",
       "    <tr>\n",
       "      <th>age_unprivileged</th>\n",
       "      <td>0.584211</td>\n",
       "      <td>3.0</td>\n",
       "      <td>77.0</td>\n",
       "      <td>2.0</td>\n",
       "      <td>108.0</td>\n",
       "      <td>0.981818</td>\n",
       "      <td>0.962500</td>\n",
       "      <td>0.018182</td>\n",
       "      <td>0.973684</td>\n",
       "    </tr>\n",
       "  </tbody>\n",
       "</table>\n",
       "</div>"
      ],
      "text/plain": [
       "                       ACC    TN     FP    FN     TP       TPR       FPR  \\\n",
       "model             0.702000  18.0  282.0  16.0  684.0  0.977143  0.940000   \n",
       "sex_privileged    0.721739  10.0  181.0  11.0  488.0  0.977956  0.947644   \n",
       "sex_unprivileged  0.658065   8.0  101.0   5.0  196.0  0.975124  0.926606   \n",
       "age_privileged    0.729630  15.0  205.0  14.0  576.0  0.976271  0.931818   \n",
       "age_unprivileged  0.584211   3.0   77.0   2.0  108.0  0.981818  0.962500   \n",
       "\n",
       "                       FNR       PPP  \n",
       "model             0.022857  0.966000  \n",
       "sex_privileged    0.022044  0.969565  \n",
       "sex_unprivileged  0.024876  0.958065  \n",
       "age_privileged    0.023729  0.964198  \n",
       "age_unprivileged  0.018182  0.973684  "
      ]
     },
     "execution_count": 35,
     "metadata": {},
     "output_type": "execute_result"
    }
   ],
   "source": [
    "df_performance_mitigated"
   ]
  },
  {
   "cell_type": "code",
   "execution_count": 36,
   "metadata": {},
   "outputs": [
    {
     "data": {
      "text/html": [
       "<div>\n",
       "<style scoped>\n",
       "    .dataframe tbody tr th:only-of-type {\n",
       "        vertical-align: middle;\n",
       "    }\n",
       "\n",
       "    .dataframe tbody tr th {\n",
       "        vertical-align: top;\n",
       "    }\n",
       "\n",
       "    .dataframe thead th {\n",
       "        text-align: right;\n",
       "    }\n",
       "</style>\n",
       "<table border=\"1\" class=\"dataframe\">\n",
       "  <thead>\n",
       "    <tr style=\"text-align: right;\">\n",
       "      <th></th>\n",
       "      <th>EOD</th>\n",
       "      <th>DI</th>\n",
       "      <th>SPD</th>\n",
       "      <th>OD</th>\n",
       "    </tr>\n",
       "  </thead>\n",
       "  <tbody>\n",
       "    <tr>\n",
       "      <th>sex_fair_metrics</th>\n",
       "      <td>-0.002832</td>\n",
       "      <td>0.988138</td>\n",
       "      <td>-0.011501</td>\n",
       "      <td>-0.023870</td>\n",
       "    </tr>\n",
       "    <tr>\n",
       "      <th>age_fair_metrics</th>\n",
       "      <td>0.005547</td>\n",
       "      <td>1.009839</td>\n",
       "      <td>0.009487</td>\n",
       "      <td>0.036229</td>\n",
       "    </tr>\n",
       "  </tbody>\n",
       "</table>\n",
       "</div>"
      ],
      "text/plain": [
       "                       EOD        DI       SPD        OD\n",
       "sex_fair_metrics -0.002832  0.988138 -0.011501 -0.023870\n",
       "age_fair_metrics  0.005547  1.009839  0.009487  0.036229"
      ]
     },
     "execution_count": 36,
     "metadata": {},
     "output_type": "execute_result"
    }
   ],
   "source": [
    "df_fairness_mitigated"
   ]
  },
  {
   "cell_type": "code",
   "execution_count": 37,
   "metadata": {},
   "outputs": [],
   "source": [
    "fair_data = flai_graph.generate_dataset(n_samples = 1000*len(flai_dataset.data), methodtype = 'bayes')"
   ]
  },
  {
   "cell_type": "code",
   "execution_count": 38,
   "metadata": {},
   "outputs": [
    {
     "name": "stdout",
     "output_type": "stream",
     "text": [
      "                     age  credit_history       sex     label   savings  \\\n",
      "age             1.000000       -0.000637  0.000891  0.000353  0.001848   \n",
      "credit_history -0.000637        1.000000 -0.001436  0.181056  0.001613   \n",
      "sex             0.000891       -0.001436  1.000000  0.001490 -0.000709   \n",
      "label           0.000353        0.181056  0.001490  1.000000 -0.021029   \n",
      "savings         0.001848        0.001613 -0.000709 -0.021029  1.000000   \n",
      "employment     -0.000554        0.122019  0.002233  0.091187  0.001412   \n",
      "\n",
      "                employment  \n",
      "age              -0.000554  \n",
      "credit_history    0.122019  \n",
      "sex               0.002233  \n",
      "label             0.091187  \n",
      "savings           0.001412  \n",
      "employment        1.000000  \n"
     ]
    },
    {
     "data": {
      "text/plain": [
       "<AxesSubplot: >"
      ]
     },
     "execution_count": 38,
     "metadata": {},
     "output_type": "execute_result"
    },
    {
     "data": {
      "image/png": "[encoded data removed]",
      "text/plain": [
       "<Figure size 500x500 with 2 Axes>"
      ]
     },
     "metadata": {},
     "output_type": "display_data"
    }
   ],
   "source": [
    "import matplotlib.pyplot as plt\n",
    "# Compute the correlation matrix\n",
    "corr = fair_data.data.corr()\n",
    "print(corr)\n",
    "# Generate a mask for the upper triangle\n",
    "mask = np.triu(np.ones_like(corr, dtype=bool))\n",
    "\n",
    "# Set up the matplotlib figure\n",
    "f, ax = plt.subplots(figsize=(5, 5))\n",
    "\n",
    "# Generate a custom diverging colormap\n",
    "cmap = sns.diverging_palette(230, 20, as_cmap=True)\n",
    "\n",
    "# Draw the heatmap with the mask and correct aspect ratio\n",
    "sns.heatmap(corr, mask=mask, cmap=cmap, center=0,\n",
    "            square=True, linewidths=.5, cbar_kws={\"shrink\": .5})"
   ]
  },
  {
   "cell_type": "code",
   "execution_count": 39,
   "metadata": {},
   "outputs": [
    {
     "name": "stderr",
     "output_type": "stream",
     "text": [
      "100%|██████████| 108/108 [00:01<00:00, 106.67it/s]\n"
     ]
    }
   ],
   "source": [
    "data_pred = fair_data.data[list(flai_graph.graph['model'].nodes())]\n",
    "out = flai_graph.predict(data_pred, variables = ['label'])\n",
    "fair_data.data['Predicted'] = out.label"
   ]
  },
  {
   "cell_type": "code",
   "execution_count": 40,
   "metadata": {},
   "outputs": [
    {
     "name": "stdout",
     "output_type": "stream",
     "text": [
      "Calculating metrics for : sex  the value :  1\n",
      "Calculating metrics for : sex  the value :  0\n",
      "Calculating metrics for : age  the value :  1\n",
      "Calculating metrics for : age  the value :  0\n"
     ]
    },
    {
     "data": {
      "text/plain": [
       "{'model': {'ACC': 0.703003,\n",
       "  'TN': 19678,\n",
       "  'FP': 279620,\n",
       "  'FN': 17377,\n",
       "  'TP': 683325,\n",
       "  'TPR': 0.9752005845566304,\n",
       "  'FPR': 0.9342528182613984,\n",
       "  'FNR': 0.02479941544336965,\n",
       "  'PPP': 0.962945},\n",
       " 'sex': {'privileged': {'ACC': 0.7037553960856665,\n",
       "   'TN': 9760,\n",
       "   'FP': 139795,\n",
       "   'FN': 8572,\n",
       "   'TP': 342699,\n",
       "   'TPR': 0.975597188495492,\n",
       "   'FPR': 0.9347397278593159,\n",
       "   'FNR': 0.024402811504507915,\n",
       "   'PPP': 0.9633964690331572},\n",
       "  'unprivileged': {'ACC': 0.7022481138841365,\n",
       "   'TN': 9918,\n",
       "   'FP': 139825,\n",
       "   'FN': 8805,\n",
       "   'TP': 340626,\n",
       "   'TPR': 0.9748018922190647,\n",
       "   'FPR': 0.9337665199708834,\n",
       "   'FNR': 0.025198107780935293,\n",
       "   'PPP': 0.9624920368448677},\n",
       "  'fair_metrics': {'EOD': -0.0007952962764273819,\n",
       "   'DI': 0.9990612045846533,\n",
       "   'SPD': -0.0009044321882895057,\n",
       "   'OD': -0.001768504164859852}},\n",
       " 'age': {'privileged': {'ACC': 0.7031982090029584,\n",
       "   'TN': 9827,\n",
       "   'FP': 139825,\n",
       "   'FN': 8659,\n",
       "   'TP': 341969,\n",
       "   'TPR': 0.9753043111217586,\n",
       "   'FPR': 0.9343343222943896,\n",
       "   'FNR': 0.024695688878241327,\n",
       "   'PPP': 0.96304869273207},\n",
       "  'unprivileged': {'ACC': 0.7028075722404546,\n",
       "   'TN': 9851,\n",
       "   'FP': 139795,\n",
       "   'FN': 8718,\n",
       "   'TP': 341356,\n",
       "   'TPR': 0.9750966938418735,\n",
       "   'FPR': 0.9341713109605335,\n",
       "   'FNR': 0.024903306158126567,\n",
       "   'PPP': 0.9628411910669975},\n",
       "  'fair_metrics': {'EOD': -0.00020761727988516387,\n",
       "   'DI': 0.9997845366837227,\n",
       "   'SPD': -0.0002075016650725514,\n",
       "   'OD': -0.000370628613741264}}}"
      ]
     },
     "execution_count": 40,
     "metadata": {},
     "output_type": "execute_result"
    }
   ],
   "source": [
    "result_metrics_mitigated_fair_data = fair_data.fairness_metrics(target_column='label', predicted_column = 'Predicted',\n",
    "                            columns_fair = {'sex' : {'privileged' : 1, 'unprivileged' : 0},\n",
    "                                            'age' : {'privileged' : 1, 'unprivileged' : 0}})\n",
    "result_metrics_mitigated_fair_data"
   ]
  },
  {
   "cell_type": "code",
   "execution_count": 41,
   "metadata": {},
   "outputs": [],
   "source": [
    "df_performance_mitigated_fair_data, df_fairness_mitigated_fair_data = fair_data.get_df_metrics(result_metrics_mitigated_fair_data)"
   ]
  },
  {
   "cell_type": "code",
   "execution_count": 42,
   "metadata": {},
   "outputs": [
    {
     "data": {
      "text/html": [
       "<div>\n",
       "<style scoped>\n",
       "    .dataframe tbody tr th:only-of-type {\n",
       "        vertical-align: middle;\n",
       "    }\n",
       "\n",
       "    .dataframe tbody tr th {\n",
       "        vertical-align: top;\n",
       "    }\n",
       "\n",
       "    .dataframe thead th {\n",
       "        text-align: right;\n",
       "    }\n",
       "</style>\n",
       "<table border=\"1\" class=\"dataframe\">\n",
       "  <thead>\n",
       "    <tr style=\"text-align: right;\">\n",
       "      <th></th>\n",
       "      <th>ACC</th>\n",
       "      <th>TN</th>\n",
       "      <th>FP</th>\n",
       "      <th>FN</th>\n",
       "      <th>TP</th>\n",
       "      <th>TPR</th>\n",
       "      <th>FPR</th>\n",
       "      <th>FNR</th>\n",
       "      <th>PPP</th>\n",
       "    </tr>\n",
       "  </thead>\n",
       "  <tbody>\n",
       "    <tr>\n",
       "      <th>model</th>\n",
       "      <td>0.703003</td>\n",
       "      <td>19678.0</td>\n",
       "      <td>279620.0</td>\n",
       "      <td>17377.0</td>\n",
       "      <td>683325.0</td>\n",
       "      <td>0.975201</td>\n",
       "      <td>0.934253</td>\n",
       "      <td>0.024799</td>\n",
       "      <td>0.962945</td>\n",
       "    </tr>\n",
       "    <tr>\n",
       "      <th>sex_privileged</th>\n",
       "      <td>0.703755</td>\n",
       "      <td>9760.0</td>\n",
       "      <td>139795.0</td>\n",
       "      <td>8572.0</td>\n",
       "      <td>342699.0</td>\n",
       "      <td>0.975597</td>\n",
       "      <td>0.934740</td>\n",
       "      <td>0.024403</td>\n",
       "      <td>0.963396</td>\n",
       "    </tr>\n",
       "    <tr>\n",
       "      <th>sex_unprivileged</th>\n",
       "      <td>0.702248</td>\n",
       "      <td>9918.0</td>\n",
       "      <td>139825.0</td>\n",
       "      <td>8805.0</td>\n",
       "      <td>340626.0</td>\n",
       "      <td>0.974802</td>\n",
       "      <td>0.933767</td>\n",
       "      <td>0.025198</td>\n",
       "      <td>0.962492</td>\n",
       "    </tr>\n",
       "    <tr>\n",
       "      <th>age_privileged</th>\n",
       "      <td>0.703198</td>\n",
       "      <td>9827.0</td>\n",
       "      <td>139825.0</td>\n",
       "      <td>8659.0</td>\n",
       "      <td>341969.0</td>\n",
       "      <td>0.975304</td>\n",
       "      <td>0.934334</td>\n",
       "      <td>0.024696</td>\n",
       "      <td>0.963049</td>\n",
       "    </tr>\n",
       "    <tr>\n",
       "      <th>age_unprivileged</th>\n",
       "      <td>0.702808</td>\n",
       "      <td>9851.0</td>\n",
       "      <td>139795.0</td>\n",
       "      <td>8718.0</td>\n",
       "      <td>341356.0</td>\n",
       "      <td>0.975097</td>\n",
       "      <td>0.934171</td>\n",
       "      <td>0.024903</td>\n",
       "      <td>0.962841</td>\n",
       "    </tr>\n",
       "  </tbody>\n",
       "</table>\n",
       "</div>"
      ],
      "text/plain": [
       "                       ACC       TN        FP       FN        TP       TPR  \\\n",
       "model             0.703003  19678.0  279620.0  17377.0  683325.0  0.975201   \n",
       "sex_privileged    0.703755   9760.0  139795.0   8572.0  342699.0  0.975597   \n",
       "sex_unprivileged  0.702248   9918.0  139825.0   8805.0  340626.0  0.974802   \n",
       "age_privileged    0.703198   9827.0  139825.0   8659.0  341969.0  0.975304   \n",
       "age_unprivileged  0.702808   9851.0  139795.0   8718.0  341356.0  0.975097   \n",
       "\n",
       "                       FPR       FNR       PPP  \n",
       "model             0.934253  0.024799  0.962945  \n",
       "sex_privileged    0.934740  0.024403  0.963396  \n",
       "sex_unprivileged  0.933767  0.025198  0.962492  \n",
       "age_privileged    0.934334  0.024696  0.963049  \n",
       "age_unprivileged  0.934171  0.024903  0.962841  "
      ]
     },
     "execution_count": 42,
     "metadata": {},
     "output_type": "execute_result"
    }
   ],
   "source": [
    "df_performance_mitigated_fair_data"
   ]
  },
  {
   "cell_type": "code",
   "execution_count": 43,
   "metadata": {},
   "outputs": [
    {
     "data": {
      "text/html": [
       "<div>\n",
       "<style scoped>\n",
       "    .dataframe tbody tr th:only-of-type {\n",
       "        vertical-align: middle;\n",
       "    }\n",
       "\n",
       "    .dataframe tbody tr th {\n",
       "        vertical-align: top;\n",
       "    }\n",
       "\n",
       "    .dataframe thead th {\n",
       "        text-align: right;\n",
       "    }\n",
       "</style>\n",
       "<table border=\"1\" class=\"dataframe\">\n",
       "  <thead>\n",
       "    <tr style=\"text-align: right;\">\n",
       "      <th></th>\n",
       "      <th>EOD</th>\n",
       "      <th>DI</th>\n",
       "      <th>SPD</th>\n",
       "      <th>OD</th>\n",
       "    </tr>\n",
       "  </thead>\n",
       "  <tbody>\n",
       "    <tr>\n",
       "      <th>sex_fair_metrics</th>\n",
       "      <td>-0.000795</td>\n",
       "      <td>0.999061</td>\n",
       "      <td>-0.000904</td>\n",
       "      <td>-0.001769</td>\n",
       "    </tr>\n",
       "    <tr>\n",
       "      <th>age_fair_metrics</th>\n",
       "      <td>-0.000208</td>\n",
       "      <td>0.999785</td>\n",
       "      <td>-0.000208</td>\n",
       "      <td>-0.000371</td>\n",
       "    </tr>\n",
       "  </tbody>\n",
       "</table>\n",
       "</div>"
      ],
      "text/plain": [
       "                       EOD        DI       SPD        OD\n",
       "sex_fair_metrics -0.000795  0.999061 -0.000904 -0.001769\n",
       "age_fair_metrics -0.000208  0.999785 -0.000208 -0.000371"
      ]
     },
     "execution_count": 43,
     "metadata": {},
     "output_type": "execute_result"
    }
   ],
   "source": [
    "df_fairness_mitigated_fair_data"
   ]
  },
  {
   "attachments": {},
   "cell_type": "markdown",
   "metadata": {},
   "source": [
    "## Train Algorithm"
   ]
  },
  {
   "cell_type": "code",
   "execution_count": 50,
   "metadata": {},
   "outputs": [],
   "source": [
    "from numpy import loadtxt\n",
    "from xgboost import XGBClassifier\n",
    "from sklearn.model_selection import train_test_split\n",
    "from sklearn.metrics import accuracy_score"
   ]
  },
  {
   "cell_type": "code",
   "execution_count": 51,
   "metadata": {},
   "outputs": [],
   "source": [
    "original_X = flai_dataset.data[['age', 'sex', 'credit_history','savings','employment' ]]\n",
    "original_y = flai_dataset.data[['label']]\n",
    "mitigated_X = fair_data.data[['age', 'sex', 'credit_history','savings','employment' ]]\n",
    "mitigated_y = fair_data.data[['label']]\n"
   ]
  },
  {
   "cell_type": "code",
   "execution_count": 52,
   "metadata": {},
   "outputs": [],
   "source": [
    "original_X_train, original_X_test, original_y_train, original_y_test = train_test_split(original_X, original_y, test_size=0.5, random_state=54)\n",
    "mitigated_X_train, mitigated_X_test, mitigated_y_train, mitigated_y_test = train_test_split(mitigated_X, mitigated_y, test_size=0.5, random_state=54)\n"
   ]
  },
  {
   "cell_type": "code",
   "execution_count": 53,
   "metadata": {},
   "outputs": [
    {
     "data": {
      "text/plain": [
       "XGBClassifier(base_score=0.5, booster='gbtree', callbacks=None,\n",
       "              colsample_bylevel=1, colsample_bynode=1, colsample_bytree=1,\n",
       "              early_stopping_rounds=None, enable_categorical=False,\n",
       "              eval_metric=None, feature_types=None, gamma=0, gpu_id=-1,\n",
       "              grow_policy='depthwise', importance_type=None,\n",
       "              interaction_constraints='', learning_rate=0.300000012,\n",
       "              max_bin=256, max_cat_threshold=64, max_cat_to_onehot=4,\n",
       "              max_delta_step=0, max_depth=6, max_leaves=0, min_child_weight=1,\n",
       "              missing=nan, monotone_constraints='()', n_estimators=100,\n",
       "              n_jobs=0, num_parallel_tree=1, predictor='auto', random_state=0, ...)"
      ]
     },
     "execution_count": 53,
     "metadata": {},
     "output_type": "execute_result"
    }
   ],
   "source": [
    "model_original = XGBClassifier()\n",
    "model_original.fit(original_X_train, original_y_train)"
   ]
  },
  {
   "cell_type": "code",
   "execution_count": 54,
   "metadata": {},
   "outputs": [
    {
     "data": {
      "text/plain": [
       "XGBClassifier(base_score=0.5, booster='gbtree', callbacks=None,\n",
       "              colsample_bylevel=1, colsample_bynode=1, colsample_bytree=1,\n",
       "              early_stopping_rounds=None, enable_categorical=False,\n",
       "              eval_metric=None, feature_types=None, gamma=0, gpu_id=-1,\n",
       "              grow_policy='depthwise', importance_type=None,\n",
       "              interaction_constraints='', learning_rate=0.300000012,\n",
       "              max_bin=256, max_cat_threshold=64, max_cat_to_onehot=4,\n",
       "              max_delta_step=0, max_depth=6, max_leaves=0, min_child_weight=1,\n",
       "              missing=nan, monotone_constraints='()', n_estimators=100,\n",
       "              n_jobs=0, num_parallel_tree=1, predictor='auto', random_state=0, ...)"
      ]
     },
     "execution_count": 54,
     "metadata": {},
     "output_type": "execute_result"
    }
   ],
   "source": [
    "model_mitigated = XGBClassifier()\n",
    "model_mitigated.fit(mitigated_X_train, mitigated_y_train)"
   ]
  },
  {
   "cell_type": "code",
   "execution_count": 55,
   "metadata": {},
   "outputs": [],
   "source": [
    "original_y_test['Predicted'] = model_original.predict(original_X_test)\n",
    "mitigated_y_test['Predicted'] = model_mitigated.predict(mitigated_X_test)"
   ]
  },
  {
   "cell_type": "code",
   "execution_count": 56,
   "metadata": {},
   "outputs": [],
   "source": [
    "original_X_test[['label', 'Predicted']] = original_y_test[['label', 'Predicted']]\n",
    "mitigated_X_test[['label', 'Predicted']] = mitigated_y_test[['label', 'Predicted']]\n"
   ]
  },
  {
   "cell_type": "code",
   "execution_count": 57,
   "metadata": {},
   "outputs": [],
   "source": [
    "original_dataset = data.Data(original_X_test, transform=False)\n",
    "mitigated_dataset = data.Data(mitigated_X_test, transform=False)"
   ]
  },
  {
   "cell_type": "code",
   "execution_count": 58,
   "metadata": {},
   "outputs": [
    {
     "name": "stdout",
     "output_type": "stream",
     "text": [
      "Calculating metrics for : sex  the value :  1\n",
      "Calculating metrics for : sex  the value :  0\n",
      "Calculating metrics for : age  the value :  1\n",
      "Calculating metrics for : age  the value :  0\n"
     ]
    }
   ],
   "source": [
    "metrics_xgboost_original = original_dataset.fairness_metrics(target_column='label', predicted_column = 'Predicted',\n",
    "                            columns_fair = {'sex' : {'privileged' : 1, 'unprivileged' : 0},\n",
    "                                           'age' : {'privileged' : 1, 'unprivileged' : 0}})\n",
    "df_performance_xgboost,df_fairness_xgboost = original_dataset.get_df_metrics(metrics_xgboost_original)"
   ]
  },
  {
   "cell_type": "code",
   "execution_count": 59,
   "metadata": {},
   "outputs": [
    {
     "data": {
      "text/html": [
       "<div>\n",
       "<style scoped>\n",
       "    .dataframe tbody tr th:only-of-type {\n",
       "        vertical-align: middle;\n",
       "    }\n",
       "\n",
       "    .dataframe tbody tr th {\n",
       "        vertical-align: top;\n",
       "    }\n",
       "\n",
       "    .dataframe thead th {\n",
       "        text-align: right;\n",
       "    }\n",
       "</style>\n",
       "<table border=\"1\" class=\"dataframe\">\n",
       "  <thead>\n",
       "    <tr style=\"text-align: right;\">\n",
       "      <th></th>\n",
       "      <th>ACC</th>\n",
       "      <th>TN</th>\n",
       "      <th>FP</th>\n",
       "      <th>FN</th>\n",
       "      <th>TP</th>\n",
       "      <th>TPR</th>\n",
       "      <th>FPR</th>\n",
       "      <th>FNR</th>\n",
       "      <th>PPP</th>\n",
       "    </tr>\n",
       "  </thead>\n",
       "  <tbody>\n",
       "    <tr>\n",
       "      <th>model</th>\n",
       "      <td>0.712000</td>\n",
       "      <td>26.0</td>\n",
       "      <td>112.0</td>\n",
       "      <td>32.0</td>\n",
       "      <td>330.0</td>\n",
       "      <td>0.911602</td>\n",
       "      <td>0.811594</td>\n",
       "      <td>0.088398</td>\n",
       "      <td>0.884000</td>\n",
       "    </tr>\n",
       "    <tr>\n",
       "      <th>sex_privileged</th>\n",
       "      <td>0.734870</td>\n",
       "      <td>11.0</td>\n",
       "      <td>71.0</td>\n",
       "      <td>21.0</td>\n",
       "      <td>244.0</td>\n",
       "      <td>0.920755</td>\n",
       "      <td>0.865854</td>\n",
       "      <td>0.079245</td>\n",
       "      <td>0.907781</td>\n",
       "    </tr>\n",
       "    <tr>\n",
       "      <th>sex_unprivileged</th>\n",
       "      <td>0.660131</td>\n",
       "      <td>15.0</td>\n",
       "      <td>41.0</td>\n",
       "      <td>11.0</td>\n",
       "      <td>86.0</td>\n",
       "      <td>0.886598</td>\n",
       "      <td>0.732143</td>\n",
       "      <td>0.113402</td>\n",
       "      <td>0.830065</td>\n",
       "    </tr>\n",
       "    <tr>\n",
       "      <th>age_privileged</th>\n",
       "      <td>0.727711</td>\n",
       "      <td>9.0</td>\n",
       "      <td>95.0</td>\n",
       "      <td>18.0</td>\n",
       "      <td>293.0</td>\n",
       "      <td>0.942122</td>\n",
       "      <td>0.913462</td>\n",
       "      <td>0.057878</td>\n",
       "      <td>0.934940</td>\n",
       "    </tr>\n",
       "    <tr>\n",
       "      <th>age_unprivileged</th>\n",
       "      <td>0.635294</td>\n",
       "      <td>17.0</td>\n",
       "      <td>17.0</td>\n",
       "      <td>14.0</td>\n",
       "      <td>37.0</td>\n",
       "      <td>0.725490</td>\n",
       "      <td>0.500000</td>\n",
       "      <td>0.274510</td>\n",
       "      <td>0.635294</td>\n",
       "    </tr>\n",
       "  </tbody>\n",
       "</table>\n",
       "</div>"
      ],
      "text/plain": [
       "                       ACC    TN     FP    FN     TP       TPR       FPR  \\\n",
       "model             0.712000  26.0  112.0  32.0  330.0  0.911602  0.811594   \n",
       "sex_privileged    0.734870  11.0   71.0  21.0  244.0  0.920755  0.865854   \n",
       "sex_unprivileged  0.660131  15.0   41.0  11.0   86.0  0.886598  0.732143   \n",
       "age_privileged    0.727711   9.0   95.0  18.0  293.0  0.942122  0.913462   \n",
       "age_unprivileged  0.635294  17.0   17.0  14.0   37.0  0.725490  0.500000   \n",
       "\n",
       "                       FNR       PPP  \n",
       "model             0.088398  0.884000  \n",
       "sex_privileged    0.079245  0.907781  \n",
       "sex_unprivileged  0.113402  0.830065  \n",
       "age_privileged    0.057878  0.934940  \n",
       "age_unprivileged  0.274510  0.635294  "
      ]
     },
     "execution_count": 59,
     "metadata": {},
     "output_type": "execute_result"
    }
   ],
   "source": [
    "df_performance_xgboost"
   ]
  },
  {
   "cell_type": "code",
   "execution_count": 60,
   "metadata": {},
   "outputs": [
    {
     "data": {
      "text/html": [
       "<div>\n",
       "<style scoped>\n",
       "    .dataframe tbody tr th:only-of-type {\n",
       "        vertical-align: middle;\n",
       "    }\n",
       "\n",
       "    .dataframe tbody tr th {\n",
       "        vertical-align: top;\n",
       "    }\n",
       "\n",
       "    .dataframe thead th {\n",
       "        text-align: right;\n",
       "    }\n",
       "</style>\n",
       "<table border=\"1\" class=\"dataframe\">\n",
       "  <thead>\n",
       "    <tr style=\"text-align: right;\">\n",
       "      <th></th>\n",
       "      <th>EOD</th>\n",
       "      <th>DI</th>\n",
       "      <th>SPD</th>\n",
       "      <th>OD</th>\n",
       "    </tr>\n",
       "  </thead>\n",
       "  <tbody>\n",
       "    <tr>\n",
       "      <th>sex_fair_metrics</th>\n",
       "      <td>-0.034157</td>\n",
       "      <td>0.914389</td>\n",
       "      <td>-0.077716</td>\n",
       "      <td>-0.167868</td>\n",
       "    </tr>\n",
       "    <tr>\n",
       "      <th>age_fair_metrics</th>\n",
       "      <td>-0.216632</td>\n",
       "      <td>0.679503</td>\n",
       "      <td>-0.299646</td>\n",
       "      <td>-0.630094</td>\n",
       "    </tr>\n",
       "  </tbody>\n",
       "</table>\n",
       "</div>"
      ],
      "text/plain": [
       "                       EOD        DI       SPD        OD\n",
       "sex_fair_metrics -0.034157  0.914389 -0.077716 -0.167868\n",
       "age_fair_metrics -0.216632  0.679503 -0.299646 -0.630094"
      ]
     },
     "execution_count": 60,
     "metadata": {},
     "output_type": "execute_result"
    }
   ],
   "source": [
    "df_fairness_xgboost"
   ]
  },
  {
   "cell_type": "code",
   "execution_count": 61,
   "metadata": {},
   "outputs": [
    {
     "name": "stdout",
     "output_type": "stream",
     "text": [
      "Calculating metrics for : sex  the value :  1\n",
      "Calculating metrics for : sex  the value :  0\n",
      "Calculating metrics for : age  the value :  1\n",
      "Calculating metrics for : age  the value :  0\n"
     ]
    }
   ],
   "source": [
    "metrics_xgboost_mitigated_fair_data = mitigated_dataset.fairness_metrics(target_column='label', predicted_column = 'Predicted',\n",
    "                            columns_fair = {'sex' : {'privileged' : 1, 'unprivileged' : 0},\n",
    "                                            'age' : {'privileged' : 1, 'unprivileged' : 0}})\n",
    "df_performance_xgboost_mitigated_fair_data,df_fairness_xgboost_mitigated_fair_data = original_dataset.get_df_metrics(metrics_xgboost_mitigated_fair_data)"
   ]
  },
  {
   "cell_type": "code",
   "execution_count": 62,
   "metadata": {},
   "outputs": [
    {
     "data": {
      "text/html": [
       "<div>\n",
       "<style scoped>\n",
       "    .dataframe tbody tr th:only-of-type {\n",
       "        vertical-align: middle;\n",
       "    }\n",
       "\n",
       "    .dataframe tbody tr th {\n",
       "        vertical-align: top;\n",
       "    }\n",
       "\n",
       "    .dataframe thead th {\n",
       "        text-align: right;\n",
       "    }\n",
       "</style>\n",
       "<table border=\"1\" class=\"dataframe\">\n",
       "  <thead>\n",
       "    <tr style=\"text-align: right;\">\n",
       "      <th></th>\n",
       "      <th>ACC</th>\n",
       "      <th>TN</th>\n",
       "      <th>FP</th>\n",
       "      <th>FN</th>\n",
       "      <th>TP</th>\n",
       "      <th>TPR</th>\n",
       "      <th>FPR</th>\n",
       "      <th>FNR</th>\n",
       "      <th>PPP</th>\n",
       "    </tr>\n",
       "  </thead>\n",
       "  <tbody>\n",
       "    <tr>\n",
       "      <th>model</th>\n",
       "      <td>0.703836</td>\n",
       "      <td>8694.0</td>\n",
       "      <td>140482.0</td>\n",
       "      <td>7600.0</td>\n",
       "      <td>343224.0</td>\n",
       "      <td>0.978337</td>\n",
       "      <td>0.941720</td>\n",
       "      <td>0.021663</td>\n",
       "      <td>0.967412</td>\n",
       "    </tr>\n",
       "    <tr>\n",
       "      <th>sex_privileged</th>\n",
       "      <td>0.705058</td>\n",
       "      <td>4134.0</td>\n",
       "      <td>70343.0</td>\n",
       "      <td>3560.0</td>\n",
       "      <td>172531.0</td>\n",
       "      <td>0.979783</td>\n",
       "      <td>0.944493</td>\n",
       "      <td>0.020217</td>\n",
       "      <td>0.969294</td>\n",
       "    </tr>\n",
       "    <tr>\n",
       "      <th>sex_unprivileged</th>\n",
       "      <td>0.702608</td>\n",
       "      <td>4560.0</td>\n",
       "      <td>70139.0</td>\n",
       "      <td>4040.0</td>\n",
       "      <td>170693.0</td>\n",
       "      <td>0.976879</td>\n",
       "      <td>0.938955</td>\n",
       "      <td>0.023121</td>\n",
       "      <td>0.965522</td>\n",
       "    </tr>\n",
       "    <tr>\n",
       "      <th>age_privileged</th>\n",
       "      <td>0.703822</td>\n",
       "      <td>3911.0</td>\n",
       "      <td>70842.0</td>\n",
       "      <td>3324.0</td>\n",
       "      <td>172333.0</td>\n",
       "      <td>0.981077</td>\n",
       "      <td>0.947681</td>\n",
       "      <td>0.018923</td>\n",
       "      <td>0.971107</td>\n",
       "    </tr>\n",
       "    <tr>\n",
       "      <th>age_unprivileged</th>\n",
       "      <td>0.703850</td>\n",
       "      <td>4783.0</td>\n",
       "      <td>69640.0</td>\n",
       "      <td>4276.0</td>\n",
       "      <td>170891.0</td>\n",
       "      <td>0.975589</td>\n",
       "      <td>0.935732</td>\n",
       "      <td>0.024411</td>\n",
       "      <td>0.963704</td>\n",
       "    </tr>\n",
       "  </tbody>\n",
       "</table>\n",
       "</div>"
      ],
      "text/plain": [
       "                       ACC      TN        FP      FN        TP       TPR  \\\n",
       "model             0.703836  8694.0  140482.0  7600.0  343224.0  0.978337   \n",
       "sex_privileged    0.705058  4134.0   70343.0  3560.0  172531.0  0.979783   \n",
       "sex_unprivileged  0.702608  4560.0   70139.0  4040.0  170693.0  0.976879   \n",
       "age_privileged    0.703822  3911.0   70842.0  3324.0  172333.0  0.981077   \n",
       "age_unprivileged  0.703850  4783.0   69640.0  4276.0  170891.0  0.975589   \n",
       "\n",
       "                       FPR       FNR       PPP  \n",
       "model             0.941720  0.021663  0.967412  \n",
       "sex_privileged    0.944493  0.020217  0.969294  \n",
       "sex_unprivileged  0.938955  0.023121  0.965522  \n",
       "age_privileged    0.947681  0.018923  0.971107  \n",
       "age_unprivileged  0.935732  0.024411  0.963704  "
      ]
     },
     "execution_count": 62,
     "metadata": {},
     "output_type": "execute_result"
    }
   ],
   "source": [
    "df_performance_xgboost_mitigated_fair_data"
   ]
  },
  {
   "cell_type": "code",
   "execution_count": 63,
   "metadata": {},
   "outputs": [
    {
     "data": {
      "text/html": [
       "<div>\n",
       "<style scoped>\n",
       "    .dataframe tbody tr th:only-of-type {\n",
       "        vertical-align: middle;\n",
       "    }\n",
       "\n",
       "    .dataframe tbody tr th {\n",
       "        vertical-align: top;\n",
       "    }\n",
       "\n",
       "    .dataframe thead th {\n",
       "        text-align: right;\n",
       "    }\n",
       "</style>\n",
       "<table border=\"1\" class=\"dataframe\">\n",
       "  <thead>\n",
       "    <tr style=\"text-align: right;\">\n",
       "      <th></th>\n",
       "      <th>EOD</th>\n",
       "      <th>DI</th>\n",
       "      <th>SPD</th>\n",
       "      <th>OD</th>\n",
       "    </tr>\n",
       "  </thead>\n",
       "  <tbody>\n",
       "    <tr>\n",
       "      <th>sex_fair_metrics</th>\n",
       "      <td>-0.002904</td>\n",
       "      <td>0.996108</td>\n",
       "      <td>-0.003772</td>\n",
       "      <td>-0.008442</td>\n",
       "    </tr>\n",
       "    <tr>\n",
       "      <th>age_fair_metrics</th>\n",
       "      <td>-0.005488</td>\n",
       "      <td>0.992377</td>\n",
       "      <td>-0.007403</td>\n",
       "      <td>-0.017437</td>\n",
       "    </tr>\n",
       "  </tbody>\n",
       "</table>\n",
       "</div>"
      ],
      "text/plain": [
       "                       EOD        DI       SPD        OD\n",
       "sex_fair_metrics -0.002904  0.996108 -0.003772 -0.008442\n",
       "age_fair_metrics -0.005488  0.992377 -0.007403 -0.017437"
      ]
     },
     "execution_count": 63,
     "metadata": {},
     "output_type": "execute_result"
    }
   ],
   "source": [
    "df_fairness_xgboost_mitigated_fair_data"
   ]
  },
  {
   "cell_type": "code",
   "execution_count": 64,
   "metadata": {},
   "outputs": [
    {
     "name": "stdout",
     "output_type": "stream",
     "text": [
      "Calculating metrics for : sex  the value :  1\n",
      "Calculating metrics for : sex  the value :  0\n",
      "Calculating metrics for : age  the value :  1\n",
      "Calculating metrics for : age  the value :  0\n"
     ]
    }
   ],
   "source": [
    "original_y_test['Predicted'] = model_mitigated.predict(original_X_test[['age', 'sex', 'credit_history','savings','employment']])\n",
    "original_X_test[['label', 'Predicted']] = original_y_test[['label', 'Predicted']]\n",
    "original_dataset = data.Data(original_X_test, transform=False)\n",
    "metrics_xgboost_original = original_dataset.fairness_metrics(target_column='label', predicted_column = 'Predicted',\n",
    "                            columns_fair = {'sex' : {'privileged' : 1, 'unprivileged' : 0},\n",
    "                                           'age' : {'privileged' : 1, 'unprivileged' : 0}})\n",
    "df_performance_xgboost,df_fairness_xgboost = original_dataset.get_df_metrics(metrics_xgboost_original)"
   ]
  },
  {
   "cell_type": "code",
   "execution_count": 65,
   "metadata": {},
   "outputs": [
    {
     "data": {
      "text/html": [
       "<div>\n",
       "<style scoped>\n",
       "    .dataframe tbody tr th:only-of-type {\n",
       "        vertical-align: middle;\n",
       "    }\n",
       "\n",
       "    .dataframe tbody tr th {\n",
       "        vertical-align: top;\n",
       "    }\n",
       "\n",
       "    .dataframe thead th {\n",
       "        text-align: right;\n",
       "    }\n",
       "</style>\n",
       "<table border=\"1\" class=\"dataframe\">\n",
       "  <thead>\n",
       "    <tr style=\"text-align: right;\">\n",
       "      <th></th>\n",
       "      <th>ACC</th>\n",
       "      <th>TN</th>\n",
       "      <th>FP</th>\n",
       "      <th>FN</th>\n",
       "      <th>TP</th>\n",
       "      <th>TPR</th>\n",
       "      <th>FPR</th>\n",
       "      <th>FNR</th>\n",
       "      <th>PPP</th>\n",
       "    </tr>\n",
       "  </thead>\n",
       "  <tbody>\n",
       "    <tr>\n",
       "      <th>model</th>\n",
       "      <td>0.718000</td>\n",
       "      <td>6.0</td>\n",
       "      <td>132.0</td>\n",
       "      <td>9.0</td>\n",
       "      <td>353.0</td>\n",
       "      <td>0.975138</td>\n",
       "      <td>0.956522</td>\n",
       "      <td>0.024862</td>\n",
       "      <td>0.970000</td>\n",
       "    </tr>\n",
       "    <tr>\n",
       "      <th>sex_privileged</th>\n",
       "      <td>0.755043</td>\n",
       "      <td>3.0</td>\n",
       "      <td>79.0</td>\n",
       "      <td>6.0</td>\n",
       "      <td>259.0</td>\n",
       "      <td>0.977358</td>\n",
       "      <td>0.963415</td>\n",
       "      <td>0.022642</td>\n",
       "      <td>0.974063</td>\n",
       "    </tr>\n",
       "    <tr>\n",
       "      <th>sex_unprivileged</th>\n",
       "      <td>0.633987</td>\n",
       "      <td>3.0</td>\n",
       "      <td>53.0</td>\n",
       "      <td>3.0</td>\n",
       "      <td>94.0</td>\n",
       "      <td>0.969072</td>\n",
       "      <td>0.946429</td>\n",
       "      <td>0.030928</td>\n",
       "      <td>0.960784</td>\n",
       "    </tr>\n",
       "    <tr>\n",
       "      <th>age_privileged</th>\n",
       "      <td>0.742169</td>\n",
       "      <td>4.0</td>\n",
       "      <td>100.0</td>\n",
       "      <td>7.0</td>\n",
       "      <td>304.0</td>\n",
       "      <td>0.977492</td>\n",
       "      <td>0.961538</td>\n",
       "      <td>0.022508</td>\n",
       "      <td>0.973494</td>\n",
       "    </tr>\n",
       "    <tr>\n",
       "      <th>age_unprivileged</th>\n",
       "      <td>0.600000</td>\n",
       "      <td>2.0</td>\n",
       "      <td>32.0</td>\n",
       "      <td>2.0</td>\n",
       "      <td>49.0</td>\n",
       "      <td>0.960784</td>\n",
       "      <td>0.941176</td>\n",
       "      <td>0.039216</td>\n",
       "      <td>0.952941</td>\n",
       "    </tr>\n",
       "  </tbody>\n",
       "</table>\n",
       "</div>"
      ],
      "text/plain": [
       "                       ACC   TN     FP   FN     TP       TPR       FPR  \\\n",
       "model             0.718000  6.0  132.0  9.0  353.0  0.975138  0.956522   \n",
       "sex_privileged    0.755043  3.0   79.0  6.0  259.0  0.977358  0.963415   \n",
       "sex_unprivileged  0.633987  3.0   53.0  3.0   94.0  0.969072  0.946429   \n",
       "age_privileged    0.742169  4.0  100.0  7.0  304.0  0.977492  0.961538   \n",
       "age_unprivileged  0.600000  2.0   32.0  2.0   49.0  0.960784  0.941176   \n",
       "\n",
       "                       FNR       PPP  \n",
       "model             0.024862  0.970000  \n",
       "sex_privileged    0.022642  0.974063  \n",
       "sex_unprivileged  0.030928  0.960784  \n",
       "age_privileged    0.022508  0.973494  \n",
       "age_unprivileged  0.039216  0.952941  "
      ]
     },
     "execution_count": 65,
     "metadata": {},
     "output_type": "execute_result"
    }
   ],
   "source": [
    "df_performance_xgboost"
   ]
  },
  {
   "cell_type": "code",
   "execution_count": 66,
   "metadata": {},
   "outputs": [
    {
     "data": {
      "text/html": [
       "<div>\n",
       "<style scoped>\n",
       "    .dataframe tbody tr th:only-of-type {\n",
       "        vertical-align: middle;\n",
       "    }\n",
       "\n",
       "    .dataframe tbody tr th {\n",
       "        vertical-align: top;\n",
       "    }\n",
       "\n",
       "    .dataframe thead th {\n",
       "        text-align: right;\n",
       "    }\n",
       "</style>\n",
       "<table border=\"1\" class=\"dataframe\">\n",
       "  <thead>\n",
       "    <tr style=\"text-align: right;\">\n",
       "      <th></th>\n",
       "      <th>EOD</th>\n",
       "      <th>DI</th>\n",
       "      <th>SPD</th>\n",
       "      <th>OD</th>\n",
       "    </tr>\n",
       "  </thead>\n",
       "  <tbody>\n",
       "    <tr>\n",
       "      <th>sex_fair_metrics</th>\n",
       "      <td>-0.008286</td>\n",
       "      <td>0.986367</td>\n",
       "      <td>-0.013279</td>\n",
       "      <td>-0.025272</td>\n",
       "    </tr>\n",
       "    <tr>\n",
       "      <th>age_fair_metrics</th>\n",
       "      <td>-0.016708</td>\n",
       "      <td>0.978888</td>\n",
       "      <td>-0.020553</td>\n",
       "      <td>-0.037070</td>\n",
       "    </tr>\n",
       "  </tbody>\n",
       "</table>\n",
       "</div>"
      ],
      "text/plain": [
       "                       EOD        DI       SPD        OD\n",
       "sex_fair_metrics -0.008286  0.986367 -0.013279 -0.025272\n",
       "age_fair_metrics -0.016708  0.978888 -0.020553 -0.037070"
      ]
     },
     "execution_count": 66,
     "metadata": {},
     "output_type": "execute_result"
    }
   ],
   "source": [
    "df_fairness_xgboost"
   ]
  },
  {
   "attachments": {},
   "cell_type": "markdown",
   "metadata": {},
   "source": [
    "### Explain Results"
   ]
  },
  {
   "cell_type": "code",
   "execution_count": 130,
   "metadata": {},
   "outputs": [],
   "source": [
    "import shap"
   ]
  },
  {
   "cell_type": "code",
   "execution_count": 131,
   "metadata": {},
   "outputs": [],
   "source": [
    "explainer_original = shap.Explainer(model_original)\n",
    "explainer_mitigated = shap.Explainer(model_mitigated)"
   ]
  },
  {
   "cell_type": "code",
   "execution_count": 132,
   "metadata": {},
   "outputs": [],
   "source": [
    "shap_values_orignal = explainer_original(original_dataset.data[['age', 'sex', 'credit_history','savings','employment']])\n",
    "shap_values_mitigated = explainer_mitigated(original_dataset.data[['age', 'sex', 'credit_history','savings','employment']])\n",
    "shap_interaction = explainer_mitigated.shap_interaction_values(original_dataset.data[['age', 'sex', 'credit_history','savings','employment']])"
   ]
  },
  {
   "cell_type": "code",
   "execution_count": 133,
   "metadata": {},
   "outputs": [
    {
     "data": {
      "image/png": "[encoded data removed]",
      "text/plain": [
       "<Figure size 800x350 with 2 Axes>"
      ]
     },
     "metadata": {},
     "output_type": "display_data"
    },
    {
     "data": {
      "image/png": "[encoded data removed]",
      "text/plain": [
       "<Figure size 800x400 with 1 Axes>"
      ]
     },
     "metadata": {},
     "output_type": "display_data"
    }
   ],
   "source": [
    "shap.plots.beeswarm(shap_values_orignal)\n",
    "shap.plots.bar(shap_values_orignal)"
   ]
  },
  {
   "cell_type": "code",
   "execution_count": 134,
   "metadata": {},
   "outputs": [
    {
     "data": {
      "image/png": "[encoded data removed]",
      "text/plain": [
       "<Figure size 800x350 with 2 Axes>"
      ]
     },
     "metadata": {},
     "output_type": "display_data"
    },
    {
     "data": {
      "image/png": "[encoded data removed]",
      "text/plain": [
       "<Figure size 800x400 with 1 Axes>"
      ]
     },
     "metadata": {},
     "output_type": "display_data"
    }
   ],
   "source": [
    "shap.plots.beeswarm(shap_values_mitigated)\n",
    "shap.plots.bar(shap_values_mitigated)"
   ]
  },
  {
   "cell_type": "code",
   "execution_count": null,
   "metadata": {},
   "outputs": [],
   "source": []
  },
  {
   "cell_type": "code",
   "execution_count": 135,
   "metadata": {},
   "outputs": [],
   "source": [
    "shap_values_model_mitigated_dataset = explainer_original(mitigated_dataset.data[['age', 'sex', 'credit_history','savings','employment']])\n",
    "shap_values_mitigated_dataset = explainer_mitigated(mitigated_dataset.data[['age', 'sex', 'credit_history','savings','employment']])"
   ]
  },
  {
   "cell_type": "code",
   "execution_count": 136,
   "metadata": {},
   "outputs": [
    {
     "data": {
      "image/png": "[encoded data removed]",
      "text/plain": [
       "<Figure size 800x350 with 2 Axes>"
      ]
     },
     "metadata": {},
     "output_type": "display_data"
    },
    {
     "data": {
      "image/png": "[encoded data removed]",
      "text/plain": [
       "<Figure size 800x400 with 1 Axes>"
      ]
     },
     "metadata": {},
     "output_type": "display_data"
    }
   ],
   "source": [
    "shap.plots.beeswarm(shap_values_model_mitigated_dataset)\n",
    "shap.plots.bar(shap_values_model_mitigated_dataset)"
   ]
  },
  {
   "cell_type": "code",
   "execution_count": 137,
   "metadata": {},
   "outputs": [
    {
     "data": {
      "image/png": "[encoded data removed]",
      "text/plain": [
       "<Figure size 800x350 with 2 Axes>"
      ]
     },
     "metadata": {},
     "output_type": "display_data"
    },
    {
     "data": {
      "image/png": "[encoded data removed]",
      "text/plain": [
       "<Figure size 800x400 with 1 Axes>"
      ]
     },
     "metadata": {},
     "output_type": "display_data"
    }
   ],
   "source": [
    "shap.plots.beeswarm(shap_values_mitigated_dataset)\n",
    "shap.plots.bar(shap_values_mitigated_dataset)"
   ]
  },
  {
   "cell_type": "code",
   "execution_count": null,
   "metadata": {},
   "outputs": [],
   "source": []
  },
  {
   "attachments": {},
   "cell_type": "markdown",
   "metadata": {},
   "source": [
    "### Test other algorithm"
   ]
  },
  {
   "cell_type": "code",
   "execution_count": null,
   "metadata": {},
   "outputs": [],
   "source": [
    "import numpy as np\n",
    "from tqdm import tqdm\n",
    "\n",
    "from aif360.datasets import BinaryLabelDataset\n",
    "from aif360.datasets import AdultDataset, GermanDataset, CompasDataset\n",
    "from aif360.metrics import BinaryLabelDatasetMetric\n",
    "from aif360.metrics import ClassificationMetric\n",
    "from aif360.algorithms.preprocessing.reweighing import Reweighing\n",
    "from aif360.algorithms.preprocessing.optim_preproc_helpers.data_preproc_functions\\\n",
    "        import load_preproc_data_adult, load_preproc_data_german, load_preproc_data_compas\n",
    "from sklearn.linear_model import LogisticRegression\n",
    "from sklearn.preprocessing import StandardScaler\n",
    "from sklearn.metrics import accuracy_score\n",
    "from aif360.algorithms.preprocessing.optim_preproc_helpers.distortion_functions import get_distortion_adult\n",
    "from IPython.display import Markdown, display\n",
    "import matplotlib.pyplot as plt\n",
    "from aif360.algorithms.preprocessing.optim_preproc import OptimPreproc\n",
    "\n"
   ]
  },
  {
   "cell_type": "code",
   "execution_count": null,
   "metadata": {},
   "outputs": [],
   "source": [
    "## import dataset\n",
    "dataset_used = \"adult\" # \"adult\", \"german\", \"compas\"\n",
    "protected_attribute_used = 1 # 1, 2\n",
    "\n",
    "\n",
    "if dataset_used == \"adult\":\n",
    "#     dataset_orig = AdultDataset()\n",
    "    if protected_attribute_used == 1:\n",
    "        privileged_groups = [{'sex': 1}]\n",
    "        unprivileged_groups = [{'sex': 0}]\n",
    "        dataset_orig = load_preproc_data_adult(['sex'])\n",
    "    else:\n",
    "        privileged_groups = [{'race': 1}]\n",
    "        unprivileged_groups = [{'race': 0}]\n",
    "        dataset_orig = load_preproc_data_adult(['race'])\n",
    "    \n",
    "elif dataset_used == \"german\":\n",
    "#     dataset_orig = GermanDataset()\n",
    "    if protected_attribute_used == 1:\n",
    "        privileged_groups = [{'sex': 1}]\n",
    "        unprivileged_groups = [{'sex': 0}]\n",
    "        dataset_orig = load_preproc_data_german(['sex'])\n",
    "    else:\n",
    "        privileged_groups = [{'age': 1}]\n",
    "        unprivileged_groups = [{'age': 0}]\n",
    "        dataset_orig = load_preproc_data_german(['age'])\n",
    "    \n",
    "elif dataset_used == \"compas\":\n",
    "#     dataset_orig = CompasDataset()\n",
    "    if protected_attribute_used == 1:\n",
    "        privileged_groups = [{'sex': 1}]\n",
    "        unprivileged_groups = [{'sex': 0}]\n",
    "        dataset_orig = load_preproc_data_compas(['sex'])\n",
    "    else:\n",
    "        privileged_groups = [{'race': 1}]\n",
    "        unprivileged_groups = [{'race': 0}]\n",
    "        dataset_orig = load_preproc_data_compas(['race'])\n",
    "\n",
    "all_metrics =  [\"Statistical parity difference\",\n",
    "                   \"Average odds difference\",\n",
    "                   \"Equal opportunity difference\"]\n",
    "\n",
    "#random seed for calibrated equal odds prediction\n",
    "np.random.seed(1)"
   ]
  },
  {
   "cell_type": "code",
   "execution_count": null,
   "metadata": {},
   "outputs": [],
   "source": [
    "dataset_orig_train, dataset_orig_test = dataset_orig.split([0.7], shuffle=True)"
   ]
  },
  {
   "cell_type": "code",
   "execution_count": null,
   "metadata": {},
   "outputs": [],
   "source": [
    "from aif360.algorithms.preprocessing.optim_preproc_helpers.opt_tools import OptTools"
   ]
  },
  {
   "cell_type": "code",
   "execution_count": null,
   "metadata": {},
   "outputs": [
    {
     "name": "stdout",
     "output_type": "stream",
     "text": [
      "Optimized Preprocessing: Objective converged to 0.010890\n"
     ]
    }
   ],
   "source": [
    "optim_options = {\n",
    "    \"distortion_fun\": get_distortion_adult,\n",
    "    \"epsilon\": 0.05,\n",
    "    \"clist\": [0.99, 1.99, 2.99],\n",
    "    \"dlist\": [.1, 0.05, 0]\n",
    "}\n",
    "    \n",
    "OP = OptimPreproc(OptTools, optim_options)\n",
    "\n",
    "OP = OP.fit(dataset_orig_train)\n",
    "dataset_transf_train = OP.transform(dataset_orig_train, transform_Y=True)\n",
    "\n",
    "dataset_transf_train = dataset_orig_train.align_datasets(dataset_transf_train)"
   ]
  },
  {
   "cell_type": "code",
   "execution_count": null,
   "metadata": {},
   "outputs": [
    {
     "name": "stdout",
     "output_type": "stream",
     "text": [
      "                age  education       sex      race     label\n",
      "age        1.000000   0.026878  0.087111  0.027662  0.228793\n",
      "education  0.026878   1.000000 -0.001475  0.034768  0.317179\n",
      "sex        0.087111  -0.001475  1.000000  0.134281  0.058479\n",
      "race       0.027662   0.034768  0.134281  1.000000  0.046588\n",
      "label      0.228793   0.317179  0.058479  0.046588  1.000000\n"
     ]
    },
    {
     "data": {
      "text/plain": [
       "<AxesSubplot: >"
      ]
     },
     "execution_count": 70,
     "metadata": {},
     "output_type": "execute_result"
    },
    {
     "data": {
      "image/png": "[encoded data removed]",
      "text/plain": [
       "<Figure size 500x500 with 2 Axes>"
      ]
     },
     "metadata": {},
     "output_type": "display_data"
    }
   ],
   "source": [
    "import seaborn as sns\n",
    "sns.set_theme(style=\"white\")\n",
    "\n",
    "# Generate a large random dataset\n",
    "df_train_transf = pd.DataFrame(dataset_transf_train.features,columns = dataset_transf_train.feature_names)\n",
    "\n",
    "df_train_transf['label'] = dataset_transf_train.labels\n",
    "df_train_transf['age'] = df_train_transf.apply(lambda row: 0 if row['Age (decade)=10'] == 1 \n",
    "                            else 1 if row['Age (decade)=20'] == 1 \n",
    "                            else 2 if row['Age (decade)=30'] == 1\n",
    "                            else 3 if row['Age (decade)=40'] == 1\n",
    "                            else 4 if row['Age (decade)=50'] == 1\n",
    "                            else 5 if row['Age (decade)=60'] == 1\n",
    "                            else 6 if row['Age (decade)=>=70'] == 1\n",
    "                            else None,axis = 1)\n",
    "df_train_transf['education'] = df_train_transf.apply(lambda row: 0 if row['Education Years=<6'] == 1 \n",
    "                                  else 1 if row['Education Years=6'] == 1 \n",
    "                                  else 2 if row['Education Years=7'] == 1 \n",
    "                                  else 3 if row['Education Years=8'] == 1 \n",
    "                                  else 4 if row['Education Years=9'] == 1 \n",
    "                                  else 5 if row['Education Years=10'] == 1 \n",
    "                                  else 6 if row['Education Years=11'] == 1 \n",
    "                                  else 7 if row['Education Years=12'] == 1\n",
    "                                  else 8 if row['Education Years=>12'] == 1  \n",
    "                                  else None,axis = 1)\n",
    "df_train_transf = df_train_transf[['age','education','sex','race','label']]\n",
    "# Compute the correlation matrix\n",
    "corr = df_train_transf.corr()\n",
    "print(corr)\n",
    "# Generate a mask for the upper triangle\n",
    "mask = np.triu(np.ones_like(corr, dtype=bool))\n",
    "\n",
    "# Set up the matplotlib figure\n",
    "f, ax = plt.subplots(figsize=(5, 5))\n",
    "\n",
    "# Generate a custom diverging colormap\n",
    "cmap = sns.diverging_palette(230, 20, as_cmap=True)\n",
    "\n",
    "# Draw the heatmap with the mask and correct aspect ratio\n",
    "sns.heatmap(corr, mask=mask, cmap=cmap, center=0,\n",
    "            square=True, linewidths=.5, cbar_kws={\"shrink\": .5})"
   ]
  },
  {
   "cell_type": "code",
   "execution_count": null,
   "metadata": {},
   "outputs": [],
   "source": []
  },
  {
   "cell_type": "code",
   "execution_count": null,
   "metadata": {},
   "outputs": [
    {
     "data": {
      "text/plain": [
       "XGBClassifier(base_score=0.5, booster='gbtree', callbacks=None,\n",
       "              colsample_bylevel=1, colsample_bynode=1, colsample_bytree=1,\n",
       "              early_stopping_rounds=None, enable_categorical=False,\n",
       "              eval_metric=None, feature_types=None, gamma=0, gpu_id=-1,\n",
       "              grow_policy='depthwise', importance_type=None,\n",
       "              interaction_constraints='', learning_rate=0.300000012,\n",
       "              max_bin=256, max_cat_threshold=64, max_cat_to_onehot=4,\n",
       "              max_delta_step=0, max_depth=6, max_leaves=0, min_child_weight=1,\n",
       "              missing=nan, monotone_constraints='()', n_estimators=100,\n",
       "              n_jobs=0, num_parallel_tree=1, predictor='auto', random_state=0, ...)"
      ]
     },
     "execution_count": 71,
     "metadata": {},
     "output_type": "execute_result"
    }
   ],
   "source": [
    "model_op = XGBClassifier()\n",
    "model_op.fit(dataset_transf_train.features, dataset_transf_train.labels)"
   ]
  },
  {
   "cell_type": "code",
   "execution_count": null,
   "metadata": {},
   "outputs": [],
   "source": [
    "df_op = pd.DataFrame(dataset_orig_test.features,columns=dataset_orig_test.feature_names)\n",
    "df_op['label'] = dataset_orig_test.labels\n",
    "df_op['Predicted'] = model_op.predict(dataset_orig_test.features)\n"
   ]
  },
  {
   "cell_type": "code",
   "execution_count": null,
   "metadata": {},
   "outputs": [
    {
     "name": "stdout",
     "output_type": "stream",
     "text": [
      "Calculating metrics for : sex  the value :  1\n",
      "Calculating metrics for : sex  the value :  0\n",
      "Calculating metrics for : race  the value :  1\n",
      "Calculating metrics for : race  the value :  0\n"
     ]
    }
   ],
   "source": [
    "op_dataset = data.Data(df_op, transform=False)\n",
    "\n",
    "metrics_xgboost_mitigated_fair_data = op_dataset.fairness_metrics(target_column='label', predicted_column = 'Predicted',\n",
    "                            columns_fair = {'sex' : {'privileged' : 1, 'unprivileged' : 0},\n",
    "                                            'race' : {'privileged' : 1, 'unprivileged' : 0}})\n",
    "df_performance_op,df_fairness_op = op_dataset.get_df_metrics(metrics_xgboost_mitigated_fair_data)"
   ]
  },
  {
   "cell_type": "code",
   "execution_count": null,
   "metadata": {},
   "outputs": [
    {
     "name": "stdout",
     "output_type": "stream",
     "text": [
      "Balanced accuracy = 1.0000\n",
      "Statistical parity difference = -0.0537\n",
      "Disparate impact = 0.7985\n",
      "Average odds difference = 0.0000\n",
      "Equal opportunity difference = 0.0000\n",
      "Theil index = 0.0000\n"
     ]
    },
    {
     "data": {
      "text/plain": [
       "OrderedDict([('Balanced accuracy', 1.0),\n",
       "             ('Statistical parity difference', -0.05372425512545234),\n",
       "             ('Disparate impact', 0.7985384483513088),\n",
       "             ('Average odds difference', 0.0),\n",
       "             ('Equal opportunity difference', 0.0),\n",
       "             ('Theil index', 0.0)])"
      ]
     },
     "execution_count": 74,
     "metadata": {},
     "output_type": "execute_result"
    }
   ],
   "source": [
    "   \n",
    "compute_metrics(dataset_transf_train, dataset_transf_train, \n",
    "                                      unprivileged_groups, privileged_groups,\n",
    "                                      disp = True)"
   ]
  },
  {
   "cell_type": "code",
   "execution_count": null,
   "metadata": {},
   "outputs": [
    {
     "data": {
      "text/html": [
       "<div>\n",
       "<style scoped>\n",
       "    .dataframe tbody tr th:only-of-type {\n",
       "        vertical-align: middle;\n",
       "    }\n",
       "\n",
       "    .dataframe tbody tr th {\n",
       "        vertical-align: top;\n",
       "    }\n",
       "\n",
       "    .dataframe thead th {\n",
       "        text-align: right;\n",
       "    }\n",
       "</style>\n",
       "<table border=\"1\" class=\"dataframe\">\n",
       "  <thead>\n",
       "    <tr style=\"text-align: right;\">\n",
       "      <th></th>\n",
       "      <th>ACC</th>\n",
       "      <th>TPR</th>\n",
       "      <th>FPR</th>\n",
       "      <th>FNR</th>\n",
       "      <th>PPP</th>\n",
       "    </tr>\n",
       "  </thead>\n",
       "  <tbody>\n",
       "    <tr>\n",
       "      <th>model</th>\n",
       "      <td>0.780864</td>\n",
       "      <td>0.424712</td>\n",
       "      <td>0.105135</td>\n",
       "      <td>0.575288</td>\n",
       "      <td>0.182625</td>\n",
       "    </tr>\n",
       "    <tr>\n",
       "      <th>sex_privileged</th>\n",
       "      <td>0.752223</td>\n",
       "      <td>0.417517</td>\n",
       "      <td>0.097095</td>\n",
       "      <td>0.582483</td>\n",
       "      <td>0.196565</td>\n",
       "    </tr>\n",
       "    <tr>\n",
       "      <th>sex_unprivileged</th>\n",
       "      <td>0.838398</td>\n",
       "      <td>0.467054</td>\n",
       "      <td>0.117593</td>\n",
       "      <td>0.532946</td>\n",
       "      <td>0.154620</td>\n",
       "    </tr>\n",
       "    <tr>\n",
       "      <th>race_privileged</th>\n",
       "      <td>0.774004</td>\n",
       "      <td>0.453818</td>\n",
       "      <td>0.114448</td>\n",
       "      <td>0.546182</td>\n",
       "      <td>0.202132</td>\n",
       "    </tr>\n",
       "    <tr>\n",
       "      <th>race_unprivileged</th>\n",
       "      <td>0.822286</td>\n",
       "      <td>0.114754</td>\n",
       "      <td>0.056275</td>\n",
       "      <td>0.885246</td>\n",
       "      <td>0.064841</td>\n",
       "    </tr>\n",
       "  </tbody>\n",
       "</table>\n",
       "</div>"
      ],
      "text/plain": [
       "                        ACC       TPR       FPR       FNR       PPP\n",
       "model              0.780864  0.424712  0.105135  0.575288  0.182625\n",
       "sex_privileged     0.752223  0.417517  0.097095  0.582483  0.196565\n",
       "sex_unprivileged   0.838398  0.467054  0.117593  0.532946  0.154620\n",
       "race_privileged    0.774004  0.453818  0.114448  0.546182  0.202132\n",
       "race_unprivileged  0.822286  0.114754  0.056275  0.885246  0.064841"
      ]
     },
     "execution_count": 75,
     "metadata": {},
     "output_type": "execute_result"
    }
   ],
   "source": [
    "df_performance_op"
   ]
  },
  {
   "cell_type": "code",
   "execution_count": null,
   "metadata": {},
   "outputs": [
    {
     "data": {
      "text/html": [
       "<div>\n",
       "<style scoped>\n",
       "    .dataframe tbody tr th:only-of-type {\n",
       "        vertical-align: middle;\n",
       "    }\n",
       "\n",
       "    .dataframe tbody tr th {\n",
       "        vertical-align: top;\n",
       "    }\n",
       "\n",
       "    .dataframe thead th {\n",
       "        text-align: right;\n",
       "    }\n",
       "</style>\n",
       "<table border=\"1\" class=\"dataframe\">\n",
       "  <thead>\n",
       "    <tr style=\"text-align: right;\">\n",
       "      <th></th>\n",
       "      <th>EOD</th>\n",
       "      <th>DI</th>\n",
       "      <th>SPD</th>\n",
       "      <th>OD</th>\n",
       "    </tr>\n",
       "  </thead>\n",
       "  <tbody>\n",
       "    <tr>\n",
       "      <th>sex_fair_metrics</th>\n",
       "      <td>0.049537</td>\n",
       "      <td>0.786609</td>\n",
       "      <td>-0.041945</td>\n",
       "      <td>0.070035</td>\n",
       "    </tr>\n",
       "    <tr>\n",
       "      <th>race_fair_metrics</th>\n",
       "      <td>-0.339064</td>\n",
       "      <td>0.320788</td>\n",
       "      <td>-0.137290</td>\n",
       "      <td>-0.397237</td>\n",
       "    </tr>\n",
       "  </tbody>\n",
       "</table>\n",
       "</div>"
      ],
      "text/plain": [
       "                        EOD        DI       SPD        OD\n",
       "sex_fair_metrics   0.049537  0.786609 -0.041945  0.070035\n",
       "race_fair_metrics -0.339064  0.320788 -0.137290 -0.397237"
      ]
     },
     "execution_count": 76,
     "metadata": {},
     "output_type": "execute_result"
    }
   ],
   "source": [
    "df_fairness_op"
   ]
  },
  {
   "cell_type": "code",
   "execution_count": null,
   "metadata": {},
   "outputs": [],
   "source": [
    "explainer_op = shap.Explainer(model_op)\n"
   ]
  },
  {
   "cell_type": "code",
   "execution_count": null,
   "metadata": {},
   "outputs": [],
   "source": [
    "shap_values_op = explainer_op(pd.DataFrame(dataset_orig_test.features,columns=dataset_orig_test.feature_names))\n"
   ]
  },
  {
   "cell_type": "code",
   "execution_count": null,
   "metadata": {},
   "outputs": [
    {
     "data": {
      "image/png": "[encoded data removed]",
      "text/plain": [
       "<Figure size 800x550 with 2 Axes>"
      ]
     },
     "metadata": {},
     "output_type": "display_data"
    },
    {
     "data": {
      "image/png": "[encoded data removed]",
      "text/plain": [
       "<Figure size 800x650 with 1 Axes>"
      ]
     },
     "metadata": {},
     "output_type": "display_data"
    }
   ],
   "source": [
    "shap.plots.beeswarm(shap_values_op)\n",
    "shap.plots.bar(shap_values_op)"
   ]
  },
  {
   "cell_type": "code",
   "execution_count": null,
   "metadata": {},
   "outputs": [],
   "source": []
  }
 ],
 "metadata": {
  "kernelspec": {
   "display_name": "py38",
   "language": "python",
   "name": "python3"
  },
  "language_info": {
   "codemirror_mode": {
    "name": "ipython",
    "version": 3
   },
   "file_extension": ".py",
   "mimetype": "text/x-python",
   "name": "python",
   "nbconvert_exporter": "python",
   "pygments_lexer": "ipython3",
   "version": "3.8.15"
  },
  "orig_nbformat": 4
 },
 "nbformat": 4,
 "nbformat_minor": 2
}
