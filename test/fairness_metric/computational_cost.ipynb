{
 "cells": [
  {
   "cell_type": "code",
   "execution_count": 1,
   "metadata": {},
   "outputs": [],
   "source": [
    "from FLAI import data\n",
    "from FLAI import causal_graph\n",
    "import pandas as pd\n",
    "import numpy as np\n",
    "import math"
   ]
  },
  {
   "cell_type": "code",
   "execution_count": 2,
   "metadata": {},
   "outputs": [],
   "source": [
    "import time\n",
    "\n"
   ]
  },
  {
   "cell_type": "code",
   "execution_count": 5,
   "metadata": {},
   "outputs": [
    {
     "name": "stdout",
     "output_type": "stream",
     "text": [
      "rows:  1000  - features:  5  - duration:  0.05803990364074707\n",
      "rows:  1000  - features:  10  - duration:  0.09089493751525879\n",
      "rows:  1000  - features:  20  - duration:  0.16454195976257324\n",
      "rows:  1000  - features:  50  - duration:  0.4413790702819824\n",
      "rows:  1000  - features:  100  - duration:  1.0620079040527344\n",
      "rows:  10000  - features:  5  - duration:  0.12107586860656738\n",
      "rows:  10000  - features:  10  - duration:  0.3717350959777832\n",
      "rows:  10000  - features:  20  - duration:  0.587824821472168\n",
      "rows:  10000  - features:  50  - duration:  2.781273126602173\n",
      "rows:  10000  - features:  100  - duration:  3.4821197986602783\n",
      "rows:  100000  - features:  5  - duration:  1.1101727485656738\n",
      "rows:  100000  - features:  10  - duration:  1.6007311344146729\n",
      "rows:  100000  - features:  20  - duration:  6.273882865905762\n",
      "rows:  100000  - features:  50  - duration:  13.984210968017578\n",
      "rows:  100000  - features:  100  - duration:  28.729032039642334\n",
      "rows:  1000000  - features:  5  - duration:  7.491053104400635\n",
      "rows:  1000000  - features:  10  - duration:  16.446465969085693\n",
      "rows:  1000000  - features:  20  - duration:  60.591464042663574\n",
      "rows:  1000000  - features:  50  - duration:  147.49681687355042\n",
      "rows:  1000000  - features:  100  - duration:  427.8165690898895\n"
     ]
    }
   ],
   "source": [
    "for rows in [1000,10000,100000,1000000]:\n",
    "    for n in [5,10,20,50,100]:\n",
    "\n",
    "        df = pd.DataFrame()\n",
    "        df['sex'] = np.random.randint(0,2,rows)\n",
    "        features = []\n",
    "        for n in range(n+1):\n",
    "            df['feature_'+str(n)] = np.random.randint(0,10,rows)\n",
    "            features.append('feature_'+str(n))\n",
    "        df['label'] = np.random.randint(0,2,rows)\n",
    "\n",
    "        flai_dataset = data.Data(df[features + ['sex', 'label']], transform=True)\n",
    "        start_time = time.time()\n",
    "        df_f,df_aux_ideal = flai_dataset.fairness_eqa_eqi(features = features, \n",
    "                                    target_column = 'label', \n",
    "                                    column_filter = ['sex'],\n",
    "                                    plot = False)\n",
    "        stop_time = time.time()\n",
    "        duration = stop_time - start_time\n",
    "        print('rows: ',rows,' - features: ',n,' - duration: ',duration)"
   ]
  },
  {
   "cell_type": "code",
   "execution_count": null,
   "metadata": {},
   "outputs": [],
   "source": []
  }
 ],
 "metadata": {
  "kernelspec": {
   "display_name": "itaca",
   "language": "python",
   "name": "python3"
  },
  "language_info": {
   "codemirror_mode": {
    "name": "ipython",
    "version": 3
   },
   "file_extension": ".py",
   "mimetype": "text/x-python",
   "name": "python",
   "nbconvert_exporter": "python",
   "pygments_lexer": "ipython3",
   "version": "3.11.9"
  }
 },
 "nbformat": 4,
 "nbformat_minor": 2
}
