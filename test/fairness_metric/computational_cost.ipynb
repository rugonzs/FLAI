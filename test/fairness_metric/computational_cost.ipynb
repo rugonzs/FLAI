{
 "cells": [
  {
   "cell_type": "code",
   "execution_count": 1,
   "metadata": {},
   "outputs": [],
   "source": [
    "from FLAI import data\n",
    "from FLAI import causal_graph\n",
    "import pandas as pd\n",
    "import numpy as np\n",
    "import math"
   ]
  },
  {
   "cell_type": "code",
   "execution_count": 2,
   "metadata": {},
   "outputs": [],
   "source": [
    "import time\n",
    "\n"
   ]
  },
  {
   "cell_type": "code",
   "execution_count": 4,
   "metadata": {},
   "outputs": [
    {
     "name": "stdout",
     "output_type": "stream",
     "text": [
      "rows:  5000  - features:  5  - duration:  0.046364784240722656\n",
      "rows:  5000  - features:  10  - duration:  0.06594371795654297\n",
      "rows:  5000  - features:  20  - duration:  0.16894817352294922\n",
      "rows:  5000  - features:  50  - duration:  0.4366011619567871\n",
      "rows:  5000  - features:  100  - duration:  0.9288651943206787\n",
      "rows:  10000  - features:  5  - duration:  0.06342387199401855\n",
      "rows:  10000  - features:  10  - duration:  0.08979535102844238\n",
      "rows:  10000  - features:  20  - duration:  0.25887036323547363\n",
      "rows:  10000  - features:  50  - duration:  0.6725640296936035\n",
      "rows:  10000  - features:  100  - duration:  1.6034762859344482\n",
      "rows:  20000  - features:  5  - duration:  0.09632611274719238\n",
      "rows:  20000  - features:  10  - duration:  0.13683319091796875\n",
      "rows:  20000  - features:  20  - duration:  0.4773087501525879\n",
      "rows:  20000  - features:  50  - duration:  1.1816024780273438\n",
      "rows:  20000  - features:  100  - duration:  2.7407267093658447\n",
      "rows:  50000  - features:  5  - duration:  0.19811654090881348\n",
      "rows:  50000  - features:  10  - duration:  0.29857802391052246\n",
      "rows:  50000  - features:  20  - duration:  1.2714595794677734\n",
      "rows:  50000  - features:  50  - duration:  2.8198258876800537\n",
      "rows:  50000  - features:  100  - duration:  6.011864185333252\n",
      "rows:  100000  - features:  5  - duration:  0.5443990230560303\n",
      "rows:  100000  - features:  10  - duration:  0.7424411773681641\n",
      "rows:  100000  - features:  20  - duration:  2.229881763458252\n",
      "rows:  100000  - features:  50  - duration:  5.932224988937378\n",
      "rows:  100000  - features:  100  - duration:  12.457183361053467\n"
     ]
    }
   ],
   "source": [
    "for rows in [5000,10000,20000,50000,100000]:\n",
    "    for n in [5,10,20,50,100]:\n",
    "\n",
    "        df = pd.DataFrame()\n",
    "        df['sex'] = np.random.randint(0,2,rows)\n",
    "        features = []\n",
    "        for n in range(n+1):\n",
    "            df['feature_'+str(n)] = np.random.randint(0,10,rows)\n",
    "            features.append('feature_'+str(n))\n",
    "        df['label'] = np.random.randint(0,2,rows)\n",
    "\n",
    "        flai_dataset = data.Data(df[features + ['sex', 'label']], transform=True)\n",
    "        start_time = time.time()\n",
    "        df_f,df_aux_ideal = flai_dataset.fairness_eqa_eqi(features = features, \n",
    "                                    target_column = 'label', \n",
    "                                    column_filter = ['sex'],\n",
    "                                    plot = False)\n",
    "        stop_time = time.time()\n",
    "        duration = stop_time - start_time\n",
    "        print('rows: ',rows,' - features: ',n,' - duration: ',duration)"
   ]
  },
  {
   "cell_type": "code",
   "execution_count": null,
   "metadata": {},
   "outputs": [],
   "source": []
  }
 ],
 "metadata": {
  "kernelspec": {
   "display_name": "itaca",
   "language": "python",
   "name": "python3"
  },
  "language_info": {
   "codemirror_mode": {
    "name": "ipython",
    "version": 3
   },
   "file_extension": ".py",
   "mimetype": "text/x-python",
   "name": "python",
   "nbconvert_exporter": "python",
   "pygments_lexer": "ipython3",
   "version": "3.12.2"
  }
 },
 "nbformat": 4,
 "nbformat_minor": 2
}
