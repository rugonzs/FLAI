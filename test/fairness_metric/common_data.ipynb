{
 "cells": [
  {
   "cell_type": "code",
   "execution_count": 14,
   "metadata": {},
   "outputs": [],
   "source": [
    "from FLAI import data\n",
    "from FLAI import causal_graph\n",
    "import pandas as pd\n",
    "import numpy as np\n",
    "import matplotlib.pyplot as plt\n",
    "import seaborn as sns\n",
    "from numpy import loadtxt\n",
    "from xgboost import XGBClassifier\n",
    "from sklearn.model_selection import train_test_split\n",
    "from sklearn.tree import DecisionTreeClassifier\n",
    "\n"
   ]
  },
  {
   "cell_type": "code",
   "execution_count": 25,
   "metadata": {},
   "outputs": [],
   "source": [
    "# functions to run files\n",
    "# train a model\n",
    "# execute predictions\n",
    "\n",
    "def execute_adult():\n",
    "    df = pd.read_pickle('../../Data/adult.pickle')\n",
    "    df['age'] = df.apply(lambda row: 0 if row['Age (decade)=10'] == 1 \n",
    "                                else 1 if row['Age (decade)=20'] == 1 \n",
    "                                else 2 if row['Age (decade)=30'] == 1\n",
    "                                else 3 if row['Age (decade)=40'] == 1\n",
    "                                else 4 if row['Age (decade)=50'] == 1\n",
    "                                else 5 if row['Age (decade)=60'] == 1\n",
    "                                else 6 if row['Age (decade)=>=70'] == 1\n",
    "                                else None,axis = 1)\n",
    "    df['education'] = df.apply(lambda row: 0 if row['Education Years=<6'] == 1 \n",
    "                                    else 1 if row['Education Years=6'] == 1 \n",
    "                                    else 2 if row['Education Years=7'] == 1 \n",
    "                                    else 3 if row['Education Years=8'] == 1 \n",
    "                                    else 4 if row['Education Years=9'] == 1 \n",
    "                                    else 5 if row['Education Years=10'] == 1 \n",
    "                                    else 6 if row['Education Years=11'] == 1 \n",
    "                                    else 7 if row['Education Years=12'] == 1\n",
    "                                    else 8 if row['Education Years=>12'] == 1  \n",
    "                                    else None,axis = 1)\n",
    "    flai_dataset = data.Data(df[['sex', 'race', 'age','education' ,'label']], transform=True)\n",
    "    original_X = flai_dataset.data[['sex', 'race', 'age','education']]\n",
    "    original_y = flai_dataset.data[['label']]\n",
    "    model_original = DecisionTreeClassifier(random_state=0)\n",
    "    #model_original = XGBClassifier()\n",
    "    model_original.fit(original_X, original_y)\n",
    "    original_y['Predicted'] = model_original.predict(original_X[['sex','race','age','education']])\n",
    "    original_y['proba'] = model_original.predict_proba(original_X[['sex','race','age','education']])[:,1]\n",
    "    original_X[['label', 'Predicted','proba']] = original_y[['label', 'Predicted','proba']]\n",
    "\n",
    "    return data.Data(original_X, transform=False)\n",
    "\n",
    "\n",
    "def execute_compas():\n",
    "    df = pd.read_pickle('../../Data/compas.pickle')\n",
    "    df['age'] = df.apply(lambda row: 0 if row['age_cat=Less than 25'] == 1 \n",
    "                            else 1 if row['age_cat=25 to 45'] == 1 \n",
    "                            else 2 if row['age_cat=Greater than 45'] == 1\n",
    "                            else None,axis = 1)\n",
    "    df['priors'] = df.apply(lambda row: 0 if row['priors_count=0'] == 1 \n",
    "                                    else 1 if row['priors_count=1 to 3'] == 1 \n",
    "                                    else 2 if row['priors_count=More than 3'] == 1 \n",
    "                                    else None,axis = 1)\n",
    "    df['charge_degree'] = df.apply(lambda row: 0 if row['c_charge_degree=F'] == 1 \n",
    "                                    else 1 if row['c_charge_degree=M'] == 1 \n",
    "                                    else None,axis = 1)\n",
    "    #### 1 is good 2 is bad in risk.\n",
    "    df['label'] = df.apply(lambda row: 0 if row['label'] == 1 \n",
    "                                else 1 if row['label'] == 0 \n",
    "                                else None,axis = 1)\n",
    "    flai_dataset = data.Data(df[['sex', 'race', 'age','priors' ,'label']], transform=True)\n",
    "    original_X = flai_dataset.data[['sex', 'race', 'age','priors']]\n",
    "    original_y = flai_dataset.data[['label']]\n",
    "    model_original = DecisionTreeClassifier(random_state=0)\n",
    "    #model_original = XGBClassifier()\n",
    "    model_original.fit(original_X, original_y)\n",
    "    original_y['Predicted'] = model_original.predict(original_X[['sex','race','age','priors']])\n",
    "    original_y['proba'] = model_original.predict_proba(original_X[['sex','race','age','priors']])[:,1]\n",
    "    original_X[['label', 'Predicted','proba']] = original_y[['label', 'Predicted','proba']]\n",
    "\n",
    "    return data.Data(original_X, transform=False)\n",
    "\n",
    "def execute_german():\n",
    "    df = pd.read_pickle('../../Data/german.pickle')\n",
    "    df['credit_history'] = df.apply(lambda row: 0 if row['credit_history=None/Paid'] == 1 \n",
    "                            else 1 if row['credit_history=Delay'] == 1 \n",
    "                            else 2 if row['credit_history=Other'] == 1\n",
    "                            else None,axis = 1)\n",
    "    df['savings'] = df.apply(lambda row: 0 if row['savings=Unknown/None'] == 1 \n",
    "                                    else 1 if row['savings=<500'] == 1 \n",
    "                                    else 2 if row['savings=500+'] == 1 \n",
    "                                    else None,axis = 1)\n",
    "    df['employment'] = df.apply(lambda row: 0 if row['employment=Unemployed'] == 1 \n",
    "                                    else 1 if row['employment=1-4 years'] == 1 \n",
    "                                    else 2 if row['employment=4+ years'] == 1 \n",
    "                                    else None,axis = 1)\n",
    "\n",
    "    #### 1 is good 2 is bad in risk.\n",
    "    df['label'] = df.apply(lambda row: 1 if row['label'] == 1 \n",
    "                                else 0 if row['label'] == 2 \n",
    "                                else None,axis = 1)\n",
    "    \n",
    "    flai_dataset = data.Data(df[['age', 'sex', 'credit_history','savings','employment' ,'label']], transform=True)\n",
    "    original_X = flai_dataset.data[['sex', 'age','credit_history','savings','employment']]\n",
    "    original_y = flai_dataset.data[['label']]\n",
    "    model_original = DecisionTreeClassifier(random_state=0)\n",
    "    #model_original = XGBClassifier()\n",
    "    model_original.fit(original_X, original_y)\n",
    "    original_y['Predicted'] = model_original.predict(original_X[['sex', 'age','credit_history','savings','employment']])\n",
    "    original_y['proba'] = model_original.predict_proba(original_X[['sex', 'age','credit_history','savings','employment']])[:,1]\n",
    "    original_X[['label', 'Predicted','proba']] = original_y[['label', 'Predicted','proba']]\n",
    "\n",
    "    return data.Data(original_X, transform=False)\n"
   ]
  },
  {
   "cell_type": "code",
   "execution_count": 26,
   "metadata": {},
   "outputs": [],
   "source": [
    "adult_dataset = execute_adult()\n",
    "compas_dataset = execute_compas()\n",
    "german_dataset = execute_german()"
   ]
  },
  {
   "cell_type": "markdown",
   "metadata": {},
   "source": [
    "## ADULT"
   ]
  },
  {
   "cell_type": "code",
   "execution_count": 20,
   "metadata": {},
   "outputs": [
    {
     "name": "stdout",
     "output_type": "stream",
     "text": [
      "EQI & EQA Metrics\n"
     ]
    },
    {
     "data": {
      "text/html": [
       "<div>\n",
       "<style scoped>\n",
       "    .dataframe tbody tr th:only-of-type {\n",
       "        vertical-align: middle;\n",
       "    }\n",
       "\n",
       "    .dataframe tbody tr th {\n",
       "        vertical-align: top;\n",
       "    }\n",
       "\n",
       "    .dataframe thead th {\n",
       "        text-align: right;\n",
       "    }\n",
       "</style>\n",
       "<table border=\"1\" class=\"dataframe\">\n",
       "  <thead>\n",
       "    <tr style=\"text-align: right;\">\n",
       "      <th></th>\n",
       "      <th>group</th>\n",
       "      <th>reference</th>\n",
       "      <th>EQI</th>\n",
       "      <th>EQA</th>\n",
       "      <th>F</th>\n",
       "    </tr>\n",
       "  </thead>\n",
       "  <tbody>\n",
       "    <tr>\n",
       "      <th>0</th>\n",
       "      <td>['sex'](0.0,)</td>\n",
       "      <td>['sex'](1.0,)</td>\n",
       "      <td>-0.06</td>\n",
       "      <td>0.14</td>\n",
       "      <td>0.15</td>\n",
       "    </tr>\n",
       "  </tbody>\n",
       "</table>\n",
       "</div>"
      ],
      "text/plain": [
       "           group      reference   EQI   EQA     F\n",
       "0  ['sex'](0.0,)  ['sex'](1.0,) -0.06  0.14  0.15"
      ]
     },
     "execution_count": 20,
     "metadata": {},
     "output_type": "execute_result"
    }
   ],
   "source": [
    "df_f,datos_f = adult_dataset.fairness_eqa_eqi(features = ['education','age'], \n",
    "                              target_column = 'proba', \n",
    "                              column_filter = ['sex'],\n",
    "                              plot = False)\n",
    "print('EQI & EQA Metrics')\n",
    "df_f"
   ]
  },
  {
   "cell_type": "code",
   "execution_count": 21,
   "metadata": {},
   "outputs": [
    {
     "name": "stdout",
     "output_type": "stream",
     "text": [
      "Calculating metrics for : sex  the value :  1\n",
      "Calculating metrics for : sex  the value :  0\n"
     ]
    },
    {
     "data": {
      "text/html": [
       "<div>\n",
       "<style scoped>\n",
       "    .dataframe tbody tr th:only-of-type {\n",
       "        vertical-align: middle;\n",
       "    }\n",
       "\n",
       "    .dataframe tbody tr th {\n",
       "        vertical-align: top;\n",
       "    }\n",
       "\n",
       "    .dataframe thead th {\n",
       "        text-align: right;\n",
       "    }\n",
       "</style>\n",
       "<table border=\"1\" class=\"dataframe\">\n",
       "  <thead>\n",
       "    <tr style=\"text-align: right;\">\n",
       "      <th></th>\n",
       "      <th>EOD</th>\n",
       "      <th>DI</th>\n",
       "      <th>SPD</th>\n",
       "      <th>OD</th>\n",
       "    </tr>\n",
       "  </thead>\n",
       "  <tbody>\n",
       "    <tr>\n",
       "      <th>sex_fair_metrics</th>\n",
       "      <td>-0.461182</td>\n",
       "      <td>0.0</td>\n",
       "      <td>-0.214793</td>\n",
       "      <td>-0.568475</td>\n",
       "    </tr>\n",
       "  </tbody>\n",
       "</table>\n",
       "</div>"
      ],
      "text/plain": [
       "                       EOD   DI       SPD        OD\n",
       "sex_fair_metrics -0.461182  0.0 -0.214793 -0.568475"
      ]
     },
     "execution_count": 21,
     "metadata": {},
     "output_type": "execute_result"
    }
   ],
   "source": [
    "result_metrics = adult_dataset.fairness_metrics(target_column='label', predicted_column = 'Predicted',\n",
    "                            columns_fair = {'sex' : {'privileged' : 1, 'unprivileged' : 0}})\n",
    "df_performance,df_fairness = adult_dataset.get_df_metrics(metrics_json=result_metrics)\n",
    "df_fairness"
   ]
  },
  {
   "cell_type": "markdown",
   "metadata": {},
   "source": [
    "## COMPAS"
   ]
  },
  {
   "cell_type": "code",
   "execution_count": 29,
   "metadata": {},
   "outputs": [
    {
     "data": {
      "text/html": [
       "<div>\n",
       "<style scoped>\n",
       "    .dataframe tbody tr th:only-of-type {\n",
       "        vertical-align: middle;\n",
       "    }\n",
       "\n",
       "    .dataframe tbody tr th {\n",
       "        vertical-align: top;\n",
       "    }\n",
       "\n",
       "    .dataframe thead th {\n",
       "        text-align: right;\n",
       "    }\n",
       "</style>\n",
       "<table border=\"1\" class=\"dataframe\">\n",
       "  <thead>\n",
       "    <tr style=\"text-align: right;\">\n",
       "      <th></th>\n",
       "      <th>group</th>\n",
       "      <th>reference</th>\n",
       "      <th>EQI</th>\n",
       "      <th>EQA</th>\n",
       "      <th>F</th>\n",
       "    </tr>\n",
       "  </thead>\n",
       "  <tbody>\n",
       "    <tr>\n",
       "      <th>0</th>\n",
       "      <td>['sex'](0.0,)</td>\n",
       "      <td>['sex'](1.0,)</td>\n",
       "      <td>-0.09</td>\n",
       "      <td>0.09</td>\n",
       "      <td>0.13</td>\n",
       "    </tr>\n",
       "  </tbody>\n",
       "</table>\n",
       "</div>"
      ],
      "text/plain": [
       "           group      reference   EQI   EQA     F\n",
       "0  ['sex'](0.0,)  ['sex'](1.0,) -0.09  0.09  0.13"
      ]
     },
     "execution_count": 29,
     "metadata": {},
     "output_type": "execute_result"
    }
   ],
   "source": [
    "df_f,datos_f = compas_dataset.fairness_eqa_eqi(features = ['priors','age'], \n",
    "                              target_column = 'proba', \n",
    "                              column_filter = ['sex'],\n",
    "                              plot = False)\n",
    "df_f"
   ]
  },
  {
   "cell_type": "code",
   "execution_count": 30,
   "metadata": {},
   "outputs": [
    {
     "name": "stdout",
     "output_type": "stream",
     "text": [
      "Calculating metrics for : sex  the value :  1\n",
      "Calculating metrics for : sex  the value :  0\n"
     ]
    },
    {
     "data": {
      "text/html": [
       "<div>\n",
       "<style scoped>\n",
       "    .dataframe tbody tr th:only-of-type {\n",
       "        vertical-align: middle;\n",
       "    }\n",
       "\n",
       "    .dataframe tbody tr th {\n",
       "        vertical-align: top;\n",
       "    }\n",
       "\n",
       "    .dataframe thead th {\n",
       "        text-align: right;\n",
       "    }\n",
       "</style>\n",
       "<table border=\"1\" class=\"dataframe\">\n",
       "  <thead>\n",
       "    <tr style=\"text-align: right;\">\n",
       "      <th></th>\n",
       "      <th>EOD</th>\n",
       "      <th>DI</th>\n",
       "      <th>SPD</th>\n",
       "      <th>OD</th>\n",
       "    </tr>\n",
       "  </thead>\n",
       "  <tbody>\n",
       "    <tr>\n",
       "      <th>sex_fair_metrics</th>\n",
       "      <td>-0.069058</td>\n",
       "      <td>0.826933</td>\n",
       "      <td>-0.115658</td>\n",
       "      <td>-0.145972</td>\n",
       "    </tr>\n",
       "  </tbody>\n",
       "</table>\n",
       "</div>"
      ],
      "text/plain": [
       "                       EOD        DI       SPD        OD\n",
       "sex_fair_metrics -0.069058  0.826933 -0.115658 -0.145972"
      ]
     },
     "execution_count": 30,
     "metadata": {},
     "output_type": "execute_result"
    }
   ],
   "source": [
    "result_metrics = compas_dataset.fairness_metrics(target_column='label', predicted_column = 'Predicted',\n",
    "                            columns_fair = {'sex' : {'privileged' : 1, 'unprivileged' : 0}})\n",
    "df_performance,df_fairness = compas_dataset.get_df_metrics(metrics_json=result_metrics)\n",
    "df_fairness"
   ]
  },
  {
   "cell_type": "markdown",
   "metadata": {},
   "source": [
    "## German"
   ]
  },
  {
   "cell_type": "code",
   "execution_count": 31,
   "metadata": {},
   "outputs": [
    {
     "data": {
      "text/html": [
       "<div>\n",
       "<style scoped>\n",
       "    .dataframe tbody tr th:only-of-type {\n",
       "        vertical-align: middle;\n",
       "    }\n",
       "\n",
       "    .dataframe tbody tr th {\n",
       "        vertical-align: top;\n",
       "    }\n",
       "\n",
       "    .dataframe thead th {\n",
       "        text-align: right;\n",
       "    }\n",
       "</style>\n",
       "<table border=\"1\" class=\"dataframe\">\n",
       "  <thead>\n",
       "    <tr style=\"text-align: right;\">\n",
       "      <th></th>\n",
       "      <th>group</th>\n",
       "      <th>reference</th>\n",
       "      <th>EQI</th>\n",
       "      <th>EQA</th>\n",
       "      <th>F</th>\n",
       "    </tr>\n",
       "  </thead>\n",
       "  <tbody>\n",
       "    <tr>\n",
       "      <th>1</th>\n",
       "      <td>['sex'](0.0,)</td>\n",
       "      <td>['sex'](1.0,)</td>\n",
       "      <td>-0.06</td>\n",
       "      <td>0.04</td>\n",
       "      <td>0.07</td>\n",
       "    </tr>\n",
       "  </tbody>\n",
       "</table>\n",
       "</div>"
      ],
      "text/plain": [
       "           group      reference   EQI   EQA     F\n",
       "1  ['sex'](0.0,)  ['sex'](1.0,) -0.06  0.04  0.07"
      ]
     },
     "execution_count": 31,
     "metadata": {},
     "output_type": "execute_result"
    }
   ],
   "source": [
    "df_f,datos_f = german_dataset.fairness_eqa_eqi(features = ['age','credit_history','savings','employment'], \n",
    "                              target_column = 'proba', \n",
    "                              column_filter = ['sex'],\n",
    "                              plot = False)\n",
    "df_f"
   ]
  },
  {
   "cell_type": "code",
   "execution_count": 33,
   "metadata": {},
   "outputs": [
    {
     "name": "stdout",
     "output_type": "stream",
     "text": [
      "Calculating metrics for : sex  the value :  1\n",
      "Calculating metrics for : sex  the value :  0\n"
     ]
    },
    {
     "data": {
      "text/html": [
       "<div>\n",
       "<style scoped>\n",
       "    .dataframe tbody tr th:only-of-type {\n",
       "        vertical-align: middle;\n",
       "    }\n",
       "\n",
       "    .dataframe tbody tr th {\n",
       "        vertical-align: top;\n",
       "    }\n",
       "\n",
       "    .dataframe thead th {\n",
       "        text-align: right;\n",
       "    }\n",
       "</style>\n",
       "<table border=\"1\" class=\"dataframe\">\n",
       "  <thead>\n",
       "    <tr style=\"text-align: right;\">\n",
       "      <th></th>\n",
       "      <th>EOD</th>\n",
       "      <th>DI</th>\n",
       "      <th>SPD</th>\n",
       "      <th>OD</th>\n",
       "    </tr>\n",
       "  </thead>\n",
       "  <tbody>\n",
       "    <tr>\n",
       "      <th>sex_fair_metrics</th>\n",
       "      <td>-0.066401</td>\n",
       "      <td>0.859265</td>\n",
       "      <td>-0.131557</td>\n",
       "      <td>-0.297248</td>\n",
       "    </tr>\n",
       "  </tbody>\n",
       "</table>\n",
       "</div>"
      ],
      "text/plain": [
       "                       EOD        DI       SPD        OD\n",
       "sex_fair_metrics -0.066401  0.859265 -0.131557 -0.297248"
      ]
     },
     "execution_count": 33,
     "metadata": {},
     "output_type": "execute_result"
    }
   ],
   "source": [
    "result_metrics = german_dataset.fairness_metrics(target_column='label', predicted_column = 'Predicted',\n",
    "                            columns_fair = {'sex' : {'privileged' : 1, 'unprivileged' : 0}})\n",
    "df_performance,df_fairness = german_dataset.get_df_metrics(metrics_json=result_metrics)\n",
    "df_fairness"
   ]
  },
  {
   "cell_type": "code",
   "execution_count": null,
   "metadata": {},
   "outputs": [],
   "source": []
  }
 ],
 "metadata": {
  "kernelspec": {
   "display_name": "itaca",
   "language": "python",
   "name": "python3"
  },
  "language_info": {
   "codemirror_mode": {
    "name": "ipython",
    "version": 3
   },
   "file_extension": ".py",
   "mimetype": "text/x-python",
   "name": "python",
   "nbconvert_exporter": "python",
   "pygments_lexer": "ipython3",
   "version": "3.11.9"
  }
 },
 "nbformat": 4,
 "nbformat_minor": 2
}
