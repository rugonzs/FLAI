{
 "cells": [
  {
   "cell_type": "code",
   "execution_count": 1,
   "metadata": {},
   "outputs": [],
   "source": [
    "from numpy import loadtxt\n",
    "from xgboost import XGBClassifier\n",
    "from sklearn.model_selection import train_test_split\n",
    "from sklearn.metrics import accuracy_score"
   ]
  },
  {
   "cell_type": "code",
   "execution_count": 2,
   "metadata": {},
   "outputs": [],
   "source": [
    "import pandas as pd\n"
   ]
  },
  {
   "cell_type": "code",
   "execution_count": 3,
   "metadata": {},
   "outputs": [],
   "source": [
    "original = pd.read_pickle('original_adult.pickle')\n",
    "mitigated = pd.read_pickle('mitigated_adult_r_e.pickle')"
   ]
  },
  {
   "cell_type": "code",
   "execution_count": 4,
   "metadata": {},
   "outputs": [],
   "source": [
    "original_X = original[['sex', 'race', 'age','education']]\n",
    "original_y = original[['label']]\n",
    "mitigated_X = mitigated[['sex', 'race', 'age','education']]\n",
    "mitigated_y = mitigated[['label']]"
   ]
  },
  {
   "cell_type": "code",
   "execution_count": 5,
   "metadata": {},
   "outputs": [],
   "source": [
    "original_X_train, original_X_test, original_y_train, original_y_test = train_test_split(original_X, original_y, test_size=0.3, random_state=54)\n",
    "mitigated_X_train, mitigated_X_test, mitigated_y_train, mitigated_y_test = train_test_split(mitigated_X, mitigated_y, test_size=0.3, random_state=54)"
   ]
  },
  {
   "cell_type": "code",
   "execution_count": 6,
   "metadata": {},
   "outputs": [
    {
     "data": {
      "text/plain": [
       "XGBClassifier(base_score=0.5, booster='gbtree', callbacks=None,\n",
       "              colsample_bylevel=1, colsample_bynode=1, colsample_bytree=1,\n",
       "              early_stopping_rounds=None, enable_categorical=False,\n",
       "              eval_metric=None, feature_types=None, gamma=0, gpu_id=-1,\n",
       "              grow_policy='depthwise', importance_type=None,\n",
       "              interaction_constraints='', learning_rate=0.300000012,\n",
       "              max_bin=256, max_cat_threshold=64, max_cat_to_onehot=4,\n",
       "              max_delta_step=0, max_depth=6, max_leaves=0, min_child_weight=1,\n",
       "              missing=nan, monotone_constraints='()', n_estimators=100,\n",
       "              n_jobs=0, num_parallel_tree=1, predictor='auto', random_state=0, ...)"
      ]
     },
     "execution_count": 6,
     "metadata": {},
     "output_type": "execute_result"
    }
   ],
   "source": [
    "# fit model no training data\n",
    "model_original = XGBClassifier()\n",
    "model_original.fit(original_X, original_y)"
   ]
  },
  {
   "cell_type": "code",
   "execution_count": 7,
   "metadata": {},
   "outputs": [
    {
     "data": {
      "text/plain": [
       "XGBClassifier(base_score=0.5, booster='gbtree', callbacks=None,\n",
       "              colsample_bylevel=1, colsample_bynode=1, colsample_bytree=1,\n",
       "              early_stopping_rounds=None, enable_categorical=False,\n",
       "              eval_metric=None, feature_types=None, gamma=0, gpu_id=-1,\n",
       "              grow_policy='depthwise', importance_type=None,\n",
       "              interaction_constraints='', learning_rate=0.300000012,\n",
       "              max_bin=256, max_cat_threshold=64, max_cat_to_onehot=4,\n",
       "              max_delta_step=0, max_depth=6, max_leaves=0, min_child_weight=1,\n",
       "              missing=nan, monotone_constraints='()', n_estimators=100,\n",
       "              n_jobs=0, num_parallel_tree=1, predictor='auto', random_state=0, ...)"
      ]
     },
     "execution_count": 7,
     "metadata": {},
     "output_type": "execute_result"
    }
   ],
   "source": [
    "model_mitigated = XGBClassifier()\n",
    "model_mitigated.fit(mitigated_X, mitigated_y)"
   ]
  },
  {
   "cell_type": "code",
   "execution_count": 8,
   "metadata": {},
   "outputs": [
    {
     "name": "stderr",
     "output_type": "stream",
     "text": [
      "/tmp/ipykernel_1026/679083925.py:1: SettingWithCopyWarning: \n",
      "A value is trying to be set on a copy of a slice from a DataFrame.\n",
      "Try using .loc[row_indexer,col_indexer] = value instead\n",
      "\n",
      "See the caveats in the documentation: https://pandas.pydata.org/pandas-docs/stable/user_guide/indexing.html#returning-a-view-versus-a-copy\n",
      "  original_y['Predicted'] = model_original.predict(original_X)\n",
      "/tmp/ipykernel_1026/679083925.py:2: SettingWithCopyWarning: \n",
      "A value is trying to be set on a copy of a slice from a DataFrame.\n",
      "Try using .loc[row_indexer,col_indexer] = value instead\n",
      "\n",
      "See the caveats in the documentation: https://pandas.pydata.org/pandas-docs/stable/user_guide/indexing.html#returning-a-view-versus-a-copy\n",
      "  mitigated_y['Predicted'] = model_mitigated.predict(mitigated_X)\n"
     ]
    }
   ],
   "source": [
    "original_y['Predicted'] = model_original.predict(original_X)\n",
    "mitigated_y['Predicted'] = model_mitigated.predict(mitigated_X)"
   ]
  },
  {
   "cell_type": "code",
   "execution_count": 9,
   "metadata": {},
   "outputs": [],
   "source": [
    "original_X[['label', 'Predicted']] = original_y[['label', 'Predicted']]\n",
    "mitigated_X[['label', 'Predicted']] = mitigated_y[['label', 'Predicted']]"
   ]
  },
  {
   "cell_type": "code",
   "execution_count": 10,
   "metadata": {},
   "outputs": [],
   "source": [
    "from FLAI import data\n",
    "original_dataset = data.Data(original_X, transform=False)\n",
    "mitigated_dataset = data.Data(mitigated_X, transform=False)"
   ]
  },
  {
   "cell_type": "code",
   "execution_count": 11,
   "metadata": {},
   "outputs": [
    {
     "name": "stdout",
     "output_type": "stream",
     "text": [
      "Calculating metrics for : sex  the value :  1\n",
      "Calculating metrics for : sex  the value :  0\n",
      "Calculating metrics for : race  the value :  1\n",
      "Calculating metrics for : race  the value :  0\n"
     ]
    },
    {
     "data": {
      "text/plain": [
       "{'model': {'ACC': 0.8052297522594987,\n",
       "  'TPR': 0.38996803540693387,\n",
       "  'FPR': 0.06513145269621953,\n",
       "  'FNR': 0.6100319645930662,\n",
       "  'PPP': 0.14241422679809296},\n",
       " 'sex': {'privileged': {'ACC': 0.7635894520488039,\n",
       "   'TPR': 0.4609795087923267,\n",
       "   'FPR': 0.10615538596271738,\n",
       "   'FNR': 0.5390204912076733,\n",
       "   'PPP': 0.21292692526348012},\n",
       "  'unprivileged': {'ACC': 0.8893305069775658,\n",
       "   'TPR': 0.0,\n",
       "   'FPR': 0.0,\n",
       "   'FNR': 1.0,\n",
       "   'PPP': 0.0},\n",
       "  'fair_metrics': {'Equal_Opportunity_Difference': -0.4609795087923267,\n",
       "   'Disparate Impact': 0.0,\n",
       "   'Statistical parity Difference': -0.21292692526348012}},\n",
       " 'race': {'privileged': {'ACC': 0.7957932239388853,\n",
       "   'TPR': 0.405625764370159,\n",
       "   'FPR': 0.07269146207401979,\n",
       "   'FNR': 0.594374235629841,\n",
       "   'PPP': 0.1566236168682128},\n",
       "  'unprivileged': {'ACC': 0.860344137655062,\n",
       "   'TPR': 0.24129032258064517,\n",
       "   'FPR': 0.02604783329386692,\n",
       "   'FNR': 0.7587096774193548,\n",
       "   'PPP': 0.05942376950780312},\n",
       "  'fair_metrics': {'Equal_Opportunity_Difference': -0.16433544178951384,\n",
       "   'Disparate Impact': 0.3794049115709276,\n",
       "   'Statistical parity Difference': -0.09719984736040968}}}"
      ]
     },
     "execution_count": 11,
     "metadata": {},
     "output_type": "execute_result"
    }
   ],
   "source": [
    "original_dataset.fairness_metrics(target_column='label', predicted_column = 'Predicted',\n",
    "                            columns_fair = {'sex' : {'privileged' : 1, 'unprivileged' : 0},\n",
    "                                           'race' : {'privileged' : 1, 'unprivileged' : 0}})"
   ]
  },
  {
   "cell_type": "code",
   "execution_count": 12,
   "metadata": {},
   "outputs": [
    {
     "name": "stdout",
     "output_type": "stream",
     "text": [
      "Calculating metrics for : sex  the value :  1\n",
      "Calculating metrics for : sex  the value :  0\n",
      "Calculating metrics for : race  the value :  1\n",
      "Calculating metrics for : race  the value :  0\n"
     ]
    },
    {
     "data": {
      "text/plain": [
       "{'model': {'ACC': 0.788996460849981,\n",
       "  'TPR': 0.4424789708065314,\n",
       "  'FPR': 0.1036966098448573,\n",
       "  'FNR': 0.5575210291934686,\n",
       "  'PPP': 0.18380180759893533},\n",
       " 'sex': {'privileged': {'ACC': 0.7859216893972724,\n",
       "   'TPR': 0.44251064617663394,\n",
       "   'FPR': 0.1070459922672976,\n",
       "   'FNR': 0.5574893538233661,\n",
       "   'PPP': 0.18675758908930928},\n",
       "  'unprivileged': {'ACC': 0.795095558076621,\n",
       "   'TPR': 0.4424152068579948,\n",
       "   'FPR': 0.09708295350957157,\n",
       "   'FNR': 0.5575847931420053,\n",
       "   'PPP': 0.1779387381097827},\n",
       "  'fair_metrics': {'Equal_Opportunity_Difference': -9.543931863914557e-05,\n",
       "   'Disparate Impact': 0.9527791560036185,\n",
       "   'Statistical parity Difference': -0.008818850979526588}},\n",
       " 'race': {'privileged': {'ACC': 0.7894085281980743,\n",
       "   'TPR': 0.46430129416896904,\n",
       "   'FPR': 0.10989505922623069,\n",
       "   'FNR': 0.535698705831031,\n",
       "   'PPP': 0.193707015130674},\n",
       "  'unprivileged': {'ACC': 0.7866510080250538,\n",
       "   'TPR': 0.31814415907207955,\n",
       "   'FPR': 0.06842644797539724,\n",
       "   'FNR': 0.6818558409279205,\n",
       "   'PPP': 0.12742219612448621},\n",
       "  'fair_metrics': {'Equal_Opportunity_Difference': -0.1461571350968895,\n",
       "   'Disparate Impact': 0.6578088875022295,\n",
       "   'Statistical parity Difference': -0.0662848190061878}}}"
      ]
     },
     "execution_count": 12,
     "metadata": {},
     "output_type": "execute_result"
    }
   ],
   "source": [
    "mitigated_dataset.fairness_metrics(target_column='label', predicted_column = 'Predicted',\n",
    "                            columns_fair = {'sex' : {'privileged' : 1, 'unprivileged' : 0},\n",
    "                                            'race' : {'privileged' : 1, 'unprivileged' : 0}})"
   ]
  },
  {
   "cell_type": "code",
   "execution_count": 13,
   "metadata": {},
   "outputs": [],
   "source": [
    "#https://transformernlp.medium.com/ai-fairness-a-brief-introduction-to-ai-fairness-360-b2e39c96ca49\n",
    "#https://github.com/Trusted-AI/AIF360/blob/master/examples/README.md"
   ]
  },
  {
   "cell_type": "code",
   "execution_count": 14,
   "metadata": {},
   "outputs": [],
   "source": [
    "original_y['Predicted_mitidata'] = model_mitigated.predict(original_X[['sex', 'race', 'age', 'education']])\n",
    "original_X['Predicted_mitidata'] = original_y['Predicted_mitidata']\n"
   ]
  },
  {
   "cell_type": "code",
   "execution_count": 15,
   "metadata": {},
   "outputs": [
    {
     "name": "stdout",
     "output_type": "stream",
     "text": [
      "Calculating metrics for : sex  the value :  1\n",
      "Calculating metrics for : sex  the value :  0\n",
      "Calculating metrics for : race  the value :  1\n",
      "Calculating metrics for : race  the value :  0\n"
     ]
    },
    {
     "data": {
      "text/plain": [
       "{'model': {'ACC': 0.7905759162303665,\n",
       "  'TPR': 0.4487337103516105,\n",
       "  'FPR': 0.10270581462291307,\n",
       "  'FNR': 0.5512662896483895,\n",
       "  'PPP': 0.1850302728947907},\n",
       " 'sex': {'privileged': {'ACC': 0.762846022652731,\n",
       "   'TPR': 0.44775468681877634,\n",
       "   'FPR': 0.10152633554360065,\n",
       "   'FNR': 0.5522453131812236,\n",
       "   'PPP': 0.20571128700747804},\n",
       "  'unprivileged': {'ACC': 0.8465818759936407,\n",
       "   'TPR': 0.45411013567438147,\n",
       "   'FPR': 0.10457840897805144,\n",
       "   'FNR': 0.5458898643256185,\n",
       "   'PPP': 0.1432609079667903},\n",
       "  'fair_metrics': {'Equal_Opportunity_Difference': 0.006355448855605128,\n",
       "   'Disparate Impact': 0.6964173432135616,\n",
       "   'Statistical parity Difference': -0.06245037904068773}},\n",
       " 'race': {'privileged': {'ACC': 0.7817135418450892,\n",
       "   'TPR': 0.4636499524391901,\n",
       "   'FPR': 0.11107548552583364,\n",
       "   'FNR': 0.5363500475608098,\n",
       "   'PPP': 0.1999588914391422},\n",
       "  'unprivileged': {'ACC': 0.8423369347739096,\n",
       "   'TPR': 0.30709677419354836,\n",
       "   'FPR': 0.059436419606914516,\n",
       "   'FNR': 0.6929032258064516,\n",
       "   'PPP': 0.09783913565426171},\n",
       "  'fair_metrics': {'Equal_Opportunity_Difference': -0.15655317824564174,\n",
       "   'Disparate Impact': 0.4892962495945783,\n",
       "   'Statistical parity Difference': -0.10211975578488049}}}"
      ]
     },
     "execution_count": 15,
     "metadata": {},
     "output_type": "execute_result"
    }
   ],
   "source": [
    "original_dataset.fairness_metrics(target_column='label', predicted_column = 'Predicted_mitidata',\n",
    "                            columns_fair = {'sex' : {'privileged' : 1, 'unprivileged' : 0},\n",
    "                                           'race' : {'privileged' : 1, 'unprivileged' : 0}})"
   ]
  },
  {
   "cell_type": "code",
   "execution_count": null,
   "metadata": {},
   "outputs": [],
   "source": []
  }
 ],
 "metadata": {
  "kernelspec": {
   "display_name": "Python 3.8.15 ('py38')",
   "language": "python",
   "name": "python3"
  },
  "language_info": {
   "codemirror_mode": {
    "name": "ipython",
    "version": 3
   },
   "file_extension": ".py",
   "mimetype": "text/x-python",
   "name": "python",
   "nbconvert_exporter": "python",
   "pygments_lexer": "ipython3",
   "version": "3.8.15"
  },
  "orig_nbformat": 4,
  "vscode": {
   "interpreter": {
    "hash": "82d5c90ba63de38cc351bec5110f0000347eafa70bf35c4c48709a137c0a72d4"
   }
  }
 },
 "nbformat": 4,
 "nbformat_minor": 2
}
