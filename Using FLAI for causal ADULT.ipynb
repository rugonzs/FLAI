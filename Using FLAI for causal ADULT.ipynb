{
 "cells": [
  {
   "cell_type": "code",
   "execution_count": 163,
   "metadata": {},
   "outputs": [],
   "source": [
    "from FLAI import data\n",
    "from FLAI import causal_graph\n",
    "import pandas as pd\n"
   ]
  },
  {
   "cell_type": "code",
   "execution_count": 164,
   "metadata": {},
   "outputs": [
    {
     "data": {
      "text/html": [
       "<div>\n",
       "<style scoped>\n",
       "    .dataframe tbody tr th:only-of-type {\n",
       "        vertical-align: middle;\n",
       "    }\n",
       "\n",
       "    .dataframe tbody tr th {\n",
       "        vertical-align: top;\n",
       "    }\n",
       "\n",
       "    .dataframe thead th {\n",
       "        text-align: right;\n",
       "    }\n",
       "</style>\n",
       "<table border=\"1\" class=\"dataframe\">\n",
       "  <thead>\n",
       "    <tr style=\"text-align: right;\">\n",
       "      <th></th>\n",
       "      <th>race</th>\n",
       "      <th>sex</th>\n",
       "      <th>Age (decade)=10</th>\n",
       "      <th>Age (decade)=20</th>\n",
       "      <th>Age (decade)=30</th>\n",
       "      <th>Age (decade)=40</th>\n",
       "      <th>Age (decade)=50</th>\n",
       "      <th>Age (decade)=60</th>\n",
       "      <th>Age (decade)=&gt;=70</th>\n",
       "      <th>Education Years=6</th>\n",
       "      <th>Education Years=7</th>\n",
       "      <th>Education Years=8</th>\n",
       "      <th>Education Years=9</th>\n",
       "      <th>Education Years=10</th>\n",
       "      <th>Education Years=11</th>\n",
       "      <th>Education Years=12</th>\n",
       "      <th>Education Years=&lt;6</th>\n",
       "      <th>Education Years=&gt;12</th>\n",
       "      <th>label</th>\n",
       "    </tr>\n",
       "  </thead>\n",
       "  <tbody>\n",
       "    <tr>\n",
       "      <th>0</th>\n",
       "      <td>0.0</td>\n",
       "      <td>1.0</td>\n",
       "      <td>0.0</td>\n",
       "      <td>0.0</td>\n",
       "      <td>1.0</td>\n",
       "      <td>0.0</td>\n",
       "      <td>0.0</td>\n",
       "      <td>0.0</td>\n",
       "      <td>0.0</td>\n",
       "      <td>0.0</td>\n",
       "      <td>0.0</td>\n",
       "      <td>0.0</td>\n",
       "      <td>1.0</td>\n",
       "      <td>0.0</td>\n",
       "      <td>0.0</td>\n",
       "      <td>0.0</td>\n",
       "      <td>0.0</td>\n",
       "      <td>0.0</td>\n",
       "      <td>0.0</td>\n",
       "    </tr>\n",
       "    <tr>\n",
       "      <th>1</th>\n",
       "      <td>0.0</td>\n",
       "      <td>1.0</td>\n",
       "      <td>0.0</td>\n",
       "      <td>1.0</td>\n",
       "      <td>0.0</td>\n",
       "      <td>0.0</td>\n",
       "      <td>0.0</td>\n",
       "      <td>0.0</td>\n",
       "      <td>0.0</td>\n",
       "      <td>0.0</td>\n",
       "      <td>0.0</td>\n",
       "      <td>0.0</td>\n",
       "      <td>1.0</td>\n",
       "      <td>0.0</td>\n",
       "      <td>0.0</td>\n",
       "      <td>0.0</td>\n",
       "      <td>0.0</td>\n",
       "      <td>0.0</td>\n",
       "      <td>0.0</td>\n",
       "    </tr>\n",
       "    <tr>\n",
       "      <th>2</th>\n",
       "      <td>1.0</td>\n",
       "      <td>1.0</td>\n",
       "      <td>0.0</td>\n",
       "      <td>0.0</td>\n",
       "      <td>1.0</td>\n",
       "      <td>0.0</td>\n",
       "      <td>0.0</td>\n",
       "      <td>0.0</td>\n",
       "      <td>0.0</td>\n",
       "      <td>0.0</td>\n",
       "      <td>0.0</td>\n",
       "      <td>0.0</td>\n",
       "      <td>0.0</td>\n",
       "      <td>0.0</td>\n",
       "      <td>0.0</td>\n",
       "      <td>0.0</td>\n",
       "      <td>0.0</td>\n",
       "      <td>1.0</td>\n",
       "      <td>1.0</td>\n",
       "    </tr>\n",
       "    <tr>\n",
       "      <th>3</th>\n",
       "      <td>1.0</td>\n",
       "      <td>1.0</td>\n",
       "      <td>0.0</td>\n",
       "      <td>1.0</td>\n",
       "      <td>0.0</td>\n",
       "      <td>0.0</td>\n",
       "      <td>0.0</td>\n",
       "      <td>0.0</td>\n",
       "      <td>0.0</td>\n",
       "      <td>0.0</td>\n",
       "      <td>0.0</td>\n",
       "      <td>0.0</td>\n",
       "      <td>0.0</td>\n",
       "      <td>0.0</td>\n",
       "      <td>0.0</td>\n",
       "      <td>0.0</td>\n",
       "      <td>0.0</td>\n",
       "      <td>1.0</td>\n",
       "      <td>0.0</td>\n",
       "    </tr>\n",
       "    <tr>\n",
       "      <th>4</th>\n",
       "      <td>1.0</td>\n",
       "      <td>1.0</td>\n",
       "      <td>0.0</td>\n",
       "      <td>0.0</td>\n",
       "      <td>1.0</td>\n",
       "      <td>0.0</td>\n",
       "      <td>0.0</td>\n",
       "      <td>0.0</td>\n",
       "      <td>0.0</td>\n",
       "      <td>0.0</td>\n",
       "      <td>0.0</td>\n",
       "      <td>0.0</td>\n",
       "      <td>0.0</td>\n",
       "      <td>0.0</td>\n",
       "      <td>0.0</td>\n",
       "      <td>0.0</td>\n",
       "      <td>0.0</td>\n",
       "      <td>1.0</td>\n",
       "      <td>0.0</td>\n",
       "    </tr>\n",
       "  </tbody>\n",
       "</table>\n",
       "</div>"
      ],
      "text/plain": [
       "   race  sex  Age (decade)=10  Age (decade)=20  Age (decade)=30  \\\n",
       "0   0.0  1.0              0.0              0.0              1.0   \n",
       "1   0.0  1.0              0.0              1.0              0.0   \n",
       "2   1.0  1.0              0.0              0.0              1.0   \n",
       "3   1.0  1.0              0.0              1.0              0.0   \n",
       "4   1.0  1.0              0.0              0.0              1.0   \n",
       "\n",
       "   Age (decade)=40  Age (decade)=50  Age (decade)=60  Age (decade)=>=70  \\\n",
       "0              0.0              0.0              0.0                0.0   \n",
       "1              0.0              0.0              0.0                0.0   \n",
       "2              0.0              0.0              0.0                0.0   \n",
       "3              0.0              0.0              0.0                0.0   \n",
       "4              0.0              0.0              0.0                0.0   \n",
       "\n",
       "   Education Years=6  Education Years=7  Education Years=8  Education Years=9  \\\n",
       "0                0.0                0.0                0.0                1.0   \n",
       "1                0.0                0.0                0.0                1.0   \n",
       "2                0.0                0.0                0.0                0.0   \n",
       "3                0.0                0.0                0.0                0.0   \n",
       "4                0.0                0.0                0.0                0.0   \n",
       "\n",
       "   Education Years=10  Education Years=11  Education Years=12  \\\n",
       "0                 0.0                 0.0                 0.0   \n",
       "1                 0.0                 0.0                 0.0   \n",
       "2                 0.0                 0.0                 0.0   \n",
       "3                 0.0                 0.0                 0.0   \n",
       "4                 0.0                 0.0                 0.0   \n",
       "\n",
       "   Education Years=<6  Education Years=>12  label  \n",
       "0                 0.0                  0.0    0.0  \n",
       "1                 0.0                  0.0    0.0  \n",
       "2                 0.0                  1.0    1.0  \n",
       "3                 0.0                  1.0    0.0  \n",
       "4                 0.0                  1.0    0.0  "
      ]
     },
     "execution_count": 164,
     "metadata": {},
     "output_type": "execute_result"
    }
   ],
   "source": [
    "df = pd.read_pickle('adult.pickle')\n",
    "df.head(5)"
   ]
  },
  {
   "cell_type": "code",
   "execution_count": 165,
   "metadata": {},
   "outputs": [
    {
     "data": {
      "text/plain": [
       "Index(['race', 'sex', 'Age (decade)=10', 'Age (decade)=20', 'Age (decade)=30',\n",
       "       'Age (decade)=40', 'Age (decade)=50', 'Age (decade)=60',\n",
       "       'Age (decade)=>=70', 'Education Years=6', 'Education Years=7',\n",
       "       'Education Years=8', 'Education Years=9', 'Education Years=10',\n",
       "       'Education Years=11', 'Education Years=12', 'Education Years=<6',\n",
       "       'Education Years=>12', 'label'],\n",
       "      dtype='object')"
      ]
     },
     "execution_count": 165,
     "metadata": {},
     "output_type": "execute_result"
    }
   ],
   "source": [
    "df.columns"
   ]
  },
  {
   "cell_type": "code",
   "execution_count": 166,
   "metadata": {},
   "outputs": [],
   "source": [
    "df['age'] = df.apply(lambda row: 0 if row['Age (decade)=10'] == 1 \n",
    "                            else 1 if row['Age (decade)=20'] == 1 \n",
    "                            else 2 if row['Age (decade)=30'] == 1\n",
    "                            else 3 if row['Age (decade)=40'] == 1\n",
    "                            else 4 if row['Age (decade)=50'] == 1\n",
    "                            else 5 if row['Age (decade)=60'] == 1\n",
    "                            else 6 if row['Age (decade)=>=70'] == 1\n",
    "                            else None,axis = 1)\n",
    "df['education'] = df.apply(lambda row: 0 if row['Education Years=<6'] == 1 \n",
    "                                  else 1 if row['Education Years=6'] == 1 \n",
    "                                  else 2 if row['Education Years=7'] == 1 \n",
    "                                  else 3 if row['Education Years=8'] == 1 \n",
    "                                  else 4 if row['Education Years=9'] == 1 \n",
    "                                  else 5 if row['Education Years=10'] == 1 \n",
    "                                  else 6 if row['Education Years=11'] == 1 \n",
    "                                  else 7 if row['Education Years=12'] == 1\n",
    "                                  else 8 if row['Education Years=>12'] == 1  \n",
    "                                  else None,axis = 1)"
   ]
  },
  {
   "cell_type": "code",
   "execution_count": 167,
   "metadata": {},
   "outputs": [],
   "source": [
    "flai_dataset = data.Data(df[['sex', 'race', 'age','education' ,'label']], transform=True)\n",
    "#flai_dataset = data.Data(df, transform=True)"
   ]
  },
  {
   "cell_type": "code",
   "execution_count": 168,
   "metadata": {},
   "outputs": [
    {
     "data": {
      "text/html": [
       "<div>\n",
       "<style scoped>\n",
       "    .dataframe tbody tr th:only-of-type {\n",
       "        vertical-align: middle;\n",
       "    }\n",
       "\n",
       "    .dataframe tbody tr th {\n",
       "        vertical-align: top;\n",
       "    }\n",
       "\n",
       "    .dataframe thead th {\n",
       "        text-align: right;\n",
       "    }\n",
       "</style>\n",
       "<table border=\"1\" class=\"dataframe\">\n",
       "  <thead>\n",
       "    <tr style=\"text-align: right;\">\n",
       "      <th></th>\n",
       "      <th>sex</th>\n",
       "      <th>race</th>\n",
       "      <th>age</th>\n",
       "      <th>education</th>\n",
       "      <th>label</th>\n",
       "    </tr>\n",
       "  </thead>\n",
       "  <tbody>\n",
       "    <tr>\n",
       "      <th>0</th>\n",
       "      <td>1.0</td>\n",
       "      <td>0.0</td>\n",
       "      <td>2.0</td>\n",
       "      <td>4.0</td>\n",
       "      <td>0.0</td>\n",
       "    </tr>\n",
       "    <tr>\n",
       "      <th>1</th>\n",
       "      <td>1.0</td>\n",
       "      <td>0.0</td>\n",
       "      <td>1.0</td>\n",
       "      <td>4.0</td>\n",
       "      <td>0.0</td>\n",
       "    </tr>\n",
       "    <tr>\n",
       "      <th>2</th>\n",
       "      <td>1.0</td>\n",
       "      <td>1.0</td>\n",
       "      <td>2.0</td>\n",
       "      <td>8.0</td>\n",
       "      <td>1.0</td>\n",
       "    </tr>\n",
       "    <tr>\n",
       "      <th>3</th>\n",
       "      <td>1.0</td>\n",
       "      <td>1.0</td>\n",
       "      <td>1.0</td>\n",
       "      <td>8.0</td>\n",
       "      <td>0.0</td>\n",
       "    </tr>\n",
       "    <tr>\n",
       "      <th>4</th>\n",
       "      <td>1.0</td>\n",
       "      <td>1.0</td>\n",
       "      <td>2.0</td>\n",
       "      <td>8.0</td>\n",
       "      <td>0.0</td>\n",
       "    </tr>\n",
       "  </tbody>\n",
       "</table>\n",
       "</div>"
      ],
      "text/plain": [
       "   sex  race  age  education  label\n",
       "0  1.0   0.0  2.0        4.0    0.0\n",
       "1  1.0   0.0  1.0        4.0    0.0\n",
       "2  1.0   1.0  2.0        8.0    1.0\n",
       "3  1.0   1.0  1.0        8.0    0.0\n",
       "4  1.0   1.0  2.0        8.0    0.0"
      ]
     },
     "execution_count": 168,
     "metadata": {},
     "output_type": "execute_result"
    }
   ],
   "source": [
    "flai_dataset.data.head()"
   ]
  },
  {
   "cell_type": "code",
   "execution_count": 169,
   "metadata": {},
   "outputs": [
    {
     "data": {
      "application/vnd.jupyter.widget-view+json": {
       "model_id": "96434b8059264ca0993763b8d63a08d3",
       "version_major": 2,
       "version_minor": 0
      },
      "text/plain": [
       "  0%|          | 0/5 [00:00<?, ?it/s]"
      ]
     },
     "metadata": {},
     "output_type": "display_data"
    },
    {
     "name": "stdout",
     "output_type": "stream",
     "text": [
      "Undirected edges:  [('sex', 'race'), ('sex', 'age'), ('sex', 'education'), ('sex', 'label'), ('race', 'age'), ('race', 'education'), ('age', 'education'), ('age', 'label'), ('education', 'label')]\n",
      "PDAG edges:        [('label', 'sex'), ('label', 'age'), ('label', 'education'), ('sex', 'age'), ('sex', 'race'), ('sex', 'label'), ('sex', 'education'), ('race', 'sex'), ('race', 'age'), ('race', 'education'), ('age', 'label'), ('age', 'education'), ('age', 'race'), ('age', 'sex'), ('education', 'sex'), ('education', 'label'), ('education', 'age'), ('education', 'race')]\n",
      "DAG edges:         [('sex', 'label'), ('race', 'sex'), ('race', 'education'), ('race', 'age'), ('age', 'label'), ('age', 'sex'), ('age', 'education'), ('education', 'label'), ('education', 'sex')]\n",
      "Part 1) Skeleton:  [('sex', 'education'), ('sex', 'label'), ('sex', 'race'), ('sex', 'age'), ('race', 'age'), ('race', 'education'), ('age', 'label'), ('age', 'education'), ('education', 'label')]\n"
     ]
    },
    {
     "data": {
      "application/vnd.jupyter.widget-view+json": {
       "model_id": "48272dbf0c634804a19a5e6973fadf97",
       "version_major": 2,
       "version_minor": 0
      },
      "text/plain": [
       "  0%|          | 0/1000000 [00:00<?, ?it/s]"
      ]
     },
     "metadata": {},
     "output_type": "display_data"
    },
    {
     "name": "stdout",
     "output_type": "stream",
     "text": [
      "Part 2) Model:     [('sex', 'label'), ('sex', 'race'), ('age', 'race'), ('education', 'label'), ('education', 'age'), ('education', 'sex'), ('label', 'age')]\n"
     ]
    }
   ],
   "source": [
    "from pgmpy.estimators import HillClimbSearch\n",
    "\n",
    "import pandas as pd\n",
    "import numpy as np\n",
    "from pgmpy.estimators import BDeuScore, K2Score, BicScore\n",
    "from pgmpy.models import BayesianModel\n",
    "from pgmpy.estimators import PC\n",
    "from pgmpy.estimators.CITests import chi_square\n",
    "est = PC(flai_dataset.data)\n",
    "skel, seperating_sets = est.build_skeleton(significance_level=0.01)\n",
    "print(\"Undirected edges: \", skel.edges())\n",
    "\n",
    "pdag = est.skeleton_to_pdag(skel, seperating_sets)\n",
    "print(\"PDAG edges:       \", pdag.edges())\n",
    "\n",
    "model = pdag.to_dag()\n",
    "print(\"DAG edges:        \", model.edges())\n",
    "from pgmpy.estimators import MmhcEstimator\n",
    "from pgmpy.estimators import BDeuScore\n",
    "\n",
    "\n",
    "\n",
    "mmhc = MmhcEstimator(flai_dataset.data)\n",
    "skeleton = mmhc.mmpc()\n",
    "print(\"Part 1) Skeleton: \", skeleton.edges())\n",
    "\n",
    "# use hill climb search to orient the edges:\n",
    "hc = HillClimbSearch(flai_dataset.data)\n",
    "model = hc.estimate(tabu_length=10, white_list=skeleton.to_directed().edges(), scoring_method=BDeuScore(flai_dataset.data))\n",
    "print(\"Part 2) Model:    \", model.edges())"
   ]
  },
  {
   "cell_type": "code",
   "execution_count": 170,
   "metadata": {},
   "outputs": [
    {
     "name": "stdout",
     "output_type": "stream",
     "text": [
      "[bnlearn] >Compute structure scores ['k2', 'bds', 'bic', 'bdeu'] for model comparison (higher is better).\n"
     ]
    }
   ],
   "source": [
    "flai_graph = causal_graph.CausalGraph(flai_dataset)"
   ]
  },
  {
   "cell_type": "code",
   "execution_count": 171,
   "metadata": {},
   "outputs": [
    {
     "data": {
      "image/png": "[encoded data removed]",
      "text/plain": [
       "<Figure size 500x500 with 1 Axes>"
      ]
     },
     "metadata": {},
     "output_type": "display_data"
    }
   ],
   "source": [
    "flai_graph.plot(directed = True)"
   ]
  },
  {
   "cell_type": "code",
   "execution_count": 172,
   "metadata": {},
   "outputs": [
    {
     "data": {
      "text/plain": [
       "[('sex', 'race'),\n",
       " ('age', 'label'),\n",
       " ('age', 'education'),\n",
       " ('education', 'sex'),\n",
       " ('label', 'education'),\n",
       " ('label', 'sex'),\n",
       " ('label', 'race')]"
      ]
     },
     "execution_count": 172,
     "metadata": {},
     "output_type": "execute_result"
    }
   ],
   "source": [
    "list(flai_graph.graph['model_edges'])"
   ]
  },
  {
   "cell_type": "code",
   "execution_count": 173,
   "metadata": {},
   "outputs": [],
   "source": [
    "#flai_graph.graph['model_edges'] = [('sex', 'label'), ('sex', 'race'), ('age', 'race'), ('education', 'label'), ('education', 'age'), ('sex', 'education'), ('label', 'age')]\n",
    "flai_graph.graph['model_edges'] = [('sex', 'label'),  ('education', 'label'), ('age', 'education'), ('sex', 'education'), ('age', 'label'), ('race','label')]"
   ]
  },
  {
   "cell_type": "code",
   "execution_count": 174,
   "metadata": {},
   "outputs": [
    {
     "data": {
      "image/png": "[encoded data removed]",
      "text/plain": [
       "<Figure size 500x500 with 1 Axes>"
      ]
     },
     "metadata": {},
     "output_type": "display_data"
    }
   ],
   "source": [
    "flai_graph.plot(directed = True)"
   ]
  },
  {
   "cell_type": "code",
   "execution_count": 175,
   "metadata": {},
   "outputs": [],
   "source": [
    "#flai_graph.learn_cpd(methodtype = 'maximumlikelihood')\n",
    "flai_graph.calculate_cpd()"
   ]
  },
  {
   "cell_type": "code",
   "execution_count": 78,
   "metadata": {},
   "outputs": [],
   "source": [
    "flai_graph_o = flai_graph"
   ]
  },
  {
   "cell_type": "code",
   "execution_count": 79,
   "metadata": {},
   "outputs": [],
   "source": [
    "CPDs = flai_graph.get_CPDs()"
   ]
  },
  {
   "cell_type": "code",
   "execution_count": 120,
   "metadata": {},
   "outputs": [
    {
     "ename": "AttributeError",
     "evalue": "'DataFrame' object has no attribute 'unique'",
     "output_type": "error",
     "traceback": [
      "\u001b[0;31m---------------------------------------------------------------------------\u001b[0m",
      "\u001b[0;31mAttributeError\u001b[0m                            Traceback (most recent call last)",
      "Cell \u001b[0;32mIn [120], line 1\u001b[0m\n\u001b[0;32m----> 1\u001b[0m CPDs[\u001b[39m'\u001b[39;49m\u001b[39meducation\u001b[39;49m\u001b[39m'\u001b[39;49m][[\u001b[39m'\u001b[39;49m\u001b[39msex\u001b[39;49m\u001b[39m'\u001b[39;49m,\u001b[39m'\u001b[39;49m\u001b[39mage\u001b[39;49m\u001b[39m'\u001b[39;49m]]\u001b[39m.\u001b[39;49munique()\n",
      "File \u001b[0;32m~/anaconda3/envs/py38/lib/python3.8/site-packages/pandas/core/generic.py:5902\u001b[0m, in \u001b[0;36mNDFrame.__getattr__\u001b[0;34m(self, name)\u001b[0m\n\u001b[1;32m   5895\u001b[0m \u001b[39mif\u001b[39;00m (\n\u001b[1;32m   5896\u001b[0m     name \u001b[39mnot\u001b[39;00m \u001b[39min\u001b[39;00m \u001b[39mself\u001b[39m\u001b[39m.\u001b[39m_internal_names_set\n\u001b[1;32m   5897\u001b[0m     \u001b[39mand\u001b[39;00m name \u001b[39mnot\u001b[39;00m \u001b[39min\u001b[39;00m \u001b[39mself\u001b[39m\u001b[39m.\u001b[39m_metadata\n\u001b[1;32m   5898\u001b[0m     \u001b[39mand\u001b[39;00m name \u001b[39mnot\u001b[39;00m \u001b[39min\u001b[39;00m \u001b[39mself\u001b[39m\u001b[39m.\u001b[39m_accessors\n\u001b[1;32m   5899\u001b[0m     \u001b[39mand\u001b[39;00m \u001b[39mself\u001b[39m\u001b[39m.\u001b[39m_info_axis\u001b[39m.\u001b[39m_can_hold_identifiers_and_holds_name(name)\n\u001b[1;32m   5900\u001b[0m ):\n\u001b[1;32m   5901\u001b[0m     \u001b[39mreturn\u001b[39;00m \u001b[39mself\u001b[39m[name]\n\u001b[0;32m-> 5902\u001b[0m \u001b[39mreturn\u001b[39;00m \u001b[39mobject\u001b[39;49m\u001b[39m.\u001b[39;49m\u001b[39m__getattribute__\u001b[39;49m(\u001b[39mself\u001b[39;49m, name)\n",
      "\u001b[0;31mAttributeError\u001b[0m: 'DataFrame' object has no attribute 'unique'"
     ]
    }
   ],
   "source": [
    "CPDs['education'][['sex','age']].unique()"
   ]
  },
  {
   "cell_type": "code",
   "execution_count": 156,
   "metadata": {},
   "outputs": [
    {
     "data": {
      "text/plain": [
       "[{'when': {'sex': 0, 'education': 0, 'age': 0, 'race': 0},\n",
       "  'then': {0: 1.0, 1: 0.0}},\n",
       " {'when': {'sex': 0, 'education': 0, 'age': 0, 'race': 1},\n",
       "  'then': {0: 1.0, 1: 0.0}},\n",
       " {'when': {'sex': 0, 'education': 0, 'age': 1, 'race': 0},\n",
       "  'then': {0: 1.0, 1: 0.0}},\n",
       " {'when': {'sex': 0, 'education': 0, 'age': 1, 'race': 1},\n",
       "  'then': {0: 1.0, 1: 0.0}},\n",
       " {'when': {'sex': 0, 'education': 0, 'age': 2, 'race': 0},\n",
       "  'then': {0: 1.0, 1: 0.0}},\n",
       " {'when': {'sex': 0, 'education': 0, 'age': 2, 'race': 1},\n",
       "  'then': {0: 0.9846153846153847, 1: 0.015384615384615385}},\n",
       " {'when': {'sex': 0, 'education': 0, 'age': 3, 'race': 0},\n",
       "  'then': {0: 0.9230769230769231, 1: 0.07692307692307693}},\n",
       " {'when': {'sex': 0, 'education': 0, 'age': 3, 'race': 1},\n",
       "  'then': {0: 0.9629629629629629, 1: 0.037037037037037035}},\n",
       " {'when': {'sex': 0, 'education': 0, 'age': 4, 'race': 0},\n",
       "  'then': {0: 1.0, 1: 0.0}},\n",
       " {'when': {'sex': 0, 'education': 0, 'age': 4, 'race': 1},\n",
       "  'then': {0: 0.9852941176470589, 1: 0.014705882352941176}},\n",
       " {'when': {'sex': 0, 'education': 0, 'age': 5, 'race': 0},\n",
       "  'then': {0: 1.0, 1: 0.0}},\n",
       " {'when': {'sex': 0, 'education': 0, 'age': 5, 'race': 1},\n",
       "  'then': {0: 1.0, 1: 0.0}},\n",
       " {'when': {'sex': 0, 'education': 0, 'age': 6, 'race': 0},\n",
       "  'then': {0: 0.9285714285714286, 1: 0.07142857142857142}},\n",
       " {'when': {'sex': 0, 'education': 0, 'age': 6, 'race': 1},\n",
       "  'then': {0: 1.0, 1: 0.0}},\n",
       " {'when': {'sex': 0, 'education': 1, 'age': 0, 'race': 0},\n",
       "  'then': {0: 1.0, 1: 0.0}},\n",
       " {'when': {'sex': 0, 'education': 1, 'age': 0, 'race': 1},\n",
       "  'then': {0: 1.0, 1: 0.0}},\n",
       " {'when': {'sex': 0, 'education': 1, 'age': 1, 'race': 0},\n",
       "  'then': {0: 1.0, 1: 0.0}},\n",
       " {'when': {'sex': 0, 'education': 1, 'age': 1, 'race': 1},\n",
       "  'then': {0: 1.0, 1: 0.0}},\n",
       " {'when': {'sex': 0, 'education': 1, 'age': 2, 'race': 0},\n",
       "  'then': {0: 1.0, 1: 0.0}},\n",
       " {'when': {'sex': 0, 'education': 1, 'age': 2, 'race': 1},\n",
       "  'then': {0: 1.0, 1: 0.0}},\n",
       " {'when': {'sex': 0, 'education': 1, 'age': 3, 'race': 0},\n",
       "  'then': {0: 1.0, 1: 0.0}},\n",
       " {'when': {'sex': 0, 'education': 1, 'age': 3, 'race': 1},\n",
       "  'then': {0: 1.0, 1: 0.0}},\n",
       " {'when': {'sex': 0, 'education': 1, 'age': 4, 'race': 0},\n",
       "  'then': {0: 0.9444444444444444, 1: 0.05555555555555555}},\n",
       " {'when': {'sex': 0, 'education': 1, 'age': 4, 'race': 1},\n",
       "  'then': {0: 0.9, 1: 0.1}},\n",
       " {'when': {'sex': 0, 'education': 1, 'age': 5, 'race': 0},\n",
       "  'then': {0: 1.0, 1: 0.0}},\n",
       " {'when': {'sex': 0, 'education': 1, 'age': 5, 'race': 1},\n",
       "  'then': {0: 1.0, 1: 0.0}},\n",
       " {'when': {'sex': 0, 'education': 1, 'age': 6, 'race': 0},\n",
       "  'then': {0: 1.0, 1: 0.0}},\n",
       " {'when': {'sex': 0, 'education': 1, 'age': 6, 'race': 1},\n",
       "  'then': {0: 1.0, 1: 0.0}},\n",
       " {'when': {'sex': 0, 'education': 2, 'age': 0, 'race': 0},\n",
       "  'then': {0: 1.0, 1: 0.0}},\n",
       " {'when': {'sex': 0, 'education': 2, 'age': 0, 'race': 1},\n",
       "  'then': {0: 1.0, 1: 0.0}},\n",
       " {'when': {'sex': 0, 'education': 2, 'age': 1, 'race': 0},\n",
       "  'then': {0: 1.0, 1: 0.0}},\n",
       " {'when': {'sex': 0, 'education': 2, 'age': 1, 'race': 1},\n",
       "  'then': {0: 1.0, 1: 0.0}},\n",
       " {'when': {'sex': 0, 'education': 2, 'age': 2, 'race': 0},\n",
       "  'then': {0: 1.0, 1: 0.0}},\n",
       " {'when': {'sex': 0, 'education': 2, 'age': 2, 'race': 1},\n",
       "  'then': {0: 0.9767441860465116, 1: 0.023255813953488372}},\n",
       " {'when': {'sex': 0, 'education': 2, 'age': 3, 'race': 0},\n",
       "  'then': {0: 0.9411764705882353, 1: 0.058823529411764705}},\n",
       " {'when': {'sex': 0, 'education': 2, 'age': 3, 'race': 1},\n",
       "  'then': {0: 1.0, 1: 0.0}},\n",
       " {'when': {'sex': 0, 'education': 2, 'age': 4, 'race': 0},\n",
       "  'then': {0: 0.9375, 1: 0.0625}},\n",
       " {'when': {'sex': 0, 'education': 2, 'age': 4, 'race': 1},\n",
       "  'then': {0: 0.9545454545454546, 1: 0.045454545454545456}},\n",
       " {'when': {'sex': 0, 'education': 2, 'age': 5, 'race': 0},\n",
       "  'then': {0: 1.0, 1: 0.0}},\n",
       " {'when': {'sex': 0, 'education': 2, 'age': 5, 'race': 1},\n",
       "  'then': {0: 0.8461538461538461, 1: 0.15384615384615385}},\n",
       " {'when': {'sex': 0, 'education': 2, 'age': 6, 'race': 0},\n",
       "  'then': {0: 1.0, 1: 0.0}},\n",
       " {'when': {'sex': 0, 'education': 2, 'age': 6, 'race': 1},\n",
       "  'then': {0: 1.0, 1: 0.0}},\n",
       " {'when': {'sex': 0, 'education': 3, 'age': 0, 'race': 0},\n",
       "  'then': {0: 1.0, 1: 0.0}},\n",
       " {'when': {'sex': 0, 'education': 3, 'age': 0, 'race': 1},\n",
       "  'then': {0: 0.9818181818181818, 1: 0.01818181818181818}},\n",
       " {'when': {'sex': 0, 'education': 3, 'age': 1, 'race': 0},\n",
       "  'then': {0: 1.0, 1: 0.0}},\n",
       " {'when': {'sex': 0, 'education': 3, 'age': 1, 'race': 1},\n",
       "  'then': {0: 1.0, 1: 0.0}},\n",
       " {'when': {'sex': 0, 'education': 3, 'age': 2, 'race': 0},\n",
       "  'then': {0: 1.0, 1: 0.0}},\n",
       " {'when': {'sex': 0, 'education': 3, 'age': 2, 'race': 1},\n",
       "  'then': {0: 0.9375, 1: 0.0625}},\n",
       " {'when': {'sex': 0, 'education': 3, 'age': 3, 'race': 0},\n",
       "  'then': {0: 1.0, 1: 0.0}},\n",
       " {'when': {'sex': 0, 'education': 3, 'age': 3, 'race': 1},\n",
       "  'then': {0: 1.0, 1: 0.0}},\n",
       " {'when': {'sex': 0, 'education': 3, 'age': 4, 'race': 0},\n",
       "  'then': {0: 0.6666666666666666, 1: 0.3333333333333333}},\n",
       " {'when': {'sex': 0, 'education': 3, 'age': 4, 'race': 1},\n",
       "  'then': {0: 1.0, 1: 0.0}},\n",
       " {'when': {'sex': 0, 'education': 3, 'age': 5, 'race': 0},\n",
       "  'then': {0: 1.0, 1: 0.0}},\n",
       " {'when': {'sex': 0, 'education': 3, 'age': 5, 'race': 1},\n",
       "  'then': {0: 1.0, 1: 0.0}},\n",
       " {'when': {'sex': 0, 'education': 3, 'age': 6, 'race': 0},\n",
       "  'then': {0: 0.5, 1: 0.5}},\n",
       " {'when': {'sex': 0, 'education': 3, 'age': 6, 'race': 1},\n",
       "  'then': {0: 1.0, 1: 0.0}},\n",
       " {'when': {'sex': 0, 'education': 4, 'age': 0, 'race': 0},\n",
       "  'then': {0: 1.0, 1: 0.0}},\n",
       " {'when': {'sex': 0, 'education': 4, 'age': 0, 'race': 1},\n",
       "  'then': {0: 1.0, 1: 0.0}},\n",
       " {'when': {'sex': 0, 'education': 4, 'age': 1, 'race': 0},\n",
       "  'then': {0: 0.9950738916256158, 1: 0.0049261083743842365}},\n",
       " {'when': {'sex': 0, 'education': 4, 'age': 1, 'race': 1},\n",
       "  'then': {0: 0.9775596072931276, 1: 0.02244039270687237}},\n",
       " {'when': {'sex': 0, 'education': 4, 'age': 2, 'race': 0},\n",
       "  'then': {0: 0.9660194174757282, 1: 0.03398058252427184}},\n",
       " {'when': {'sex': 0, 'education': 4, 'age': 2, 'race': 1},\n",
       "  'then': {0: 0.9108589951377634, 1: 0.08914100486223663}},\n",
       " {'when': {'sex': 0, 'education': 4, 'age': 3, 'race': 0},\n",
       "  'then': {0: 0.9386503067484663, 1: 0.06134969325153374}},\n",
       " {'when': {'sex': 0, 'education': 4, 'age': 3, 'race': 1},\n",
       "  'then': {0: 0.875219683655536, 1: 0.12478031634446397}},\n",
       " {'when': {'sex': 0, 'education': 4, 'age': 4, 'race': 0},\n",
       "  'then': {0: 0.9473684210526315, 1: 0.05263157894736842}},\n",
       " {'when': {'sex': 0, 'education': 4, 'age': 4, 'race': 1},\n",
       "  'then': {0: 0.8982188295165394, 1: 0.10178117048346055}},\n",
       " {'when': {'sex': 0, 'education': 4, 'age': 5, 'race': 0},\n",
       "  'then': {0: 1.0, 1: 0.0}},\n",
       " {'when': {'sex': 0, 'education': 4, 'age': 5, 'race': 1},\n",
       "  'then': {0: 0.9302325581395349, 1: 0.06976744186046512}},\n",
       " {'when': {'sex': 0, 'education': 4, 'age': 6, 'race': 0},\n",
       "  'then': {0: 1.0, 1: 0.0}},\n",
       " {'when': {'sex': 0, 'education': 4, 'age': 6, 'race': 1},\n",
       "  'then': {0: 0.9425287356321839, 1: 0.05747126436781609}},\n",
       " {'when': {'sex': 0, 'education': 5, 'age': 0, 'race': 0},\n",
       "  'then': {0: 1.0, 1: 0.0}},\n",
       " {'when': {'sex': 0, 'education': 5, 'age': 0, 'race': 1},\n",
       "  'then': {0: 0.9961977186311787, 1: 0.0038022813688212928}},\n",
       " {'when': {'sex': 0, 'education': 5, 'age': 1, 'race': 0},\n",
       "  'then': {0: 0.9797979797979798, 1: 0.020202020202020204}},\n",
       " {'when': {'sex': 0, 'education': 5, 'age': 1, 'race': 1},\n",
       "  'then': {0: 0.9841772151898734, 1: 0.015822784810126583}},\n",
       " {'when': {'sex': 0, 'education': 5, 'age': 2, 'race': 0},\n",
       "  'then': {0: 0.9161290322580645, 1: 0.08387096774193549}},\n",
       " {'when': {'sex': 0, 'education': 5, 'age': 2, 'race': 1},\n",
       "  'then': {0: 0.8634361233480177, 1: 0.13656387665198239}},\n",
       " {'when': {'sex': 0, 'education': 5, 'age': 3, 'race': 0},\n",
       "  'then': {0: 0.9175257731958762, 1: 0.08247422680412371}},\n",
       " {'when': {'sex': 0, 'education': 5, 'age': 3, 'race': 1},\n",
       "  'then': {0: 0.8631284916201117, 1: 0.13687150837988826}},\n",
       " {'when': {'sex': 0, 'education': 5, 'age': 4, 'race': 0},\n",
       "  'then': {0: 0.9, 1: 0.1}},\n",
       " {'when': {'sex': 0, 'education': 5, 'age': 4, 'race': 1},\n",
       "  'then': {0: 0.8371040723981901, 1: 0.16289592760180996}},\n",
       " {'when': {'sex': 0, 'education': 5, 'age': 5, 'race': 0},\n",
       "  'then': {0: 1.0, 1: 0.0}},\n",
       " {'when': {'sex': 0, 'education': 5, 'age': 5, 'race': 1},\n",
       "  'then': {0: 0.8715596330275229, 1: 0.12844036697247707}},\n",
       " {'when': {'sex': 0, 'education': 5, 'age': 6, 'race': 0},\n",
       "  'then': {0: 1.0, 1: 0.0}},\n",
       " {'when': {'sex': 0, 'education': 5, 'age': 6, 'race': 1},\n",
       "  'then': {0: 0.9354838709677419, 1: 0.06451612903225806}},\n",
       " {'when': {'sex': 0, 'education': 6, 'age': 0, 'race': 0},\n",
       "  'then': {0: 1.0, 1: 0.0}},\n",
       " {'when': {'sex': 0, 'education': 6, 'age': 0, 'race': 1},\n",
       "  'then': {0: 1.0, 1: 0.0}},\n",
       " {'when': {'sex': 0, 'education': 6, 'age': 1, 'race': 0},\n",
       "  'then': {0: 1.0, 1: 0.0}},\n",
       " {'when': {'sex': 0, 'education': 6, 'age': 1, 'race': 1},\n",
       "  'then': {0: 0.9469026548672567, 1: 0.05309734513274336}},\n",
       " {'when': {'sex': 0, 'education': 6, 'age': 2, 'race': 0},\n",
       "  'then': {0: 0.8484848484848485, 1: 0.15151515151515152}},\n",
       " {'when': {'sex': 0, 'education': 6, 'age': 2, 'race': 1},\n",
       "  'then': {0: 0.8, 1: 0.2}},\n",
       " {'when': {'sex': 0, 'education': 6, 'age': 3, 'race': 0},\n",
       "  'then': {0: 0.8421052631578947, 1: 0.15789473684210525}},\n",
       " {'when': {'sex': 0, 'education': 6, 'age': 3, 'race': 1},\n",
       "  'then': {0: 0.8, 1: 0.2}},\n",
       " {'when': {'sex': 0, 'education': 6, 'age': 4, 'race': 0},\n",
       "  'then': {0: 1.0, 1: 0.0}},\n",
       " {'when': {'sex': 0, 'education': 6, 'age': 4, 'race': 1},\n",
       "  'then': {0: 0.925, 1: 0.075}},\n",
       " {'when': {'sex': 0, 'education': 6, 'age': 5, 'race': 0},\n",
       "  'then': {0: 1.0, 1: 0.0}},\n",
       " {'when': {'sex': 0, 'education': 6, 'age': 5, 'race': 1},\n",
       "  'then': {0: 0.8695652173913043, 1: 0.13043478260869565}},\n",
       " {'when': {'sex': 0, 'education': 6, 'age': 6, 'race': 0},\n",
       "  'then': {0: 0.5, 1: 0.5}},\n",
       " {'when': {'sex': 0, 'education': 6, 'age': 6, 'race': 1},\n",
       "  'then': {0: 0.9285714285714286, 1: 0.07142857142857142}},\n",
       " {'when': {'sex': 0, 'education': 7, 'age': 0, 'race': 0},\n",
       "  'then': {0: 0.5, 1: 0.5}},\n",
       " {'when': {'sex': 0, 'education': 7, 'age': 0, 'race': 1},\n",
       "  'then': {0: 1.0, 1: 0.0}},\n",
       " {'when': {'sex': 0, 'education': 7, 'age': 1, 'race': 0},\n",
       "  'then': {0: 0.9047619047619048, 1: 0.09523809523809523}},\n",
       " {'when': {'sex': 0, 'education': 7, 'age': 1, 'race': 1},\n",
       "  'then': {0: 0.9512195121951219, 1: 0.04878048780487805}},\n",
       " {'when': {'sex': 0, 'education': 7, 'age': 2, 'race': 0},\n",
       "  'then': {0: 0.875, 1: 0.125}},\n",
       " {'when': {'sex': 0, 'education': 7, 'age': 2, 'race': 1},\n",
       "  'then': {0: 0.7692307692307693, 1: 0.23076923076923078}},\n",
       " {'when': {'sex': 0, 'education': 7, 'age': 3, 'race': 0},\n",
       "  'then': {0: 0.8695652173913043, 1: 0.13043478260869565}},\n",
       " {'when': {'sex': 0, 'education': 7, 'age': 3, 'race': 1},\n",
       "  'then': {0: 0.8133333333333334, 1: 0.18666666666666668}},\n",
       " {'when': {'sex': 0, 'education': 7, 'age': 4, 'race': 0},\n",
       "  'then': {0: 0.9090909090909091, 1: 0.09090909090909091}},\n",
       " {'when': {'sex': 0, 'education': 7, 'age': 4, 'race': 1},\n",
       "  'then': {0: 0.8928571428571429, 1: 0.10714285714285714}},\n",
       " {'when': {'sex': 0, 'education': 7, 'age': 5, 'race': 0},\n",
       "  'then': {0: 0.5, 1: 0.5}},\n",
       " {'when': {'sex': 0, 'education': 7, 'age': 5, 'race': 1},\n",
       "  'then': {0: 0.8666666666666667, 1: 0.13333333333333333}},\n",
       " {'when': {'sex': 0, 'education': 7, 'age': 6, 'race': 0},\n",
       "  'then': {0: 0.5, 1: 0.5}},\n",
       " {'when': {'sex': 0, 'education': 7, 'age': 6, 'race': 1},\n",
       "  'then': {0: 0.75, 1: 0.25}},\n",
       " {'when': {'sex': 0, 'education': 8, 'age': 0, 'race': 0},\n",
       "  'then': {0: 1.0, 1: 0.0}},\n",
       " {'when': {'sex': 0, 'education': 8, 'age': 0, 'race': 1},\n",
       "  'then': {0: 1.0, 1: 0.0}},\n",
       " {'when': {'sex': 0, 'education': 8, 'age': 1, 'race': 0},\n",
       "  'then': {0: 0.9349593495934959, 1: 0.06504065040650407}},\n",
       " {'when': {'sex': 0, 'education': 8, 'age': 1, 'race': 1},\n",
       "  'then': {0: 0.9040650406504065, 1: 0.0959349593495935}},\n",
       " {'when': {'sex': 0, 'education': 8, 'age': 2, 'race': 0},\n",
       "  'then': {0: 0.7567567567567568, 1: 0.24324324324324326}},\n",
       " {'when': {'sex': 0, 'education': 8, 'age': 2, 'race': 1},\n",
       "  'then': {0: 0.6542372881355932, 1: 0.34576271186440677}},\n",
       " {'when': {'sex': 0, 'education': 8, 'age': 3, 'race': 0},\n",
       "  'then': {0: 0.6460176991150443, 1: 0.35398230088495575}},\n",
       " {'when': {'sex': 0, 'education': 8, 'age': 3, 'race': 1},\n",
       "  'then': {0: 0.6181474480151229, 1: 0.3818525519848771}},\n",
       " {'when': {'sex': 0, 'education': 8, 'age': 4, 'race': 0},\n",
       "  'then': {0: 0.7111111111111111, 1: 0.28888888888888886}},\n",
       " {'when': {'sex': 0, 'education': 8, 'age': 4, 'race': 1},\n",
       "  'then': {0: 0.6391304347826087, 1: 0.36086956521739133}},\n",
       " {'when': {'sex': 0, 'education': 8, 'age': 5, 'race': 0},\n",
       "  'then': {0: 0.8571428571428571, 1: 0.14285714285714285}},\n",
       " {'when': {'sex': 0, 'education': 8, 'age': 5, 'race': 1},\n",
       "  'then': {0: 0.6986301369863014, 1: 0.3013698630136986}},\n",
       " {'when': {'sex': 0, 'education': 8, 'age': 6, 'race': 0},\n",
       "  'then': {0: 1.0, 1: 0.0}},\n",
       " {'when': {'sex': 0, 'education': 8, 'age': 6, 'race': 1},\n",
       "  'then': {0: 0.8181818181818182, 1: 0.18181818181818182}},\n",
       " {'when': {'sex': 1, 'education': 0, 'age': 0, 'race': 0},\n",
       "  'then': {0: 1.0, 1: 0.0}},\n",
       " {'when': {'sex': 1, 'education': 0, 'age': 0, 'race': 1},\n",
       "  'then': {0: 0.9777777777777777, 1: 0.022222222222222223}},\n",
       " {'when': {'sex': 1, 'education': 0, 'age': 1, 'race': 0},\n",
       "  'then': {0: 0.9411764705882353, 1: 0.058823529411764705}},\n",
       " {'when': {'sex': 1, 'education': 0, 'age': 1, 'race': 1},\n",
       "  'then': {0: 0.9852941176470589, 1: 0.014705882352941176}},\n",
       " {'when': {'sex': 1, 'education': 0, 'age': 2, 'race': 0},\n",
       "  'then': {0: 0.9375, 1: 0.0625}},\n",
       " {'when': {'sex': 1, 'education': 0, 'age': 2, 'race': 1},\n",
       "  'then': {0: 0.9594594594594594, 1: 0.04054054054054054}},\n",
       " {'when': {'sex': 1, 'education': 0, 'age': 3, 'race': 0},\n",
       "  'then': {0: 0.9574468085106383, 1: 0.0425531914893617}},\n",
       " {'when': {'sex': 1, 'education': 0, 'age': 3, 'race': 1},\n",
       "  'then': {0: 0.9293478260869565, 1: 0.07065217391304347}},\n",
       " {'when': {'sex': 1, 'education': 0, 'age': 4, 'race': 0},\n",
       "  'then': {0: 0.9, 1: 0.1}},\n",
       " {'when': {'sex': 1, 'education': 0, 'age': 4, 'race': 1},\n",
       "  'then': {0: 0.8909090909090909, 1: 0.10909090909090909}},\n",
       " {'when': {'sex': 1, 'education': 0, 'age': 5, 'race': 0},\n",
       "  'then': {0: 0.9705882352941176, 1: 0.029411764705882353}},\n",
       " {'when': {'sex': 1, 'education': 0, 'age': 5, 'race': 1},\n",
       "  'then': {0: 0.8674698795180723, 1: 0.13253012048192772}},\n",
       " {'when': {'sex': 1, 'education': 0, 'age': 6, 'race': 0},\n",
       "  'then': {0: 1.0, 1: 0.0}},\n",
       " {'when': {'sex': 1, 'education': 0, 'age': 6, 'race': 1},\n",
       "  'then': {0: 0.8933333333333333, 1: 0.10666666666666667}},\n",
       " {'when': {'sex': 1, 'education': 1, 'age': 0, 'race': 0},\n",
       "  'then': {0: 1.0, 1: 0.0}},\n",
       " {'when': {'sex': 1, 'education': 1, 'age': 0, 'race': 1},\n",
       "  'then': {0: 1.0, 1: 0.0}},\n",
       " {'when': {'sex': 1, 'education': 1, 'age': 1, 'race': 0},\n",
       "  'then': {0: 1.0, 1: 0.0}},\n",
       " {'when': {'sex': 1, 'education': 1, 'age': 1, 'race': 1},\n",
       "  'then': {0: 0.981651376146789, 1: 0.01834862385321101}},\n",
       " {'when': {'sex': 1, 'education': 1, 'age': 2, 'race': 0},\n",
       "  'then': {0: 1.0, 1: 0.0}},\n",
       " {'when': {'sex': 1, 'education': 1, 'age': 2, 'race': 1},\n",
       "  'then': {0: 0.9035087719298246, 1: 0.09649122807017543}},\n",
       " {'when': {'sex': 1, 'education': 1, 'age': 3, 'race': 0},\n",
       "  'then': {0: 0.9090909090909091, 1: 0.09090909090909091}},\n",
       " {'when': {'sex': 1, 'education': 1, 'age': 3, 'race': 1},\n",
       "  'then': {0: 0.8082191780821918, 1: 0.1917808219178082}},\n",
       " {'when': {'sex': 1, 'education': 1, 'age': 4, 'race': 0},\n",
       "  'then': {0: 0.8125, 1: 0.1875}},\n",
       " {'when': {'sex': 1, 'education': 1, 'age': 4, 'race': 1},\n",
       "  'then': {0: 0.801980198019802, 1: 0.19801980198019803}},\n",
       " {'when': {'sex': 1, 'education': 1, 'age': 5, 'race': 0},\n",
       "  'then': {0: 1.0, 1: 0.0}},\n",
       " {'when': {'sex': 1, 'education': 1, 'age': 5, 'race': 1},\n",
       "  'then': {0: 0.8421052631578947, 1: 0.15789473684210525}},\n",
       " {'when': {'sex': 1, 'education': 1, 'age': 6, 'race': 0},\n",
       "  'then': {0: 1.0, 1: 0.0}},\n",
       " {'when': {'sex': 1, 'education': 1, 'age': 6, 'race': 1},\n",
       "  'then': {0: 0.9473684210526315, 1: 0.05263157894736842}},\n",
       " {'when': {'sex': 1, 'education': 2, 'age': 0, 'race': 0},\n",
       "  'then': {0: 1.0, 1: 0.0}},\n",
       " {'when': {'sex': 1, 'education': 2, 'age': 0, 'race': 1},\n",
       "  'then': {0: 1.0, 1: 0.0}},\n",
       " {'when': {'sex': 1, 'education': 2, 'age': 1, 'race': 0},\n",
       "  'then': {0: 0.9393939393939394, 1: 0.06060606060606061}},\n",
       " {'when': {'sex': 1, 'education': 2, 'age': 1, 'race': 1},\n",
       "  'then': {0: 0.9455782312925171, 1: 0.05442176870748299}},\n",
       " {'when': {'sex': 1, 'education': 2, 'age': 2, 'race': 0},\n",
       "  'then': {0: 0.9615384615384616, 1: 0.038461538461538464}},\n",
       " {'when': {'sex': 1, 'education': 2, 'age': 2, 'race': 1},\n",
       "  'then': {0: 0.9426751592356688, 1: 0.05732484076433121}},\n",
       " {'when': {'sex': 1, 'education': 2, 'age': 3, 'race': 0},\n",
       "  'then': {0: 0.8947368421052632, 1: 0.10526315789473684}},\n",
       " {'when': {'sex': 1, 'education': 2, 'age': 3, 'race': 1},\n",
       "  'then': {0: 0.8837209302325582, 1: 0.11627906976744186}},\n",
       " {'when': {'sex': 1, 'education': 2, 'age': 4, 'race': 0},\n",
       "  'then': {0: 1.0, 1: 0.0}},\n",
       " {'when': {'sex': 1, 'education': 2, 'age': 4, 'race': 1},\n",
       "  'then': {0: 0.8524590163934426, 1: 0.14754098360655737}},\n",
       " {'when': {'sex': 1, 'education': 2, 'age': 5, 'race': 0},\n",
       "  'then': {0: 1.0, 1: 0.0}},\n",
       " {'when': {'sex': 1, 'education': 2, 'age': 5, 'race': 1},\n",
       "  'then': {0: 0.8222222222222222, 1: 0.17777777777777778}},\n",
       " {'when': {'sex': 1, 'education': 2, 'age': 6, 'race': 0},\n",
       "  'then': {0: 0.5, 1: 0.5}},\n",
       " {'when': {'sex': 1, 'education': 2, 'age': 6, 'race': 1},\n",
       "  'then': {0: 0.8666666666666667, 1: 0.13333333333333333}},\n",
       " {'when': {'sex': 1, 'education': 3, 'age': 0, 'race': 0},\n",
       "  'then': {0: 1.0, 1: 0.0}},\n",
       " {'when': {'sex': 1, 'education': 3, 'age': 0, 'race': 1},\n",
       "  'then': {0: 1.0, 1: 0.0}},\n",
       " {'when': {'sex': 1, 'education': 3, 'age': 1, 'race': 0},\n",
       "  'then': {0: 0.9411764705882353, 1: 0.058823529411764705}},\n",
       " {'when': {'sex': 1, 'education': 3, 'age': 1, 'race': 1},\n",
       "  'then': {0: 0.96875, 1: 0.03125}},\n",
       " {'when': {'sex': 1, 'education': 3, 'age': 2, 'race': 0},\n",
       "  'then': {0: 1.0, 1: 0.0}},\n",
       " {'when': {'sex': 1, 'education': 3, 'age': 2, 'race': 1},\n",
       "  'then': {0: 0.9074074074074074, 1: 0.09259259259259259}},\n",
       " {'when': {'sex': 1, 'education': 3, 'age': 3, 'race': 0},\n",
       "  'then': {0: 0.8181818181818182, 1: 0.18181818181818182}},\n",
       " {'when': {'sex': 1, 'education': 3, 'age': 3, 'race': 1},\n",
       "  'then': {0: 0.7586206896551724, 1: 0.2413793103448276}},\n",
       " {'when': {'sex': 1, 'education': 3, 'age': 4, 'race': 0},\n",
       "  'then': {0: 0.5714285714285714, 1: 0.42857142857142855}},\n",
       " {'when': {'sex': 1, 'education': 3, 'age': 4, 'race': 1},\n",
       "  'then': {0: 0.8928571428571429, 1: 0.10714285714285714}},\n",
       " {'when': {'sex': 1, 'education': 3, 'age': 5, 'race': 0},\n",
       "  'then': {0: 1.0, 1: 0.0}},\n",
       " {'when': {'sex': 1, 'education': 3, 'age': 5, 'race': 1},\n",
       "  'then': {0: 0.7692307692307693, 1: 0.23076923076923078}},\n",
       " {'when': {'sex': 1, 'education': 3, 'age': 6, 'race': 0},\n",
       "  'then': {0: 0.5, 1: 0.5}},\n",
       " {'when': {'sex': 1, 'education': 3, 'age': 6, 'race': 1},\n",
       "  'then': {0: 1.0, 1: 0.0}},\n",
       " {'when': {'sex': 1, 'education': 4, 'age': 0, 'race': 0},\n",
       "  'then': {0: 1.0, 1: 0.0}},\n",
       " {'when': {'sex': 1, 'education': 4, 'age': 0, 'race': 1},\n",
       "  'then': {0: 1.0, 1: 0.0}},\n",
       " {'when': {'sex': 1, 'education': 4, 'age': 1, 'race': 0},\n",
       "  'then': {0: 0.9587628865979382, 1: 0.041237113402061855}},\n",
       " {'when': {'sex': 1, 'education': 4, 'age': 1, 'race': 1},\n",
       "  'then': {0: 0.9480968858131488, 1: 0.05190311418685121}},\n",
       " {'when': {'sex': 1, 'education': 4, 'age': 2, 'race': 0},\n",
       "  'then': {0: 0.8980392156862745, 1: 0.10196078431372549}},\n",
       " {'when': {'sex': 1, 'education': 4, 'age': 2, 'race': 1},\n",
       "  'then': {0: 0.7880161127895267, 1: 0.21198388721047332}},\n",
       " {'when': {'sex': 1, 'education': 4, 'age': 3, 'race': 0},\n",
       "  'then': {0: 0.7745098039215687, 1: 0.22549019607843138}},\n",
       " {'when': {'sex': 1, 'education': 4, 'age': 3, 'race': 1},\n",
       "  'then': {0: 0.7100903614457831, 1: 0.28990963855421686}},\n",
       " {'when': {'sex': 1, 'education': 4, 'age': 4, 'race': 0},\n",
       "  'then': {0: 0.7478991596638656, 1: 0.25210084033613445}},\n",
       " {'when': {'sex': 1, 'education': 4, 'age': 4, 'race': 1},\n",
       "  'then': {0: 0.622398414271556, 1: 0.377601585728444}},\n",
       " {'when': {'sex': 1, 'education': 4, 'age': 5, 'race': 0},\n",
       "  'then': {0: 0.8048780487804879, 1: 0.1951219512195122}},\n",
       " {'when': {'sex': 1, 'education': 4, 'age': 5, 'race': 1},\n",
       "  'then': {0: 0.7638888888888888, 1: 0.2361111111111111}},\n",
       " {'when': {'sex': 1, 'education': 4, 'age': 6, 'race': 0},\n",
       "  'then': {0: 0.9, 1: 0.1}},\n",
       " {'when': {'sex': 1, 'education': 4, 'age': 6, 'race': 1},\n",
       "  'then': {0: 0.8813559322033898, 1: 0.11864406779661017}},\n",
       " {'when': {'sex': 1, 'education': 5, 'age': 0, 'race': 0},\n",
       "  'then': {0: 1.0, 1: 0.0}},\n",
       " {'when': {'sex': 1, 'education': 5, 'age': 0, 'race': 1},\n",
       "  'then': {0: 1.0, 1: 0.0}},\n",
       " {'when': {'sex': 1, 'education': 5, 'age': 1, 'race': 0},\n",
       "  'then': {0: 0.9447004608294931, 1: 0.055299539170506916}},\n",
       " {'when': {'sex': 1, 'education': 5, 'age': 1, 'race': 1},\n",
       "  'then': {0: 0.9433805162364696, 1: 0.05661948376353039}},\n",
       " {'when': {'sex': 1, 'education': 5, 'age': 2, 'race': 0},\n",
       "  'then': {0: 0.7692307692307693, 1: 0.23076923076923078}},\n",
       " {'when': {'sex': 1, 'education': 5, 'age': 2, 'race': 1},\n",
       "  'then': {0: 0.6993006993006993, 1: 0.3006993006993007}},\n",
       " {'when': {'sex': 1, 'education': 5, 'age': 3, 'race': 0},\n",
       "  'then': {0: 0.5945945945945946, 1: 0.40540540540540543}},\n",
       " {'when': {'sex': 1, 'education': 5, 'age': 3, 'race': 1},\n",
       "  'then': {0: 0.5757575757575758, 1: 0.42424242424242425}},\n",
       " {'when': {'sex': 1, 'education': 5, 'age': 4, 'race': 0},\n",
       "  'then': {0: 0.6153846153846154, 1: 0.38461538461538464}},\n",
       " {'when': {'sex': 1, 'education': 5, 'age': 4, 'race': 1},\n",
       "  'then': {0: 0.5160642570281124, 1: 0.4839357429718876}},\n",
       " {'when': {'sex': 1, 'education': 5, 'age': 5, 'race': 0},\n",
       "  'then': {0: 0.4, 1: 0.6}},\n",
       " {'when': {'sex': 1, 'education': 5, 'age': 5, 'race': 1},\n",
       "  'then': {0: 0.6618357487922706, 1: 0.33816425120772947}},\n",
       " {'when': {'sex': 1, 'education': 5, 'age': 6, 'race': 0},\n",
       "  'then': {0: 0.8571428571428571, 1: 0.14285714285714285}},\n",
       " {'when': {'sex': 1, 'education': 5, 'age': 6, 'race': 1},\n",
       "  'then': {0: 0.6818181818181818, 1: 0.3181818181818182}},\n",
       " {'when': {'sex': 1, 'education': 6, 'age': 0, 'race': 0},\n",
       "  'then': {0: 1.0, 1: 0.0}},\n",
       " {'when': {'sex': 1, 'education': 6, 'age': 0, 'race': 1},\n",
       "  'then': {0: 0.5, 1: 0.5}},\n",
       " {'when': {'sex': 1, 'education': 6, 'age': 1, 'race': 0},\n",
       "  'then': {0: 0.85, 1: 0.15}},\n",
       " {'when': {'sex': 1, 'education': 6, 'age': 1, 'race': 1},\n",
       "  'then': {0: 0.8603351955307262, 1: 0.13966480446927373}},\n",
       " {'when': {'sex': 1, 'education': 6, 'age': 2, 'race': 0},\n",
       "  'then': {0: 0.8666666666666667, 1: 0.13333333333333333}},\n",
       " {'when': {'sex': 1, 'education': 6, 'age': 2, 'race': 1},\n",
       "  'then': {0: 0.6769759450171822, 1: 0.3230240549828179}},\n",
       " {'when': {'sex': 1, 'education': 6, 'age': 3, 'race': 0},\n",
       "  'then': {0: 0.6129032258064516, 1: 0.3870967741935484}},\n",
       " {'when': {'sex': 1, 'education': 6, 'age': 3, 'race': 1},\n",
       "  'then': {0: 0.6052631578947368, 1: 0.39473684210526316}},\n",
       " {'when': {'sex': 1, 'education': 6, 'age': 4, 'race': 0},\n",
       "  'then': {0: 0.5, 1: 0.5}},\n",
       " {'when': {'sex': 1, 'education': 6, 'age': 4, 'race': 1},\n",
       "  'then': {0: 0.4752475247524752, 1: 0.5247524752475248}},\n",
       " {'when': {'sex': 1, 'education': 6, 'age': 5, 'race': 0},\n",
       "  'then': {0: 0.6666666666666666, 1: 0.3333333333333333}},\n",
       " {'when': {'sex': 1, 'education': 6, 'age': 5, 'race': 1},\n",
       "  'then': {0: 0.7272727272727273, 1: 0.2727272727272727}},\n",
       " {'when': {'sex': 1, 'education': 6, 'age': 6, 'race': 0},\n",
       "  'then': {0: 0.5, 1: 0.5}},\n",
       " {'when': {'sex': 1, 'education': 6, 'age': 6, 'race': 1},\n",
       "  'then': {0: 0.4, 1: 0.6}},\n",
       " {'when': {'sex': 1, 'education': 7, 'age': 0, 'race': 0},\n",
       "  'then': {0: 0.5, 1: 0.5}},\n",
       " {'when': {'sex': 1, 'education': 7, 'age': 0, 'race': 1},\n",
       "  'then': {0: 0.5, 1: 0.5}},\n",
       " {'when': {'sex': 1, 'education': 7, 'age': 1, 'race': 0},\n",
       "  'then': {0: 0.85, 1: 0.15}},\n",
       " {'when': {'sex': 1, 'education': 7, 'age': 1, 'race': 1},\n",
       "  'then': {0: 0.9078014184397163, 1: 0.09219858156028368}},\n",
       " {'when': {'sex': 1, 'education': 7, 'age': 2, 'race': 0},\n",
       "  'then': {0: 0.76, 1: 0.24}},\n",
       " {'when': {'sex': 1, 'education': 7, 'age': 2, 'race': 1},\n",
       "  'then': {0: 0.6597938144329897, 1: 0.3402061855670103}},\n",
       " {'when': {'sex': 1, 'education': 7, 'age': 3, 'race': 0},\n",
       "  'then': {0: 0.7857142857142857, 1: 0.21428571428571427}},\n",
       " {'when': {'sex': 1, 'education': 7, 'age': 3, 'race': 1},\n",
       "  'then': {0: 0.5085714285714286, 1: 0.49142857142857144}},\n",
       " {'when': {'sex': 1, 'education': 7, 'age': 4, 'race': 0},\n",
       "  'then': {0: 0.5454545454545454, 1: 0.45454545454545453}},\n",
       " {'when': {'sex': 1, 'education': 7, 'age': 4, 'race': 1},\n",
       "  'then': {0: 0.4696969696969697, 1: 0.5303030303030303}},\n",
       " {'when': {'sex': 1, 'education': 7, 'age': 5, 'race': 0},\n",
       "  'then': {0: 0.6, 1: 0.4}},\n",
       " {'when': {'sex': 1, 'education': 7, 'age': 5, 'race': 1},\n",
       "  'then': {0: 0.47619047619047616, 1: 0.5238095238095238}},\n",
       " {'when': {'sex': 1, 'education': 7, 'age': 6, 'race': 0},\n",
       "  'then': {0: 1.0, 1: 0.0}},\n",
       " {'when': {'sex': 1, 'education': 7, 'age': 6, 'race': 1},\n",
       "  'then': {0: 0.3333333333333333, 1: 0.6666666666666666}},\n",
       " {'when': {'sex': 1, 'education': 8, 'age': 0, 'race': 0},\n",
       "  'then': {0: 0.5, 1: 0.5}},\n",
       " {'when': {'sex': 1, 'education': 8, 'age': 0, 'race': 1},\n",
       "  'then': {0: 0.5, 1: 0.5}},\n",
       " {'when': {'sex': 1, 'education': 8, 'age': 1, 'race': 0},\n",
       "  'then': {0: 0.9117647058823529, 1: 0.08823529411764706}},\n",
       " {'when': {'sex': 1, 'education': 8, 'age': 1, 'race': 1},\n",
       "  'then': {0: 0.8183990442054958, 1: 0.1816009557945042}},\n",
       " {'when': {'sex': 1, 'education': 8, 'age': 2, 'race': 0},\n",
       "  'then': {0: 0.5608695652173913, 1: 0.4391304347826087}},\n",
       " {'when': {'sex': 1, 'education': 8, 'age': 2, 'race': 1},\n",
       "  'then': {0: 0.40304434149569823, 1: 0.5969556585043018}},\n",
       " {'when': {'sex': 1, 'education': 8, 'age': 3, 'race': 0},\n",
       "  'then': {0: 0.3496932515337423, 1: 0.6503067484662577}},\n",
       " {'when': {'sex': 1, 'education': 8, 'age': 3, 'race': 1},\n",
       "  'then': {0: 0.31119090365050867, 1: 0.6888090963494913}},\n",
       " {'when': {'sex': 1, 'education': 8, 'age': 4, 'race': 0},\n",
       "  'then': {0: 0.3958333333333333, 1: 0.6041666666666666}},\n",
       " {'when': {'sex': 1, 'education': 8, 'age': 4, 'race': 1},\n",
       "  'then': {0: 0.27804295942720764, 1: 0.7219570405727923}},\n",
       " {'when': {'sex': 1, 'education': 8, 'age': 5, 'race': 0},\n",
       "  'then': {0: 0.391304347826087, 1: 0.6086956521739131}},\n",
       " {'when': {'sex': 1, 'education': 8, 'age': 5, 'race': 1},\n",
       "  'then': {0: 0.37967914438502676, 1: 0.6203208556149733}},\n",
       " {'when': {'sex': 1, 'education': 8, 'age': 6, 'race': 0},\n",
       "  'then': {0: 0.5714285714285714, 1: 0.42857142857142855}},\n",
       " {'when': {'sex': 1, 'education': 8, 'age': 6, 'race': 1},\n",
       "  'then': {0: 0.5304347826086957, 1: 0.46956521739130436}}]"
      ]
     },
     "execution_count": 156,
     "metadata": {},
     "output_type": "execute_result"
    }
   ],
   "source": [
    "[{'when' :{zip[0] : zip[1] for zip in zip([c for c in CPDs['label'].columns if c not in ['label','p']],group)},'then' : {int(v[0]) : v[1]for v in CPDs['label'].groupby([c for c in CPDs['label'].columns if c not in ['label','p']]).get_group(group)[['label','p']].values.tolist()}} for group in CPDs['label'].groupby([c for c in CPDs['label'].columns if c not in ['label','p']]).groups.keys()]"
   ]
  },
  {
   "cell_type": "code",
   "execution_count": 143,
   "metadata": {},
   "outputs": [
    {
     "data": {
      "text/plain": [
       "{0: 0.022857142857142857,\n",
       " 1: 0.01804511278195489,\n",
       " 2: 0.024962406015037596,\n",
       " 3: 0.006616541353383459,\n",
       " 4: 0.2754887218045113,\n",
       " 5: 0.34466165413533834,\n",
       " 6: 0.042105263157894736,\n",
       " 7: 0.043308270676691726,\n",
       " 8: 0.2219548872180451}"
      ]
     },
     "execution_count": 143,
     "metadata": {},
     "output_type": "execute_result"
    }
   ],
   "source": [
    "{int(v[0]) : v[1]for v in CPDs['education'].groupby(['sex','age']).get_group((2,0))[['education','p']].values.tolist()}"
   ]
  },
  {
   "cell_type": "code",
   "execution_count": 101,
   "metadata": {},
   "outputs": [
    {
     "data": {
      "text/plain": [
       "{0: 6.0, 1: 6.0, 2: 6.0, 3: 6.0, 4: 6.0, 5: 6.0, 6: 6.0, 7: 6.0, 8: 6.0}"
      ]
     },
     "execution_count": 101,
     "metadata": {},
     "output_type": "execute_result"
    }
   ],
   "source": [
    "{int(v[0]) : v[1]for v in CPDs['education'].values.tolist()}"
   ]
  },
  {
   "cell_type": "code",
   "execution_count": 97,
   "metadata": {},
   "outputs": [
    {
     "data": {
      "text/plain": [
       "dict_keys(['sex', 'race', 'age', 'education', 'label'])"
      ]
     },
     "execution_count": 97,
     "metadata": {},
     "output_type": "execute_result"
    }
   ],
   "source": [
    "CPDs.keys()"
   ]
  },
  {
   "cell_type": "code",
   "execution_count": 157,
   "metadata": {},
   "outputs": [
    {
     "data": {
      "text/plain": [
       "{'label': {'id': 'label',\n",
       "  'states': [0, 1],\n",
       "  'parents': ['sex', 'education', 'age', 'race'],\n",
       "  'cpt': {0: 1.0, 1: 1.0}}}"
      ]
     },
     "execution_count": 157,
     "metadata": {},
     "output_type": "execute_result"
    }
   ],
   "source": [
    "{k : {'id' : k,'states' : CPDs[k][k].unique().tolist(), 'parents' : [c for c in CPDs[k].columns if c not in [k,'p']], 'cpt' : {int(v[0]) : v[1]for v in CPDs[k].values.tolist()}} for k in list(CPDs.keys())[4:5]}"
   ]
  },
  {
   "cell_type": "code",
   "execution_count": 178,
   "metadata": {},
   "outputs": [
    {
     "name": "stdout",
     "output_type": "stream",
     "text": [
      "['label']\n",
      "[76.76 23.24]\n"
     ]
    },
    {
     "data": {
      "text/plain": [
       "<DiscreteFactor representing phi(label:2) at 0x7f1a49feb610>"
      ]
     },
     "execution_count": 178,
     "metadata": {},
     "output_type": "execute_result"
    }
   ],
   "source": [
    "import numpy as np\n",
    "from pgmpy.inference import VariableElimination\n",
    "infer = VariableElimination(flai_graph.graph['model'])\n",
    "q = infer.query(variables=['label'], evidence={})\n",
    "print(q.scope())\n",
    "print(np.round(q.values*100,2))\n",
    "q"
   ]
  },
  {
   "cell_type": "code",
   "execution_count": 154,
   "metadata": {},
   "outputs": [
    {
     "data": {
      "text/plain": [
       "{'sex': [33.12, 66.88],\n",
       " 'label': [76.76, 23.24],\n",
       " 'education': [5.38, 2.91, 3.76, 1.34, 32.3, 22.17, 4.3, 3.31, 24.52],\n",
       " 'age': [5.23, 24.54, 26.35, 22.21, 13.42, 6.19, 2.06],\n",
       " 'race': [14.62, 85.38]}"
      ]
     },
     "execution_count": 154,
     "metadata": {},
     "output_type": "execute_result"
    }
   ],
   "source": [
    "import numpy as np\n",
    "from pgmpy.inference import VariableElimination\n",
    "infer = VariableElimination(flai_graph.graph['model'])\n",
    "{n : list(np.round(infer.query(variables=[n], evidence={}).values*100,2)) for n in flai_graph.graph['model'].nodes()}\n"
   ]
  },
  {
   "cell_type": "code",
   "execution_count": 16,
   "metadata": {},
   "outputs": [
    {
     "name": "stdout",
     "output_type": "stream",
     "text": [
      "['label']\n",
      "[0.71343413 0.28656587]\n",
      "['label']\n",
      "[0.87690552 0.12309448]\n"
     ]
    }
   ],
   "source": [
    "from pgmpy.inference import VariableElimination\n",
    "infer = VariableElimination(flai_graph.graph['model'])\n",
    "q = infer.query(variables=['label'], evidence={\n",
    "                                'sex':1})\n",
    "print(q.scope())\n",
    "print(q.values)\n",
    "from pgmpy.inference import VariableElimination\n",
    "infer = VariableElimination(flai_graph.graph['model'])\n",
    "q = infer.query(variables=['label'], evidence={\n",
    "                                'sex':0})\n",
    "print(q.scope())\n",
    "print(q.values)"
   ]
  },
  {
   "cell_type": "code",
   "execution_count": 17,
   "metadata": {},
   "outputs": [
    {
     "name": "stdout",
     "output_type": "stream",
     "text": [
      "['label']\n",
      "[0.75981921 0.24018079]\n",
      "['label']\n",
      "[0.81283315 0.18716685]\n"
     ]
    }
   ],
   "source": [
    "from pgmpy.inference import VariableElimination\n",
    "infer = VariableElimination(flai_graph.graph['model'])\n",
    "q = infer.query(variables=['label'], evidence={\n",
    "                                'race':1})\n",
    "print(q.scope())\n",
    "print(q.values)\n",
    "from pgmpy.inference import VariableElimination\n",
    "infer = VariableElimination(flai_graph.graph['model'])\n",
    "q = infer.query(variables=['label'], evidence={\n",
    "                                'race':0})\n",
    "print(q.scope())\n",
    "print(q.values)"
   ]
  },
  {
   "cell_type": "code",
   "execution_count": 22,
   "metadata": {},
   "outputs": [
    {
     "name": "stdout",
     "output_type": "stream",
     "text": [
      "[bnlearn]> Remaining columns for inference: 4\n"
     ]
    },
    {
     "name": "stderr",
     "output_type": "stream",
     "text": [
      "100%|██████████| 240/240 [00:00<00:00, 529.61it/s]\n"
     ]
    }
   ],
   "source": [
    "import bnlearn as bn\n",
    "data = flai_dataset.data[list(flai_graph.graph['model'].nodes())]\n",
    "out = bn.predict(flai_graph.graph, data, variables = ['label'])\n",
    "flai_dataset.data['Predicted'] = out.label"
   ]
  },
  {
   "cell_type": "code",
   "execution_count": 23,
   "metadata": {},
   "outputs": [
    {
     "name": "stdout",
     "output_type": "stream",
     "text": [
      "Calculating metrics for : sex  the value :  1\n",
      "Calculating metrics for : sex  the value :  0\n",
      "Calculating metrics for : race  the value :  1\n",
      "Calculating metrics for : race  the value :  0\n"
     ]
    },
    {
     "data": {
      "text/plain": [
       "{'model': {'ACC': 0.8052590014332095,\n",
       "  'TPR': 0.3913203835751168,\n",
       "  'FPR': 0.06551525618883132,\n",
       "  'FNR': 0.6086796164248832,\n",
       "  'PPP': 0.14302845944602066},\n",
       " 'sex': {'privileged': {'ACC': 0.7636331831897494,\n",
       "   'TPR': 0.4625781136462723,\n",
       "   'FPR': 0.10678093331665207,\n",
       "   'FNR': 0.5374218863537277,\n",
       "   'PPP': 0.21384527922333493},\n",
       "  'unprivileged': {'ACC': 0.8893305069775658,\n",
       "   'TPR': 0.0,\n",
       "   'FPR': 0.0,\n",
       "   'FNR': 1.0,\n",
       "   'PPP': 0.0},\n",
       "  'fair_metrics': {'Equal_Opportunity_Difference': -0.4625781136462723,\n",
       "   'Disparate Impact': 0.0,\n",
       "   'Statistical parity Difference': -0.21384527922333493}},\n",
       " 'race': {'privileged': {'ACC': 0.7958274810729334,\n",
       "   'TPR': 0.4071205326810708,\n",
       "   'FPR': 0.07314950531330157,\n",
       "   'FNR': 0.5928794673189292,\n",
       "   'PPP': 0.15734301668322428},\n",
       "  'unprivileged': {'ACC': 0.860344137655062,\n",
       "   'TPR': 0.24129032258064517,\n",
       "   'FPR': 0.02604783329386692,\n",
       "   'FNR': 0.7587096774193548,\n",
       "   'PPP': 0.05942376950780312},\n",
       "  'fair_metrics': {'Equal_Opportunity_Difference': -0.16583021010042562,\n",
       "   'Disparate Impact': 0.37767020590077965,\n",
       "   'Statistical parity Difference': -0.09791924717542116}}}"
      ]
     },
     "execution_count": 23,
     "metadata": {},
     "output_type": "execute_result"
    }
   ],
   "source": [
    "#### male = 1 female = 0\n",
    "flai_dataset.fairness_metrics(target_column='label', predicted_column = 'Predicted',\n",
    "                            columns_fair = {'sex' : {'privileged' : 1, 'unprivileged' : 0},\n",
    "                                            'race' : {'privileged' : 1, 'unprivileged' : 0}})"
   ]
  },
  {
   "cell_type": "code",
   "execution_count": 47,
   "metadata": {},
   "outputs": [
    {
     "data": {
      "text/plain": [
       "0.0"
      ]
     },
     "execution_count": 47,
     "metadata": {},
     "output_type": "execute_result"
    }
   ],
   "source": [
    "len(flai_dataset.data[(flai_dataset.data['Predicted'] == 1) & (flai_dataset.data['sex'] == 0)])  / len(flai_dataset.data[(flai_dataset.data['Predicted'] == 1) & (flai_dataset.data['sex'] == 1)]) "
   ]
  },
  {
   "cell_type": "code",
   "execution_count": 38,
   "metadata": {},
   "outputs": [],
   "source": [
    "flai_graph.graph['model_edges'] =   flai_graph.mitigate_edge_relation(sensible_feature = ['sex'])"
   ]
  },
  {
   "cell_type": "code",
   "execution_count": 39,
   "metadata": {},
   "outputs": [
    {
     "data": {
      "image/png": "[encoded data removed]",
      "text/plain": [
       "<Figure size 500x500 with 1 Axes>"
      ]
     },
     "metadata": {},
     "output_type": "display_data"
    }
   ],
   "source": [
    "flai_graph.plot(directed =True)"
   ]
  },
  {
   "cell_type": "code",
   "execution_count": 40,
   "metadata": {},
   "outputs": [],
   "source": [
    "flai_graph.mitigate_calculation_cpd(sensible_feature = ['sex','race'])\n"
   ]
  },
  {
   "cell_type": "code",
   "execution_count": 27,
   "metadata": {},
   "outputs": [
    {
     "name": "stdout",
     "output_type": "stream",
     "text": [
      "['label']\n",
      "[0.76208722 0.23791278]\n",
      "['label']\n",
      "[0.76208722 0.23791278]\n"
     ]
    }
   ],
   "source": [
    "from pgmpy.inference import VariableElimination\n",
    "infer = VariableElimination(flai_graph.graph['model'])\n",
    "q = infer.query(variables=['label'], evidence={\n",
    "                                'sex':0})\n",
    "print(q.scope())\n",
    "print(q.values)\n",
    "from pgmpy.inference import VariableElimination\n",
    "infer = VariableElimination(flai_graph.graph['model'])\n",
    "q = infer.query(variables=['label'], evidence={\n",
    "                                'sex':1})\n",
    "print(q.scope())\n",
    "print(q.values)"
   ]
  },
  {
   "cell_type": "code",
   "execution_count": 56,
   "metadata": {},
   "outputs": [
    {
     "data": {
      "text/plain": [
       "array([0, 1, 2, 3, 4, 5, 6, 7, 8])"
      ]
     },
     "execution_count": 56,
     "metadata": {},
     "output_type": "execute_result"
    }
   ],
   "source": [
    "CPDs = flai_graph.get_CPDs()\n",
    "CPDs['education'].education.unique()"
   ]
  },
  {
   "cell_type": "code",
   "execution_count": 59,
   "metadata": {},
   "outputs": [
    {
     "name": "stdout",
     "output_type": "stream",
     "text": [
      "none  [76.76 23.24]\n",
      "sex  0   [87.69 12.31]\n",
      "sex  0   [76.21 23.79]\n",
      "sex  1   [71.34 28.66]\n",
      "sex  1   [76.21 23.79]\n",
      "race  0   [81.28 18.72]\n",
      "race  0   [76.21 23.79]\n",
      "race  1   [75.98 24.02]\n",
      "race  1   [76.21 23.79]\n",
      "age  0   [99.81  0.19]\n",
      "age  0   [99.83  0.17]\n",
      "age  1   [93.68  6.32]\n",
      "age  1   [93.95  6.05]\n",
      "age  2   [73.53 26.47]\n",
      "age  2   [72.99 27.01]\n",
      "age  3   [63.97 36.03]\n",
      "age  3   [63.03 36.97]\n",
      "age  4   [64.79 35.21]\n",
      "age  4   [63.11 36.89]\n",
      "age  5   [74.07 25.93]\n",
      "age  5   [73.5 26.5]\n",
      "age  6   [81.78 18.22]\n",
      "age  6   [81.68 18.32]\n",
      "education  0   [94.67  5.33]\n",
      "education  0   [94.56  5.44]\n",
      "education  1   [93.55  6.45]\n",
      "education  1   [93.27  6.73]\n",
      "education  2   [95.53  4.47]\n",
      "education  2   [95.46  4.54]\n",
      "education  3   [93.9  6.1]\n",
      "education  3   [93.61  6.39]\n",
      "education  4   [84.79 15.21]\n",
      "education  4   [84.3 15.7]\n",
      "education  5   [81.4 18.6]\n",
      "education  5   [81.14 18.86]\n",
      "education  6   [75.21 24.79]\n",
      "education  6   [74.76 25.24]\n",
      "education  7   [74.24 25.76]\n",
      "education  7   [73.69 26.31]\n",
      "education  8   [52.84 47.16]\n",
      "education  8   [52.02 47.98]\n"
     ]
    }
   ],
   "source": [
    "print('none ', np.round(infer.query(variables=['label'], evidence={}).values*100,2))\n",
    "for v in CPDs['sex'].sex.unique().tolist():\n",
    "    print('sex ', v,  ' ', np.round(infer.query(variables=['label'], evidence={'sex' : v}).values*100,2))\n",
    "    print('sex ', v,  ' ', np.round(infer2.query(variables=['label'], evidence={'sex' : v}).values*100,2))\n",
    "for v in CPDs['race'].race.unique().tolist():\n",
    "    print('race ', v,  ' ', np.round(infer.query(variables=['label'], evidence={'race' : v}).values*100,2))\n",
    "    print('race ', v,  ' ', np.round(infer2.query(variables=['label'], evidence={'race' : v}).values*100,2))\n",
    "for v in CPDs['age'].age.unique().tolist():\n",
    "    print('age ', v,  ' ', np.round(infer.query(variables=['label'], evidence={'age' : v}).values*100,2))\n",
    "    print('age ', v,  ' ', np.round(infer2.query(variables=['label'], evidence={'age' : v}).values*100,2))\n",
    "for v in CPDs['education'].education.unique().tolist():\n",
    "    print('education ', v,  ' ', np.round(infer.query(variables=['label'], evidence={'education' : v}).values*100,2))\n",
    "    print('education ', v,  ' ', np.round(infer2.query(variables=['label'], evidence={'education' : v}).values*100,2))\n"
   ]
  },
  {
   "cell_type": "code",
   "execution_count": 63,
   "metadata": {},
   "outputs": [
    {
     "name": "stdout",
     "output_type": "stream",
     "text": [
      "education  0   [95.54  4.46]\n",
      "education  0   [94.56  5.44]\n",
      "education  1   [96.8  3.2]\n",
      "education  1   [93.27  6.73]\n",
      "education  2   [96.6  3.4]\n",
      "education  2   [95.46  4.54]\n",
      "education  3   [92.82  7.18]\n",
      "education  3   [93.61  6.39]\n",
      "education  4   [89.98 10.02]\n",
      "education  4   [84.3 15.7]\n",
      "education  5   [83.71 16.29]\n",
      "education  5   [81.14 18.86]\n",
      "education  6   [80.04 19.96]\n",
      "education  6   [74.76 25.24]\n",
      "education  7   [80.65 19.35]\n",
      "education  7   [73.69 26.31]\n",
      "education  8   [59.99 40.01]\n",
      "education  8   [52.02 47.98]\n"
     ]
    }
   ],
   "source": [
    "for v in CPDs['education'].education.unique().tolist():\n",
    "    print('education ', v,  ' ', np.round(infer.query(variables=['label'], evidence={'education' : v,'race':0}).values*100,2))\n",
    "    print('education ', v,  ' ', np.round(infer2.query(variables=['label'], evidence={'education' : v,'race':0}).values*100,2))\n"
   ]
  },
  {
   "cell_type": "code",
   "execution_count": 64,
   "metadata": {},
   "outputs": [
    {
     "name": "stdout",
     "output_type": "stream",
     "text": [
      "education  0   [94.52  5.48]\n",
      "education  0   [94.56  5.44]\n",
      "education  1   [92.99  7.01]\n",
      "education  1   [93.27  6.73]\n",
      "education  2   [95.34  4.66]\n",
      "education  2   [95.46  4.54]\n",
      "education  3   [94.09  5.91]\n",
      "education  3   [93.61  6.39]\n",
      "education  4   [83.9 16.1]\n",
      "education  4   [84.3 15.7]\n",
      "education  5   [81.01 18.99]\n",
      "education  5   [81.14 18.86]\n",
      "education  6   [74.39 25.61]\n",
      "education  6   [74.76 25.24]\n",
      "education  7   [73.15 26.85]\n",
      "education  7   [73.69 26.31]\n",
      "education  8   [51.62 48.38]\n",
      "education  8   [52.02 47.98]\n"
     ]
    }
   ],
   "source": [
    "for v in CPDs['education'].education.unique().tolist():\n",
    "    print('education ', v,  ' ', np.round(infer.query(variables=['label'], evidence={'education' : v,'race':1}).values*100,2))\n",
    "    print('education ', v,  ' ', np.round(infer2.query(variables=['label'], evidence={'education' : v,'race':1}).values*100,2))"
   ]
  },
  {
   "cell_type": "code",
   "execution_count": 58,
   "metadata": {},
   "outputs": [],
   "source": [
    "import numpy as np\n",
    "from pgmpy.inference import VariableElimination\n",
    "infer2 = VariableElimination(flai_graph.graph['model'])\n"
   ]
  },
  {
   "cell_type": "code",
   "execution_count": null,
   "metadata": {},
   "outputs": [],
   "source": [
    "q = infer2.query(variables=['label'], evidence={'sex' : 1})\n",
    "print(q.scope())\n",
    "print(np.round(q.values*100,2))"
   ]
  },
  {
   "cell_type": "code",
   "execution_count": 25,
   "metadata": {},
   "outputs": [
    {
     "name": "stdout",
     "output_type": "stream",
     "text": [
      "[bnlearn]> Remaining columns for inference: 4\n"
     ]
    },
    {
     "name": "stderr",
     "output_type": "stream",
     "text": [
      "100%|██████████| 240/240 [00:00<00:00, 619.47it/s]\n"
     ]
    }
   ],
   "source": [
    "import bnlearn as bn\n",
    "data = flai_dataset.data[list(flai_graph.graph['model'].nodes())]\n",
    "out = bn.predict(flai_graph.graph, data, variables = ['label'])\n",
    "flai_dataset.data['Predicted'] = out.label"
   ]
  },
  {
   "cell_type": "code",
   "execution_count": 26,
   "metadata": {},
   "outputs": [
    {
     "name": "stdout",
     "output_type": "stream",
     "text": [
      "Calculating metrics for : sex  the value :  1\n",
      "Calculating metrics for : sex  the value :  0\n",
      "Calculating metrics for : race  the value :  1\n",
      "Calculating metrics for : race  the value :  0\n"
     ]
    },
    {
     "data": {
      "text/plain": [
       "{'model': {'ACC': 0.788791716634005,\n",
       "  'TPR': 0.46250307351856407,\n",
       "  'FPR': 0.1093456150450969,\n",
       "  'FNR': 0.537496926481436,\n",
       "  'PPP': 0.19336628740238088},\n",
       " 'sex': {'privileged': {'ACC': 0.7617090129881489,\n",
       "   'TPR': 0.4605435256503415,\n",
       "   'FPR': 0.10865757537845615,\n",
       "   'FNR': 0.5394564743496585,\n",
       "   'PPP': 0.2145449774784624},\n",
       "  'unprivileged': {'ACC': 0.8434905493729024,\n",
       "   'TPR': 0.47326416600159615,\n",
       "   'FPR': 0.1104379779521303,\n",
       "   'FNR': 0.5267358339984038,\n",
       "   'PPP': 0.15059176823882706},\n",
       "  'fair_metrics': {'Equal_Opportunity_Difference': 0.012720640351254642,\n",
       "   'Disparate Impact': 0.7019123449484832,\n",
       "   'Statistical parity Difference': -0.06395320923963535}},\n",
       " 'race': {'privileged': {'ACC': 0.7816792847110411,\n",
       "   'TPR': 0.4621551841282783,\n",
       "   'FPR': 0.11061744228655185,\n",
       "   'FNR': 0.5378448158717217,\n",
       "   'PPP': 0.19923949162413074},\n",
       "  'unprivileged': {'ACC': 0.8303321328531412,\n",
       "   'TPR': 0.46580645161290324,\n",
       "   'FPR': 0.10277054226852948,\n",
       "   'FNR': 0.5341935483870968,\n",
       "   'PPP': 0.15906362545018007},\n",
       "  'fair_metrics': {'Equal_Opportunity_Difference': 0.003651267484624965,\n",
       "   'Disparate Impact': 0.7983539013954962,\n",
       "   'Statistical parity Difference': -0.040175866173950664}}}"
      ]
     },
     "execution_count": 26,
     "metadata": {},
     "output_type": "execute_result"
    }
   ],
   "source": [
    "#### male = 1 female = 0\n",
    "flai_dataset.fairness_metrics(target_column='label', predicted_column = 'Predicted',\n",
    "                               columns_fair = {'sex' : {'privileged' : 1, 'unprivileged' : 0},\n",
    "                                            'race' : {'privileged' : 1, 'unprivileged' : 0}})"
   ]
  },
  {
   "cell_type": "code",
   "execution_count": 67,
   "metadata": {},
   "outputs": [
    {
     "data": {
      "text/plain": [
       "0.2145449774784624"
      ]
     },
     "execution_count": 67,
     "metadata": {},
     "output_type": "execute_result"
    }
   ],
   "source": [
    "len(flai_dataset.data[(flai_dataset.data['Predicted'] == 1) & (flai_dataset.data['sex'] == 1)]) / len(flai_dataset.data[(flai_dataset.data['sex'] == 1)])"
   ]
  },
  {
   "cell_type": "code",
   "execution_count": 66,
   "metadata": {},
   "outputs": [
    {
     "data": {
      "text/plain": [
       "22867"
      ]
     },
     "execution_count": 66,
     "metadata": {},
     "output_type": "execute_result"
    }
   ],
   "source": [
    "len(flai_dataset.data[(flai_dataset.data['sex'] == 1)])"
   ]
  },
  {
   "cell_type": "code",
   "execution_count": 16,
   "metadata": {},
   "outputs": [],
   "source": [
    "flai_dataset.data[['sex', 'race', 'age','education'  ,'label']].to_excel('original_adult.xls')\n"
   ]
  },
  {
   "cell_type": "code",
   "execution_count": 27,
   "metadata": {},
   "outputs": [],
   "source": [
    "mitigate_data = flai_graph.generate_dataset(n_samples = 10000, methodtype = 'bayes')"
   ]
  },
  {
   "cell_type": "code",
   "execution_count": 30,
   "metadata": {},
   "outputs": [],
   "source": [
    "mitigate_data.data.to_pickle('mitigated_adult.pickle')"
   ]
  },
  {
   "cell_type": "code",
   "execution_count": 28,
   "metadata": {},
   "outputs": [
    {
     "name": "stdout",
     "output_type": "stream",
     "text": [
      "[bnlearn]> Remaining columns for inference: 4\n"
     ]
    },
    {
     "name": "stderr",
     "output_type": "stream",
     "text": [
      "100%|██████████| 231/231 [00:00<00:00, 1126.08it/s]\n"
     ]
    }
   ],
   "source": [
    "import bnlearn as bn\n",
    "data = mitigate_data.data[list(flai_graph.graph['model'].nodes())]\n",
    "out = bn.predict(flai_graph.graph, data, variables = ['label'])\n",
    "mitigate_data.data['Predicted'] = out.label"
   ]
  },
  {
   "cell_type": "code",
   "execution_count": 29,
   "metadata": {},
   "outputs": [
    {
     "name": "stdout",
     "output_type": "stream",
     "text": [
      "Calculating metrics for : sex  the value :  1\n",
      "Calculating metrics for : sex  the value :  0\n",
      "Calculating metrics for : race  the value :  1\n",
      "Calculating metrics for : race  the value :  0\n"
     ]
    },
    {
     "data": {
      "text/plain": [
       "{'model': {'ACC': 0.7881,\n",
       "  'TPR': 0.46321070234113715,\n",
       "  'FPR': 0.10975289169295478,\n",
       "  'FNR': 0.5367892976588629,\n",
       "  'PPP': 0.1943},\n",
       " 'sex': {'privileged': {'ACC': 0.7873357228195937,\n",
       "   'TPR': 0.4646128226477935,\n",
       "   'FPR': 0.11122742737503272,\n",
       "   'FNR': 0.5353871773522065,\n",
       "   'PPP': 0.19573874950219036},\n",
       "  'unprivileged': {'ACC': 0.78887103254319,\n",
       "   'TPR': 0.4617968094038623,\n",
       "   'FPR': 0.10826511750726169,\n",
       "   'FNR': 0.5382031905961377,\n",
       "   'PPP': 0.19284853354760947},\n",
       "  'fair_metrics': {'Equal_Opportunity_Difference': -0.0028160132439312147,\n",
       "   'Disparate Impact': 0.9852343188973497,\n",
       "   'Statistical parity Difference': -0.002890215954580888}},\n",
       " 'race': {'privileged': {'ACC': 0.7827314908210611,\n",
       "   'TPR': 0.46296296296296297,\n",
       "   'FPR': 0.11036339165545088,\n",
       "   'FNR': 0.5370370370370371,\n",
       "   'PPP': 0.19870889650998588},\n",
       "  'unprivileged': {'ACC': 0.7933769581598255,\n",
       "   'TPR': 0.46347826086956523,\n",
       "   'FPR': 0.1091703056768559,\n",
       "   'FNR': 0.5365217391304348,\n",
       "   'PPP': 0.1899662899068015},\n",
       "  'fair_metrics': {'Equal_Opportunity_Difference': 0.0005152979066022634,\n",
       "   'Disparate Impact': 0.9560029432162589,\n",
       "   'Statistical parity Difference': -0.008742606603184377}}}"
      ]
     },
     "execution_count": 29,
     "metadata": {},
     "output_type": "execute_result"
    }
   ],
   "source": [
    "#### male = 1 female = 0\n",
    "mitigate_data.fairness_metrics(target_column='label', predicted_column = 'Predicted',\n",
    "                               columns_fair = {'sex' : {'privileged' : 1, 'unprivileged' : 0},\n",
    "                                            'race' : {'privileged' : 1, 'unprivileged' : 0}})"
   ]
  },
  {
   "cell_type": "code",
   "execution_count": 30,
   "metadata": {},
   "outputs": [
    {
     "data": {
      "text/plain": [
       "1.038338658146965"
      ]
     },
     "execution_count": 30,
     "metadata": {},
     "output_type": "execute_result"
    }
   ],
   "source": [
    "len(mitigate_data.data[(mitigate_data.data['Predicted'] == 1) & (mitigate_data.data['sex'] == 0)]) / len(mitigate_data.data[(mitigate_data.data['Predicted'] == 1) & (mitigate_data.data['sex'] == 1)])"
   ]
  },
  {
   "cell_type": "code",
   "execution_count": 37,
   "metadata": {},
   "outputs": [
    {
     "data": {
      "text/plain": [
       "6684"
      ]
     },
     "execution_count": 37,
     "metadata": {},
     "output_type": "execute_result"
    }
   ],
   "source": [
    "len(mitigate_data.data[mitigate_data.data['sex'] == 1])"
   ]
  },
  {
   "cell_type": "code",
   "execution_count": 26,
   "metadata": {},
   "outputs": [],
   "source": [
    "CPDs = flai_graph.get_CPDs()"
   ]
  },
  {
   "cell_type": "code",
   "execution_count": 28,
   "metadata": {},
   "outputs": [
    {
     "data": {
      "text/html": [
       "<div>\n",
       "<style scoped>\n",
       "    .dataframe tbody tr th:only-of-type {\n",
       "        vertical-align: middle;\n",
       "    }\n",
       "\n",
       "    .dataframe tbody tr th {\n",
       "        vertical-align: top;\n",
       "    }\n",
       "\n",
       "    .dataframe thead th {\n",
       "        text-align: right;\n",
       "    }\n",
       "</style>\n",
       "<table border=\"1\" class=\"dataframe\">\n",
       "  <thead>\n",
       "    <tr style=\"text-align: right;\">\n",
       "      <th></th>\n",
       "      <th>age</th>\n",
       "      <th>p</th>\n",
       "    </tr>\n",
       "  </thead>\n",
       "  <tbody>\n",
       "    <tr>\n",
       "      <th>0</th>\n",
       "      <td>0</td>\n",
       "      <td>0.796968</td>\n",
       "    </tr>\n",
       "    <tr>\n",
       "      <th>1</th>\n",
       "      <td>1</td>\n",
       "      <td>0.203032</td>\n",
       "    </tr>\n",
       "  </tbody>\n",
       "</table>\n",
       "</div>"
      ],
      "text/plain": [
       "   age         p\n",
       "0    0  0.796968\n",
       "1    1  0.203032"
      ]
     },
     "execution_count": 28,
     "metadata": {},
     "output_type": "execute_result"
    }
   ],
   "source": [
    "CPDs['age']"
   ]
  },
  {
   "cell_type": "code",
   "execution_count": 29,
   "metadata": {},
   "outputs": [
    {
     "data": {
      "text/html": [
       "<div>\n",
       "<style scoped>\n",
       "    .dataframe tbody tr th:only-of-type {\n",
       "        vertical-align: middle;\n",
       "    }\n",
       "\n",
       "    .dataframe tbody tr th {\n",
       "        vertical-align: top;\n",
       "    }\n",
       "\n",
       "    .dataframe thead th {\n",
       "        text-align: right;\n",
       "    }\n",
       "</style>\n",
       "<table border=\"1\" class=\"dataframe\">\n",
       "  <thead>\n",
       "    <tr style=\"text-align: right;\">\n",
       "      <th></th>\n",
       "      <th>race</th>\n",
       "      <th>p</th>\n",
       "    </tr>\n",
       "  </thead>\n",
       "  <tbody>\n",
       "    <tr>\n",
       "      <th>0</th>\n",
       "      <td>0</td>\n",
       "      <td>0.602599</td>\n",
       "    </tr>\n",
       "    <tr>\n",
       "      <th>1</th>\n",
       "      <td>1</td>\n",
       "      <td>0.397401</td>\n",
       "    </tr>\n",
       "  </tbody>\n",
       "</table>\n",
       "</div>"
      ],
      "text/plain": [
       "   race         p\n",
       "0     0  0.602599\n",
       "1     1  0.397401"
      ]
     },
     "execution_count": 29,
     "metadata": {},
     "output_type": "execute_result"
    }
   ],
   "source": [
    "CPDs['race']"
   ]
  },
  {
   "cell_type": "code",
   "execution_count": 30,
   "metadata": {},
   "outputs": [
    {
     "data": {
      "text/html": [
       "<div>\n",
       "<style scoped>\n",
       "    .dataframe tbody tr th:only-of-type {\n",
       "        vertical-align: middle;\n",
       "    }\n",
       "\n",
       "    .dataframe tbody tr th {\n",
       "        vertical-align: top;\n",
       "    }\n",
       "\n",
       "    .dataframe thead th {\n",
       "        text-align: right;\n",
       "    }\n",
       "</style>\n",
       "<table border=\"1\" class=\"dataframe\">\n",
       "  <thead>\n",
       "    <tr style=\"text-align: right;\">\n",
       "      <th></th>\n",
       "      <th>sex</th>\n",
       "      <th>p</th>\n",
       "    </tr>\n",
       "  </thead>\n",
       "  <tbody>\n",
       "    <tr>\n",
       "      <th>0</th>\n",
       "      <td>0</td>\n",
       "      <td>0.804548</td>\n",
       "    </tr>\n",
       "    <tr>\n",
       "      <th>1</th>\n",
       "      <td>1</td>\n",
       "      <td>0.195452</td>\n",
       "    </tr>\n",
       "  </tbody>\n",
       "</table>\n",
       "</div>"
      ],
      "text/plain": [
       "   sex         p\n",
       "0    0  0.804548\n",
       "1    1  0.195452"
      ]
     },
     "execution_count": 30,
     "metadata": {},
     "output_type": "execute_result"
    }
   ],
   "source": [
    "CPDs['sex']"
   ]
  },
  {
   "cell_type": "code",
   "execution_count": 32,
   "metadata": {},
   "outputs": [
    {
     "data": {
      "text/html": [
       "<div>\n",
       "<style scoped>\n",
       "    .dataframe tbody tr th:only-of-type {\n",
       "        vertical-align: middle;\n",
       "    }\n",
       "\n",
       "    .dataframe tbody tr th {\n",
       "        vertical-align: top;\n",
       "    }\n",
       "\n",
       "    .dataframe thead th {\n",
       "        text-align: right;\n",
       "    }\n",
       "</style>\n",
       "<table border=\"1\" class=\"dataframe\">\n",
       "  <thead>\n",
       "    <tr style=\"text-align: right;\">\n",
       "      <th></th>\n",
       "      <th>priors</th>\n",
       "      <th>race</th>\n",
       "      <th>sex</th>\n",
       "      <th>p</th>\n",
       "    </tr>\n",
       "  </thead>\n",
       "  <tbody>\n",
       "    <tr>\n",
       "      <th>0</th>\n",
       "      <td>0</td>\n",
       "      <td>0</td>\n",
       "      <td>0</td>\n",
       "      <td>0.684894</td>\n",
       "    </tr>\n",
       "    <tr>\n",
       "      <th>1</th>\n",
       "      <td>0</td>\n",
       "      <td>0</td>\n",
       "      <td>1</td>\n",
       "      <td>0.684894</td>\n",
       "    </tr>\n",
       "    <tr>\n",
       "      <th>2</th>\n",
       "      <td>0</td>\n",
       "      <td>1</td>\n",
       "      <td>0</td>\n",
       "      <td>0.684894</td>\n",
       "    </tr>\n",
       "    <tr>\n",
       "      <th>3</th>\n",
       "      <td>0</td>\n",
       "      <td>1</td>\n",
       "      <td>1</td>\n",
       "      <td>0.684894</td>\n",
       "    </tr>\n",
       "    <tr>\n",
       "      <th>4</th>\n",
       "      <td>1</td>\n",
       "      <td>0</td>\n",
       "      <td>0</td>\n",
       "      <td>0.315106</td>\n",
       "    </tr>\n",
       "    <tr>\n",
       "      <th>5</th>\n",
       "      <td>1</td>\n",
       "      <td>0</td>\n",
       "      <td>1</td>\n",
       "      <td>0.315106</td>\n",
       "    </tr>\n",
       "    <tr>\n",
       "      <th>6</th>\n",
       "      <td>1</td>\n",
       "      <td>1</td>\n",
       "      <td>0</td>\n",
       "      <td>0.315106</td>\n",
       "    </tr>\n",
       "    <tr>\n",
       "      <th>7</th>\n",
       "      <td>1</td>\n",
       "      <td>1</td>\n",
       "      <td>1</td>\n",
       "      <td>0.315106</td>\n",
       "    </tr>\n",
       "  </tbody>\n",
       "</table>\n",
       "</div>"
      ],
      "text/plain": [
       "   priors  race  sex         p\n",
       "0       0     0    0  0.684894\n",
       "1       0     0    1  0.684894\n",
       "2       0     1    0  0.684894\n",
       "3       0     1    1  0.684894\n",
       "4       1     0    0  0.315106\n",
       "5       1     0    1  0.315106\n",
       "6       1     1    0  0.315106\n",
       "7       1     1    1  0.315106"
      ]
     },
     "execution_count": 32,
     "metadata": {},
     "output_type": "execute_result"
    }
   ],
   "source": [
    "CPDs['priors']"
   ]
  },
  {
   "cell_type": "code",
   "execution_count": null,
   "metadata": {},
   "outputs": [],
   "source": []
  }
 ],
 "metadata": {
  "kernelspec": {
   "display_name": "Python 3.8.15 ('py38')",
   "language": "python",
   "name": "python3"
  },
  "language_info": {
   "codemirror_mode": {
    "name": "ipython",
    "version": 3
   },
   "file_extension": ".py",
   "mimetype": "text/x-python",
   "name": "python",
   "nbconvert_exporter": "python",
   "pygments_lexer": "ipython3",
   "version": "3.8.15"
  },
  "orig_nbformat": 4,
  "vscode": {
   "interpreter": {
    "hash": "82d5c90ba63de38cc351bec5110f0000347eafa70bf35c4c48709a137c0a72d4"
   }
  }
 },
 "nbformat": 4,
 "nbformat_minor": 2
}
