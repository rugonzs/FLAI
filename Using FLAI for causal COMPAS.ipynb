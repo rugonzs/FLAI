{
 "cells": [
  {
   "cell_type": "code",
   "execution_count": 70,
   "metadata": {},
   "outputs": [],
   "source": [
    "from FLAI import data\n",
    "from FLAI import causal_graph"
   ]
  },
  {
   "cell_type": "code",
   "execution_count": 71,
   "metadata": {},
   "outputs": [
    {
     "data": {
      "text/html": [
       "<div>\n",
       "<style scoped>\n",
       "    .dataframe tbody tr th:only-of-type {\n",
       "        vertical-align: middle;\n",
       "    }\n",
       "\n",
       "    .dataframe tbody tr th {\n",
       "        vertical-align: top;\n",
       "    }\n",
       "\n",
       "    .dataframe thead th {\n",
       "        text-align: right;\n",
       "    }\n",
       "</style>\n",
       "<table border=\"1\" class=\"dataframe\">\n",
       "  <thead>\n",
       "    <tr style=\"text-align: right;\">\n",
       "      <th></th>\n",
       "      <th>PassengerId</th>\n",
       "      <th>Survived</th>\n",
       "      <th>Pclass</th>\n",
       "      <th>Name</th>\n",
       "      <th>Sex</th>\n",
       "      <th>Age</th>\n",
       "      <th>SibSp</th>\n",
       "      <th>Parch</th>\n",
       "      <th>Ticket</th>\n",
       "      <th>Fare</th>\n",
       "      <th>Cabin</th>\n",
       "      <th>Embarked</th>\n",
       "    </tr>\n",
       "  </thead>\n",
       "  <tbody>\n",
       "    <tr>\n",
       "      <th>0</th>\n",
       "      <td>1</td>\n",
       "      <td>0</td>\n",
       "      <td>3</td>\n",
       "      <td>Braund, Mr. Owen Harris</td>\n",
       "      <td>male</td>\n",
       "      <td>22.0</td>\n",
       "      <td>1</td>\n",
       "      <td>0</td>\n",
       "      <td>A/5 21171</td>\n",
       "      <td>7.2500</td>\n",
       "      <td>NaN</td>\n",
       "      <td>S</td>\n",
       "    </tr>\n",
       "    <tr>\n",
       "      <th>1</th>\n",
       "      <td>2</td>\n",
       "      <td>1</td>\n",
       "      <td>1</td>\n",
       "      <td>Cumings, Mrs. John Bradley (Florence Briggs Th...</td>\n",
       "      <td>female</td>\n",
       "      <td>38.0</td>\n",
       "      <td>1</td>\n",
       "      <td>0</td>\n",
       "      <td>PC 17599</td>\n",
       "      <td>71.2833</td>\n",
       "      <td>C85</td>\n",
       "      <td>C</td>\n",
       "    </tr>\n",
       "    <tr>\n",
       "      <th>2</th>\n",
       "      <td>3</td>\n",
       "      <td>1</td>\n",
       "      <td>3</td>\n",
       "      <td>Heikkinen, Miss. Laina</td>\n",
       "      <td>female</td>\n",
       "      <td>26.0</td>\n",
       "      <td>0</td>\n",
       "      <td>0</td>\n",
       "      <td>STON/O2. 3101282</td>\n",
       "      <td>7.9250</td>\n",
       "      <td>NaN</td>\n",
       "      <td>S</td>\n",
       "    </tr>\n",
       "    <tr>\n",
       "      <th>3</th>\n",
       "      <td>4</td>\n",
       "      <td>1</td>\n",
       "      <td>1</td>\n",
       "      <td>Futrelle, Mrs. Jacques Heath (Lily May Peel)</td>\n",
       "      <td>female</td>\n",
       "      <td>35.0</td>\n",
       "      <td>1</td>\n",
       "      <td>0</td>\n",
       "      <td>113803</td>\n",
       "      <td>53.1000</td>\n",
       "      <td>C123</td>\n",
       "      <td>S</td>\n",
       "    </tr>\n",
       "    <tr>\n",
       "      <th>4</th>\n",
       "      <td>5</td>\n",
       "      <td>0</td>\n",
       "      <td>3</td>\n",
       "      <td>Allen, Mr. William Henry</td>\n",
       "      <td>male</td>\n",
       "      <td>35.0</td>\n",
       "      <td>0</td>\n",
       "      <td>0</td>\n",
       "      <td>373450</td>\n",
       "      <td>8.0500</td>\n",
       "      <td>NaN</td>\n",
       "      <td>S</td>\n",
       "    </tr>\n",
       "  </tbody>\n",
       "</table>\n",
       "</div>"
      ],
      "text/plain": [
       "   PassengerId  Survived  Pclass  \\\n",
       "0            1         0       3   \n",
       "1            2         1       1   \n",
       "2            3         1       3   \n",
       "3            4         1       1   \n",
       "4            5         0       3   \n",
       "\n",
       "                                                Name     Sex   Age  SibSp  \\\n",
       "0                            Braund, Mr. Owen Harris    male  22.0      1   \n",
       "1  Cumings, Mrs. John Bradley (Florence Briggs Th...  female  38.0      1   \n",
       "2                             Heikkinen, Miss. Laina  female  26.0      0   \n",
       "3       Futrelle, Mrs. Jacques Heath (Lily May Peel)  female  35.0      1   \n",
       "4                           Allen, Mr. William Henry    male  35.0      0   \n",
       "\n",
       "   Parch            Ticket     Fare Cabin Embarked  \n",
       "0      0         A/5 21171   7.2500   NaN        S  \n",
       "1      0          PC 17599  71.2833   C85        C  \n",
       "2      0  STON/O2. 3101282   7.9250   NaN        S  \n",
       "3      0            113803  53.1000  C123        S  \n",
       "4      0            373450   8.0500   NaN        S  "
      ]
     },
     "execution_count": 71,
     "metadata": {},
     "output_type": "execute_result"
    }
   ],
   "source": [
    "import pandas as pd\n",
    "df = pd.read_pickle('Data/titanic.pickle')\n",
    "df.head(5)"
   ]
  },
  {
   "cell_type": "code",
   "execution_count": 72,
   "metadata": {},
   "outputs": [],
   "source": [
    "flai_dataset = data.Data(df, transform=True)"
   ]
  },
  {
   "cell_type": "code",
   "execution_count": 73,
   "metadata": {},
   "outputs": [
    {
     "data": {
      "text/html": [
       "<div>\n",
       "<style scoped>\n",
       "    .dataframe tbody tr th:only-of-type {\n",
       "        vertical-align: middle;\n",
       "    }\n",
       "\n",
       "    .dataframe tbody tr th {\n",
       "        vertical-align: top;\n",
       "    }\n",
       "\n",
       "    .dataframe thead th {\n",
       "        text-align: right;\n",
       "    }\n",
       "</style>\n",
       "<table border=\"1\" class=\"dataframe\">\n",
       "  <thead>\n",
       "    <tr style=\"text-align: right;\">\n",
       "      <th></th>\n",
       "      <th>Survived</th>\n",
       "      <th>Pclass</th>\n",
       "      <th>Name</th>\n",
       "      <th>Sex</th>\n",
       "      <th>SibSp</th>\n",
       "      <th>Parch</th>\n",
       "      <th>Ticket</th>\n",
       "      <th>Cabin</th>\n",
       "      <th>Embarked</th>\n",
       "    </tr>\n",
       "  </thead>\n",
       "  <tbody>\n",
       "    <tr>\n",
       "      <th>0</th>\n",
       "      <td>0</td>\n",
       "      <td>3</td>\n",
       "      <td>108</td>\n",
       "      <td>1</td>\n",
       "      <td>2</td>\n",
       "      <td>1</td>\n",
       "      <td>523</td>\n",
       "      <td>146</td>\n",
       "      <td>3</td>\n",
       "    </tr>\n",
       "    <tr>\n",
       "      <th>1</th>\n",
       "      <td>1</td>\n",
       "      <td>1</td>\n",
       "      <td>190</td>\n",
       "      <td>0</td>\n",
       "      <td>2</td>\n",
       "      <td>1</td>\n",
       "      <td>596</td>\n",
       "      <td>81</td>\n",
       "      <td>1</td>\n",
       "    </tr>\n",
       "    <tr>\n",
       "      <th>2</th>\n",
       "      <td>1</td>\n",
       "      <td>3</td>\n",
       "      <td>353</td>\n",
       "      <td>0</td>\n",
       "      <td>1</td>\n",
       "      <td>1</td>\n",
       "      <td>669</td>\n",
       "      <td>146</td>\n",
       "      <td>3</td>\n",
       "    </tr>\n",
       "    <tr>\n",
       "      <th>3</th>\n",
       "      <td>1</td>\n",
       "      <td>1</td>\n",
       "      <td>272</td>\n",
       "      <td>0</td>\n",
       "      <td>2</td>\n",
       "      <td>1</td>\n",
       "      <td>49</td>\n",
       "      <td>55</td>\n",
       "      <td>3</td>\n",
       "    </tr>\n",
       "    <tr>\n",
       "      <th>4</th>\n",
       "      <td>0</td>\n",
       "      <td>3</td>\n",
       "      <td>15</td>\n",
       "      <td>1</td>\n",
       "      <td>1</td>\n",
       "      <td>1</td>\n",
       "      <td>472</td>\n",
       "      <td>146</td>\n",
       "      <td>3</td>\n",
       "    </tr>\n",
       "  </tbody>\n",
       "</table>\n",
       "</div>"
      ],
      "text/plain": [
       "   Survived  Pclass  Name  Sex  SibSp  Parch  Ticket  Cabin  Embarked\n",
       "0         0       3   108    1      2      1     523    146         3\n",
       "1         1       1   190    0      2      1     596     81         1\n",
       "2         1       3   353    0      1      1     669    146         3\n",
       "3         1       1   272    0      2      1      49     55         3\n",
       "4         0       3    15    1      1      1     472    146         3"
      ]
     },
     "execution_count": 73,
     "metadata": {},
     "output_type": "execute_result"
    }
   ],
   "source": [
    "flai_dataset.data.head(5)"
   ]
  },
  {
   "cell_type": "code",
   "execution_count": 74,
   "metadata": {},
   "outputs": [
    {
     "data": {
      "text/html": [
       "<div>\n",
       "<style scoped>\n",
       "    .dataframe tbody tr th:only-of-type {\n",
       "        vertical-align: middle;\n",
       "    }\n",
       "\n",
       "    .dataframe tbody tr th {\n",
       "        vertical-align: top;\n",
       "    }\n",
       "\n",
       "    .dataframe thead th {\n",
       "        text-align: right;\n",
       "    }\n",
       "</style>\n",
       "<table border=\"1\" class=\"dataframe\">\n",
       "  <thead>\n",
       "    <tr style=\"text-align: right;\">\n",
       "      <th></th>\n",
       "      <th>Survived</th>\n",
       "      <th>Pclass</th>\n",
       "      <th>Name</th>\n",
       "      <th>Sex</th>\n",
       "      <th>SibSp</th>\n",
       "      <th>Parch</th>\n",
       "      <th>Ticket</th>\n",
       "      <th>Cabin</th>\n",
       "      <th>Embarked</th>\n",
       "    </tr>\n",
       "  </thead>\n",
       "  <tbody>\n",
       "    <tr>\n",
       "      <th>count</th>\n",
       "      <td>891.000000</td>\n",
       "      <td>891.000000</td>\n",
       "      <td>891.000000</td>\n",
       "      <td>891.000000</td>\n",
       "      <td>891.000000</td>\n",
       "      <td>891.000000</td>\n",
       "      <td>891.000000</td>\n",
       "      <td>891.000000</td>\n",
       "      <td>891.000000</td>\n",
       "    </tr>\n",
       "    <tr>\n",
       "      <th>mean</th>\n",
       "      <td>0.383838</td>\n",
       "      <td>2.308642</td>\n",
       "      <td>445.000000</td>\n",
       "      <td>0.647587</td>\n",
       "      <td>1.418631</td>\n",
       "      <td>1.295174</td>\n",
       "      <td>338.528620</td>\n",
       "      <td>129.974186</td>\n",
       "      <td>2.529742</td>\n",
       "    </tr>\n",
       "    <tr>\n",
       "      <th>std</th>\n",
       "      <td>0.486592</td>\n",
       "      <td>0.836071</td>\n",
       "      <td>257.353842</td>\n",
       "      <td>0.477990</td>\n",
       "      <td>0.827105</td>\n",
       "      <td>0.649433</td>\n",
       "      <td>200.850657</td>\n",
       "      <td>35.677211</td>\n",
       "      <td>0.800254</td>\n",
       "    </tr>\n",
       "    <tr>\n",
       "      <th>min</th>\n",
       "      <td>0.000000</td>\n",
       "      <td>1.000000</td>\n",
       "      <td>0.000000</td>\n",
       "      <td>0.000000</td>\n",
       "      <td>0.000000</td>\n",
       "      <td>0.000000</td>\n",
       "      <td>0.000000</td>\n",
       "      <td>0.000000</td>\n",
       "      <td>0.000000</td>\n",
       "    </tr>\n",
       "    <tr>\n",
       "      <th>25%</th>\n",
       "      <td>0.000000</td>\n",
       "      <td>2.000000</td>\n",
       "      <td>222.500000</td>\n",
       "      <td>0.000000</td>\n",
       "      <td>1.000000</td>\n",
       "      <td>1.000000</td>\n",
       "      <td>158.500000</td>\n",
       "      <td>146.000000</td>\n",
       "      <td>2.000000</td>\n",
       "    </tr>\n",
       "    <tr>\n",
       "      <th>50%</th>\n",
       "      <td>0.000000</td>\n",
       "      <td>3.000000</td>\n",
       "      <td>445.000000</td>\n",
       "      <td>1.000000</td>\n",
       "      <td>1.000000</td>\n",
       "      <td>1.000000</td>\n",
       "      <td>337.000000</td>\n",
       "      <td>146.000000</td>\n",
       "      <td>3.000000</td>\n",
       "    </tr>\n",
       "    <tr>\n",
       "      <th>75%</th>\n",
       "      <td>1.000000</td>\n",
       "      <td>3.000000</td>\n",
       "      <td>667.500000</td>\n",
       "      <td>1.000000</td>\n",
       "      <td>2.000000</td>\n",
       "      <td>1.000000</td>\n",
       "      <td>519.500000</td>\n",
       "      <td>146.000000</td>\n",
       "      <td>3.000000</td>\n",
       "    </tr>\n",
       "    <tr>\n",
       "      <th>max</th>\n",
       "      <td>1.000000</td>\n",
       "      <td>3.000000</td>\n",
       "      <td>890.000000</td>\n",
       "      <td>1.000000</td>\n",
       "      <td>5.000000</td>\n",
       "      <td>3.000000</td>\n",
       "      <td>680.000000</td>\n",
       "      <td>147.000000</td>\n",
       "      <td>3.000000</td>\n",
       "    </tr>\n",
       "  </tbody>\n",
       "</table>\n",
       "</div>"
      ],
      "text/plain": [
       "         Survived      Pclass        Name         Sex       SibSp       Parch  \\\n",
       "count  891.000000  891.000000  891.000000  891.000000  891.000000  891.000000   \n",
       "mean     0.383838    2.308642  445.000000    0.647587    1.418631    1.295174   \n",
       "std      0.486592    0.836071  257.353842    0.477990    0.827105    0.649433   \n",
       "min      0.000000    1.000000    0.000000    0.000000    0.000000    0.000000   \n",
       "25%      0.000000    2.000000  222.500000    0.000000    1.000000    1.000000   \n",
       "50%      0.000000    3.000000  445.000000    1.000000    1.000000    1.000000   \n",
       "75%      1.000000    3.000000  667.500000    1.000000    2.000000    1.000000   \n",
       "max      1.000000    3.000000  890.000000    1.000000    5.000000    3.000000   \n",
       "\n",
       "           Ticket       Cabin    Embarked  \n",
       "count  891.000000  891.000000  891.000000  \n",
       "mean   338.528620  129.974186    2.529742  \n",
       "std    200.850657   35.677211    0.800254  \n",
       "min      0.000000    0.000000    0.000000  \n",
       "25%    158.500000  146.000000    2.000000  \n",
       "50%    337.000000  146.000000    3.000000  \n",
       "75%    519.500000  146.000000    3.000000  \n",
       "max    680.000000  147.000000    3.000000  "
      ]
     },
     "execution_count": 74,
     "metadata": {},
     "output_type": "execute_result"
    }
   ],
   "source": [
    "flai_dataset.data.describe()"
   ]
  },
  {
   "cell_type": "code",
   "execution_count": null,
   "metadata": {},
   "outputs": [],
   "source": []
  },
  {
   "cell_type": "code",
   "execution_count": 75,
   "metadata": {},
   "outputs": [
    {
     "name": "stdout",
     "output_type": "stream",
     "text": [
      "[bnlearn] >Compute structure scores ['k2', 'bds', 'bic', 'bdeu'] for model comparison (higher is better).\n"
     ]
    }
   ],
   "source": [
    "flai_graph = causal_graph.CausalGraph(flai_dataset)"
   ]
  },
  {
   "cell_type": "code",
   "execution_count": 76,
   "metadata": {},
   "outputs": [
    {
     "data": {
      "text/plain": [
       "[('Pclass', 'Embarked'),\n",
       " ('Pclass', 'Survived'),\n",
       " ('Sex', 'Survived'),\n",
       " ('Sex', 'Pclass'),\n",
       " ('SibSp', 'Parch'),\n",
       " ('Parch', 'Sex')]"
      ]
     },
     "execution_count": 76,
     "metadata": {},
     "output_type": "execute_result"
    }
   ],
   "source": [
    "flai_graph.graph['model_edges']"
   ]
  },
  {
   "cell_type": "code",
   "execution_count": null,
   "metadata": {},
   "outputs": [],
   "source": []
  },
  {
   "cell_type": "code",
   "execution_count": 117,
   "metadata": {},
   "outputs": [
    {
     "data": {
      "image/png": "[encoded data removed]",
      "text/plain": [
       "<Figure size 500x500 with 1 Axes>"
      ]
     },
     "metadata": {},
     "output_type": "display_data"
    }
   ],
   "source": [
    "flai_graph.plot(directed = True)"
   ]
  },
  {
   "cell_type": "code",
   "execution_count": 78,
   "metadata": {},
   "outputs": [
    {
     "name": "stdout",
     "output_type": "stream",
     "text": [
      "[bnlearn] >Compute structure scores ['k2', 'bds', 'bic', 'bdeu'] for model comparison (higher is better).\n",
      "[bnlearn] >Warning: Structure scoring could not be computed. DataFrame issues (?)\n"
     ]
    }
   ],
   "source": [
    "flai_graph.learn_cpd(methodtype = 'maximumlikelihood')"
   ]
  },
  {
   "cell_type": "code",
   "execution_count": null,
   "metadata": {},
   "outputs": [],
   "source": []
  },
  {
   "cell_type": "code",
   "execution_count": 100,
   "metadata": {},
   "outputs": [],
   "source": [
    "CPDs = flai_graph.get_CPDs()"
   ]
  },
  {
   "cell_type": "code",
   "execution_count": 102,
   "metadata": {},
   "outputs": [
    {
     "data": {
      "text/html": [
       "<div>\n",
       "<style scoped>\n",
       "    .dataframe tbody tr th:only-of-type {\n",
       "        vertical-align: middle;\n",
       "    }\n",
       "\n",
       "    .dataframe tbody tr th {\n",
       "        vertical-align: top;\n",
       "    }\n",
       "\n",
       "    .dataframe thead th {\n",
       "        text-align: right;\n",
       "    }\n",
       "</style>\n",
       "<table border=\"1\" class=\"dataframe\">\n",
       "  <thead>\n",
       "    <tr style=\"text-align: right;\">\n",
       "      <th></th>\n",
       "      <th>Pclass</th>\n",
       "      <th>Sex</th>\n",
       "      <th>Parch</th>\n",
       "      <th>p</th>\n",
       "    </tr>\n",
       "  </thead>\n",
       "  <tbody>\n",
       "    <tr>\n",
       "      <th>0</th>\n",
       "      <td>0</td>\n",
       "      <td>0</td>\n",
       "      <td>0</td>\n",
       "      <td>0.066667</td>\n",
       "    </tr>\n",
       "    <tr>\n",
       "      <th>1</th>\n",
       "      <td>0</td>\n",
       "      <td>0</td>\n",
       "      <td>1</td>\n",
       "      <td>0.240413</td>\n",
       "    </tr>\n",
       "    <tr>\n",
       "      <th>2</th>\n",
       "      <td>0</td>\n",
       "      <td>0</td>\n",
       "      <td>2</td>\n",
       "      <td>0.262712</td>\n",
       "    </tr>\n",
       "    <tr>\n",
       "      <th>3</th>\n",
       "      <td>0</td>\n",
       "      <td>0</td>\n",
       "      <td>3</td>\n",
       "      <td>0.262500</td>\n",
       "    </tr>\n",
       "    <tr>\n",
       "      <th>4</th>\n",
       "      <td>0</td>\n",
       "      <td>1</td>\n",
       "      <td>0</td>\n",
       "      <td>0.066667</td>\n",
       "    </tr>\n",
       "    <tr>\n",
       "      <th>5</th>\n",
       "      <td>0</td>\n",
       "      <td>1</td>\n",
       "      <td>1</td>\n",
       "      <td>0.240413</td>\n",
       "    </tr>\n",
       "    <tr>\n",
       "      <th>6</th>\n",
       "      <td>0</td>\n",
       "      <td>1</td>\n",
       "      <td>2</td>\n",
       "      <td>0.262712</td>\n",
       "    </tr>\n",
       "    <tr>\n",
       "      <th>7</th>\n",
       "      <td>0</td>\n",
       "      <td>1</td>\n",
       "      <td>3</td>\n",
       "      <td>0.262500</td>\n",
       "    </tr>\n",
       "    <tr>\n",
       "      <th>8</th>\n",
       "      <td>1</td>\n",
       "      <td>0</td>\n",
       "      <td>0</td>\n",
       "      <td>0.133333</td>\n",
       "    </tr>\n",
       "    <tr>\n",
       "      <th>9</th>\n",
       "      <td>1</td>\n",
       "      <td>0</td>\n",
       "      <td>1</td>\n",
       "      <td>0.197640</td>\n",
       "    </tr>\n",
       "    <tr>\n",
       "      <th>10</th>\n",
       "      <td>1</td>\n",
       "      <td>0</td>\n",
       "      <td>2</td>\n",
       "      <td>0.271186</td>\n",
       "    </tr>\n",
       "    <tr>\n",
       "      <th>11</th>\n",
       "      <td>1</td>\n",
       "      <td>0</td>\n",
       "      <td>3</td>\n",
       "      <td>0.200000</td>\n",
       "    </tr>\n",
       "    <tr>\n",
       "      <th>12</th>\n",
       "      <td>1</td>\n",
       "      <td>1</td>\n",
       "      <td>0</td>\n",
       "      <td>0.133333</td>\n",
       "    </tr>\n",
       "    <tr>\n",
       "      <th>13</th>\n",
       "      <td>1</td>\n",
       "      <td>1</td>\n",
       "      <td>1</td>\n",
       "      <td>0.197640</td>\n",
       "    </tr>\n",
       "    <tr>\n",
       "      <th>14</th>\n",
       "      <td>1</td>\n",
       "      <td>1</td>\n",
       "      <td>2</td>\n",
       "      <td>0.271186</td>\n",
       "    </tr>\n",
       "    <tr>\n",
       "      <th>15</th>\n",
       "      <td>1</td>\n",
       "      <td>1</td>\n",
       "      <td>3</td>\n",
       "      <td>0.200000</td>\n",
       "    </tr>\n",
       "    <tr>\n",
       "      <th>16</th>\n",
       "      <td>2</td>\n",
       "      <td>0</td>\n",
       "      <td>0</td>\n",
       "      <td>0.800000</td>\n",
       "    </tr>\n",
       "    <tr>\n",
       "      <th>17</th>\n",
       "      <td>2</td>\n",
       "      <td>0</td>\n",
       "      <td>1</td>\n",
       "      <td>0.561947</td>\n",
       "    </tr>\n",
       "    <tr>\n",
       "      <th>18</th>\n",
       "      <td>2</td>\n",
       "      <td>0</td>\n",
       "      <td>2</td>\n",
       "      <td>0.466102</td>\n",
       "    </tr>\n",
       "    <tr>\n",
       "      <th>19</th>\n",
       "      <td>2</td>\n",
       "      <td>0</td>\n",
       "      <td>3</td>\n",
       "      <td>0.537500</td>\n",
       "    </tr>\n",
       "    <tr>\n",
       "      <th>20</th>\n",
       "      <td>2</td>\n",
       "      <td>1</td>\n",
       "      <td>0</td>\n",
       "      <td>0.800000</td>\n",
       "    </tr>\n",
       "    <tr>\n",
       "      <th>21</th>\n",
       "      <td>2</td>\n",
       "      <td>1</td>\n",
       "      <td>1</td>\n",
       "      <td>0.561947</td>\n",
       "    </tr>\n",
       "    <tr>\n",
       "      <th>22</th>\n",
       "      <td>2</td>\n",
       "      <td>1</td>\n",
       "      <td>2</td>\n",
       "      <td>0.466102</td>\n",
       "    </tr>\n",
       "    <tr>\n",
       "      <th>23</th>\n",
       "      <td>2</td>\n",
       "      <td>1</td>\n",
       "      <td>3</td>\n",
       "      <td>0.537500</td>\n",
       "    </tr>\n",
       "  </tbody>\n",
       "</table>\n",
       "</div>"
      ],
      "text/plain": [
       "    Pclass  Sex  Parch         p\n",
       "0        0    0      0  0.066667\n",
       "1        0    0      1  0.240413\n",
       "2        0    0      2  0.262712\n",
       "3        0    0      3  0.262500\n",
       "4        0    1      0  0.066667\n",
       "5        0    1      1  0.240413\n",
       "6        0    1      2  0.262712\n",
       "7        0    1      3  0.262500\n",
       "8        1    0      0  0.133333\n",
       "9        1    0      1  0.197640\n",
       "10       1    0      2  0.271186\n",
       "11       1    0      3  0.200000\n",
       "12       1    1      0  0.133333\n",
       "13       1    1      1  0.197640\n",
       "14       1    1      2  0.271186\n",
       "15       1    1      3  0.200000\n",
       "16       2    0      0  0.800000\n",
       "17       2    0      1  0.561947\n",
       "18       2    0      2  0.466102\n",
       "19       2    0      3  0.537500\n",
       "20       2    1      0  0.800000\n",
       "21       2    1      1  0.561947\n",
       "22       2    1      2  0.466102\n",
       "23       2    1      3  0.537500"
      ]
     },
     "execution_count": 102,
     "metadata": {},
     "output_type": "execute_result"
    }
   ],
   "source": [
    "CPDs['Pclass']"
   ]
  },
  {
   "cell_type": "code",
   "execution_count": 103,
   "metadata": {},
   "outputs": [
    {
     "data": {
      "text/plain": [
       "3    0.551066\n",
       "1    0.242424\n",
       "2    0.206510\n",
       "Name: Pclass, dtype: float64"
      ]
     },
     "execution_count": 103,
     "metadata": {},
     "output_type": "execute_result"
    }
   ],
   "source": [
    "(flai_dataset.data.Pclass.value_counts() / len(flai_dataset.data))\n",
    "#        model.fit(df, estimator=BayesianEstimator, prior_type=scoretype, equivalent_sample_size=1000, pseudo_counts=smooth, n_jobs=config['n_jobs'])\n"
   ]
  },
  {
   "cell_type": "code",
   "execution_count": null,
   "metadata": {},
   "outputs": [],
   "source": []
  },
  {
   "cell_type": "code",
   "execution_count": 104,
   "metadata": {},
   "outputs": [
    {
     "data": {
      "text/plain": [
       "dict_keys(['adjmat', 'model', 'methodtype', 'model_edges'])"
      ]
     },
     "execution_count": 104,
     "metadata": {},
     "output_type": "execute_result"
    }
   ],
   "source": [
    "flai_graph.graph.keys()"
   ]
  },
  {
   "cell_type": "code",
   "execution_count": 105,
   "metadata": {},
   "outputs": [
    {
     "data": {
      "text/plain": [
       "pgmpy.models.BayesianNetwork.BayesianNetwork"
      ]
     },
     "execution_count": 105,
     "metadata": {},
     "output_type": "execute_result"
    }
   ],
   "source": [
    "type(flai_graph.graph['model'])"
   ]
  },
  {
   "cell_type": "code",
   "execution_count": 106,
   "metadata": {},
   "outputs": [
    {
     "name": "stdout",
     "output_type": "stream",
     "text": [
      "['Pclass']\n",
      "[1. 0. 0.]\n"
     ]
    }
   ],
   "source": [
    "from pgmpy.inference import CausalInference\n",
    "infer = CausalInference(flai_graph.graph['model'],flai_graph.flai_dataset.data.columns)\n",
    "q = infer.query(variables=['Pclass'],evidence={'Embarked' : 0})\n",
    "print(q.scope())\n",
    "print(q.values)"
   ]
  },
  {
   "cell_type": "code",
   "execution_count": 107,
   "metadata": {},
   "outputs": [
    {
     "name": "stdout",
     "output_type": "stream",
     "text": [
      "['Pclass']\n",
      "[1. 0. 0.]\n"
     ]
    }
   ],
   "source": [
    "from pgmpy.inference import VariableElimination\n",
    "infer = VariableElimination(flai_graph.graph['model'])\n",
    "q = infer.query(variables=['Pclass'], evidence={\n",
    "                                'Embarked':0})\n",
    "print(q.scope())\n",
    "print(q.values)"
   ]
  },
  {
   "cell_type": "code",
   "execution_count": 108,
   "metadata": {},
   "outputs": [],
   "source": [
    "flai_dataset_fair = flai_graph.generate_dataset(n_samples = 891, methodtype = 'bayes')"
   ]
  },
  {
   "cell_type": "code",
   "execution_count": 109,
   "metadata": {},
   "outputs": [
    {
     "data": {
      "text/plain": [
       "array([2, 0, 1])"
      ]
     },
     "execution_count": 109,
     "metadata": {},
     "output_type": "execute_result"
    }
   ],
   "source": [
    "flai_dataset_fair.data.Pclass.unique()"
   ]
  },
  {
   "cell_type": "code",
   "execution_count": 110,
   "metadata": {},
   "outputs": [
    {
     "name": "stdout",
     "output_type": "stream",
     "text": [
      "[bnlearn]> Remaining columns for inference: 5\n"
     ]
    },
    {
     "name": "stderr",
     "output_type": "stream",
     "text": [
      "  0%|          | 0/110 [00:00<?, ?it/s]\n"
     ]
    },
    {
     "ename": "KeyError",
     "evalue": "3",
     "output_type": "error",
     "traceback": [
      "\u001b[0;31m---------------------------------------------------------------------------\u001b[0m",
      "\u001b[0;31mKeyError\u001b[0m                                  Traceback (most recent call last)",
      "Cell \u001b[0;32mIn [110], line 2\u001b[0m\n\u001b[1;32m      1\u001b[0m \u001b[39mimport\u001b[39;00m \u001b[39mbnlearn\u001b[39;00m \u001b[39mas\u001b[39;00m \u001b[39mbn\u001b[39;00m\n\u001b[0;32m----> 2\u001b[0m out \u001b[39m=\u001b[39m bn\u001b[39m.\u001b[39;49mpredict(flai_graph\u001b[39m.\u001b[39;49mgraph, flai_dataset\u001b[39m.\u001b[39;49mdata[[\u001b[39m'\u001b[39;49m\u001b[39mParch\u001b[39;49m\u001b[39m'\u001b[39;49m, \u001b[39m'\u001b[39;49m\u001b[39mSex\u001b[39;49m\u001b[39m'\u001b[39;49m, \u001b[39m'\u001b[39;49m\u001b[39mPclass\u001b[39;49m\u001b[39m'\u001b[39;49m, \u001b[39m'\u001b[39;49m\u001b[39mEmbarked\u001b[39;49m\u001b[39m'\u001b[39;49m, \u001b[39m'\u001b[39;49m\u001b[39mSibSp\u001b[39;49m\u001b[39m'\u001b[39;49m]]\n\u001b[1;32m      3\u001b[0m , variables \u001b[39m=\u001b[39;49m [\u001b[39m'\u001b[39;49m\u001b[39mSurvived\u001b[39;49m\u001b[39m'\u001b[39;49m])\n\u001b[1;32m      4\u001b[0m flai_dataset\u001b[39m.\u001b[39mdata[\u001b[39m'\u001b[39m\u001b[39mPredicted\u001b[39m\u001b[39m'\u001b[39m] \u001b[39m=\u001b[39m out\u001b[39m.\u001b[39mSurvived\n",
      "File \u001b[0;32m~/anaconda3/envs/py38/lib/python3.8/site-packages/bnlearn/bnlearn.py:1517\u001b[0m, in \u001b[0;36mpredict\u001b[0;34m(model, df, variables, to_df, method, verbose)\u001b[0m\n\u001b[1;32m   1512\u001b[0m \u001b[39m# for i in tqdm(range(dfU.shape[0])):\u001b[39;00m\n\u001b[1;32m   1513\u001b[0m \u001b[39mfor\u001b[39;00m evidence \u001b[39min\u001b[39;00m tqdm(evidences):\n\u001b[1;32m   1514\u001b[0m     \u001b[39m# Get input data and create a dict.\u001b[39;00m\n\u001b[1;32m   1515\u001b[0m     \u001b[39m# evidence = dfU.iloc[i, :].to_dict()\u001b[39;00m\n\u001b[1;32m   1516\u001b[0m     \u001b[39m# Do the inference.\u001b[39;00m\n\u001b[0;32m-> 1517\u001b[0m     query \u001b[39m=\u001b[39m bnlearn\u001b[39m.\u001b[39;49minference\u001b[39m.\u001b[39;49mfit(model, variables\u001b[39m=\u001b[39;49mvariables, evidence\u001b[39m=\u001b[39;49mevidence, to_df\u001b[39m=\u001b[39;49m\u001b[39mFalse\u001b[39;49;00m, verbose\u001b[39m=\u001b[39;49m\u001b[39m0\u001b[39;49m)\n\u001b[1;32m   1518\u001b[0m     \u001b[39m# Find original location of the input data.\u001b[39;00m\n\u001b[1;32m   1519\u001b[0m     \u001b[39m# loc = np.sum((dfX==dfU.iloc[i, :]).values, axis=1)==dfU_shape\u001b[39;00m\n\u001b[1;32m   1520\u001b[0m     loc \u001b[39m=\u001b[39m np\u001b[39m.\u001b[39msum(dfX\u001b[39m.\u001b[39mvalues\u001b[39m==\u001b[39m[\u001b[39m*\u001b[39mevidence\u001b[39m.\u001b[39mvalues()], axis\u001b[39m=\u001b[39m\u001b[39m1\u001b[39m)\u001b[39m==\u001b[39mdfU_shape\n",
      "File \u001b[0;32m~/anaconda3/envs/py38/lib/python3.8/site-packages/bnlearn/inference.py:93\u001b[0m, in \u001b[0;36mfit\u001b[0;34m(model, variables, evidence, to_df, verbose)\u001b[0m\n\u001b[1;32m     90\u001b[0m     \u001b[39mraise\u001b[39;00m \u001b[39mException\u001b[39;00m(\u001b[39m'\u001b[39m\u001b[39m[bnlearn] >Error: Input model does not contain learned CPDs. hint: did you run parameter_learning.fit?\u001b[39m\u001b[39m'\u001b[39m)\n\u001b[1;32m     92\u001b[0m \u001b[39m# Computing the probability P(class | evidence)\u001b[39;00m\n\u001b[0;32m---> 93\u001b[0m query \u001b[39m=\u001b[39m model_infer\u001b[39m.\u001b[39;49mquery(variables\u001b[39m=\u001b[39;49mvariables, evidence\u001b[39m=\u001b[39;49mevidence, show_progress\u001b[39m=\u001b[39;49m(verbose\u001b[39m>\u001b[39;49m\u001b[39m0\u001b[39;49m))\n\u001b[1;32m     94\u001b[0m \u001b[39m# Store also in dataframe\u001b[39;00m\n\u001b[1;32m     95\u001b[0m query\u001b[39m.\u001b[39mdf \u001b[39m=\u001b[39m bnlearn\u001b[39m.\u001b[39mquery2df(query, variables\u001b[39m=\u001b[39mvariables, verbose\u001b[39m=\u001b[39mverbose) \u001b[39mif\u001b[39;00m to_df \u001b[39melse\u001b[39;00m \u001b[39mNone\u001b[39;00m\n",
      "File \u001b[0;32m~/anaconda3/envs/py38/lib/python3.8/site-packages/pgmpy/inference/ExactInference.py:337\u001b[0m, in \u001b[0;36mVariableElimination.query\u001b[0;34m(self, variables, evidence, virtual_evidence, elimination_order, joint, show_progress)\u001b[0m\n\u001b[1;32m    335\u001b[0m indexer \u001b[39m=\u001b[39m [\u001b[39mslice\u001b[39m(\u001b[39mNone\u001b[39;00m)] \u001b[39m*\u001b[39m \u001b[39mlen\u001b[39m(phi\u001b[39m.\u001b[39mvariables)\n\u001b[1;32m    336\u001b[0m \u001b[39mfor\u001b[39;00m index \u001b[39min\u001b[39;00m indexes_to_reduce:\n\u001b[0;32m--> 337\u001b[0m     indexer[index] \u001b[39m=\u001b[39m phi\u001b[39m.\u001b[39;49mget_state_no(\n\u001b[1;32m    338\u001b[0m         phi\u001b[39m.\u001b[39;49mvariables[index], evidence[phi\u001b[39m.\u001b[39;49mvariables[index]]\n\u001b[1;32m    339\u001b[0m     )\n\u001b[1;32m    340\u001b[0m reduce_indexes\u001b[39m.\u001b[39mappend(\u001b[39mtuple\u001b[39m(indexer))\n\u001b[1;32m    341\u001b[0m reshape_indexes\u001b[39m.\u001b[39mappend(\n\u001b[1;32m    342\u001b[0m     [\n\u001b[1;32m    343\u001b[0m         \u001b[39m1\u001b[39m \u001b[39mif\u001b[39;00m indexer \u001b[39m!=\u001b[39m \u001b[39mslice\u001b[39m(\u001b[39mNone\u001b[39;00m) \u001b[39melse\u001b[39;00m phi\u001b[39m.\u001b[39mcardinality[i]\n\u001b[1;32m    344\u001b[0m         \u001b[39mfor\u001b[39;00m i, indexer \u001b[39min\u001b[39;00m \u001b[39menumerate\u001b[39m(reduce_indexes[\u001b[39m-\u001b[39m\u001b[39m1\u001b[39m])\n\u001b[1;32m    345\u001b[0m     ]\n\u001b[1;32m    346\u001b[0m )\n",
      "File \u001b[0;32m~/anaconda3/envs/py38/lib/python3.8/site-packages/pgmpy/utils/state_name.py:72\u001b[0m, in \u001b[0;36mStateNameMixin.get_state_no\u001b[0;34m(self, var, state_name)\u001b[0m\n\u001b[1;32m     68\u001b[0m \u001b[39m\"\"\"\u001b[39;00m\n\u001b[1;32m     69\u001b[0m \u001b[39mGiven `var` and `state_name` return the state number.\u001b[39;00m\n\u001b[1;32m     70\u001b[0m \u001b[39m\"\"\"\u001b[39;00m\n\u001b[1;32m     71\u001b[0m \u001b[39mif\u001b[39;00m \u001b[39mself\u001b[39m\u001b[39m.\u001b[39mstate_names:\n\u001b[0;32m---> 72\u001b[0m     \u001b[39mreturn\u001b[39;00m \u001b[39mself\u001b[39;49m\u001b[39m.\u001b[39;49mname_to_no[var][state_name]\n\u001b[1;32m     73\u001b[0m \u001b[39melse\u001b[39;00m:\n\u001b[1;32m     74\u001b[0m     \u001b[39mreturn\u001b[39;00m state_name\n",
      "\u001b[0;31mKeyError\u001b[0m: 3"
     ]
    }
   ],
   "source": [
    "import bnlearn as bn\n",
    "out = bn.predict(flai_graph.graph, flai_dataset.data[['Parch', 'Sex', 'Pclass', 'Embarked', 'SibSp']]\n",
    ", variables = ['Survived'])\n",
    "flai_dataset.data['Predicted'] = out.Survived"
   ]
  },
  {
   "cell_type": "code",
   "execution_count": null,
   "metadata": {},
   "outputs": [
    {
     "data": {
      "text/html": [
       "<div>\n",
       "<style scoped>\n",
       "    .dataframe tbody tr th:only-of-type {\n",
       "        vertical-align: middle;\n",
       "    }\n",
       "\n",
       "    .dataframe tbody tr th {\n",
       "        vertical-align: top;\n",
       "    }\n",
       "\n",
       "    .dataframe thead th {\n",
       "        text-align: right;\n",
       "    }\n",
       "</style>\n",
       "<table border=\"1\" class=\"dataframe\">\n",
       "  <thead>\n",
       "    <tr style=\"text-align: right;\">\n",
       "      <th></th>\n",
       "      <th>Survived</th>\n",
       "      <th>Pclass</th>\n",
       "      <th>Name</th>\n",
       "      <th>Sex</th>\n",
       "      <th>SibSp</th>\n",
       "      <th>Parch</th>\n",
       "      <th>Ticket</th>\n",
       "      <th>Cabin</th>\n",
       "      <th>Embarked</th>\n",
       "      <th>Predicted</th>\n",
       "    </tr>\n",
       "  </thead>\n",
       "  <tbody>\n",
       "    <tr>\n",
       "      <th>0</th>\n",
       "      <td>0</td>\n",
       "      <td>3</td>\n",
       "      <td>108</td>\n",
       "      <td>1</td>\n",
       "      <td>2</td>\n",
       "      <td>1</td>\n",
       "      <td>523</td>\n",
       "      <td>146</td>\n",
       "      <td>3</td>\n",
       "      <td>0</td>\n",
       "    </tr>\n",
       "    <tr>\n",
       "      <th>1</th>\n",
       "      <td>1</td>\n",
       "      <td>1</td>\n",
       "      <td>190</td>\n",
       "      <td>0</td>\n",
       "      <td>2</td>\n",
       "      <td>1</td>\n",
       "      <td>596</td>\n",
       "      <td>81</td>\n",
       "      <td>1</td>\n",
       "      <td>1</td>\n",
       "    </tr>\n",
       "    <tr>\n",
       "      <th>2</th>\n",
       "      <td>1</td>\n",
       "      <td>3</td>\n",
       "      <td>353</td>\n",
       "      <td>0</td>\n",
       "      <td>1</td>\n",
       "      <td>1</td>\n",
       "      <td>669</td>\n",
       "      <td>146</td>\n",
       "      <td>3</td>\n",
       "      <td>0</td>\n",
       "    </tr>\n",
       "    <tr>\n",
       "      <th>3</th>\n",
       "      <td>1</td>\n",
       "      <td>1</td>\n",
       "      <td>272</td>\n",
       "      <td>0</td>\n",
       "      <td>2</td>\n",
       "      <td>1</td>\n",
       "      <td>49</td>\n",
       "      <td>55</td>\n",
       "      <td>3</td>\n",
       "      <td>1</td>\n",
       "    </tr>\n",
       "    <tr>\n",
       "      <th>4</th>\n",
       "      <td>0</td>\n",
       "      <td>3</td>\n",
       "      <td>15</td>\n",
       "      <td>1</td>\n",
       "      <td>1</td>\n",
       "      <td>1</td>\n",
       "      <td>472</td>\n",
       "      <td>146</td>\n",
       "      <td>3</td>\n",
       "      <td>0</td>\n",
       "    </tr>\n",
       "    <tr>\n",
       "      <th>...</th>\n",
       "      <td>...</td>\n",
       "      <td>...</td>\n",
       "      <td>...</td>\n",
       "      <td>...</td>\n",
       "      <td>...</td>\n",
       "      <td>...</td>\n",
       "      <td>...</td>\n",
       "      <td>...</td>\n",
       "      <td>...</td>\n",
       "      <td>...</td>\n",
       "    </tr>\n",
       "    <tr>\n",
       "      <th>886</th>\n",
       "      <td>0</td>\n",
       "      <td>2</td>\n",
       "      <td>548</td>\n",
       "      <td>1</td>\n",
       "      <td>1</td>\n",
       "      <td>1</td>\n",
       "      <td>101</td>\n",
       "      <td>146</td>\n",
       "      <td>3</td>\n",
       "      <td>0</td>\n",
       "    </tr>\n",
       "    <tr>\n",
       "      <th>887</th>\n",
       "      <td>1</td>\n",
       "      <td>1</td>\n",
       "      <td>303</td>\n",
       "      <td>0</td>\n",
       "      <td>1</td>\n",
       "      <td>1</td>\n",
       "      <td>14</td>\n",
       "      <td>30</td>\n",
       "      <td>3</td>\n",
       "      <td>1</td>\n",
       "    </tr>\n",
       "    <tr>\n",
       "      <th>888</th>\n",
       "      <td>0</td>\n",
       "      <td>3</td>\n",
       "      <td>413</td>\n",
       "      <td>0</td>\n",
       "      <td>2</td>\n",
       "      <td>3</td>\n",
       "      <td>675</td>\n",
       "      <td>146</td>\n",
       "      <td>3</td>\n",
       "      <td>0</td>\n",
       "    </tr>\n",
       "    <tr>\n",
       "      <th>889</th>\n",
       "      <td>1</td>\n",
       "      <td>1</td>\n",
       "      <td>81</td>\n",
       "      <td>1</td>\n",
       "      <td>1</td>\n",
       "      <td>1</td>\n",
       "      <td>8</td>\n",
       "      <td>60</td>\n",
       "      <td>1</td>\n",
       "      <td>0</td>\n",
       "    </tr>\n",
       "    <tr>\n",
       "      <th>890</th>\n",
       "      <td>0</td>\n",
       "      <td>3</td>\n",
       "      <td>220</td>\n",
       "      <td>1</td>\n",
       "      <td>1</td>\n",
       "      <td>1</td>\n",
       "      <td>466</td>\n",
       "      <td>146</td>\n",
       "      <td>2</td>\n",
       "      <td>0</td>\n",
       "    </tr>\n",
       "  </tbody>\n",
       "</table>\n",
       "<p>891 rows × 10 columns</p>\n",
       "</div>"
      ],
      "text/plain": [
       "     Survived  Pclass  Name  Sex  SibSp  Parch  Ticket  Cabin  Embarked  \\\n",
       "0           0       3   108    1      2      1     523    146         3   \n",
       "1           1       1   190    0      2      1     596     81         1   \n",
       "2           1       3   353    0      1      1     669    146         3   \n",
       "3           1       1   272    0      2      1      49     55         3   \n",
       "4           0       3    15    1      1      1     472    146         3   \n",
       "..        ...     ...   ...  ...    ...    ...     ...    ...       ...   \n",
       "886         0       2   548    1      1      1     101    146         3   \n",
       "887         1       1   303    0      1      1      14     30         3   \n",
       "888         0       3   413    0      2      3     675    146         3   \n",
       "889         1       1    81    1      1      1       8     60         1   \n",
       "890         0       3   220    1      1      1     466    146         2   \n",
       "\n",
       "     Predicted  \n",
       "0            0  \n",
       "1            1  \n",
       "2            0  \n",
       "3            1  \n",
       "4            0  \n",
       "..         ...  \n",
       "886          0  \n",
       "887          1  \n",
       "888          0  \n",
       "889          0  \n",
       "890          0  \n",
       "\n",
       "[891 rows x 10 columns]"
      ]
     },
     "execution_count": 21,
     "metadata": {},
     "output_type": "execute_result"
    }
   ],
   "source": [
    "flai_dataset.data"
   ]
  },
  {
   "cell_type": "code",
   "execution_count": null,
   "metadata": {},
   "outputs": [
    {
     "name": "stdout",
     "output_type": "stream",
     "text": [
      "Calculating metrics for : Sex  the value :  0\n",
      "Calculating metrics for : Sex  the value :  1\n"
     ]
    },
    {
     "data": {
      "text/plain": [
       "{'model': {'ACC': 0.7867564534231201,\n",
       "  'TPR': 0.47076023391812866,\n",
       "  'FPR': 0.01639344262295082,\n",
       "  'FNR': 0.5292397660818714,\n",
       "  'PPP': 0.19079685746352412},\n",
       " 'Sex': {'privileged': {'ACC': 0.7420382165605095,\n",
       "   'TPR': 0.6909871244635193,\n",
       "   'FPR': 0.1111111111111111,\n",
       "   'FNR': 0.3090128755364807,\n",
       "   'PPP': 0.5414012738853503},\n",
       "  'unprivileged': {'ACC': 0.8110918544194108,\n",
       "   'TPR': 0.0,\n",
       "   'FPR': 0.0,\n",
       "   'FNR': 1.0,\n",
       "   'PPP': 0.0},\n",
       "  'fair_metrics': {'Equal_Opportunity_Difference': -0.6909871244635193}}}"
      ]
     },
     "execution_count": 22,
     "metadata": {},
     "output_type": "execute_result"
    }
   ],
   "source": [
    "#### male = 1 female = 0\n",
    "flai_dataset.fairness_metrics(target_column='Survived', predicted_column = 'Predicted',\n",
    "                            columns_fair = {'Sex' : {'privileged' : 0, 'unprivileged' : 1}})"
   ]
  },
  {
   "cell_type": "markdown",
   "metadata": {},
   "source": []
  },
  {
   "cell_type": "code",
   "execution_count": null,
   "metadata": {},
   "outputs": [
    {
     "data": {
      "text/plain": [
       "[('Pclass', 'Survived'),\n",
       " ('Pclass', 'Embarked'),\n",
       " ('Sex', 'Survived'),\n",
       " ('Sex', 'Pclass'),\n",
       " ('SibSp', 'Parch'),\n",
       " ('Parch', 'Sex')]"
      ]
     },
     "execution_count": 23,
     "metadata": {},
     "output_type": "execute_result"
    }
   ],
   "source": [
    "flai_graph.graph['model_edges']"
   ]
  },
  {
   "cell_type": "code",
   "execution_count": 124,
   "metadata": {},
   "outputs": [
    {
     "data": {
      "image/png": "[encoded data removed]",
      "text/plain": [
       "<Figure size 500x500 with 1 Axes>"
      ]
     },
     "metadata": {},
     "output_type": "display_data"
    }
   ],
   "source": [
    "import networkx as nx\n",
    "import matplotlib.pyplot as plt\n",
    "directed = True\n",
    "if directed:\n",
    "    G = nx.DiGraph()\n",
    "else:\n",
    "    G = nx.Graph()\n",
    "G.add_edges_from(flai_graph.graph['model_edges'])\n",
    "plt.figure(figsize=(5,5)) \n",
    "nx.draw_circular(\n",
    "    G, with_labels=True, arrowsize=30, node_size=800, \n",
    "    alpha=0.3, font_weight=\"bold\"\n",
    ")"
   ]
  },
  {
   "cell_type": "code",
   "execution_count": null,
   "metadata": {},
   "outputs": [],
   "source": []
  },
  {
   "cell_type": "code",
   "execution_count": null,
   "metadata": {},
   "outputs": [
    {
     "data": {
      "text/plain": [
       "<netgraph._main.Graph at 0x7f14b4923340>"
      ]
     },
     "execution_count": 79,
     "metadata": {},
     "output_type": "execute_result"
    },
    {
     "data": {
      "image/png": "[encoded data removed]",
      "text/plain": [
       "<Figure size 500x500 with 1 Axes>"
      ]
     },
     "metadata": {},
     "output_type": "display_data"
    }
   ],
   "source": [
    "import matplotlib.pyplot as plt\n",
    "import networkx as nx\n",
    "\n",
    "from netgraph import Graph,InteractiveGraph\n",
    "\n",
    "plt.figure(figsize=(5,5)) \n",
    "Graph(G, node_layout='dot', node_shape= 'o',\n",
    "node_labels=True ,node_size=10, arrows = True\n",
    "    )"
   ]
  },
  {
   "cell_type": "code",
   "execution_count": null,
   "metadata": {},
   "outputs": [
    {
     "data": {
      "text/plain": [
       "[('Survived', 'Parch'),\n",
       " ('Sex', 'Parch'),\n",
       " ('Pclass', 'Survived'),\n",
       " ('Pclass', 'Parch'),\n",
       " ('Pclass', 'Embarked'),\n",
       " ('Parch', 'SibSp')]"
      ]
     },
     "execution_count": 24,
     "metadata": {},
     "output_type": "execute_result"
    }
   ],
   "source": [
    "def change_edge_relation(sensible_feature = []):\n",
    "    if len(sensible_feature) == 0:\n",
    "        raise Exception(\"Sensible features should be provided\")\n",
    "impacted = [e for e in flai_graph.graph['model_edges'] if e[0] == 'Sex' ]\n",
    "fair_edges = []\n",
    "for e in flai_graph.graph['model_edges']:\n",
    "    if e[1] == 'Sex':\n",
    "        for e_impacted in impacted:\n",
    "            fair_edges = fair_edges + [(e[0],e_impacted[1])]\n",
    "    else:\n",
    "        fair_edges = fair_edges + [e]\n",
    "fair_edges"
   ]
  },
  {
   "cell_type": "code",
   "execution_count": null,
   "metadata": {},
   "outputs": [
    {
     "data": {
      "text/plain": [
       "<netgraph._main.Graph at 0x7f2aa4cdb700>"
      ]
     },
     "execution_count": 25,
     "metadata": {},
     "output_type": "execute_result"
    },
    {
     "data": {
      "image/png": "[encoded data removed]",
      "text/plain": [
       "<Figure size 500x500 with 1 Axes>"
      ]
     },
     "metadata": {},
     "output_type": "display_data"
    }
   ],
   "source": [
    "import matplotlib.pyplot as plt\n",
    "import networkx as nx\n",
    "\n",
    "from netgraph import Graph,InteractiveGraph\n",
    "edges = [('Pclass', 'Survived'),\n",
    " ('Pclass', 'Embarked'),\n",
    " ('Sex', 'Survived'),\n",
    " ('Sex', 'Pclass'),\n",
    " ('SibSp', 'Parch'),\n",
    " ('Parch', 'Survived')]\n",
    "plt.figure(figsize=(5,5)) \n",
    "Graph(edges, node_layout='dot', node_shape= 'o',\n",
    "node_labels=True ,node_size=10, arrows = True\n",
    "    )"
   ]
  },
  {
   "cell_type": "code",
   "execution_count": null,
   "metadata": {},
   "outputs": [
    {
     "data": {
      "text/plain": [
       "<netgraph._main.Graph at 0x7f14b526fd90>"
      ]
     },
     "execution_count": 42,
     "metadata": {},
     "output_type": "execute_result"
    },
    {
     "data": {
      "image/png": "[encoded data removed]",
      "text/plain": [
       "<Figure size 500x500 with 1 Axes>"
      ]
     },
     "metadata": {},
     "output_type": "display_data"
    }
   ],
   "source": [
    "import matplotlib.pyplot as plt\n",
    "import networkx as nx\n",
    "\n",
    "from netgraph import Graph,InteractiveGraph\n",
    "edges = flai_graph.mitigate_edge_relation(sensible_feature = ['Sex'])\n",
    "plt.figure(figsize=(5,5)) \n",
    "Graph(edges, node_layout='dot', node_shape= 'o',\n",
    "node_labels=True ,node_size=10, arrows = True\n",
    "    )\n"
   ]
  },
  {
   "cell_type": "code",
   "execution_count": null,
   "metadata": {},
   "outputs": [],
   "source": [
    "### reentrenar usando estos nuevos edge, donde la variable sensible se ha eliminado de las relaciones\n",
    "### asumiendo que pclass no es un proxy i van por transitividad, unida directamente con el objetivo.\n"
   ]
  },
  {
   "cell_type": "code",
   "execution_count": null,
   "metadata": {},
   "outputs": [
    {
     "name": "stdout",
     "output_type": "stream",
     "text": [
      "------------\n",
      "SibSp\n",
      "---------\n"
     ]
    }
   ],
   "source": [
    "base_edge = [('Pclass', 'Embarked'),\n",
    " ('Pclass', 'Survived'),\n",
    " ('Sex', 'Survived'),\n",
    " ('Sex', 'Pclass'),\n",
    " ('SibSp', 'Parch'),\n",
    " ('Parch', 'Sex')]\n",
    "list_edge_o = [e[0] for e in base_edge]\n",
    "list_edge_f =  [e[1] for e in base_edge]\n",
    "result_cpd = {}\n",
    "for o in list_edge_o:\n",
    "    if o not in list_edge_f:\n",
    "        print('------------')\n",
    "        print(o)\n",
    "        result_cpd.update({o : {i : v for i,v in zip(flai_dataset.data[o].value_counts().index.values,\n",
    "                                (flai_dataset.data[o].value_counts() / len(flai_dataset.data)).values)}})\n",
    "        print('---------')"
   ]
  },
  {
   "cell_type": "code",
   "execution_count": null,
   "metadata": {},
   "outputs": [
    {
     "data": {
      "text/plain": [
       "{'SibSp': {1: 0.6823793490460157,\n",
       "  2: 0.2345679012345679,\n",
       "  3: 0.031425364758698095,\n",
       "  5: 0.020202020202020204,\n",
       "  4: 0.017957351290684626,\n",
       "  0: 0.013468013468013467}}"
      ]
     },
     "execution_count": 29,
     "metadata": {},
     "output_type": "execute_result"
    }
   ],
   "source": [
    "result_cpd"
   ]
  },
  {
   "cell_type": "code",
   "execution_count": null,
   "metadata": {},
   "outputs": [
    {
     "data": {
      "text/html": [
       "<div>\n",
       "<style scoped>\n",
       "    .dataframe tbody tr th:only-of-type {\n",
       "        vertical-align: middle;\n",
       "    }\n",
       "\n",
       "    .dataframe tbody tr th {\n",
       "        vertical-align: top;\n",
       "    }\n",
       "\n",
       "    .dataframe thead th {\n",
       "        text-align: right;\n",
       "    }\n",
       "</style>\n",
       "<table border=\"1\" class=\"dataframe\">\n",
       "  <thead>\n",
       "    <tr style=\"text-align: right;\">\n",
       "      <th></th>\n",
       "      <th>Parch</th>\n",
       "      <th>Sex</th>\n",
       "      <th>p</th>\n",
       "    </tr>\n",
       "  </thead>\n",
       "  <tbody>\n",
       "    <tr>\n",
       "      <th>0</th>\n",
       "      <td>0</td>\n",
       "      <td>0</td>\n",
       "      <td>0.035032</td>\n",
       "    </tr>\n",
       "    <tr>\n",
       "      <th>1</th>\n",
       "      <td>0</td>\n",
       "      <td>1</td>\n",
       "      <td>0.006932</td>\n",
       "    </tr>\n",
       "    <tr>\n",
       "      <th>2</th>\n",
       "      <td>1</td>\n",
       "      <td>0</td>\n",
       "      <td>0.617834</td>\n",
       "    </tr>\n",
       "    <tr>\n",
       "      <th>3</th>\n",
       "      <td>1</td>\n",
       "      <td>1</td>\n",
       "      <td>0.838821</td>\n",
       "    </tr>\n",
       "    <tr>\n",
       "      <th>4</th>\n",
       "      <td>2</td>\n",
       "      <td>0</td>\n",
       "      <td>0.191083</td>\n",
       "    </tr>\n",
       "    <tr>\n",
       "      <th>5</th>\n",
       "      <td>2</td>\n",
       "      <td>1</td>\n",
       "      <td>0.100520</td>\n",
       "    </tr>\n",
       "    <tr>\n",
       "      <th>6</th>\n",
       "      <td>3</td>\n",
       "      <td>0</td>\n",
       "      <td>0.156051</td>\n",
       "    </tr>\n",
       "    <tr>\n",
       "      <th>7</th>\n",
       "      <td>3</td>\n",
       "      <td>1</td>\n",
       "      <td>0.053726</td>\n",
       "    </tr>\n",
       "  </tbody>\n",
       "</table>\n",
       "</div>"
      ],
      "text/plain": [
       "   Parch  Sex         p\n",
       "0      0    0  0.035032\n",
       "1      0    1  0.006932\n",
       "2      1    0  0.617834\n",
       "3      1    1  0.838821\n",
       "4      2    0  0.191083\n",
       "5      2    1  0.100520\n",
       "6      3    0  0.156051\n",
       "7      3    1  0.053726"
      ]
     },
     "execution_count": 30,
     "metadata": {},
     "output_type": "execute_result"
    }
   ],
   "source": [
    "CPDs['Parch']"
   ]
  },
  {
   "cell_type": "code",
   "execution_count": null,
   "metadata": {},
   "outputs": [],
   "source": [
    "list_edge_o.remove('SibSp')"
   ]
  },
  {
   "cell_type": "code",
   "execution_count": null,
   "metadata": {},
   "outputs": [
    {
     "data": {
      "text/plain": [
       "['Pclass', 'Pclass', 'Sex', 'Sex', 'Parch']"
      ]
     },
     "execution_count": 32,
     "metadata": {},
     "output_type": "execute_result"
    }
   ],
   "source": [
    "list_edge_o"
   ]
  },
  {
   "cell_type": "code",
   "execution_count": null,
   "metadata": {},
   "outputs": [
    {
     "data": {
      "text/plain": [
       "['Embarked', 'Survived', 'Survived', 'Pclass', 'Parch', 'Sex']"
      ]
     },
     "execution_count": 33,
     "metadata": {},
     "output_type": "execute_result"
    }
   ],
   "source": [
    "list_edge_f"
   ]
  },
  {
   "cell_type": "code",
   "execution_count": null,
   "metadata": {},
   "outputs": [
    {
     "data": {
      "text/plain": [
       "{1: 0.8832236842105263,\n",
       " 2: 0.0625,\n",
       " 3: 0.047697368421052634,\n",
       " 0: 0.006578947368421052}"
      ]
     },
     "execution_count": 34,
     "metadata": {},
     "output_type": "execute_result"
    }
   ],
   "source": [
    "{i : v for i,v in zip(flai_dataset.data[flai_dataset.data['SibSp'] == 1]['Parch'].value_counts().index.values,\n",
    "                            (flai_dataset.data[flai_dataset.data['SibSp'] == 1]['Parch'].value_counts() / len(flai_dataset.data[flai_dataset.data['SibSp'] == 1])).values)}"
   ]
  },
  {
   "cell_type": "code",
   "execution_count": null,
   "metadata": {},
   "outputs": [
    {
     "data": {
      "text/plain": [
       "{'SibSp': {1: 0.6823793490460157,\n",
       "  2: 0.2345679012345679,\n",
       "  3: 0.031425364758698095,\n",
       "  5: 0.020202020202020204,\n",
       "  4: 0.017957351290684626,\n",
       "  0: 0.013468013468013467}}"
      ]
     },
     "execution_count": 35,
     "metadata": {},
     "output_type": "execute_result"
    }
   ],
   "source": [
    "result_cpd"
   ]
  },
  {
   "cell_type": "code",
   "execution_count": null,
   "metadata": {},
   "outputs": [
    {
     "data": {
      "text/plain": [
       "array([2, 1, 3])"
      ]
     },
     "execution_count": 36,
     "metadata": {},
     "output_type": "execute_result"
    }
   ],
   "source": [
    "flai_dataset.data[flai_dataset.data['Parch'] == 0]['SibSp'].value_counts().index.values"
   ]
  },
  {
   "cell_type": "code",
   "execution_count": null,
   "metadata": {},
   "outputs": [
    {
     "data": {
      "text/plain": [
       "NodeView(('Survived', 'Sex', 'Pclass', 'Embarked', 'Parch', 'SibSp'))"
      ]
     },
     "execution_count": 37,
     "metadata": {},
     "output_type": "execute_result"
    }
   ],
   "source": [
    "flai_graph.graph['model'].nodes()"
   ]
  },
  {
   "cell_type": "code",
   "execution_count": null,
   "metadata": {},
   "outputs": [
    {
     "data": {
      "text/plain": [
       "[<TabularCPD representing P(Survived:2 | Pclass:3) at 0x7f2aa7e7fc40>,\n",
       " <TabularCPD representing P(Sex:2 | Pclass:3, Survived:2) at 0x7f2aa50cf130>,\n",
       " <TabularCPD representing P(Pclass:3) at 0x7f2aa5080fd0>,\n",
       " <TabularCPD representing P(Embarked:4 | Pclass:3) at 0x7f2aa71e3f10>,\n",
       " <TabularCPD representing P(Parch:4 | Sex:2) at 0x7f2aa50cf610>,\n",
       " <TabularCPD representing P(SibSp:6 | Parch:4) at 0x7f2aa7459d90>]"
      ]
     },
     "execution_count": 38,
     "metadata": {},
     "output_type": "execute_result"
    }
   ],
   "source": [
    "flai_graph.graph['model'].get_cpds()"
   ]
  },
  {
   "cell_type": "code",
   "execution_count": null,
   "metadata": {},
   "outputs": [],
   "source": [
    "from pgmpy.factors.discrete import TabularCPD\n"
   ]
  },
  {
   "cell_type": "code",
   "execution_count": null,
   "metadata": {},
   "outputs": [],
   "source": []
  },
  {
   "cell_type": "code",
   "execution_count": null,
   "metadata": {},
   "outputs": [],
   "source": [
    "\n"
   ]
  },
  {
   "cell_type": "code",
   "execution_count": null,
   "metadata": {},
   "outputs": [],
   "source": [
    "cpd1 = flai_graph.get_CPDs()"
   ]
  },
  {
   "cell_type": "code",
   "execution_count": null,
   "metadata": {},
   "outputs": [],
   "source": [
    "flai_graph.calculate_cpd()"
   ]
  },
  {
   "cell_type": "code",
   "execution_count": null,
   "metadata": {},
   "outputs": [],
   "source": [
    "cpd2 = flai_graph.get_CPDs()"
   ]
  },
  {
   "cell_type": "code",
   "execution_count": null,
   "metadata": {},
   "outputs": [
    {
     "data": {
      "text/html": [
       "<div>\n",
       "<style scoped>\n",
       "    .dataframe tbody tr th:only-of-type {\n",
       "        vertical-align: middle;\n",
       "    }\n",
       "\n",
       "    .dataframe tbody tr th {\n",
       "        vertical-align: top;\n",
       "    }\n",
       "\n",
       "    .dataframe thead th {\n",
       "        text-align: right;\n",
       "    }\n",
       "</style>\n",
       "<table border=\"1\" class=\"dataframe\">\n",
       "  <thead>\n",
       "    <tr style=\"text-align: right;\">\n",
       "      <th></th>\n",
       "      <th>Survived</th>\n",
       "      <th>Pclass</th>\n",
       "      <th>p</th>\n",
       "    </tr>\n",
       "  </thead>\n",
       "  <tbody>\n",
       "    <tr>\n",
       "      <th>0</th>\n",
       "      <td>0</td>\n",
       "      <td>0</td>\n",
       "      <td>0.370370</td>\n",
       "    </tr>\n",
       "    <tr>\n",
       "      <th>1</th>\n",
       "      <td>0</td>\n",
       "      <td>1</td>\n",
       "      <td>0.527174</td>\n",
       "    </tr>\n",
       "    <tr>\n",
       "      <th>2</th>\n",
       "      <td>0</td>\n",
       "      <td>2</td>\n",
       "      <td>0.757637</td>\n",
       "    </tr>\n",
       "    <tr>\n",
       "      <th>3</th>\n",
       "      <td>1</td>\n",
       "      <td>0</td>\n",
       "      <td>0.629630</td>\n",
       "    </tr>\n",
       "    <tr>\n",
       "      <th>4</th>\n",
       "      <td>1</td>\n",
       "      <td>1</td>\n",
       "      <td>0.472826</td>\n",
       "    </tr>\n",
       "    <tr>\n",
       "      <th>5</th>\n",
       "      <td>1</td>\n",
       "      <td>2</td>\n",
       "      <td>0.242363</td>\n",
       "    </tr>\n",
       "  </tbody>\n",
       "</table>\n",
       "</div>"
      ],
      "text/plain": [
       "   Survived  Pclass         p\n",
       "0         0       0  0.370370\n",
       "1         0       1  0.527174\n",
       "2         0       2  0.757637\n",
       "3         1       0  0.629630\n",
       "4         1       1  0.472826\n",
       "5         1       2  0.242363"
      ]
     },
     "execution_count": 43,
     "metadata": {},
     "output_type": "execute_result"
    }
   ],
   "source": [
    "cpd1['Survived']"
   ]
  },
  {
   "cell_type": "code",
   "execution_count": null,
   "metadata": {},
   "outputs": [
    {
     "name": "stdout",
     "output_type": "stream",
     "text": [
      "0.2554005\n",
      "0.2146065\n",
      "0.5299925\n"
     ]
    }
   ],
   "source": [
    "print((0.299363 + 0.211438) / 2)\n",
    "print((0.242038 + 0.187175) / 2)\n",
    "print((0.458599 + 0.601386) / 2)"
   ]
  },
  {
   "cell_type": "code",
   "execution_count": null,
   "metadata": {},
   "outputs": [
    {
     "data": {
      "text/plain": [
       "[('Pclass', 'Survived'),\n",
       " ('Pclass', 'Embarked'),\n",
       " ('Sex', 'Survived'),\n",
       " ('Sex', 'Pclass'),\n",
       " ('SibSp', 'Parch'),\n",
       " ('Parch', 'Sex')]"
      ]
     },
     "execution_count": 62,
     "metadata": {},
     "output_type": "execute_result"
    }
   ],
   "source": [
    "flai_graph.graph['model_edges']"
   ]
  },
  {
   "cell_type": "code",
   "execution_count": null,
   "metadata": {},
   "outputs": [],
   "source": [
    "import numpy as np\n",
    "import itertools\n",
    "sensible = 'Sex'\n",
    "list_cpd = []\n",
    "for node in list(flai_graph.graph['model'].nodes()):\n",
    "    node_value = list(np.sort(flai_graph.flai_dataset.data[node].unique()))\n",
    "    evidence = [edge[0] for edge in flai_graph.graph['model_edges'] if edge[1] == node]\n",
    "    evidence_value = [list(np.sort(flai_graph.flai_dataset.data[e].unique())) for e in evidence]\n",
    "        \n",
    "    evidence_combination = evidence_value\n",
    "    evidence_combination = list(itertools.product(*evidence_combination))\n",
    "    list_probas = []\n",
    "    for ec in evidence_combination:\n",
    "        filters = [[filter[0],filter[1]]  for filter in zip(evidence,ec)]\n",
    "        data_aux =  flai_graph.flai_dataset.data\n",
    "        for f in filters:\n",
    "            if f[0] != sensible:\n",
    "                data_aux = data_aux[data_aux[f[0]] == f[1]]\n",
    "        list_probas = list_probas + [[(data_aux[node] == nv).sum() / len(data_aux[node] == nv) for nv in node_value]]\n",
    "    list_cpd = list_cpd + [TabularCPD(node, len(node_value), np.array(list_probas).T.tolist(),\n",
    "                   evidence= evidence,\n",
    "                   evidence_card= [len(ev) for ev in evidence_value])]\n"
   ]
  },
  {
   "cell_type": "code",
   "execution_count": null,
   "metadata": {},
   "outputs": [
    {
     "data": {
      "text/plain": [
       "[<TabularCPD representing P(Pclass:3 | Sex:2) at 0x7fb2ab5496d0>,\n",
       " <TabularCPD representing P(Survived:2 | Pclass:3, Sex:2) at 0x7fb2bbbdb730>,\n",
       " <TabularCPD representing P(Embarked:4 | Pclass:3) at 0x7fb2ab5495e0>,\n",
       " <TabularCPD representing P(Sex:2 | Parch:4) at 0x7fb2ab5fc460>,\n",
       " <TabularCPD representing P(SibSp:6) at 0x7fb2ab350130>,\n",
       " <TabularCPD representing P(Parch:4 | SibSp:6) at 0x7fb2b97b6f70>]"
      ]
     },
     "execution_count": 64,
     "metadata": {},
     "output_type": "execute_result"
    }
   ],
   "source": [
    "list_cpd"
   ]
  },
  {
   "cell_type": "code",
   "execution_count": null,
   "metadata": {},
   "outputs": [],
   "source": [
    "flai_graph = causal_graph.CausalGraph(node_edge = list(flai_graph.graph['model_edges']), CPD=list_cpd)"
   ]
  },
  {
   "cell_type": "code",
   "execution_count": null,
   "metadata": {},
   "outputs": [
    {
     "name": "stdout",
     "output_type": "stream",
     "text": [
      "['Survived']\n",
      "[0.25796178 0.74203822]\n"
     ]
    }
   ],
   "source": [
    "from pgmpy.inference import VariableElimination\n",
    "infer = VariableElimination(flai_graph.graph['model'])\n",
    "q = infer.query(variables=['Survived'], evidence={\n",
    "                                'Sex':0})\n",
    "print(q.scope())\n",
    "print(q.values)"
   ]
  },
  {
   "cell_type": "code",
   "execution_count": null,
   "metadata": {},
   "outputs": [
    {
     "name": "stdout",
     "output_type": "stream",
     "text": [
      "['Survived']\n",
      "[0.81109185 0.18890815]\n"
     ]
    }
   ],
   "source": [
    "from pgmpy.inference import VariableElimination\n",
    "infer = VariableElimination(flai_graph.graph['model'])\n",
    "q = infer.query(variables=['Survived'], evidence={\n",
    "                                'Sex':1})\n",
    "print(q.scope())\n",
    "print(q.values)"
   ]
  },
  {
   "cell_type": "code",
   "execution_count": null,
   "metadata": {},
   "outputs": [],
   "source": [
    "flai_graph.mitigate_calculation_cpd(sensible_feature = 'Sex')"
   ]
  },
  {
   "cell_type": "code",
   "execution_count": null,
   "metadata": {},
   "outputs": [
    {
     "data": {
      "text/plain": [
       "OutEdgeView([('Pclass', 'Survived'), ('Pclass', 'Embarked'), ('Sex', 'Survived'), ('Sex', 'Pclass'), ('SibSp', 'Parch'), ('Parch', 'Sex')])"
      ]
     },
     "execution_count": 30,
     "metadata": {},
     "output_type": "execute_result"
    }
   ],
   "source": [
    "flai_graph.graph['model_edges']"
   ]
  },
  {
   "cell_type": "code",
   "execution_count": null,
   "metadata": {},
   "outputs": [],
   "source": []
  },
  {
   "cell_type": "code",
   "execution_count": null,
   "metadata": {},
   "outputs": [
    {
     "name": "stdout",
     "output_type": "stream",
     "text": [
      "['Survived']\n",
      "[0.61616162 0.38383838]\n"
     ]
    }
   ],
   "source": [
    "from pgmpy.inference import VariableElimination\n",
    "infer = VariableElimination(flai_graph.graph['model'])\n",
    "q = infer.query(variables=['Survived'], evidence={\n",
    "                                'Sex':0})\n",
    "print(q.scope())\n",
    "print(q.values)"
   ]
  },
  {
   "cell_type": "code",
   "execution_count": null,
   "metadata": {},
   "outputs": [
    {
     "name": "stdout",
     "output_type": "stream",
     "text": [
      "['Survived']\n",
      "[0.61616162 0.38383838]\n"
     ]
    }
   ],
   "source": [
    "from pgmpy.inference import VariableElimination\n",
    "infer = VariableElimination(flai_graph.graph['model'])\n",
    "q = infer.query(variables=['Survived'], evidence={\n",
    "                                'Sex':1})\n",
    "print(q.scope())\n",
    "print(q.values)"
   ]
  },
  {
   "cell_type": "code",
   "execution_count": null,
   "metadata": {},
   "outputs": [
    {
     "data": {
      "text/plain": [
       "NodeView(('Pclass', 'Survived', 'Embarked', 'Sex', 'SibSp', 'Parch'))"
      ]
     },
     "execution_count": 35,
     "metadata": {},
     "output_type": "execute_result"
    }
   ],
   "source": [
    "flai_graph.graph['model'].nodes"
   ]
  },
  {
   "cell_type": "code",
   "execution_count": null,
   "metadata": {},
   "outputs": [
    {
     "name": "stdout",
     "output_type": "stream",
     "text": [
      "[bnlearn]> Remaining columns for inference: 5\n"
     ]
    },
    {
     "name": "stderr",
     "output_type": "stream",
     "text": [
      "100%|██████████| 110/110 [00:00<00:00, 988.15it/s]\n"
     ]
    }
   ],
   "source": [
    "import bnlearn as bn\n",
    "data = flai_dataset.data[['Parch', 'Sex', 'Pclass', 'Embarked', 'SibSp']]\n",
    "data['Pclass'] = data['Pclass'] - 1\n",
    "out = bn.predict(flai_graph.graph, data\n",
    ", variables = ['Survived'])\n",
    "flai_dataset.data['Predicted'] = out.Survived"
   ]
  },
  {
   "cell_type": "code",
   "execution_count": null,
   "metadata": {},
   "outputs": [
    {
     "name": "stdout",
     "output_type": "stream",
     "text": [
      "Calculating metrics for : Sex  the value :  0\n",
      "Calculating metrics for : Sex  the value :  1\n"
     ]
    },
    {
     "data": {
      "text/plain": [
       "{'model': {'ACC': 0.6790123456790124,\n",
       "  'TPR': 0.39766081871345027,\n",
       "  'FPR': 0.14571948998178508,\n",
       "  'FNR': 0.6023391812865497,\n",
       "  'PPP': 0.24242424242424243},\n",
       " 'Sex': {'privileged': {'ACC': 0.5382165605095541,\n",
       "   'TPR': 0.3905579399141631,\n",
       "   'FPR': 0.037037037037037035,\n",
       "   'FNR': 0.6094420600858369,\n",
       "   'PPP': 0.29936305732484075},\n",
       "  'unprivileged': {'ACC': 0.755632582322357,\n",
       "   'TPR': 0.41284403669724773,\n",
       "   'FPR': 0.16452991452991453,\n",
       "   'FNR': 0.5871559633027523,\n",
       "   'PPP': 0.21143847487001732},\n",
       "  'fair_metrics': {'Equal_Opportunity_Difference': 0.02228609678308463}}}"
      ]
     },
     "execution_count": 41,
     "metadata": {},
     "output_type": "execute_result"
    }
   ],
   "source": [
    "#### male = 1 female = 0\n",
    "flai_dataset.fairness_metrics(target_column='Survived', predicted_column = 'Predicted',\n",
    "                            columns_fair = {'Sex' : {'privileged' : 0, 'unprivileged' : 1}})"
   ]
  },
  {
   "cell_type": "code",
   "execution_count": 118,
   "metadata": {},
   "outputs": [],
   "source": [
    "flai_graph.graph['model_edges'] =  [('Pclass', 'Survived'),\n",
    " ('Pclass', 'Embarked'),\n",
    " ('Sex', 'Survived'),\n",
    " ('Sex', 'Pclass'),\n",
    " ('SibSp', 'Parch'),\n",
    " ('Parch', 'Survived')]"
   ]
  },
  {
   "cell_type": "code",
   "execution_count": 119,
   "metadata": {},
   "outputs": [],
   "source": [
    "flai_graph.mitigate_calculation_cpd(sensible_feature = 'Sex')"
   ]
  },
  {
   "cell_type": "code",
   "execution_count": 120,
   "metadata": {},
   "outputs": [
    {
     "name": "stdout",
     "output_type": "stream",
     "text": [
      "['Survived']\n",
      "[0.61888926 0.38111074]\n"
     ]
    }
   ],
   "source": [
    "from pgmpy.inference import VariableElimination\n",
    "infer = VariableElimination(flai_graph.graph['model'])\n",
    "q = infer.query(variables=['Survived'], evidence={\n",
    "                                'Sex':0})\n",
    "print(q.scope())\n",
    "print(q.values)"
   ]
  },
  {
   "cell_type": "code",
   "execution_count": 121,
   "metadata": {},
   "outputs": [
    {
     "name": "stdout",
     "output_type": "stream",
     "text": [
      "['Survived']\n",
      "[0.61888926 0.38111074]\n"
     ]
    }
   ],
   "source": [
    "from pgmpy.inference import VariableElimination\n",
    "infer = VariableElimination(flai_graph.graph['model'])\n",
    "q = infer.query(variables=['Survived'], evidence={\n",
    "                                'Sex':1})\n",
    "print(q.scope())\n",
    "print(q.values)"
   ]
  },
  {
   "cell_type": "code",
   "execution_count": 122,
   "metadata": {},
   "outputs": [
    {
     "name": "stdout",
     "output_type": "stream",
     "text": [
      "[bnlearn]> Remaining columns for inference: 5\n"
     ]
    },
    {
     "name": "stderr",
     "output_type": "stream",
     "text": [
      "100%|██████████| 110/110 [00:00<00:00, 1024.83it/s]\n"
     ]
    }
   ],
   "source": [
    "import bnlearn as bn\n",
    "data = flai_dataset.data[['Parch', 'Sex', 'Pclass', 'Embarked', 'SibSp']]\n",
    "data['Pclass'] = data['Pclass'] - 1\n",
    "out = bn.predict(flai_graph.graph, data\n",
    ", variables = ['Survived'])\n",
    "flai_dataset.data['Predicted'] = out.Survived"
   ]
  },
  {
   "cell_type": "code",
   "execution_count": 123,
   "metadata": {},
   "outputs": [
    {
     "name": "stdout",
     "output_type": "stream",
     "text": [
      "Calculating metrics for : Sex  the value :  0\n",
      "Calculating metrics for : Sex  the value :  1\n"
     ]
    },
    {
     "data": {
      "text/plain": [
       "{'model': {'ACC': 0.7115600448933782,\n",
       "  'TPR': 0.5116959064327485,\n",
       "  'FPR': 0.16393442622950818,\n",
       "  'FNR': 0.48830409356725146,\n",
       "  'PPP': 0.29741863075196406},\n",
       " 'Sex': {'privileged': {'ACC': 0.6305732484076433,\n",
       "   'TPR': 0.51931330472103,\n",
       "   'FPR': 0.04938271604938271,\n",
       "   'FNR': 0.48068669527896996,\n",
       "   'PPP': 0.3980891719745223},\n",
       "  'unprivileged': {'ACC': 0.755632582322357,\n",
       "   'TPR': 0.4954128440366973,\n",
       "   'FPR': 0.18376068376068377,\n",
       "   'FNR': 0.5045871559633027,\n",
       "   'PPP': 0.24263431542461006},\n",
       "  'fair_metrics': {'Equal_Opportunity_Difference': -0.023900460684332714}}}"
      ]
     },
     "execution_count": 123,
     "metadata": {},
     "output_type": "execute_result"
    }
   ],
   "source": [
    "#### male = 1 female = 0\n",
    "flai_dataset.fairness_metrics(target_column='Survived', predicted_column = 'Predicted',\n",
    "                            columns_fair = {'Sex' : {'privileged' : 0, 'unprivileged' : 1}})"
   ]
  },
  {
   "cell_type": "code",
   "execution_count": null,
   "metadata": {},
   "outputs": [
    {
     "name": "stdout",
     "output_type": "stream",
     "text": [
      "[bnlearn] >Variable Elimination..\n",
      "[bnlearn] >Data is stored in [query.df]\n",
      "+----+------------+----------+\n",
      "|    |   Survived |        p |\n",
      "+====+============+==========+\n",
      "|  0 |          0 | 0.616162 |\n",
      "+----+------------+----------+\n",
      "|  1 |          1 | 0.383838 |\n",
      "+----+------------+----------+\n"
     ]
    },
    {
     "data": {
      "text/plain": [
       "<DiscreteFactor representing phi(Survived:2) at 0x7f13d4f52f40>"
      ]
     },
     "execution_count": 55,
     "metadata": {},
     "output_type": "execute_result"
    }
   ],
   "source": [
    "bn.inference.fit(flai_graph.graph, variables=['Survived'], evidence={'Pclass':2,\n",
    "                                                          'Embarked':1,\n",
    "                                                          'Sex':0,\n",
    "                                                          'SibSp':5,\n",
    "                                                          'Parch':2})"
   ]
  },
  {
   "cell_type": "code",
   "execution_count": 95,
   "metadata": {},
   "outputs": [
    {
     "name": "stdout",
     "output_type": "stream",
     "text": [
      "[bnlearn] >Variable Elimination..\n",
      "[bnlearn] >Data is stored in [query.df]\n",
      "+----+------------+----------+\n",
      "|    |   Survived |        p |\n",
      "+====+============+==========+\n",
      "|  0 |          0 | 0.811092 |\n",
      "+----+------------+----------+\n",
      "|  1 |          1 | 0.188908 |\n",
      "+----+------------+----------+\n"
     ]
    },
    {
     "data": {
      "text/html": [
       "<div>\n",
       "<style scoped>\n",
       "    .dataframe tbody tr th:only-of-type {\n",
       "        vertical-align: middle;\n",
       "    }\n",
       "\n",
       "    .dataframe tbody tr th {\n",
       "        vertical-align: top;\n",
       "    }\n",
       "\n",
       "    .dataframe thead th {\n",
       "        text-align: right;\n",
       "    }\n",
       "</style>\n",
       "<table border=\"1\" class=\"dataframe\">\n",
       "  <thead>\n",
       "    <tr style=\"text-align: right;\">\n",
       "      <th></th>\n",
       "      <th>Survived</th>\n",
       "      <th>p</th>\n",
       "    </tr>\n",
       "  </thead>\n",
       "  <tbody>\n",
       "    <tr>\n",
       "      <th>0</th>\n",
       "      <td>0</td>\n",
       "      <td>0.811092</td>\n",
       "    </tr>\n",
       "    <tr>\n",
       "      <th>1</th>\n",
       "      <td>1</td>\n",
       "      <td>0.188908</td>\n",
       "    </tr>\n",
       "  </tbody>\n",
       "</table>\n",
       "</div>"
      ],
      "text/plain": [
       "   Survived         p\n",
       "0         0  0.811092\n",
       "1         1  0.188908"
      ]
     },
     "execution_count": 95,
     "metadata": {},
     "output_type": "execute_result"
    }
   ],
   "source": [
    "bn.inference.fit(flai_graph.graph, variables=['Survived'], evidence = {'Sex' : 1}).df\n",
    "#evidence={'Pclass':2,'Embarked':1,'Sex':0, 'SibSp':5,'Parch':2,Survived}"
   ]
  },
  {
   "cell_type": "code",
   "execution_count": 113,
   "metadata": {},
   "outputs": [],
   "source": [
    "flai_dataset.data[['Survived', 'Parch', 'Sex', 'Pclass', 'Embarked', 'SibSp']].to_pickle('original.pickle')\n"
   ]
  },
  {
   "cell_type": "code",
   "execution_count": 125,
   "metadata": {},
   "outputs": [],
   "source": [
    "mitigate_data = flai_graph.generate_dataset(n_samples = 891, methodtype = 'bayes')"
   ]
  },
  {
   "cell_type": "code",
   "execution_count": 126,
   "metadata": {},
   "outputs": [],
   "source": [
    "mitigate_data.data.to_pickle('final_bis.pickle')"
   ]
  },
  {
   "cell_type": "code",
   "execution_count": null,
   "metadata": {},
   "outputs": [],
   "source": []
  }
 ],
 "metadata": {
  "kernelspec": {
   "display_name": "Python 3.8.15 ('py38')",
   "language": "python",
   "name": "python3"
  },
  "language_info": {
   "codemirror_mode": {
    "name": "ipython",
    "version": 3
   },
   "file_extension": ".py",
   "mimetype": "text/x-python",
   "name": "python",
   "nbconvert_exporter": "python",
   "pygments_lexer": "ipython3",
   "version": "3.8.15"
  },
  "orig_nbformat": 4,
  "vscode": {
   "interpreter": {
    "hash": "82d5c90ba63de38cc351bec5110f0000347eafa70bf35c4c48709a137c0a72d4"
   }
  }
 },
 "nbformat": 4,
 "nbformat_minor": 2
}
