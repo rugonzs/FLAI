{
 "cells": [
  {
   "cell_type": "code",
   "execution_count": 1,
   "id": "010bddc1",
   "metadata": {},
   "outputs": [],
   "source": [
    "import bnlearn as bn\n",
    "import pandas as pd\n",
    "import networkx as nx\n",
    "import matplotlib.pyplot as plt\n",
    "def convert_onehot(df,verbose = 0):\n",
    "    #function to transform the data to numerical values.\n",
    "    dfhot, dfnum = bn.df2onehot(df,verbose = verbose)\n",
    "    return dfhot,dfnum\n",
    "def generate_dag(df,indepence_test= True,verbose = 0):\n",
    "    #learn the edge between the nodes\n",
    "    # if independence test is true quit some edges from the graph\n",
    "    #model = bn.structure_learning.fit(dfnum, methodtype='cl', black_list=['Embarked','Parch','Name'], root_node='Survived', bw_list_method='nodes')\n",
    "    #model = bn.structure_learning.fit(df, methodtype='hc', scoretype='bic',root_node='Survived',verbose= verbose)\n",
    "    model = bn.structure_learning.fit(df,verbose= verbose)\n",
    "    if indepence_test:\n",
    "        model = bn.independence_test(model, df, test='chi_square', prune=True,verbose= verbose)\n",
    "    return model\n",
    "def learn_cpd(model,dfnum,verbose = 0):\n",
    "    # extract the probabilities.\n",
    "    model = bn.parameter_learning.fit(model, dfnum,verbose= verbose)\n",
    "    return model\n",
    "def create_dag(dag_info,cpd = None ,verbose = 0):\n",
    "    #change cpds\n",
    "    model = bn.make_DAG(dag_info, CPD=cpd,verbose= verbose)\n",
    "    return model\n",
    "def get_dataset(model,n_samples = 1000, methodtype = 'bayes',verbose =  0):\n",
    "    df = bn.sampling(model, n= n_samples, methodtype = methodtype, verbose = verbose)\n",
    "    return df"
   ]
  },
  {
   "cell_type": "code",
   "execution_count": 2,
   "id": "8404f8da",
   "metadata": {},
   "outputs": [
    {
     "name": "stdout",
     "output_type": "stream",
     "text": [
      "[bnlearn] >Downloading example [titanic_train] dataset..\n",
      "100% [..............................................................................] 22510 / 22510[bnlearn] >Import dataset..\n"
     ]
    }
   ],
   "source": [
    "# Load example mixed dataset\n",
    "df = bn.import_example(data='titanic')"
   ]
  },
  {
   "cell_type": "code",
   "execution_count": 3,
   "id": "4a6c4924",
   "metadata": {},
   "outputs": [],
   "source": [
    "# Convert to onehot\n",
    "dfhot, dfnum = convert_onehot(df)"
   ]
  },
  {
   "cell_type": "code",
   "execution_count": 209,
   "id": "ed2807a3",
   "metadata": {},
   "outputs": [
    {
     "data": {
      "text/html": [
       "<div>\n",
       "<style scoped>\n",
       "    .dataframe tbody tr th:only-of-type {\n",
       "        vertical-align: middle;\n",
       "    }\n",
       "\n",
       "    .dataframe tbody tr th {\n",
       "        vertical-align: top;\n",
       "    }\n",
       "\n",
       "    .dataframe thead th {\n",
       "        text-align: right;\n",
       "    }\n",
       "</style>\n",
       "<table border=\"1\" class=\"dataframe\">\n",
       "  <thead>\n",
       "    <tr style=\"text-align: right;\">\n",
       "      <th></th>\n",
       "      <th>Survived</th>\n",
       "      <th>Pclass</th>\n",
       "      <th>Name</th>\n",
       "      <th>Sex</th>\n",
       "      <th>SibSp</th>\n",
       "      <th>Parch</th>\n",
       "      <th>Ticket</th>\n",
       "      <th>Cabin</th>\n",
       "      <th>Embarked</th>\n",
       "    </tr>\n",
       "  </thead>\n",
       "  <tbody>\n",
       "    <tr>\n",
       "      <th>0</th>\n",
       "      <td>0</td>\n",
       "      <td>3</td>\n",
       "      <td>108</td>\n",
       "      <td>1</td>\n",
       "      <td>2</td>\n",
       "      <td>1</td>\n",
       "      <td>523</td>\n",
       "      <td>146</td>\n",
       "      <td>3</td>\n",
       "    </tr>\n",
       "    <tr>\n",
       "      <th>1</th>\n",
       "      <td>1</td>\n",
       "      <td>1</td>\n",
       "      <td>190</td>\n",
       "      <td>0</td>\n",
       "      <td>2</td>\n",
       "      <td>1</td>\n",
       "      <td>596</td>\n",
       "      <td>81</td>\n",
       "      <td>1</td>\n",
       "    </tr>\n",
       "    <tr>\n",
       "      <th>2</th>\n",
       "      <td>1</td>\n",
       "      <td>3</td>\n",
       "      <td>353</td>\n",
       "      <td>0</td>\n",
       "      <td>1</td>\n",
       "      <td>1</td>\n",
       "      <td>669</td>\n",
       "      <td>146</td>\n",
       "      <td>3</td>\n",
       "    </tr>\n",
       "    <tr>\n",
       "      <th>3</th>\n",
       "      <td>1</td>\n",
       "      <td>1</td>\n",
       "      <td>272</td>\n",
       "      <td>0</td>\n",
       "      <td>2</td>\n",
       "      <td>1</td>\n",
       "      <td>49</td>\n",
       "      <td>55</td>\n",
       "      <td>3</td>\n",
       "    </tr>\n",
       "    <tr>\n",
       "      <th>4</th>\n",
       "      <td>0</td>\n",
       "      <td>3</td>\n",
       "      <td>15</td>\n",
       "      <td>1</td>\n",
       "      <td>1</td>\n",
       "      <td>1</td>\n",
       "      <td>472</td>\n",
       "      <td>146</td>\n",
       "      <td>3</td>\n",
       "    </tr>\n",
       "    <tr>\n",
       "      <th>...</th>\n",
       "      <td>...</td>\n",
       "      <td>...</td>\n",
       "      <td>...</td>\n",
       "      <td>...</td>\n",
       "      <td>...</td>\n",
       "      <td>...</td>\n",
       "      <td>...</td>\n",
       "      <td>...</td>\n",
       "      <td>...</td>\n",
       "    </tr>\n",
       "    <tr>\n",
       "      <th>886</th>\n",
       "      <td>0</td>\n",
       "      <td>2</td>\n",
       "      <td>548</td>\n",
       "      <td>1</td>\n",
       "      <td>1</td>\n",
       "      <td>1</td>\n",
       "      <td>101</td>\n",
       "      <td>146</td>\n",
       "      <td>3</td>\n",
       "    </tr>\n",
       "    <tr>\n",
       "      <th>887</th>\n",
       "      <td>1</td>\n",
       "      <td>1</td>\n",
       "      <td>303</td>\n",
       "      <td>0</td>\n",
       "      <td>1</td>\n",
       "      <td>1</td>\n",
       "      <td>14</td>\n",
       "      <td>30</td>\n",
       "      <td>3</td>\n",
       "    </tr>\n",
       "    <tr>\n",
       "      <th>888</th>\n",
       "      <td>0</td>\n",
       "      <td>3</td>\n",
       "      <td>413</td>\n",
       "      <td>0</td>\n",
       "      <td>2</td>\n",
       "      <td>3</td>\n",
       "      <td>675</td>\n",
       "      <td>146</td>\n",
       "      <td>3</td>\n",
       "    </tr>\n",
       "    <tr>\n",
       "      <th>889</th>\n",
       "      <td>1</td>\n",
       "      <td>1</td>\n",
       "      <td>81</td>\n",
       "      <td>1</td>\n",
       "      <td>1</td>\n",
       "      <td>1</td>\n",
       "      <td>8</td>\n",
       "      <td>60</td>\n",
       "      <td>1</td>\n",
       "    </tr>\n",
       "    <tr>\n",
       "      <th>890</th>\n",
       "      <td>0</td>\n",
       "      <td>3</td>\n",
       "      <td>220</td>\n",
       "      <td>1</td>\n",
       "      <td>1</td>\n",
       "      <td>1</td>\n",
       "      <td>466</td>\n",
       "      <td>146</td>\n",
       "      <td>2</td>\n",
       "    </tr>\n",
       "  </tbody>\n",
       "</table>\n",
       "<p>891 rows × 9 columns</p>\n",
       "</div>"
      ],
      "text/plain": [
       "     Survived  Pclass  Name  Sex  SibSp  Parch  Ticket  Cabin  Embarked\n",
       "0           0       3   108    1      2      1     523    146         3\n",
       "1           1       1   190    0      2      1     596     81         1\n",
       "2           1       3   353    0      1      1     669    146         3\n",
       "3           1       1   272    0      2      1      49     55         3\n",
       "4           0       3    15    1      1      1     472    146         3\n",
       "..        ...     ...   ...  ...    ...    ...     ...    ...       ...\n",
       "886         0       2   548    1      1      1     101    146         3\n",
       "887         1       1   303    0      1      1      14     30         3\n",
       "888         0       3   413    0      2      3     675    146         3\n",
       "889         1       1    81    1      1      1       8     60         1\n",
       "890         0       3   220    1      1      1     466    146         2\n",
       "\n",
       "[891 rows x 9 columns]"
      ]
     },
     "execution_count": 209,
     "metadata": {},
     "output_type": "execute_result"
    }
   ],
   "source": [
    "dfnum"
   ]
  },
  {
   "cell_type": "markdown",
   "id": "943cc6b7",
   "metadata": {},
   "source": [
    "## Generate DAG"
   ]
  },
  {
   "cell_type": "code",
   "execution_count": 210,
   "id": "d6978052",
   "metadata": {},
   "outputs": [
    {
     "name": "stdout",
     "output_type": "stream",
     "text": [
      "[bnlearn] >Compute structure scores ['k2', 'bds', 'bic', 'bdeu'] for model comparison (higher is better).\n"
     ]
    }
   ],
   "source": [
    "model = generate_dag(dfnum,True)"
   ]
  },
  {
   "cell_type": "code",
   "execution_count": 211,
   "id": "00dac854",
   "metadata": {},
   "outputs": [
    {
     "name": "stdout",
     "output_type": "stream",
     "text": [
      "[bnlearn] >Set node properties.\n",
      "[bnlearn]> Set edge weights based on the [chi_square] test statistic.\n",
      "[bnlearn] >Set edge properties.\n",
      "[bnlearn] >Plot based on Bayesian model\n"
     ]
    },
    {
     "data": {
      "image/png": "[encoded data removed]",
      "text/plain": [
       "<Figure size 1080x720 with 1 Axes>"
      ]
     },
     "metadata": {},
     "output_type": "display_data"
    },
    {
     "data": {
      "text/plain": [
       "{'pos': {'Survived': array([-0.61474531, -0.55938788]),\n",
       "  'Pclass': array([ 0.1938675 , -0.01357934]),\n",
       "  'Name': array([-0.51255999,  0.77237449]),\n",
       "  'Sex': array([-0.21475421, -0.27655908]),\n",
       "  'SibSp': array([-0.1076877 , -0.32197999]),\n",
       "  'Parch': array([-0.31849474, -0.34226809]),\n",
       "  'Ticket': array([0.26487413, 0.97890281]),\n",
       "  'Cabin': array([ 0.30950031, -0.76828757]),\n",
       "  'Embarked': array([1.        , 0.53078464])},\n",
       " 'G': <networkx.classes.digraph.DiGraph at 0x7fd6f24eeb20>,\n",
       " 'node_properties': {'Survived': {'node_color': '#1f456e', 'node_size': 800},\n",
       "  'Pclass': {'node_color': '#1f456e', 'node_size': 800},\n",
       "  'Name': {'node_color': '#1f456e', 'node_size': 800},\n",
       "  'Sex': {'node_color': '#1f456e', 'node_size': 800},\n",
       "  'SibSp': {'node_color': '#1f456e', 'node_size': 800},\n",
       "  'Parch': {'node_color': '#1f456e', 'node_size': 800},\n",
       "  'Ticket': {'node_color': '#1f456e', 'node_size': 800},\n",
       "  'Cabin': {'node_color': '#1f456e', 'node_size': 800},\n",
       "  'Embarked': {'node_color': '#1f456e', 'node_size': 800}},\n",
       " 'edge_properties': {('Parch', 'Sex'): {'color': '#000000',\n",
       "   'weight': 2.2860179985171314},\n",
       "  ('Pclass', 'Embarked'): {'color': '#000000', 'weight': 4.270914213114067},\n",
       "  ('Pclass', 'Survived'): {'color': '#000000', 'weight': 3.8876462532274294},\n",
       "  ('Sex', 'Pclass'): {'color': '#000000', 'weight': 1.0},\n",
       "  ('Sex', 'Survived'): {'color': '#000000', 'weight': 9.394589177018043},\n",
       "  ('SibSp', 'Parch'): {'color': '#000000', 'weight': 10.000000000000002}}}"
      ]
     },
     "execution_count": 211,
     "metadata": {},
     "output_type": "execute_result"
    }
   ],
   "source": [
    "bn.plot(model)\n"
   ]
  },
  {
   "cell_type": "code",
   "execution_count": 190,
   "id": "8dd15681",
   "metadata": {},
   "outputs": [
    {
     "data": {
      "image/png": "[encoded data removed]",
      "text/plain": [
       "<Figure size 360x360 with 1 Axes>"
      ]
     },
     "metadata": {},
     "output_type": "display_data"
    }
   ],
   "source": [
    "G = nx.Graph()\n",
    "G.add_edges_from(model['model_edges'])\n",
    "plt.figure(figsize=(5,5)) \n",
    "nx.draw_circular(\n",
    "    G, with_labels=True, arrowsize=30, node_size=800, alpha=0.3, font_weight=\"bold\"\n",
    ")\n"
   ]
  },
  {
   "cell_type": "code",
   "execution_count": 191,
   "id": "e2729523",
   "metadata": {},
   "outputs": [
    {
     "data": {
      "text/plain": [
       "dict_keys(['model', 'model_edges', 'adjmat', 'config', 'structure_scores', 'independence_test'])"
      ]
     },
     "execution_count": 191,
     "metadata": {},
     "output_type": "execute_result"
    }
   ],
   "source": [
    "model.keys()"
   ]
  },
  {
   "cell_type": "code",
   "execution_count": 192,
   "id": "9179df32",
   "metadata": {},
   "outputs": [
    {
     "data": {
      "text/plain": [
       "{'k2': -18119.21450812245,\n",
       " 'bds': -22996.58044598527,\n",
       " 'bic': -23045.855828721913,\n",
       " 'bdeu': -22967.468264401752}"
      ]
     },
     "execution_count": 192,
     "metadata": {},
     "output_type": "execute_result"
    }
   ],
   "source": [
    "model['structure_scores']"
   ]
  },
  {
   "cell_type": "markdown",
   "id": "6a16a6f1",
   "metadata": {},
   "source": [
    "## Learn CDP"
   ]
  },
  {
   "cell_type": "code",
   "execution_count": 193,
   "id": "23cf745a",
   "metadata": {},
   "outputs": [],
   "source": [
    "model = create_dag(model['model_edges'])"
   ]
  },
  {
   "cell_type": "code",
   "execution_count": 194,
   "id": "a24bf3c6",
   "metadata": {},
   "outputs": [
    {
     "name": "stdout",
     "output_type": "stream",
     "text": [
      "[bnlearn] >Compute structure scores ['k2', 'bds', 'bic', 'bdeu'] for model comparison (higher is better).\n"
     ]
    }
   ],
   "source": [
    "model = learn_cpd(model, dfnum)"
   ]
  },
  {
   "cell_type": "code",
   "execution_count": 195,
   "id": "386fcb3b",
   "metadata": {},
   "outputs": [],
   "source": [
    "#change cpds\n",
    "model = change_cpd(list(model['model_edges']), model['model'].get_cpds())"
   ]
  },
  {
   "cell_type": "code",
   "execution_count": 200,
   "id": "6eab81c7",
   "metadata": {},
   "outputs": [
    {
     "data": {
      "text/plain": [
       "[('Pclass', 'Embarked'),\n",
       " ('Pclass', 'Survived'),\n",
       " ('Sex', 'Survived'),\n",
       " ('Sex', 'Pclass'),\n",
       " ('SibSp', 'Parch'),\n",
       " ('Parch', 'Sex')]"
      ]
     },
     "execution_count": 200,
     "metadata": {},
     "output_type": "execute_result"
    }
   ],
   "source": [
    "list(model['model_edges'])"
   ]
  },
  {
   "cell_type": "code",
   "execution_count": 204,
   "id": "77aa4998",
   "metadata": {},
   "outputs": [
    {
     "data": {
      "text/html": [
       "<div>\n",
       "<style scoped>\n",
       "    .dataframe tbody tr th:only-of-type {\n",
       "        vertical-align: middle;\n",
       "    }\n",
       "\n",
       "    .dataframe tbody tr th {\n",
       "        vertical-align: top;\n",
       "    }\n",
       "\n",
       "    .dataframe thead th {\n",
       "        text-align: right;\n",
       "    }\n",
       "</style>\n",
       "<table border=\"1\" class=\"dataframe\">\n",
       "  <thead>\n",
       "    <tr style=\"text-align: right;\">\n",
       "      <th></th>\n",
       "      <th>PassengerId</th>\n",
       "      <th>Survived</th>\n",
       "      <th>Pclass</th>\n",
       "      <th>Name</th>\n",
       "      <th>Sex</th>\n",
       "      <th>Age</th>\n",
       "      <th>SibSp</th>\n",
       "      <th>Parch</th>\n",
       "      <th>Ticket</th>\n",
       "      <th>Fare</th>\n",
       "      <th>Cabin</th>\n",
       "      <th>Embarked</th>\n",
       "    </tr>\n",
       "  </thead>\n",
       "  <tbody>\n",
       "    <tr>\n",
       "      <th>0</th>\n",
       "      <td>1</td>\n",
       "      <td>0</td>\n",
       "      <td>3</td>\n",
       "      <td>Braund, Mr. Owen Harris</td>\n",
       "      <td>male</td>\n",
       "      <td>22.0</td>\n",
       "      <td>1</td>\n",
       "      <td>0</td>\n",
       "      <td>A/5 21171</td>\n",
       "      <td>7.2500</td>\n",
       "      <td>NaN</td>\n",
       "      <td>S</td>\n",
       "    </tr>\n",
       "    <tr>\n",
       "      <th>1</th>\n",
       "      <td>2</td>\n",
       "      <td>1</td>\n",
       "      <td>1</td>\n",
       "      <td>Cumings, Mrs. John Bradley (Florence Briggs Th...</td>\n",
       "      <td>female</td>\n",
       "      <td>38.0</td>\n",
       "      <td>1</td>\n",
       "      <td>0</td>\n",
       "      <td>PC 17599</td>\n",
       "      <td>71.2833</td>\n",
       "      <td>C85</td>\n",
       "      <td>C</td>\n",
       "    </tr>\n",
       "    <tr>\n",
       "      <th>2</th>\n",
       "      <td>3</td>\n",
       "      <td>1</td>\n",
       "      <td>3</td>\n",
       "      <td>Heikkinen, Miss. Laina</td>\n",
       "      <td>female</td>\n",
       "      <td>26.0</td>\n",
       "      <td>0</td>\n",
       "      <td>0</td>\n",
       "      <td>STON/O2. 3101282</td>\n",
       "      <td>7.9250</td>\n",
       "      <td>NaN</td>\n",
       "      <td>S</td>\n",
       "    </tr>\n",
       "    <tr>\n",
       "      <th>3</th>\n",
       "      <td>4</td>\n",
       "      <td>1</td>\n",
       "      <td>1</td>\n",
       "      <td>Futrelle, Mrs. Jacques Heath (Lily May Peel)</td>\n",
       "      <td>female</td>\n",
       "      <td>35.0</td>\n",
       "      <td>1</td>\n",
       "      <td>0</td>\n",
       "      <td>113803</td>\n",
       "      <td>53.1000</td>\n",
       "      <td>C123</td>\n",
       "      <td>S</td>\n",
       "    </tr>\n",
       "    <tr>\n",
       "      <th>4</th>\n",
       "      <td>5</td>\n",
       "      <td>0</td>\n",
       "      <td>3</td>\n",
       "      <td>Allen, Mr. William Henry</td>\n",
       "      <td>male</td>\n",
       "      <td>35.0</td>\n",
       "      <td>0</td>\n",
       "      <td>0</td>\n",
       "      <td>373450</td>\n",
       "      <td>8.0500</td>\n",
       "      <td>NaN</td>\n",
       "      <td>S</td>\n",
       "    </tr>\n",
       "    <tr>\n",
       "      <th>...</th>\n",
       "      <td>...</td>\n",
       "      <td>...</td>\n",
       "      <td>...</td>\n",
       "      <td>...</td>\n",
       "      <td>...</td>\n",
       "      <td>...</td>\n",
       "      <td>...</td>\n",
       "      <td>...</td>\n",
       "      <td>...</td>\n",
       "      <td>...</td>\n",
       "      <td>...</td>\n",
       "      <td>...</td>\n",
       "    </tr>\n",
       "    <tr>\n",
       "      <th>886</th>\n",
       "      <td>887</td>\n",
       "      <td>0</td>\n",
       "      <td>2</td>\n",
       "      <td>Montvila, Rev. Juozas</td>\n",
       "      <td>male</td>\n",
       "      <td>27.0</td>\n",
       "      <td>0</td>\n",
       "      <td>0</td>\n",
       "      <td>211536</td>\n",
       "      <td>13.0000</td>\n",
       "      <td>NaN</td>\n",
       "      <td>S</td>\n",
       "    </tr>\n",
       "    <tr>\n",
       "      <th>887</th>\n",
       "      <td>888</td>\n",
       "      <td>1</td>\n",
       "      <td>1</td>\n",
       "      <td>Graham, Miss. Margaret Edith</td>\n",
       "      <td>female</td>\n",
       "      <td>19.0</td>\n",
       "      <td>0</td>\n",
       "      <td>0</td>\n",
       "      <td>112053</td>\n",
       "      <td>30.0000</td>\n",
       "      <td>B42</td>\n",
       "      <td>S</td>\n",
       "    </tr>\n",
       "    <tr>\n",
       "      <th>888</th>\n",
       "      <td>889</td>\n",
       "      <td>0</td>\n",
       "      <td>3</td>\n",
       "      <td>Johnston, Miss. Catherine Helen \"Carrie\"</td>\n",
       "      <td>female</td>\n",
       "      <td>NaN</td>\n",
       "      <td>1</td>\n",
       "      <td>2</td>\n",
       "      <td>W./C. 6607</td>\n",
       "      <td>23.4500</td>\n",
       "      <td>NaN</td>\n",
       "      <td>S</td>\n",
       "    </tr>\n",
       "    <tr>\n",
       "      <th>889</th>\n",
       "      <td>890</td>\n",
       "      <td>1</td>\n",
       "      <td>1</td>\n",
       "      <td>Behr, Mr. Karl Howell</td>\n",
       "      <td>male</td>\n",
       "      <td>26.0</td>\n",
       "      <td>0</td>\n",
       "      <td>0</td>\n",
       "      <td>111369</td>\n",
       "      <td>30.0000</td>\n",
       "      <td>C148</td>\n",
       "      <td>C</td>\n",
       "    </tr>\n",
       "    <tr>\n",
       "      <th>890</th>\n",
       "      <td>891</td>\n",
       "      <td>0</td>\n",
       "      <td>3</td>\n",
       "      <td>Dooley, Mr. Patrick</td>\n",
       "      <td>male</td>\n",
       "      <td>32.0</td>\n",
       "      <td>0</td>\n",
       "      <td>0</td>\n",
       "      <td>370376</td>\n",
       "      <td>7.7500</td>\n",
       "      <td>NaN</td>\n",
       "      <td>Q</td>\n",
       "    </tr>\n",
       "  </tbody>\n",
       "</table>\n",
       "<p>891 rows × 12 columns</p>\n",
       "</div>"
      ],
      "text/plain": [
       "     PassengerId  Survived  Pclass  \\\n",
       "0              1         0       3   \n",
       "1              2         1       1   \n",
       "2              3         1       3   \n",
       "3              4         1       1   \n",
       "4              5         0       3   \n",
       "..           ...       ...     ...   \n",
       "886          887         0       2   \n",
       "887          888         1       1   \n",
       "888          889         0       3   \n",
       "889          890         1       1   \n",
       "890          891         0       3   \n",
       "\n",
       "                                                  Name     Sex   Age  SibSp  \\\n",
       "0                              Braund, Mr. Owen Harris    male  22.0      1   \n",
       "1    Cumings, Mrs. John Bradley (Florence Briggs Th...  female  38.0      1   \n",
       "2                               Heikkinen, Miss. Laina  female  26.0      0   \n",
       "3         Futrelle, Mrs. Jacques Heath (Lily May Peel)  female  35.0      1   \n",
       "4                             Allen, Mr. William Henry    male  35.0      0   \n",
       "..                                                 ...     ...   ...    ...   \n",
       "886                              Montvila, Rev. Juozas    male  27.0      0   \n",
       "887                       Graham, Miss. Margaret Edith  female  19.0      0   \n",
       "888           Johnston, Miss. Catherine Helen \"Carrie\"  female   NaN      1   \n",
       "889                              Behr, Mr. Karl Howell    male  26.0      0   \n",
       "890                                Dooley, Mr. Patrick    male  32.0      0   \n",
       "\n",
       "     Parch            Ticket     Fare Cabin Embarked  \n",
       "0        0         A/5 21171   7.2500   NaN        S  \n",
       "1        0          PC 17599  71.2833   C85        C  \n",
       "2        0  STON/O2. 3101282   7.9250   NaN        S  \n",
       "3        0            113803  53.1000  C123        S  \n",
       "4        0            373450   8.0500   NaN        S  \n",
       "..     ...               ...      ...   ...      ...  \n",
       "886      0            211536  13.0000   NaN        S  \n",
       "887      0            112053  30.0000   B42        S  \n",
       "888      2        W./C. 6607  23.4500   NaN        S  \n",
       "889      0            111369  30.0000  C148        C  \n",
       "890      0            370376   7.7500   NaN        Q  \n",
       "\n",
       "[891 rows x 12 columns]"
      ]
     },
     "execution_count": 204,
     "metadata": {},
     "output_type": "execute_result"
    }
   ],
   "source": [
    "df"
   ]
  },
  {
   "cell_type": "code",
   "execution_count": 196,
   "id": "20e63a9b",
   "metadata": {},
   "outputs": [],
   "source": [
    "CPDs = bn.print_CPD(model,verbose = 0)"
   ]
  },
  {
   "cell_type": "code",
   "execution_count": 197,
   "id": "0c300dcb",
   "metadata": {},
   "outputs": [
    {
     "data": {
      "text/plain": [
       "dict_keys(['Pclass', 'Embarked', 'Survived', 'Sex', 'SibSp', 'Parch'])"
      ]
     },
     "execution_count": 197,
     "metadata": {},
     "output_type": "execute_result"
    }
   ],
   "source": [
    "CPDs.keys()"
   ]
  },
  {
   "cell_type": "code",
   "execution_count": 198,
   "id": "385ba2bb",
   "metadata": {},
   "outputs": [
    {
     "data": {
      "text/html": [
       "<div>\n",
       "<style scoped>\n",
       "    .dataframe tbody tr th:only-of-type {\n",
       "        vertical-align: middle;\n",
       "    }\n",
       "\n",
       "    .dataframe tbody tr th {\n",
       "        vertical-align: top;\n",
       "    }\n",
       "\n",
       "    .dataframe thead th {\n",
       "        text-align: right;\n",
       "    }\n",
       "</style>\n",
       "<table border=\"1\" class=\"dataframe\">\n",
       "  <thead>\n",
       "    <tr style=\"text-align: right;\">\n",
       "      <th></th>\n",
       "      <th>Survived</th>\n",
       "      <th>Pclass</th>\n",
       "      <th>Sex</th>\n",
       "      <th>p</th>\n",
       "    </tr>\n",
       "  </thead>\n",
       "  <tbody>\n",
       "    <tr>\n",
       "      <th>0</th>\n",
       "      <td>0</td>\n",
       "      <td>0</td>\n",
       "      <td>0</td>\n",
       "      <td>0.331202</td>\n",
       "    </tr>\n",
       "    <tr>\n",
       "      <th>1</th>\n",
       "      <td>0</td>\n",
       "      <td>0</td>\n",
       "      <td>1</td>\n",
       "      <td>0.555427</td>\n",
       "    </tr>\n",
       "    <tr>\n",
       "      <th>2</th>\n",
       "      <td>0</td>\n",
       "      <td>1</td>\n",
       "      <td>0</td>\n",
       "      <td>0.368132</td>\n",
       "    </tr>\n",
       "    <tr>\n",
       "      <th>3</th>\n",
       "      <td>0</td>\n",
       "      <td>1</td>\n",
       "      <td>1</td>\n",
       "      <td>0.634709</td>\n",
       "    </tr>\n",
       "    <tr>\n",
       "      <th>4</th>\n",
       "      <td>0</td>\n",
       "      <td>2</td>\n",
       "      <td>0</td>\n",
       "      <td>0.500000</td>\n",
       "    </tr>\n",
       "    <tr>\n",
       "      <th>5</th>\n",
       "      <td>0</td>\n",
       "      <td>2</td>\n",
       "      <td>1</td>\n",
       "      <td>0.746269</td>\n",
       "    </tr>\n",
       "    <tr>\n",
       "      <th>6</th>\n",
       "      <td>1</td>\n",
       "      <td>0</td>\n",
       "      <td>0</td>\n",
       "      <td>0.668798</td>\n",
       "    </tr>\n",
       "    <tr>\n",
       "      <th>7</th>\n",
       "      <td>1</td>\n",
       "      <td>0</td>\n",
       "      <td>1</td>\n",
       "      <td>0.444573</td>\n",
       "    </tr>\n",
       "    <tr>\n",
       "      <th>8</th>\n",
       "      <td>1</td>\n",
       "      <td>1</td>\n",
       "      <td>0</td>\n",
       "      <td>0.631868</td>\n",
       "    </tr>\n",
       "    <tr>\n",
       "      <th>9</th>\n",
       "      <td>1</td>\n",
       "      <td>1</td>\n",
       "      <td>1</td>\n",
       "      <td>0.365291</td>\n",
       "    </tr>\n",
       "    <tr>\n",
       "      <th>10</th>\n",
       "      <td>1</td>\n",
       "      <td>2</td>\n",
       "      <td>0</td>\n",
       "      <td>0.500000</td>\n",
       "    </tr>\n",
       "    <tr>\n",
       "      <th>11</th>\n",
       "      <td>1</td>\n",
       "      <td>2</td>\n",
       "      <td>1</td>\n",
       "      <td>0.253731</td>\n",
       "    </tr>\n",
       "  </tbody>\n",
       "</table>\n",
       "</div>"
      ],
      "text/plain": [
       "    Survived  Pclass  Sex         p\n",
       "0          0       0    0  0.331202\n",
       "1          0       0    1  0.555427\n",
       "2          0       1    0  0.368132\n",
       "3          0       1    1  0.634709\n",
       "4          0       2    0  0.500000\n",
       "5          0       2    1  0.746269\n",
       "6          1       0    0  0.668798\n",
       "7          1       0    1  0.444573\n",
       "8          1       1    0  0.631868\n",
       "9          1       1    1  0.365291\n",
       "10         1       2    0  0.500000\n",
       "11         1       2    1  0.253731"
      ]
     },
     "execution_count": 198,
     "metadata": {},
     "output_type": "execute_result"
    }
   ],
   "source": [
    "CPDs['Survived']"
   ]
  },
  {
   "cell_type": "code",
   "execution_count": null,
   "id": "75c4eb9a",
   "metadata": {},
   "outputs": [],
   "source": []
  },
  {
   "cell_type": "code",
   "execution_count": null,
   "id": "f827aa21",
   "metadata": {},
   "outputs": [],
   "source": []
  },
  {
   "cell_type": "code",
   "execution_count": null,
   "id": "f9934b56",
   "metadata": {},
   "outputs": [],
   "source": []
  },
  {
   "cell_type": "code",
   "execution_count": null,
   "id": "fc622fcd",
   "metadata": {},
   "outputs": [],
   "source": []
  },
  {
   "cell_type": "code",
   "execution_count": null,
   "id": "70605912",
   "metadata": {},
   "outputs": [],
   "source": []
  },
  {
   "cell_type": "code",
   "execution_count": null,
   "id": "cb9f4ab7",
   "metadata": {},
   "outputs": [],
   "source": []
  },
  {
   "cell_type": "markdown",
   "id": "89f232aa",
   "metadata": {},
   "source": [
    "## Get dataset"
   ]
  },
  {
   "cell_type": "code",
   "execution_count": 166,
   "id": "ab0ab7a3",
   "metadata": {},
   "outputs": [],
   "source": [
    " df_result = get_dataset(model,891)"
   ]
  },
  {
   "cell_type": "code",
   "execution_count": 167,
   "id": "6607d58e",
   "metadata": {},
   "outputs": [
    {
     "data": {
      "text/html": [
       "<div>\n",
       "<style scoped>\n",
       "    .dataframe tbody tr th:only-of-type {\n",
       "        vertical-align: middle;\n",
       "    }\n",
       "\n",
       "    .dataframe tbody tr th {\n",
       "        vertical-align: top;\n",
       "    }\n",
       "\n",
       "    .dataframe thead th {\n",
       "        text-align: right;\n",
       "    }\n",
       "</style>\n",
       "<table border=\"1\" class=\"dataframe\">\n",
       "  <thead>\n",
       "    <tr style=\"text-align: right;\">\n",
       "      <th></th>\n",
       "      <th>Pclass</th>\n",
       "      <th>Survived</th>\n",
       "      <th>Embarked</th>\n",
       "      <th>Sex</th>\n",
       "      <th>SibSp</th>\n",
       "      <th>Parch</th>\n",
       "    </tr>\n",
       "  </thead>\n",
       "  <tbody>\n",
       "    <tr>\n",
       "      <th>0</th>\n",
       "      <td>1</td>\n",
       "      <td>0</td>\n",
       "      <td>1</td>\n",
       "      <td>1</td>\n",
       "      <td>1</td>\n",
       "      <td>1</td>\n",
       "    </tr>\n",
       "    <tr>\n",
       "      <th>1</th>\n",
       "      <td>3</td>\n",
       "      <td>1</td>\n",
       "      <td>3</td>\n",
       "      <td>0</td>\n",
       "      <td>1</td>\n",
       "      <td>1</td>\n",
       "    </tr>\n",
       "    <tr>\n",
       "      <th>2</th>\n",
       "      <td>1</td>\n",
       "      <td>1</td>\n",
       "      <td>3</td>\n",
       "      <td>1</td>\n",
       "      <td>0</td>\n",
       "      <td>0</td>\n",
       "    </tr>\n",
       "    <tr>\n",
       "      <th>3</th>\n",
       "      <td>1</td>\n",
       "      <td>1</td>\n",
       "      <td>3</td>\n",
       "      <td>1</td>\n",
       "      <td>2</td>\n",
       "      <td>1</td>\n",
       "    </tr>\n",
       "    <tr>\n",
       "      <th>4</th>\n",
       "      <td>1</td>\n",
       "      <td>1</td>\n",
       "      <td>3</td>\n",
       "      <td>1</td>\n",
       "      <td>2</td>\n",
       "      <td>0</td>\n",
       "    </tr>\n",
       "    <tr>\n",
       "      <th>...</th>\n",
       "      <td>...</td>\n",
       "      <td>...</td>\n",
       "      <td>...</td>\n",
       "      <td>...</td>\n",
       "      <td>...</td>\n",
       "      <td>...</td>\n",
       "    </tr>\n",
       "    <tr>\n",
       "      <th>886</th>\n",
       "      <td>1</td>\n",
       "      <td>1</td>\n",
       "      <td>3</td>\n",
       "      <td>1</td>\n",
       "      <td>2</td>\n",
       "      <td>3</td>\n",
       "    </tr>\n",
       "    <tr>\n",
       "      <th>887</th>\n",
       "      <td>1</td>\n",
       "      <td>1</td>\n",
       "      <td>2</td>\n",
       "      <td>1</td>\n",
       "      <td>5</td>\n",
       "      <td>3</td>\n",
       "    </tr>\n",
       "    <tr>\n",
       "      <th>888</th>\n",
       "      <td>2</td>\n",
       "      <td>0</td>\n",
       "      <td>2</td>\n",
       "      <td>1</td>\n",
       "      <td>1</td>\n",
       "      <td>1</td>\n",
       "    </tr>\n",
       "    <tr>\n",
       "      <th>889</th>\n",
       "      <td>3</td>\n",
       "      <td>0</td>\n",
       "      <td>2</td>\n",
       "      <td>1</td>\n",
       "      <td>4</td>\n",
       "      <td>0</td>\n",
       "    </tr>\n",
       "    <tr>\n",
       "      <th>890</th>\n",
       "      <td>3</td>\n",
       "      <td>0</td>\n",
       "      <td>0</td>\n",
       "      <td>1</td>\n",
       "      <td>4</td>\n",
       "      <td>1</td>\n",
       "    </tr>\n",
       "  </tbody>\n",
       "</table>\n",
       "<p>891 rows × 6 columns</p>\n",
       "</div>"
      ],
      "text/plain": [
       "     Pclass  Survived  Embarked  Sex  SibSp  Parch\n",
       "0         1         0         1    1      1      1\n",
       "1         3         1         3    0      1      1\n",
       "2         1         1         3    1      0      0\n",
       "3         1         1         3    1      2      1\n",
       "4         1         1         3    1      2      0\n",
       "..      ...       ...       ...  ...    ...    ...\n",
       "886       1         1         3    1      2      3\n",
       "887       1         1         2    1      5      3\n",
       "888       2         0         2    1      1      1\n",
       "889       3         0         2    1      4      0\n",
       "890       3         0         0    1      4      1\n",
       "\n",
       "[891 rows x 6 columns]"
      ]
     },
     "execution_count": 167,
     "metadata": {},
     "output_type": "execute_result"
    }
   ],
   "source": [
    "df_result"
   ]
  },
  {
   "cell_type": "code",
   "execution_count": 141,
   "id": "f062d392",
   "metadata": {},
   "outputs": [
    {
     "name": "stdout",
     "output_type": "stream",
     "text": [
      "[bnlearn]> Remaining columns for inference: 5\n"
     ]
    },
    {
     "name": "stderr",
     "output_type": "stream",
     "text": [
      "\n",
      "  0%|                                                                                           | 0/576 [00:00<?, ?it/s]\u001b[A\n",
      "  3%|██▋                                                                              | 19/576 [00:00<00:03, 182.52it/s]\u001b[A\n",
      "  7%|█████▋                                                                           | 40/576 [00:00<00:02, 197.10it/s]\u001b[A\n",
      " 11%|████████▌                                                                        | 61/576 [00:00<00:02, 201.98it/s]\u001b[A\n",
      " 15%|███████████▉                                                                     | 85/576 [00:00<00:02, 211.02it/s]\u001b[A\n",
      " 19%|██████████████▊                                                                 | 107/576 [00:00<00:02, 209.07it/s]\u001b[A\n",
      " 22%|█████████████████▊                                                              | 128/576 [00:00<00:02, 209.34it/s]\u001b[A\n",
      " 26%|████████████████████▋                                                           | 149/576 [00:00<00:02, 201.85it/s]\u001b[A\n",
      " 31%|████████████████████████▍                                                       | 176/576 [00:00<00:01, 221.11it/s]\u001b[A\n",
      " 36%|█████████████████████████████▏                                                  | 210/576 [00:00<00:01, 253.67it/s]\u001b[A\n",
      " 42%|█████████████████████████████████▌                                              | 242/576 [00:01<00:01, 272.26it/s]\u001b[A\n",
      " 48%|██████████████████████████████████████                                          | 274/576 [00:01<00:01, 286.06it/s]\u001b[A\n",
      " 53%|██████████████████████████████████████████▊                                     | 308/576 [00:01<00:00, 298.26it/s]\u001b[A\n",
      " 59%|███████████████████████████████████████████████▌                                | 342/576 [00:01<00:00, 306.75it/s]\u001b[A\n",
      " 65%|████████████████████████████████████████████████████▏                           | 376/576 [00:01<00:00, 314.11it/s]\u001b[A\n",
      " 71%|████████████████████████████████████████████████████████▋                       | 408/576 [00:01<00:00, 300.35it/s]\u001b[A\n",
      " 76%|████████████████████████████████████████████████████████████▉                   | 439/576 [00:01<00:00, 301.22it/s]\u001b[A\n",
      " 82%|█████████████████████████████████████████████████████████████████▎              | 470/576 [00:01<00:00, 302.97it/s]\u001b[A\n",
      " 87%|█████████████████████████████████████████████████████████████████████▌          | 501/576 [00:01<00:00, 297.89it/s]\u001b[A\n",
      " 92%|█████████████████████████████████████████████████████████████████████████▊      | 531/576 [00:01<00:00, 297.11it/s]\u001b[A\n",
      "100%|████████████████████████████████████████████████████████████████████████████████| 576/576 [00:02<00:00, 271.41it/s]\u001b[A\n"
     ]
    }
   ],
   "source": [
    "predict = bn.predict(model, df_result, variables=['Survived'])"
   ]
  },
  {
   "cell_type": "code",
   "execution_count": 142,
   "id": "bdd5370f",
   "metadata": {},
   "outputs": [
    {
     "data": {
      "text/plain": [
       "0    7321\n",
       "1    2679\n",
       "Name: Survived, dtype: int64"
      ]
     },
     "execution_count": 142,
     "metadata": {},
     "output_type": "execute_result"
    }
   ],
   "source": [
    "predict.Survived.value_counts()"
   ]
  },
  {
   "cell_type": "code",
   "execution_count": 143,
   "id": "c0999df4",
   "metadata": {},
   "outputs": [
    {
     "data": {
      "text/plain": [
       "0.5782"
      ]
     },
     "execution_count": 143,
     "metadata": {},
     "output_type": "execute_result"
    }
   ],
   "source": [
    "from sklearn.metrics import accuracy_score\n",
    "accuracy_score(df_result.Survived,predict.Survived)"
   ]
  },
  {
   "cell_type": "code",
   "execution_count": 144,
   "id": "d7bbfe49",
   "metadata": {},
   "outputs": [
    {
     "data": {
      "text/html": [
       "<div>\n",
       "<style scoped>\n",
       "    .dataframe tbody tr th:only-of-type {\n",
       "        vertical-align: middle;\n",
       "    }\n",
       "\n",
       "    .dataframe tbody tr th {\n",
       "        vertical-align: top;\n",
       "    }\n",
       "\n",
       "    .dataframe thead th {\n",
       "        text-align: right;\n",
       "    }\n",
       "</style>\n",
       "<table border=\"1\" class=\"dataframe\">\n",
       "  <thead>\n",
       "    <tr style=\"text-align: right;\">\n",
       "      <th></th>\n",
       "      <th>Pclass</th>\n",
       "      <th>Survived</th>\n",
       "      <th>Embarked</th>\n",
       "      <th>Sex</th>\n",
       "      <th>SibSp</th>\n",
       "      <th>Parch</th>\n",
       "    </tr>\n",
       "  </thead>\n",
       "  <tbody>\n",
       "    <tr>\n",
       "      <th>0</th>\n",
       "      <td>3</td>\n",
       "      <td>0</td>\n",
       "      <td>1</td>\n",
       "      <td>1</td>\n",
       "      <td>5</td>\n",
       "      <td>2</td>\n",
       "    </tr>\n",
       "  </tbody>\n",
       "</table>\n",
       "</div>"
      ],
      "text/plain": [
       "   Pclass  Survived  Embarked  Sex  SibSp  Parch\n",
       "0       3         0         1    1      5      2"
      ]
     },
     "execution_count": 144,
     "metadata": {},
     "output_type": "execute_result"
    }
   ],
   "source": [
    "df_result[0:1]"
   ]
  },
  {
   "cell_type": "code",
   "execution_count": 145,
   "id": "38f7f537",
   "metadata": {
    "scrolled": true
   },
   "outputs": [
    {
     "data": {
      "text/html": [
       "<div>\n",
       "<style scoped>\n",
       "    .dataframe tbody tr th:only-of-type {\n",
       "        vertical-align: middle;\n",
       "    }\n",
       "\n",
       "    .dataframe tbody tr th {\n",
       "        vertical-align: top;\n",
       "    }\n",
       "\n",
       "    .dataframe thead th {\n",
       "        text-align: right;\n",
       "    }\n",
       "</style>\n",
       "<table border=\"1\" class=\"dataframe\">\n",
       "  <thead>\n",
       "    <tr style=\"text-align: right;\">\n",
       "      <th></th>\n",
       "      <th>Survived</th>\n",
       "      <th>p</th>\n",
       "    </tr>\n",
       "  </thead>\n",
       "  <tbody>\n",
       "    <tr>\n",
       "      <th>0</th>\n",
       "      <td>0</td>\n",
       "      <td>0.746269</td>\n",
       "    </tr>\n",
       "  </tbody>\n",
       "</table>\n",
       "</div>"
      ],
      "text/plain": [
       "   Survived         p\n",
       "0         0  0.746269"
      ]
     },
     "execution_count": 145,
     "metadata": {},
     "output_type": "execute_result"
    }
   ],
   "source": [
    "predict[0:1]"
   ]
  },
  {
   "cell_type": "code",
   "execution_count": 146,
   "id": "6b891a1a",
   "metadata": {},
   "outputs": [
    {
     "name": "stdout",
     "output_type": "stream",
     "text": [
      "[bnlearn] >Variable Elimination..\n"
     ]
    },
    {
     "data": {
      "application/vnd.jupyter.widget-view+json": {
       "model_id": "2ab15b418b94492c8c02253880eae5aa",
       "version_major": 2,
       "version_minor": 0
      },
      "text/plain": [
       "0it [00:00, ?it/s]"
      ]
     },
     "metadata": {},
     "output_type": "display_data"
    },
    {
     "data": {
      "application/vnd.jupyter.widget-view+json": {
       "model_id": "9c87ec49eaa94d5aa5536a700a2aefd5",
       "version_major": 2,
       "version_minor": 0
      },
      "text/plain": [
       "0it [00:00, ?it/s]"
      ]
     },
     "metadata": {},
     "output_type": "display_data"
    },
    {
     "name": "stdout",
     "output_type": "stream",
     "text": [
      "[bnlearn] >Data is stored in [query.df]\n",
      "+----+------------+----------+\n",
      "|    |   Survived |        p |\n",
      "+====+============+==========+\n",
      "|  0 |          0 | 0.746269 |\n",
      "+----+------------+----------+\n",
      "|  1 |          1 | 0.253731 |\n",
      "+----+------------+----------+\n"
     ]
    },
    {
     "data": {
      "text/plain": [
       "<DiscreteFactor representing phi(Survived:2) at 0x7fd6ce6eab20>"
      ]
     },
     "execution_count": 146,
     "metadata": {},
     "output_type": "execute_result"
    }
   ],
   "source": [
    "bn.inference.fit(model, variables=['Survived'], evidence={'Pclass':3,\n",
    "                                                          'Embarked':1,\n",
    "                                                          'Sex':1,\n",
    "                                                          'SibSp':5,\n",
    "                                                          'Parch':2})\n"
   ]
  },
  {
   "cell_type": "code",
   "execution_count": 159,
   "id": "d041fe8c",
   "metadata": {},
   "outputs": [
    {
     "data": {
      "text/plain": [
       "0.6383531157270029"
      ]
     },
     "execution_count": 159,
     "metadata": {},
     "output_type": "execute_result"
    }
   ],
   "source": [
    "from sklearn.metrics import accuracy_score\n",
    "accuracy_score(df_result.loc[predict[predict.p > 0.7].index.values].Survived,predict[predict.p > 0.7].Survived)"
   ]
  },
  {
   "cell_type": "code",
   "execution_count": 160,
   "id": "bc9eed5a",
   "metadata": {},
   "outputs": [],
   "source": [
    "import pandas as pd\n",
    "\n",
    "from sklearn import datasets\n",
    "\n",
    "from evidently.dashboard import Dashboard\n",
    "from evidently.dashboard.tabs import DataDriftTab, CatTargetDriftTab\n",
    "\n",
    "from evidently.model_profile import Profile\n",
    "from evidently.model_profile.sections import DataDriftProfileSection, CatTargetDriftProfileSection "
   ]
  },
  {
   "cell_type": "code",
   "execution_count": 168,
   "id": "8426e184",
   "metadata": {},
   "outputs": [],
   "source": [
    "dashboard = Dashboard(tabs=[DataDriftTab(verbose_level=1)])"
   ]
  },
  {
   "cell_type": "code",
   "execution_count": 169,
   "id": "19986920",
   "metadata": {},
   "outputs": [],
   "source": [
    "dashboard.calculate(dfnum[df_result.columns], df_result, column_mapping=None)\n"
   ]
  },
  {
   "cell_type": "code",
   "execution_count": 170,
   "id": "4cc74f0f",
   "metadata": {},
   "outputs": [],
   "source": [
    "dashboard.save('dashboard_drift.html')"
   ]
  },
  {
   "cell_type": "code",
   "execution_count": 172,
   "id": "ef14e707",
   "metadata": {},
   "outputs": [
    {
     "data": {
      "text/plain": [
       "3    644\n",
       "1    168\n",
       "2     77\n",
       "0      2\n",
       "Name: Embarked, dtype: int64"
      ]
     },
     "execution_count": 172,
     "metadata": {},
     "output_type": "execute_result"
    }
   ],
   "source": [
    "dfnum.Embarked.value_counts()"
   ]
  },
  {
   "cell_type": "code",
   "execution_count": null,
   "id": "b806eb13",
   "metadata": {},
   "outputs": [],
   "source": []
  }
 ],
 "metadata": {
  "kernelspec": {
   "display_name": "Python 3 (ipykernel)",
   "language": "python",
   "name": "python3"
  },
  "language_info": {
   "codemirror_mode": {
    "name": "ipython",
    "version": 3
   },
   "file_extension": ".py",
   "mimetype": "text/x-python",
   "name": "python",
   "nbconvert_exporter": "python",
   "pygments_lexer": "ipython3",
   "version": "3.10.6"
  }
 },
 "nbformat": 4,
 "nbformat_minor": 5
}
