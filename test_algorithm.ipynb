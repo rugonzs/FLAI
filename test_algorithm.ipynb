{
 "cells": [
  {
   "cell_type": "code",
   "execution_count": 4,
   "metadata": {},
   "outputs": [],
   "source": [
    "from numpy import loadtxt\n",
    "from xgboost import XGBClassifier\n",
    "from sklearn.model_selection import train_test_split\n",
    "from sklearn.metrics import accuracy_score"
   ]
  },
  {
   "cell_type": "code",
   "execution_count": 5,
   "metadata": {},
   "outputs": [],
   "source": [
    "import pandas as pd\n"
   ]
  },
  {
   "cell_type": "code",
   "execution_count": 26,
   "metadata": {},
   "outputs": [],
   "source": [
    "original = pd.read_pickle('original.pickle')\n",
    "mitigated = pd.read_pickle('final.pickle')"
   ]
  },
  {
   "cell_type": "code",
   "execution_count": 27,
   "metadata": {},
   "outputs": [],
   "source": [
    "original_X = original[['Parch', 'Sex', 'Pclass', 'Embarked', 'SibSp']]\n",
    "original_y = original[['Survived']]\n",
    "mitigated_X = mitigated[['Parch', 'Sex', 'Pclass', 'Embarked', 'SibSp']]\n",
    "mitigated_y = mitigated[['Survived']]"
   ]
  },
  {
   "cell_type": "code",
   "execution_count": 28,
   "metadata": {},
   "outputs": [],
   "source": [
    "original_X_train, original_X_test, original_y_train, original_y_test = train_test_split(original_X, original_y, test_size=0.3, random_state=54)\n",
    "mitigated_X_train, mitigated_X_test, mitigated_y_train, mitigated_y_test = train_test_split(mitigated_X, mitigated_y, test_size=0.3, random_state=54)"
   ]
  },
  {
   "cell_type": "code",
   "execution_count": 29,
   "metadata": {},
   "outputs": [
    {
     "data": {
      "text/plain": [
       "XGBClassifier(base_score=0.5, booster='gbtree', callbacks=None,\n",
       "              colsample_bylevel=1, colsample_bynode=1, colsample_bytree=1,\n",
       "              early_stopping_rounds=None, enable_categorical=False,\n",
       "              eval_metric=None, feature_types=None, gamma=0, gpu_id=-1,\n",
       "              grow_policy='depthwise', importance_type=None,\n",
       "              interaction_constraints='', learning_rate=0.300000012,\n",
       "              max_bin=256, max_cat_threshold=64, max_cat_to_onehot=4,\n",
       "              max_delta_step=0, max_depth=6, max_leaves=0, min_child_weight=1,\n",
       "              missing=nan, monotone_constraints='()', n_estimators=100,\n",
       "              n_jobs=0, num_parallel_tree=1, predictor='auto', random_state=0, ...)"
      ]
     },
     "execution_count": 29,
     "metadata": {},
     "output_type": "execute_result"
    }
   ],
   "source": [
    "# fit model no training data\n",
    "model_original = XGBClassifier()\n",
    "model_original.fit(original_X_train, original_y_train)"
   ]
  },
  {
   "cell_type": "code",
   "execution_count": 30,
   "metadata": {},
   "outputs": [
    {
     "data": {
      "text/plain": [
       "XGBClassifier(base_score=0.5, booster='gbtree', callbacks=None,\n",
       "              colsample_bylevel=1, colsample_bynode=1, colsample_bytree=1,\n",
       "              early_stopping_rounds=None, enable_categorical=False,\n",
       "              eval_metric=None, feature_types=None, gamma=0, gpu_id=-1,\n",
       "              grow_policy='depthwise', importance_type=None,\n",
       "              interaction_constraints='', learning_rate=0.300000012,\n",
       "              max_bin=256, max_cat_threshold=64, max_cat_to_onehot=4,\n",
       "              max_delta_step=0, max_depth=6, max_leaves=0, min_child_weight=1,\n",
       "              missing=nan, monotone_constraints='()', n_estimators=100,\n",
       "              n_jobs=0, num_parallel_tree=1, predictor='auto', random_state=0, ...)"
      ]
     },
     "execution_count": 30,
     "metadata": {},
     "output_type": "execute_result"
    }
   ],
   "source": [
    "model_mitigated = XGBClassifier()\n",
    "model_mitigated.fit(mitigated_X_train, mitigated_y_train)"
   ]
  },
  {
   "cell_type": "code",
   "execution_count": 31,
   "metadata": {},
   "outputs": [],
   "source": [
    "original_y_test['Predicted'] = model_original.predict(original_X_test)\n",
    "mitigated_y_test['Predicted'] = model_mitigated.predict(mitigated_X_test)"
   ]
  },
  {
   "cell_type": "code",
   "execution_count": 32,
   "metadata": {},
   "outputs": [],
   "source": [
    "original_X_test[['Survived', 'Predicted']] = original_y_test[['Survived', 'Predicted']]\n",
    "mitigated_X_test[['Survived', 'Predicted']] = mitigated_y_test[['Survived', 'Predicted']]"
   ]
  },
  {
   "cell_type": "code",
   "execution_count": 33,
   "metadata": {},
   "outputs": [],
   "source": [
    "from FLAI import data\n",
    "original_dataset = data.Data(original_X_test, transform=False)\n",
    "mitigated_dataset = data.Data(mitigated_X_test, transform=False)"
   ]
  },
  {
   "cell_type": "code",
   "execution_count": 34,
   "metadata": {},
   "outputs": [
    {
     "name": "stdout",
     "output_type": "stream",
     "text": [
      "Calculating metrics for : Sex  the value :  0\n",
      "Calculating metrics for : Sex  the value :  1\n"
     ]
    },
    {
     "data": {
      "text/plain": [
       "{'model': {'ACC': 0.7649253731343284,\n",
       "  'TPR': 0.67,\n",
       "  'FPR': 0.17857142857142858,\n",
       "  'FNR': 0.33,\n",
       "  'PPP': 0.3619402985074627},\n",
       " 'Sex': {'privileged': {'ACC': 0.7555555555555555,\n",
       "   'TPR': 0.9538461538461539,\n",
       "   'FPR': 0.76,\n",
       "   'FNR': 0.046153846153846156,\n",
       "   'PPP': 0.9},\n",
       "  'unprivileged': {'ACC': 0.7696629213483146,\n",
       "   'TPR': 0.14285714285714285,\n",
       "   'FPR': 0.07692307692307693,\n",
       "   'FNR': 0.8571428571428571,\n",
       "   'PPP': 0.0898876404494382},\n",
       "  'fair_metrics': {'Equal_Opportunity_Difference': -0.810989010989011}}}"
      ]
     },
     "execution_count": 34,
     "metadata": {},
     "output_type": "execute_result"
    }
   ],
   "source": [
    "original_dataset.fairness_metrics(target_column='Survived', predicted_column = 'Predicted',\n",
    "                            columns_fair = {'Sex' : {'privileged' : 0, 'unprivileged' : 1}})"
   ]
  },
  {
   "cell_type": "code",
   "execution_count": 35,
   "metadata": {},
   "outputs": [
    {
     "name": "stdout",
     "output_type": "stream",
     "text": [
      "Calculating metrics for : Sex  the value :  0\n",
      "Calculating metrics for : Sex  the value :  1\n"
     ]
    },
    {
     "data": {
      "text/plain": [
       "{'model': {'ACC': 0.6753731343283582,\n",
       "  'TPR': 0.4326923076923077,\n",
       "  'FPR': 0.17073170731707318,\n",
       "  'FNR': 0.5673076923076923,\n",
       "  'PPP': 0.27238805970149255},\n",
       " 'Sex': {'privileged': {'ACC': 0.6413043478260869,\n",
       "   'TPR': 0.3235294117647059,\n",
       "   'FPR': 0.1724137931034483,\n",
       "   'FNR': 0.6764705882352942,\n",
       "   'PPP': 0.22826086956521738},\n",
       "  'unprivileged': {'ACC': 0.6931818181818182,\n",
       "   'TPR': 0.4857142857142857,\n",
       "   'FPR': 0.16981132075471697,\n",
       "   'FNR': 0.5142857142857142,\n",
       "   'PPP': 0.29545454545454547},\n",
       "  'fair_metrics': {'Equal_Opportunity_Difference': 0.1621848739495798}}}"
      ]
     },
     "execution_count": 35,
     "metadata": {},
     "output_type": "execute_result"
    }
   ],
   "source": [
    "mitigated_dataset.fairness_metrics(target_column='Survived', predicted_column = 'Predicted',\n",
    "                            columns_fair = {'Sex' : {'privileged' : 0, 'unprivileged' : 1}})"
   ]
  },
  {
   "cell_type": "code",
   "execution_count": null,
   "metadata": {},
   "outputs": [],
   "source": [
    "#https://transformernlp.medium.com/ai-fairness-a-brief-introduction-to-ai-fairness-360-b2e39c96ca49\n",
    "#https://github.com/Trusted-AI/AIF360/blob/master/examples/README.md"
   ]
  },
  {
   "cell_type": "code",
   "execution_count": 25,
   "metadata": {},
   "outputs": [
    {
     "name": "stdout",
     "output_type": "stream",
     "text": [
      "Calculating metrics for : Sex  the value :  0\n",
      "Calculating metrics for : Sex  the value :  1\n"
     ]
    },
    {
     "data": {
      "text/plain": [
       "{'model': {'ACC': 0.6865671641791045,\n",
       "  'TPR': 0.5978260869565217,\n",
       "  'FPR': 0.26704545454545453,\n",
       "  'FNR': 0.40217391304347827,\n",
       "  'PPP': 0.3805970149253731},\n",
       " 'Sex': {'privileged': {'ACC': 0.6966292134831461,\n",
       "   'TPR': 0.4,\n",
       "   'FPR': 0.1875,\n",
       "   'FNR': 0.6,\n",
       "   'PPP': 0.24719101123595505},\n",
       "  'unprivileged': {'ACC': 0.6815642458100558,\n",
       "   'TPR': 0.6716417910447762,\n",
       "   'FPR': 0.3125,\n",
       "   'FNR': 0.3283582089552239,\n",
       "   'PPP': 0.44692737430167595},\n",
       "  'fair_metrics': {'Equal_Opportunity_Difference': 0.27164179104477615}}}"
      ]
     },
     "execution_count": 25,
     "metadata": {},
     "output_type": "execute_result"
    }
   ],
   "source": [
    "mitigated_dataset.fairness_metrics(target_column='Survived', predicted_column = 'Predicted',\n",
    "                            columns_fair = {'Sex' : {'privileged' : 0, 'unprivileged' : 1}})"
   ]
  },
  {
   "cell_type": "code",
   "execution_count": null,
   "metadata": {},
   "outputs": [],
   "source": []
  }
 ],
 "metadata": {
  "kernelspec": {
   "display_name": "Python 3.8.15 ('py38')",
   "language": "python",
   "name": "python3"
  },
  "language_info": {
   "codemirror_mode": {
    "name": "ipython",
    "version": 3
   },
   "file_extension": ".py",
   "mimetype": "text/x-python",
   "name": "python",
   "nbconvert_exporter": "python",
   "pygments_lexer": "ipython3",
   "version": "3.8.15"
  },
  "orig_nbformat": 4,
  "vscode": {
   "interpreter": {
    "hash": "82d5c90ba63de38cc351bec5110f0000347eafa70bf35c4c48709a137c0a72d4"
   }
  }
 },
 "nbformat": 4,
 "nbformat_minor": 2
}
